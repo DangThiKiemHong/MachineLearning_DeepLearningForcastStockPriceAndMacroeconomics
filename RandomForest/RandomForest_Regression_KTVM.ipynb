{
 "cells": [
  {
   "cell_type": "markdown",
   "metadata": {
    "id": "p_AmfjEH808l"
   },
   "source": [
    "**Dự báo xu hướng chỉ số KTVM bằng thuật toán Rừng ngẫu nhiên**"
   ]
  },
  {
   "cell_type": "markdown",
   "metadata": {
    "id": "A9yaEBAQ86Uy"
   },
   "source": [
    "1. Tải dữ liệu\n",
    "2. Sử dụng hàm RandomForestRegressor từ thư viện sklearn.\n",
    "3. Đánh giá độ chính xác của mô hình thông qua MSE."
   ]
  },
  {
   "cell_type": "markdown",
   "metadata": {
    "id": "z6AW3-ig7dST"
   },
   "source": [
    "**CPI**"
   ]
  },
  {
   "cell_type": "code",
   "execution_count": 38,
   "metadata": {
    "colab": {
     "base_uri": "https://localhost:8080/",
     "height": 206
    },
    "executionInfo": {
     "elapsed": 670,
     "status": "ok",
     "timestamp": 1726725598229,
     "user": {
      "displayName": "Đặng Thị Kiêm Hồng",
      "userId": "05445281411830122382"
     },
     "user_tz": -420
    },
    "id": "9EDAg8C-7wEE",
    "outputId": "00ffb391-ab75-448b-ced7-e0a9b7e18134"
   },
   "outputs": [
    {
     "data": {
      "text/html": [
       "<div>\n",
       "<style scoped>\n",
       "    .dataframe tbody tr th:only-of-type {\n",
       "        vertical-align: middle;\n",
       "    }\n",
       "\n",
       "    .dataframe tbody tr th {\n",
       "        vertical-align: top;\n",
       "    }\n",
       "\n",
       "    .dataframe thead th {\n",
       "        text-align: right;\n",
       "    }\n",
       "</style>\n",
       "<table border=\"1\" class=\"dataframe\">\n",
       "  <thead>\n",
       "    <tr style=\"text-align: right;\">\n",
       "      <th></th>\n",
       "      <th>t</th>\n",
       "      <th>GDP_VN</th>\n",
       "      <th>exchange_rate</th>\n",
       "      <th>cpi</th>\n",
       "    </tr>\n",
       "  </thead>\n",
       "  <tbody>\n",
       "    <tr>\n",
       "      <th>0</th>\n",
       "      <td>1996</td>\n",
       "      <td>7.307780e+10</td>\n",
       "      <td>11032.58333</td>\n",
       "      <td>5.675000</td>\n",
       "    </tr>\n",
       "    <tr>\n",
       "      <th>1</th>\n",
       "      <td>1997</td>\n",
       "      <td>7.903516e+10</td>\n",
       "      <td>11683.33333</td>\n",
       "      <td>3.209526</td>\n",
       "    </tr>\n",
       "    <tr>\n",
       "      <th>2</th>\n",
       "      <td>1998</td>\n",
       "      <td>8.359110e+10</td>\n",
       "      <td>13268.00000</td>\n",
       "      <td>7.266198</td>\n",
       "    </tr>\n",
       "    <tr>\n",
       "      <th>3</th>\n",
       "      <td>1999</td>\n",
       "      <td>8.758140e+10</td>\n",
       "      <td>13943.16667</td>\n",
       "      <td>4.117102</td>\n",
       "    </tr>\n",
       "    <tr>\n",
       "      <th>4</th>\n",
       "      <td>2000</td>\n",
       "      <td>9.352583e+10</td>\n",
       "      <td>14167.75000</td>\n",
       "      <td>-1.710337</td>\n",
       "    </tr>\n",
       "  </tbody>\n",
       "</table>\n",
       "</div>"
      ],
      "text/plain": [
       "      t        GDP_VN  exchange_rate       cpi\n",
       "0  1996  7.307780e+10    11032.58333  5.675000\n",
       "1  1997  7.903516e+10    11683.33333  3.209526\n",
       "2  1998  8.359110e+10    13268.00000  7.266198\n",
       "3  1999  8.758140e+10    13943.16667  4.117102\n",
       "4  2000  9.352583e+10    14167.75000 -1.710337"
      ]
     },
     "execution_count": 38,
     "metadata": {},
     "output_type": "execute_result"
    }
   ],
   "source": [
    "import pandas as pd\n",
    "# Đọc dữ liệu từ file CSV (có thể thay bằng file của bạn)\n",
    "file_path = r'D:\\DeTaiNam2024\\SoLieu\\KinhTeViMo\\chung.csv'\n",
    "df = pd.read_csv(file_path)\n",
    "# Kiểm tra tiêu đề các cột\n",
    "df.head()\n"
   ]
  },
  {
   "cell_type": "code",
   "execution_count": 48,
   "metadata": {},
   "outputs": [],
   "source": [
    "#df['cpi_lag1'] = df['cpi'].shift(1)\n",
    "\n",
    "df.dropna(inplace=True)\n",
    "# Lấy đặc trưng (features) và biến mục tiêu (target)\n",
    "X = df[['GDP_VN', 'exchange_rate']]  # Các cột đặc trưng\n",
    "Y= df['cpi']  # Biến mục tiêu cho hồi quy"
   ]
  },
  {
   "cell_type": "code",
   "execution_count": 49,
   "metadata": {},
   "outputs": [],
   "source": [
    "from sklearn.model_selection import train_test_split # tải hàm train_test_split\n",
    "# Chia dữ liệu thành tập huấn luyện và tập kiểm tra\n",
    "X_train, X_test, Y_train, Y_test = train_test_split(X, Y, test_size=0.2, random_state=42)\n"
   ]
  },
  {
   "cell_type": "code",
   "execution_count": 50,
   "metadata": {
    "colab": {
     "base_uri": "https://localhost:8080/"
    },
    "executionInfo": {
     "elapsed": 616,
     "status": "ok",
     "timestamp": 1726725605666,
     "user": {
      "displayName": "Đặng Thị Kiêm Hồng",
      "userId": "05445281411830122382"
     },
     "user_tz": -420
    },
    "id": "DccV_4H6LmpO",
    "outputId": "c6af5f19-1182-4fa0-bdeb-81f013d00853"
   },
   "outputs": [
    {
     "name": "stdout",
     "output_type": "stream",
     "text": [
      "Thời gian huấn luyện mô hình phân loại: 0.3498 giây\n",
      "Thời gian dự đoán mô hình phân loại: 0.0190 giây\n",
      "Mean Squared Error (MSE): 60.48\n",
      "R-squared (R2 Score): 0.28\n",
      "       Actual  Predicted\n",
      "4   -1.710337   4.403801\n",
      "17   6.592675   8.674246\n",
      "12  23.115448   7.974409\n",
      "5   -0.431545   4.403801\n",
      "19   0.631201   3.465928\n"
     ]
    }
   ],
   "source": [
    "from sklearn.ensemble import RandomForestRegressor \n",
    "from sklearn.metrics import  mean_squared_error, r2_score\n",
    "import time\n",
    "# Bắt đầu tính thời gian huấn luyện\n",
    "start_time = time.time()\n",
    "# Khởi tạo mô hình Rừng ngẫu nhiên cho phân loại\n",
    "rf = RandomForestRegressor(n_estimators=100, random_state=42)\n",
    "# Huấn luyện mô hình\n",
    "rf.fit(X_train, Y_train)\n",
    "# Kết thúc tính thời gian huấn luyện\n",
    "train_time_cls = time.time() - start_time\n",
    "print(f'Thời gian huấn luyện mô hình phân loại: {train_time_cls:.4f} giây')\n",
    "\n",
    "# Bắt đầu tính thời gian dự đoán\n",
    "start_time = time.time()\n",
    "\n",
    "# Dự đoán trên tập kiểm tra\n",
    "Y_pred = rf.predict(X_test)\n",
    "# Kết thúc tính thời gian dự đoán\n",
    "predict_time_cls = time.time() - start_time\n",
    "print(f'Thời gian dự đoán mô hình phân loại: {predict_time_cls:.4f} giây')\n",
    "# Đánh giá mô hình phân loại bằng MSE\n",
    "mse = mean_squared_error(Y_test, Y_pred)\n",
    "r2 = r2_score(Y_test, Y_pred)\n",
    "print(f'Mean Squared Error (MSE): {mse:.2f}')\n",
    "print(f'R-squared (R2 Score): {r2:.2f}')\n",
    "\n",
    "# In ra kết quả dự đoán và giá trị thực tế\n",
    "results = pd.DataFrame({'Actual': Y_test, 'Predicted': Y_pred})\n",
    "print(results)\n"
   ]
  },
  {
   "cell_type": "markdown",
   "metadata": {},
   "source": [
    "**GDP**"
   ]
  },
  {
   "cell_type": "code",
   "execution_count": 100,
   "metadata": {},
   "outputs": [],
   "source": [
    "df['GDP_VN_lag1'] = df['GDP_VN'].shift(1)\n",
    "\n",
    "df.dropna(inplace=True)\n",
    "# Lấy đặc trưng (features) và biến mục tiêu (target)\n",
    "X = df[['cpi', 'exchange_rate','GDP_VN_lag1' ]]  # Các cột đặc trưng\n",
    "Y= df['GDP_VN']  # Biến mục tiêu cho hồi quy"
   ]
  },
  {
   "cell_type": "code",
   "execution_count": 101,
   "metadata": {},
   "outputs": [],
   "source": [
    "from sklearn.model_selection import train_test_split # tải hàm train_test_split\n",
    "# Chia dữ liệu thành tập huấn luyện và tập kiểm tra\n",
    "X_train, X_test, Y_train, Y_test = train_test_split(X, Y, test_size=0.2, random_state=42)"
   ]
  },
  {
   "cell_type": "code",
   "execution_count": 102,
   "metadata": {},
   "outputs": [
    {
     "name": "stdout",
     "output_type": "stream",
     "text": [
      "Thời gian huấn luyện mô hình phân loại: 0.3028 giây\n",
      "Thời gian dự đoán mô hình phân loại: 0.0180 giây\n",
      "Mean Squared Error (MSE): 174285800000000000000.00\n",
      "R-squared (R2 Score): 0.88\n",
      "          Actual     Predicted\n",
      "19  2.390000e+11  2.575400e+11\n",
      "23  3.150000e+11  3.128000e+11\n"
     ]
    }
   ],
   "source": [
    "from sklearn.ensemble import RandomForestRegressor \n",
    "from sklearn.metrics import  mean_squared_error, r2_score\n",
    "import time\n",
    "# Bắt đầu tính thời gian huấn luyện\n",
    "start_time = time.time()\n",
    "# Khởi tạo mô hình Rừng ngẫu nhiên cho phân loại\n",
    "rf = RandomForestRegressor(n_estimators=100, random_state=42)\n",
    "# Huấn luyện mô hình\n",
    "rf.fit(X_train, Y_train)\n",
    "# Kết thúc tính thời gian huấn luyện\n",
    "train_time_cls = time.time() - start_time\n",
    "print(f'Thời gian huấn luyện mô hình phân loại: {train_time_cls:.4f} giây')\n",
    "\n",
    "# Bắt đầu tính thời gian dự đoán\n",
    "start_time = time.time()\n",
    "\n",
    "# Dự đoán trên tập kiểm tra\n",
    "Y_pred = rf.predict(X_test)\n",
    "# Kết thúc tính thời gian dự đoán\n",
    "predict_time_cls = time.time() - start_time\n",
    "print(f'Thời gian dự đoán mô hình phân loại: {predict_time_cls:.4f} giây')\n",
    "# Đánh giá mô hình phân loại bằng MSE\n",
    "mse = mean_squared_error(Y_test, Y_pred)\n",
    "r2 = r2_score(Y_test, Y_pred)\n",
    "print(f'Mean Squared Error (MSE): {mse:.2f}')\n",
    "print(f'R-squared (R2 Score): {r2:.2f}')\n",
    "\n",
    "# In ra kết quả dự đoán và giá trị thực tế\n",
    "results = pd.DataFrame({'Actual': Y_test, 'Predicted': Y_pred})\n",
    "print(results)\n"
   ]
  },
  {
   "cell_type": "code",
   "execution_count": 103,
   "metadata": {},
   "outputs": [
    {
     "name": "stdout",
     "output_type": "stream",
     "text": [
      "Chạy mô hình lần thứ 1\n",
      "Lần chạy 1: MSE = 174285800000000000000.00, R2 = 0.88, Thời gian huấn luyện = 0.3788 giây, Thời gian dự đoán = 0.0320 giây\n",
      "Chạy mô hình lần thứ 2\n",
      "Lần chạy 2: MSE = 174285800000000000000.00, R2 = 0.88, Thời gian huấn luyện = 0.2978 giây, Thời gian dự đoán = 0.0160 giây\n",
      "Chạy mô hình lần thứ 3\n",
      "Lần chạy 3: MSE = 174285800000000000000.00, R2 = 0.88, Thời gian huấn luyện = 0.3158 giây, Thời gian dự đoán = 0.0250 giây\n",
      "Chạy mô hình lần thứ 4\n",
      "Lần chạy 4: MSE = 174285800000000000000.00, R2 = 0.88, Thời gian huấn luyện = 0.3018 giây, Thời gian dự đoán = 0.0160 giây\n",
      "Chạy mô hình lần thứ 5\n",
      "Lần chạy 5: MSE = 174285800000000000000.00, R2 = 0.88, Thời gian huấn luyện = 0.3138 giây, Thời gian dự đoán = 0.0260 giây\n",
      "Chạy mô hình lần thứ 6\n",
      "Lần chạy 6: MSE = 174285800000000000000.00, R2 = 0.88, Thời gian huấn luyện = 0.4058 giây, Thời gian dự đoán = 0.0180 giây\n",
      "Chạy mô hình lần thứ 7\n",
      "Lần chạy 7: MSE = 174285800000000000000.00, R2 = 0.88, Thời gian huấn luyện = 0.3138 giây, Thời gian dự đoán = 0.0150 giây\n",
      "Chạy mô hình lần thứ 8\n",
      "Lần chạy 8: MSE = 174285800000000000000.00, R2 = 0.88, Thời gian huấn luyện = 0.2788 giây, Thời gian dự đoán = 0.0150 giây\n",
      "Chạy mô hình lần thứ 9\n",
      "Lần chạy 9: MSE = 174285800000000000000.00, R2 = 0.88, Thời gian huấn luyện = 0.2828 giây, Thời gian dự đoán = 0.0150 giây\n",
      "Chạy mô hình lần thứ 10\n",
      "Lần chạy 10: MSE = 174285800000000000000.00, R2 = 0.88, Thời gian huấn luyện = 0.3028 giây, Thời gian dự đoán = 0.0220 giây\n",
      "\n",
      "=== Kết quả trung bình sau 10 lần chạy ===\n",
      "Thời gian huấn luyện trung bình: 0.3192 giây\n",
      "Thời gian dự đoán trung bình: 0.0200 giây\n",
      "Mean Squared Error (MSE) trung bình: 174285800000000032768.00\n",
      "R-squared (R2 Score) trung bình: 0.88\n"
     ]
    }
   ],
   "source": [
    "from sklearn.ensemble import RandomForestRegressor \n",
    "from sklearn.metrics import mean_squared_error, r2_score\n",
    "import time\n",
    "import numpy as np\n",
    "import pandas as pd\n",
    "\n",
    "# Số lần chạy mô hình\n",
    "num_runs = 10\n",
    "\n",
    "# Danh sách để lưu trữ các kết quả từ các lần chạy\n",
    "train_times = []\n",
    "predict_times = []\n",
    "mse_list = []\n",
    "r2_list = []\n",
    "\n",
    "# Lặp qua số lần chạy mô hình\n",
    "for i in range(num_runs):\n",
    "    print(f\"Chạy mô hình lần thứ {i+1}\")\n",
    "\n",
    "    # Bắt đầu tính thời gian huấn luyện\n",
    "    start_time = time.time()\n",
    "    \n",
    "    # Khởi tạo mô hình Rừng ngẫu nhiên\n",
    "    rf = RandomForestRegressor(n_estimators=100, random_state=42)\n",
    "    \n",
    "    # Huấn luyện mô hình\n",
    "    rf.fit(X_train, Y_train)\n",
    "    \n",
    "    # Kết thúc tính thời gian huấn luyện\n",
    "    train_time = time.time() - start_time\n",
    "    train_times.append(train_time)\n",
    "\n",
    "    # Bắt đầu tính thời gian dự đoán\n",
    "    start_time = time.time()\n",
    "\n",
    "    # Dự đoán trên tập kiểm tra\n",
    "    Y_pred = rf.predict(X_test)\n",
    "\n",
    "    # Kết thúc tính thời gian dự đoán\n",
    "    predict_time = time.time() - start_time\n",
    "    predict_times.append(predict_time)\n",
    "\n",
    "    # Đánh giá mô hình bằng MSE và R2\n",
    "    mse = mean_squared_error(Y_test, Y_pred)\n",
    "    r2 = r2_score(Y_test, Y_pred)\n",
    "    \n",
    "    mse_list.append(mse)\n",
    "    r2_list.append(r2)\n",
    "\n",
    "    print(f'Lần chạy {i+1}: MSE = {mse:.2f}, R2 = {r2:.2f}, Thời gian huấn luyện = {train_time:.4f} giây, Thời gian dự đoán = {predict_time:.4f} giây')\n",
    "\n",
    "# Tính trung bình các kết quả sau 10 lần chạy\n",
    "avg_train_time = np.mean(train_times)\n",
    "avg_predict_time = np.mean(predict_times)\n",
    "avg_mse = np.mean(mse_list)\n",
    "avg_r2 = np.mean(r2_list)\n",
    "\n",
    "# In ra kết quả trung bình\n",
    "print(\"\\n=== Kết quả trung bình sau 10 lần chạy ===\")\n",
    "print(f'Thời gian huấn luyện trung bình: {avg_train_time:.4f} giây')\n",
    "print(f'Thời gian dự đoán trung bình: {avg_predict_time:.4f} giây')\n",
    "print(f'Mean Squared Error (MSE) trung bình: {avg_mse:.2f}')\n",
    "print(f'R-squared (R2 Score) trung bình: {avg_r2:.2f}')\n"
   ]
  },
  {
   "cell_type": "code",
   "execution_count": null,
   "metadata": {},
   "outputs": [],
   "source": []
  },
  {
   "cell_type": "markdown",
   "metadata": {},
   "source": [
    "**EXCHANGE_RATE**"
   ]
  },
  {
   "cell_type": "code",
   "execution_count": 91,
   "metadata": {},
   "outputs": [],
   "source": [
    "df['exchange_rate_lag1'] = df['exchange_rate'].shift(1)\n",
    "\n",
    "df.dropna(inplace=True)\n",
    "# Lấy đặc trưng (features) và biến mục tiêu (target)\n",
    "X = df[['cpi', 'GDP_VN' , 'exchange_rate_lag1']]  # Các cột đặc trưng\n",
    "Y= df['exchange_rate']  # Biến mục tiêu cho hồi quy"
   ]
  },
  {
   "cell_type": "code",
   "execution_count": 92,
   "metadata": {},
   "outputs": [],
   "source": [
    "from sklearn.model_selection import train_test_split # tải hàm train_test_split\n",
    "# Chia dữ liệu thành tập huấn luyện và tập kiểm tra\n",
    "X_train, X_test, Y_train, Y_test = train_test_split(X, Y, test_size=0.2, random_state=42)"
   ]
  },
  {
   "cell_type": "code",
   "execution_count": 93,
   "metadata": {},
   "outputs": [
    {
     "name": "stdout",
     "output_type": "stream",
     "text": [
      "Thời gian huấn luyện mô hình phân loại: 0.3130 giây\n",
      "Thời gian dự đoán mô hình phân loại: 0.0170 giây\n",
      "Mean Squared Error (MSE): 99727.65\n",
      "R-squared (R2 Score): 0.92\n",
      "         Actual     Predicted\n",
      "20  21935.00083  22124.467921\n",
      "15  20509.75000  20909.854076\n",
      "24  23208.36833  22887.117795\n"
     ]
    }
   ],
   "source": [
    "from sklearn.ensemble import RandomForestRegressor \n",
    "from sklearn.metrics import  mean_squared_error, r2_score\n",
    "import time\n",
    "# Bắt đầu tính thời gian huấn luyện\n",
    "start_time = time.time()\n",
    "# Khởi tạo mô hình Rừng ngẫu nhiên cho phân loại\n",
    "rf = RandomForestRegressor(n_estimators=100, random_state=42)\n",
    "# Huấn luyện mô hình\n",
    "rf.fit(X_train, Y_train)\n",
    "# Kết thúc tính thời gian huấn luyện\n",
    "train_time_cls = time.time() - start_time\n",
    "print(f'Thời gian huấn luyện mô hình phân loại: {train_time_cls:.4f} giây')\n",
    "\n",
    "# Bắt đầu tính thời gian dự đoán\n",
    "start_time = time.time()\n",
    "\n",
    "# Dự đoán trên tập kiểm tra\n",
    "Y_pred = rf.predict(X_test)\n",
    "# Kết thúc tính thời gian dự đoán\n",
    "predict_time_cls = time.time() - start_time\n",
    "print(f'Thời gian dự đoán mô hình phân loại: {predict_time_cls:.4f} giây')\n",
    "# Đánh giá mô hình phân loại bằng MSE\n",
    "mse = mean_squared_error(Y_test, Y_pred)\n",
    "r2 = r2_score(Y_test, Y_pred)\n",
    "print(f'Mean Squared Error (MSE): {mse:.2f}')\n",
    "print(f'R-squared (R2 Score): {r2:.2f}')\n",
    "\n",
    "# In ra kết quả dự đoán và giá trị thực tế\n",
    "results = pd.DataFrame({'Actual': Y_test, 'Predicted': Y_pred})\n",
    "print(results)"
   ]
  },
  {
   "cell_type": "code",
   "execution_count": null,
   "metadata": {},
   "outputs": [],
   "source": []
  }
 ],
 "metadata": {
  "colab": {
   "authorship_tag": "ABX9TyPIc0a+yfSUdkpi0jU24TaG",
   "provenance": []
  },
  "kernelspec": {
   "display_name": "Python 3 (ipykernel)",
   "language": "python",
   "name": "python3"
  },
  "language_info": {
   "codemirror_mode": {
    "name": "ipython",
    "version": 3
   },
   "file_extension": ".py",
   "mimetype": "text/x-python",
   "name": "python",
   "nbconvert_exporter": "python",
   "pygments_lexer": "ipython3",
   "version": "3.9.13"
  }
 },
 "nbformat": 4,
 "nbformat_minor": 1
}
