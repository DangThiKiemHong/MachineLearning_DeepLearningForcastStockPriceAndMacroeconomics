{
 "cells": [
  {
   "cell_type": "markdown",
   "metadata": {
    "id": "p_AmfjEH808l"
   },
   "source": [
    "**Dự báo xu hướng chỉ số kinh tế bằng thuật toán Rừng ngẫu nhiên**"
   ]
  },
  {
   "cell_type": "markdown",
   "metadata": {
    "id": "A9yaEBAQ86Uy"
   },
   "source": [
    "1. Tải dữ liệu\n",
    "2. Tạo biến Y=0 nếu chỉ số KT giảm và biến Y=1 nếu chỉ số KT tăng.\n",
    "3. Sử dụng hàm RandomForestClassifier từ thư viện sklearn.\n",
    "4. Đánh giá độ chính xác của mô hình thông qua các chỉ số Accuracy, Precision, recall, F1-score."
   ]
  },
  {
   "cell_type": "markdown",
   "metadata": {
    "id": "z6AW3-ig7dST"
   },
   "source": [
    "**CPI**"
   ]
  },
  {
   "cell_type": "code",
   "execution_count": 1,
   "metadata": {
    "colab": {
     "base_uri": "https://localhost:8080/",
     "height": 206
    },
    "executionInfo": {
     "elapsed": 670,
     "status": "ok",
     "timestamp": 1726725598229,
     "user": {
      "displayName": "Đặng Thị Kiêm Hồng",
      "userId": "05445281411830122382"
     },
     "user_tz": -420
    },
    "id": "9EDAg8C-7wEE",
    "outputId": "00ffb391-ab75-448b-ced7-e0a9b7e18134"
   },
   "outputs": [
    {
     "data": {
      "text/html": [
       "<div>\n",
       "<style scoped>\n",
       "    .dataframe tbody tr th:only-of-type {\n",
       "        vertical-align: middle;\n",
       "    }\n",
       "\n",
       "    .dataframe tbody tr th {\n",
       "        vertical-align: top;\n",
       "    }\n",
       "\n",
       "    .dataframe thead th {\n",
       "        text-align: right;\n",
       "    }\n",
       "</style>\n",
       "<table border=\"1\" class=\"dataframe\">\n",
       "  <thead>\n",
       "    <tr style=\"text-align: right;\">\n",
       "      <th></th>\n",
       "      <th>t</th>\n",
       "      <th>cpi</th>\n",
       "    </tr>\n",
       "  </thead>\n",
       "  <tbody>\n",
       "    <tr>\n",
       "      <th>0</th>\n",
       "      <td>1995M1</td>\n",
       "      <td>103.8</td>\n",
       "    </tr>\n",
       "    <tr>\n",
       "      <th>1</th>\n",
       "      <td>1995M2</td>\n",
       "      <td>103.4</td>\n",
       "    </tr>\n",
       "    <tr>\n",
       "      <th>2</th>\n",
       "      <td>1995M3</td>\n",
       "      <td>100.2</td>\n",
       "    </tr>\n",
       "    <tr>\n",
       "      <th>3</th>\n",
       "      <td>1995M4</td>\n",
       "      <td>101.0</td>\n",
       "    </tr>\n",
       "    <tr>\n",
       "      <th>4</th>\n",
       "      <td>1995M5</td>\n",
       "      <td>101.8</td>\n",
       "    </tr>\n",
       "  </tbody>\n",
       "</table>\n",
       "</div>"
      ],
      "text/plain": [
       "        t    cpi\n",
       "0  1995M1  103.8\n",
       "1  1995M2  103.4\n",
       "2  1995M3  100.2\n",
       "3  1995M4  101.0\n",
       "4  1995M5  101.8"
      ]
     },
     "execution_count": 1,
     "metadata": {},
     "output_type": "execute_result"
    }
   ],
   "source": [
    "import pandas as pd\n",
    "# Đọc dữ liệu từ file CSV (có thể thay bằng file của bạn)\n",
    "file_path = r'D:\\DeTaiNam2024\\SoLieu\\KinhTeViMo\\cpi.csv'\n",
    "df = pd.read_csv(file_path)\n",
    "# Kiểm tra tiêu đề các cột\n",
    "df.head()\n"
   ]
  },
  {
   "cell_type": "code",
   "execution_count": 2,
   "metadata": {},
   "outputs": [],
   "source": [
    "# Sắp xếp theo ngày\n",
    "df = df.sort_values('t')\n",
    "\n",
    "# Tạo biến Y: 1 nếu cpi tăng, 0 nếu cpi giảm\n",
    "df['Y'] = (df['cpi'].diff() > 0).astype(int)\n",
    "\n",
    "#Tạo các đặc trưng (ở đây chỉ sử dụng cpi năm trước)\n",
    "df['cpi_lag1'] = df['cpi'].shift(1)\n",
    "df.dropna(inplace=True)\n",
    "\n",
    "# Chọn X (các đặc trưng) và Y (nhãn mục tiêu)\n",
    "X = df[['cpi_lag1']].values\n",
    "Y = df['Y'].values"
   ]
  },
  {
   "cell_type": "code",
   "execution_count": 11,
   "metadata": {},
   "outputs": [],
   "source": [
    "from sklearn.model_selection import train_test_split # tải hàm train_test_split\n",
    "# Chia dữ liệu thành tập huấn luyện và tập kiểm tra\n",
    "X_train, X_test, Y_train, Y_test = train_test_split(X, Y, test_size=0.2, random_state=42)\n"
   ]
  },
  {
   "cell_type": "code",
   "execution_count": 13,
   "metadata": {
    "colab": {
     "base_uri": "https://localhost:8080/"
    },
    "executionInfo": {
     "elapsed": 616,
     "status": "ok",
     "timestamp": 1726725605666,
     "user": {
      "displayName": "Đặng Thị Kiêm Hồng",
      "userId": "05445281411830122382"
     },
     "user_tz": -420
    },
    "id": "DccV_4H6LmpO",
    "outputId": "c6af5f19-1182-4fa0-bdeb-81f013d00853"
   },
   "outputs": [
    {
     "name": "stdout",
     "output_type": "stream",
     "text": [
      "Thời gian huấn luyện mô hình phân loại: 0.2240 giây\n",
      "Thời gian dự đoán mô hình phân loại: 0.0080 giây\n",
      "Accuracy (Phân loại): 0.49230769230769234\n",
      "              precision    recall  f1-score   support\n",
      "\n",
      "           0       0.49      0.53      0.51        32\n",
      "           1       0.50      0.45      0.48        33\n",
      "\n",
      "    accuracy                           0.49        65\n",
      "   macro avg       0.49      0.49      0.49        65\n",
      "weighted avg       0.49      0.49      0.49        65\n",
      "\n"
     ]
    }
   ],
   "source": [
    "from sklearn.ensemble import RandomForestClassifier\n",
    "from sklearn.metrics import accuracy_score, classification_report\n",
    "import time\n",
    "# Bắt đầu tính thời gian huấn luyện\n",
    "start_time = time.time()\n",
    "\n",
    "\n",
    "# Khởi tạo mô hình Rừng ngẫu nhiên cho phân loại\n",
    "rf = RandomForestClassifier(n_estimators=100, random_state=42)\n",
    "\n",
    "# Huấn luyện mô hình\n",
    "rf.fit(X_train, Y_train)\n",
    "# Kết thúc tính thời gian huấn luyện\n",
    "train_time_cls = time.time() - start_time\n",
    "print(f'Thời gian huấn luyện mô hình phân loại: {train_time_cls:.4f} giây')\n",
    "\n",
    "# Bắt đầu tính thời gian dự đoán\n",
    "start_time = time.time()\n",
    "\n",
    "# Dự đoán trên tập kiểm tra\n",
    "Y_pred = rf.predict(X_test)\n",
    "# Kết thúc tính thời gian dự đoán\n",
    "predict_time_cls = time.time() - start_time\n",
    "print(f'Thời gian dự đoán mô hình phân loại: {predict_time_cls:.4f} giây')\n",
    "# Đánh giá mô hình phân loại bằng Accuracy\n",
    "accuracy = accuracy_score(Y_test,Y_pred)\n",
    "print(f'Accuracy (Phân loại): {accuracy}')\n",
    "\n",
    "# Báo cáo chi tiết kết quả dự đoán\n",
    "print(classification_report(Y_test, Y_pred))\n"
   ]
  },
  {
   "cell_type": "markdown",
   "metadata": {},
   "source": [
    "**EXCHANGE_RATE**\n"
   ]
  },
  {
   "cell_type": "code",
   "execution_count": 14,
   "metadata": {},
   "outputs": [
    {
     "data": {
      "text/html": [
       "<div>\n",
       "<style scoped>\n",
       "    .dataframe tbody tr th:only-of-type {\n",
       "        vertical-align: middle;\n",
       "    }\n",
       "\n",
       "    .dataframe tbody tr th {\n",
       "        vertical-align: top;\n",
       "    }\n",
       "\n",
       "    .dataframe thead th {\n",
       "        text-align: right;\n",
       "    }\n",
       "</style>\n",
       "<table border=\"1\" class=\"dataframe\">\n",
       "  <thead>\n",
       "    <tr style=\"text-align: right;\">\n",
       "      <th></th>\n",
       "      <th>time</th>\n",
       "      <th>exchange_rate</th>\n",
       "    </tr>\n",
       "  </thead>\n",
       "  <tbody>\n",
       "    <tr>\n",
       "      <th>0</th>\n",
       "      <td>1986</td>\n",
       "      <td>22.936728</td>\n",
       "    </tr>\n",
       "    <tr>\n",
       "      <th>1</th>\n",
       "      <td>1987</td>\n",
       "      <td>78.953316</td>\n",
       "    </tr>\n",
       "    <tr>\n",
       "      <th>2</th>\n",
       "      <td>1988</td>\n",
       "      <td>611.646087</td>\n",
       "    </tr>\n",
       "    <tr>\n",
       "      <th>3</th>\n",
       "      <td>1989</td>\n",
       "      <td>4501.686529</td>\n",
       "    </tr>\n",
       "    <tr>\n",
       "      <th>4</th>\n",
       "      <td>1990</td>\n",
       "      <td>6537.604686</td>\n",
       "    </tr>\n",
       "  </tbody>\n",
       "</table>\n",
       "</div>"
      ],
      "text/plain": [
       "   time  exchange_rate\n",
       "0  1986      22.936728\n",
       "1  1987      78.953316\n",
       "2  1988     611.646087\n",
       "3  1989    4501.686529\n",
       "4  1990    6537.604686"
      ]
     },
     "execution_count": 14,
     "metadata": {},
     "output_type": "execute_result"
    }
   ],
   "source": [
    "import pandas as pd\n",
    "# Đọc dữ liệu từ file CSV (có thể thay bằng file của bạn)\n",
    "file_path = r'D:\\DeTaiNam2024\\SoLieu\\KinhTeViMo\\exchange_rate.csv'\n",
    "df = pd.read_csv(file_path)\n",
    "# Kiểm tra tiêu đề các cột\n",
    "df.head()\n"
   ]
  },
  {
   "cell_type": "code",
   "execution_count": 16,
   "metadata": {},
   "outputs": [],
   "source": [
    "# Sắp xếp theo ngày\n",
    "df = df.sort_values('time')\n",
    "\n",
    "# Tạo biến Y: 1 nếu exchange_rate tăng, 0 nếu exchange_rate giảm\n",
    "df['Y'] = (df['exchange_rate'].diff() > 0).astype(int)\n",
    "\n",
    "#Tạo các đặc trưng (ở đây chỉ sử dụng cpi năm trước)\n",
    "df['exchange_rate_lag1'] = df['exchange_rate'].shift(1)\n",
    "df.dropna(inplace=True)\n",
    "\n",
    "# Chọn X (các đặc trưng) và Y (nhãn mục tiêu)\n",
    "X = df[['exchange_rate_lag1']].values\n",
    "Y = df['Y'].values"
   ]
  },
  {
   "cell_type": "code",
   "execution_count": 17,
   "metadata": {},
   "outputs": [],
   "source": [
    "from sklearn.model_selection import train_test_split # tải hàm train_test_split\n",
    "# Chia dữ liệu thành tập huấn luyện và tập kiểm tra\n",
    "X_train, X_test, Y_train, Y_test = train_test_split(X, Y, test_size=0.2, random_state=42)"
   ]
  },
  {
   "cell_type": "code",
   "execution_count": 18,
   "metadata": {},
   "outputs": [
    {
     "name": "stdout",
     "output_type": "stream",
     "text": [
      "Thời gian huấn luyện mô hình phân loại: 0.1920 giây\n",
      "Thời gian dự đoán mô hình phân loại: 0.0160 giây\n",
      "Accuracy (Phân loại): 0.875\n",
      "              precision    recall  f1-score   support\n",
      "\n",
      "           0       0.00      0.00      0.00         0\n",
      "           1       1.00      0.88      0.93         8\n",
      "\n",
      "    accuracy                           0.88         8\n",
      "   macro avg       0.50      0.44      0.47         8\n",
      "weighted avg       1.00      0.88      0.93         8\n",
      "\n"
     ]
    },
    {
     "name": "stderr",
     "output_type": "stream",
     "text": [
      "C:\\Users\\Admin\\AppData\\Roaming\\Python\\Python39\\site-packages\\sklearn\\metrics\\_classification.py:1469: UndefinedMetricWarning: Recall and F-score are ill-defined and being set to 0.0 in labels with no true samples. Use `zero_division` parameter to control this behavior.\n",
      "  _warn_prf(average, modifier, msg_start, len(result))\n",
      "C:\\Users\\Admin\\AppData\\Roaming\\Python\\Python39\\site-packages\\sklearn\\metrics\\_classification.py:1469: UndefinedMetricWarning: Recall and F-score are ill-defined and being set to 0.0 in labels with no true samples. Use `zero_division` parameter to control this behavior.\n",
      "  _warn_prf(average, modifier, msg_start, len(result))\n",
      "C:\\Users\\Admin\\AppData\\Roaming\\Python\\Python39\\site-packages\\sklearn\\metrics\\_classification.py:1469: UndefinedMetricWarning: Recall and F-score are ill-defined and being set to 0.0 in labels with no true samples. Use `zero_division` parameter to control this behavior.\n",
      "  _warn_prf(average, modifier, msg_start, len(result))\n"
     ]
    }
   ],
   "source": [
    "from sklearn.ensemble import RandomForestClassifier\n",
    "from sklearn.metrics import accuracy_score, classification_report\n",
    "import time\n",
    "# Bắt đầu tính thời gian huấn luyện\n",
    "start_time = time.time()\n",
    "\n",
    "\n",
    "# Khởi tạo mô hình Rừng ngẫu nhiên cho phân loại\n",
    "rf = RandomForestClassifier(n_estimators=100, random_state=42)\n",
    "\n",
    "# Huấn luyện mô hình\n",
    "rf.fit(X_train, Y_train)\n",
    "# Kết thúc tính thời gian huấn luyện\n",
    "train_time_cls = time.time() - start_time\n",
    "print(f'Thời gian huấn luyện mô hình phân loại: {train_time_cls:.4f} giây')\n",
    "\n",
    "# Bắt đầu tính thời gian dự đoán\n",
    "start_time = time.time()\n",
    "\n",
    "# Dự đoán trên tập kiểm tra\n",
    "Y_pred = rf.predict(X_test)\n",
    "# Kết thúc tính thời gian dự đoán\n",
    "predict_time_cls = time.time() - start_time\n",
    "print(f'Thời gian dự đoán mô hình phân loại: {predict_time_cls:.4f} giây')\n",
    "# Đánh giá mô hình phân loại bằng Accuracy\n",
    "accuracy = accuracy_score(Y_test,Y_pred)\n",
    "print(f'Accuracy (Phân loại): {accuracy}')\n",
    "\n",
    "# Báo cáo chi tiết kết quả dự đoán\n",
    "print(classification_report(Y_test, Y_pred))"
   ]
  },
  {
   "cell_type": "code",
   "execution_count": null,
   "metadata": {},
   "outputs": [],
   "source": []
  }
 ],
 "metadata": {
  "colab": {
   "authorship_tag": "ABX9TyPIc0a+yfSUdkpi0jU24TaG",
   "provenance": []
  },
  "kernelspec": {
   "display_name": "Python 3 (ipykernel)",
   "language": "python",
   "name": "python3"
  },
  "language_info": {
   "codemirror_mode": {
    "name": "ipython",
    "version": 3
   },
   "file_extension": ".py",
   "mimetype": "text/x-python",
   "name": "python",
   "nbconvert_exporter": "python",
   "pygments_lexer": "ipython3",
   "version": "3.9.13"
  }
 },
 "nbformat": 4,
 "nbformat_minor": 1
}
