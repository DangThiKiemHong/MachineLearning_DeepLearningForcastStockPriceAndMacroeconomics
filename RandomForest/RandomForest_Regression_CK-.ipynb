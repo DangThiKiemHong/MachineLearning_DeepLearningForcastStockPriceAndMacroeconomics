{
 "cells": [
  {
   "cell_type": "markdown",
   "metadata": {
    "id": "p_AmfjEH808l"
   },
   "source": [
    "**Dự báo xu hướng giá CK bằng thuật toán Rừng ngẫu nhiên**"
   ]
  },
  {
   "cell_type": "markdown",
   "metadata": {
    "id": "A9yaEBAQ86Uy"
   },
   "source": [
    "1. Tải dữ liệu\n",
    "2. Tạo biến Y=0 nếu giá CK giảm và biến Y=1 nếu giá CK tăng.\n",
    "3. Sử dụng hàm RandomForestRegressor từ thư viện sklearn.\n",
    "4. Đánh giá độ chính xác của mô hình thông qua MSE."
   ]
  },
  {
   "cell_type": "markdown",
   "metadata": {
    "id": "z6AW3-ig7dST"
   },
   "source": [
    "**VCB**"
   ]
  },
  {
   "cell_type": "code",
   "execution_count": 1,
   "metadata": {
    "colab": {
     "base_uri": "https://localhost:8080/",
     "height": 206
    },
    "executionInfo": {
     "elapsed": 670,
     "status": "ok",
     "timestamp": 1726725598229,
     "user": {
      "displayName": "Đặng Thị Kiêm Hồng",
      "userId": "05445281411830122382"
     },
     "user_tz": -420
    },
    "id": "9EDAg8C-7wEE",
    "outputId": "00ffb391-ab75-448b-ced7-e0a9b7e18134"
   },
   "outputs": [
    {
     "data": {
      "text/html": [
       "<div>\n",
       "<style scoped>\n",
       "    .dataframe tbody tr th:only-of-type {\n",
       "        vertical-align: middle;\n",
       "    }\n",
       "\n",
       "    .dataframe tbody tr th {\n",
       "        vertical-align: top;\n",
       "    }\n",
       "\n",
       "    .dataframe thead th {\n",
       "        text-align: right;\n",
       "    }\n",
       "</style>\n",
       "<table border=\"1\" class=\"dataframe\">\n",
       "  <thead>\n",
       "    <tr style=\"text-align: right;\">\n",
       "      <th></th>\n",
       "      <th>Unnamed: 0</th>\n",
       "      <th>time</th>\n",
       "      <th>open</th>\n",
       "      <th>high</th>\n",
       "      <th>low</th>\n",
       "      <th>close</th>\n",
       "      <th>volume</th>\n",
       "    </tr>\n",
       "  </thead>\n",
       "  <tbody>\n",
       "    <tr>\n",
       "      <th>0</th>\n",
       "      <td>0</td>\n",
       "      <td>2015-01-05</td>\n",
       "      <td>14.03</td>\n",
       "      <td>14.21</td>\n",
       "      <td>13.90</td>\n",
       "      <td>14.12</td>\n",
       "      <td>310010</td>\n",
       "    </tr>\n",
       "    <tr>\n",
       "      <th>1</th>\n",
       "      <td>1</td>\n",
       "      <td>2015-01-06</td>\n",
       "      <td>14.12</td>\n",
       "      <td>15.05</td>\n",
       "      <td>14.12</td>\n",
       "      <td>15.05</td>\n",
       "      <td>1684600</td>\n",
       "    </tr>\n",
       "    <tr>\n",
       "      <th>2</th>\n",
       "      <td>2</td>\n",
       "      <td>2015-01-07</td>\n",
       "      <td>15.09</td>\n",
       "      <td>15.31</td>\n",
       "      <td>14.65</td>\n",
       "      <td>14.87</td>\n",
       "      <td>1430340</td>\n",
       "    </tr>\n",
       "    <tr>\n",
       "      <th>3</th>\n",
       "      <td>3</td>\n",
       "      <td>2015-01-08</td>\n",
       "      <td>14.92</td>\n",
       "      <td>15.49</td>\n",
       "      <td>14.87</td>\n",
       "      <td>15.31</td>\n",
       "      <td>904240</td>\n",
       "    </tr>\n",
       "    <tr>\n",
       "      <th>4</th>\n",
       "      <td>4</td>\n",
       "      <td>2015-01-09</td>\n",
       "      <td>15.45</td>\n",
       "      <td>16.38</td>\n",
       "      <td>15.45</td>\n",
       "      <td>16.33</td>\n",
       "      <td>2286680</td>\n",
       "    </tr>\n",
       "  </tbody>\n",
       "</table>\n",
       "</div>"
      ],
      "text/plain": [
       "   Unnamed: 0        time   open   high    low  close   volume\n",
       "0           0  2015-01-05  14.03  14.21  13.90  14.12   310010\n",
       "1           1  2015-01-06  14.12  15.05  14.12  15.05  1684600\n",
       "2           2  2015-01-07  15.09  15.31  14.65  14.87  1430340\n",
       "3           3  2015-01-08  14.92  15.49  14.87  15.31   904240\n",
       "4           4  2015-01-09  15.45  16.38  15.45  16.33  2286680"
      ]
     },
     "execution_count": 1,
     "metadata": {},
     "output_type": "execute_result"
    }
   ],
   "source": [
    "import pandas as pd\n",
    "# Đọc dữ liệu từ file CSV (có thể thay bằng file của bạn)\n",
    "file_path = r'D:\\DeTaiNam2024\\SolieuHong\\VCB.csv'\n",
    "df = pd.read_csv(file_path)\n",
    "# Kiểm tra tiêu đề các cột\n",
    "df.head()\n"
   ]
  },
  {
   "cell_type": "code",
   "execution_count": 8,
   "metadata": {},
   "outputs": [
    {
     "name": "stdout",
     "output_type": "stream",
     "text": [
      "            time  close  Y\n",
      "0     2015-01-05  14.12  0\n",
      "1     2015-01-06  15.05  1\n",
      "2     2015-01-07  14.87  0\n",
      "3     2015-01-08  15.31  1\n",
      "4     2015-01-09  16.33  1\n",
      "...          ...    ... ..\n",
      "2421  2024-09-13  89.90  1\n",
      "2422  2024-09-16  88.90  0\n",
      "2423  2024-09-17  90.50  1\n",
      "2424  2024-09-18  91.00  1\n",
      "2425  2024-09-19  91.60  1\n",
      "\n",
      "[2426 rows x 3 columns]\n"
     ]
    }
   ],
   "source": [
    "# Sắp xếp theo ngày\n",
    "df = df.sort_values('time')\n",
    "\n",
    "# Tạo cột Y: nếu giá đóng cửa hôm nay thấp hơn hôm qua, Y=0, nếu ngược lại Y=1\n",
    "df['Y'] = (df['close'].diff() > 0).astype(int)\n",
    "\n",
    "# Hiển thị dữ liệu với cột Y\n",
    "print(df[['time', 'close', 'Y']])"
   ]
  },
  {
   "cell_type": "code",
   "execution_count": 9,
   "metadata": {},
   "outputs": [],
   "source": [
    "# Lấy đặc trưng (features) và biến mục tiêu (target)\n",
    "X = df[['open', 'high', 'low', 'volume']]  # Các cột đặc trưng\n",
    "Y= df['close']  # Biến mục tiêu cho hồi quy"
   ]
  },
  {
   "cell_type": "code",
   "execution_count": 10,
   "metadata": {},
   "outputs": [],
   "source": [
    "from sklearn.model_selection import train_test_split # tải hàm train_test_split\n",
    "# Chia dữ liệu thành tập huấn luyện và tập kiểm tra\n",
    "X_train, X_test, Y_train, Y_test = train_test_split(X, Y, test_size=0.3, random_state=42)\n"
   ]
  },
  {
   "cell_type": "code",
   "execution_count": null,
   "metadata": {
    "colab": {
     "base_uri": "https://localhost:8080/"
    },
    "executionInfo": {
     "elapsed": 616,
     "status": "ok",
     "timestamp": 1726725605666,
     "user": {
      "displayName": "Đặng Thị Kiêm Hồng",
      "userId": "05445281411830122382"
     },
     "user_tz": -420
    },
    "id": "DccV_4H6LmpO",
    "outputId": "c6af5f19-1182-4fa0-bdeb-81f013d00853"
   },
   "outputs": [],
   "source": [
    "from sklearn.ensemble import RandomForestRegressor \n",
    "from sklearn.metrics import  mean_squared_error, r2_score\n",
    "import time\n",
    "# Bắt đầu tính thời gian huấn luyện\n",
    "start_time = time.time()\n",
    "# Khởi tạo mô hình Rừng ngẫu nhiên cho phân loại\n",
    "rf = RandomForestRegressor(n_estimators=100, random_state=42)\n",
    "# Huấn luyện mô hình\n",
    "rf.fit(X_train, Y_train)\n",
    "# Kết thúc tính thời gian huấn luyện\n",
    "train_time_cls = time.time() - start_time\n",
    "print(f'Thời gian huấn luyện mô hình phân loại: {train_time_cls:.4f} giây')\n",
    "\n",
    "# Bắt đầu tính thời gian dự đoán\n",
    "start_time = time.time()\n",
    "\n",
    "# Dự đoán trên tập kiểm tra\n",
    "Y_pred = rf.predict(X_test)\n",
    "# Kết thúc tính thời gian dự đoán\n",
    "predict_time_cls = time.time() - start_time\n",
    "print(f'Thời gian dự đoán mô hình phân loại: {predict_time_cls:.4f} giây')\n",
    "# Đánh giá mô hình phân loại bằng MSE\n",
    "mse = mean_squared_error(Y_test, Y_pred)\n",
    "r2 = r2_score(Y_test, Y_pred)\n",
    "print(f'Mean Squared Error (MSE): {mse:.2f}')\n",
    "print(f'R-squared (R2 Score): {r2:.2f}')\n",
    "\n",
    "# In ra kết quả dự đoán và giá trị thực tế\n",
    "results = pd.DataFrame({'Actual': Y_test, 'Predicted': Y_pred})\n",
    "print(results)\n"
   ]
  },
  {
   "cell_type": "markdown",
   "metadata": {},
   "source": [
    "**Chạy tất cả chứng khoán trong folder**"
   ]
  },
  {
   "cell_type": "code",
   "execution_count": 9,
   "metadata": {},
   "outputs": [],
   "source": [
    "import os\n",
    "import pandas as pd\n",
    "import time\n",
    "from sklearn.model_selection import train_test_split\n",
    "from sklearn.ensemble import RandomForestRegressor, RandomForestClassifier\n",
    "from sklearn.metrics import mean_squared_error, accuracy_score, classification_report"
   ]
  },
  {
   "cell_type": "code",
   "execution_count": 18,
   "metadata": {},
   "outputs": [],
   "source": [
    "def process_stock_file(file_path):\n",
    "    # Đọc dữ liệu từ file csv\n",
    "    df = pd.read_csv(file_path)\n",
    "    \n",
    "    # Nếu không đủ dữ liệu, bỏ qua file\n",
    "    if df.shape[1] < 5:\n",
    "        return None\n",
    "\n",
    "    # Tạo các đặc trưng (features) và biến mục tiêu\n",
    "    X = df[['open', 'high', 'low', 'volume']]\n",
    "    Y = (df['close'] > df['open']).astype(int)  # Phân loại: xu hướng tăng (1) hoặc giảm (0)\n",
    "\n",
    "    # Chia dữ liệu cho hồi quy và phân loại\n",
    "    X_train, X_test,Y_train, Y_test = train_test_split(X, Y, test_size=0.3, random_state=42)\n",
    "    \n",
    "    # Biến lưu kết quả\n",
    "    results = {}\n",
    "    results['file'] = os.path.basename(file_path)\n",
    "\n",
    "    # Huấn luyện mô hình Rừng ngẫu nhiên cho hồi quy\n",
    "    start_time = time.time()\n",
    "    rf = RandomForestRegressor(n_estimators=100, random_state=42)\n",
    "    rf.fit(X_train, Y_train)\n",
    "    train_time = time.time() - start_time\n",
    "\n",
    "    #Dự báo\n",
    "    start_time = time.time()\n",
    "    Y_pred = rf.predict(X_test)\n",
    "    predict_time = time.time() - start_time\n",
    "\n",
    "     # Tính độ chính xác\n",
    "    mse = mean_squared_error(Y_test, Y_pred)\n",
    "    r2 = r2_score(Y_test, Y_pred)\n",
    "    results['MSE'] = mse\n",
    "    results['R2'] = r2\n",
    "    return results\n"
   ]
  },
  {
   "cell_type": "code",
   "execution_count": 12,
   "metadata": {},
   "outputs": [],
   "source": [
    "def all_stocks(folder, output):\n",
    "    # Danh sách lưu trữ kết quả cho mỗi file\n",
    "    all_results = []\n",
    "\n",
    "    # Duyệt qua từng file trong thư mục\n",
    "    for file_name in os.listdir(folder):\n",
    "        if file_name.endswith('.csv'):\n",
    "            file_path = os.path.join(folder, file_name)\n",
    "            print(f'Đang xử lý {file_name}...')\n",
    "            result = process_stock_file(file_path)\n",
    "            if result:\n",
    "                all_results.append(result)\n",
    "\n",
    "    # Chuyển danh sách kết quả thành DataFrame\n",
    "    results_df = pd.DataFrame(all_results)\n",
    "\n",
    "    # Ghi kết quả ra file CSV\n",
    "    results_df.to_csv(output, index=False)\n",
    "    print(f'Kết quả đã được ghi ra {output}')\n"
   ]
  },
  {
   "cell_type": "code",
   "execution_count": 19,
   "metadata": {},
   "outputs": [
    {
     "name": "stdout",
     "output_type": "stream",
     "text": [
      "Đang xử lý acb.csv...\n",
      "Đang xử lý DHG.csv...\n",
      "Đang xử lý FPT.csv...\n",
      "Đang xử lý HAP.csv...\n",
      "Đang xử lý HNX.csv...\n",
      "Đang xử lý HNX30.csv...\n",
      "Đang xử lý HPG.csv...\n",
      "Đang xử lý KDC.csv...\n",
      "Đang xử lý REE.csv...\n",
      "Đang xử lý SAM.csv...\n",
      "Đang xử lý TMS.csv...\n",
      "Đang xử lý VCB.csv...\n",
      "Đang xử lý VIC.csv...\n",
      "Đang xử lý VN30.csv...\n",
      "Đang xử lý VNINDEX.csv...\n",
      "Đang xử lý VNM.csv...\n",
      "Kết quả đã được ghi ra D:\\DeTaiNam2024\\SoLieuHong\\output\\RandomForest_Regression_stock_results1.csv\n"
     ]
    }
   ],
   "source": [
    "# Đường dẫn đến thư mục chứa các file chứng khoán\n",
    "folder = r'D:\\DeTaiNam2024\\SoLieuHong'\n",
    "\n",
    "# Đường dẫn đến file kết quả output\n",
    "output = r'D:\\DeTaiNam2024\\SoLieuHong\\output\\RandomForest_Regression_stock_results1.csv'\n",
    "\n",
    "# Chạy xử lý tất cả các file trong thư mục và lưu kết quả\n",
    "all_stocks(folder, output)"
   ]
  },
  {
   "cell_type": "markdown",
   "metadata": {},
   "source": [
    "**FPT**"
   ]
  },
  {
   "cell_type": "code",
   "execution_count": 22,
   "metadata": {},
   "outputs": [
    {
     "data": {
      "text/html": [
       "<div>\n",
       "<style scoped>\n",
       "    .dataframe tbody tr th:only-of-type {\n",
       "        vertical-align: middle;\n",
       "    }\n",
       "\n",
       "    .dataframe tbody tr th {\n",
       "        vertical-align: top;\n",
       "    }\n",
       "\n",
       "    .dataframe thead th {\n",
       "        text-align: right;\n",
       "    }\n",
       "</style>\n",
       "<table border=\"1\" class=\"dataframe\">\n",
       "  <thead>\n",
       "    <tr style=\"text-align: right;\">\n",
       "      <th></th>\n",
       "      <th>Unnamed: 0</th>\n",
       "      <th>time</th>\n",
       "      <th>open</th>\n",
       "      <th>high</th>\n",
       "      <th>low</th>\n",
       "      <th>close</th>\n",
       "      <th>volume</th>\n",
       "    </tr>\n",
       "  </thead>\n",
       "  <tbody>\n",
       "    <tr>\n",
       "      <th>0</th>\n",
       "      <td>0</td>\n",
       "      <td>2015-01-05</td>\n",
       "      <td>14.03</td>\n",
       "      <td>14.21</td>\n",
       "      <td>13.90</td>\n",
       "      <td>14.12</td>\n",
       "      <td>310010</td>\n",
       "    </tr>\n",
       "    <tr>\n",
       "      <th>1</th>\n",
       "      <td>1</td>\n",
       "      <td>2015-01-06</td>\n",
       "      <td>14.12</td>\n",
       "      <td>15.05</td>\n",
       "      <td>14.12</td>\n",
       "      <td>15.05</td>\n",
       "      <td>1684600</td>\n",
       "    </tr>\n",
       "    <tr>\n",
       "      <th>2</th>\n",
       "      <td>2</td>\n",
       "      <td>2015-01-07</td>\n",
       "      <td>15.09</td>\n",
       "      <td>15.31</td>\n",
       "      <td>14.65</td>\n",
       "      <td>14.87</td>\n",
       "      <td>1430340</td>\n",
       "    </tr>\n",
       "    <tr>\n",
       "      <th>3</th>\n",
       "      <td>3</td>\n",
       "      <td>2015-01-08</td>\n",
       "      <td>14.92</td>\n",
       "      <td>15.49</td>\n",
       "      <td>14.87</td>\n",
       "      <td>15.31</td>\n",
       "      <td>904240</td>\n",
       "    </tr>\n",
       "    <tr>\n",
       "      <th>4</th>\n",
       "      <td>4</td>\n",
       "      <td>2015-01-09</td>\n",
       "      <td>15.45</td>\n",
       "      <td>16.38</td>\n",
       "      <td>15.45</td>\n",
       "      <td>16.33</td>\n",
       "      <td>2286680</td>\n",
       "    </tr>\n",
       "  </tbody>\n",
       "</table>\n",
       "</div>"
      ],
      "text/plain": [
       "   Unnamed: 0        time   open   high    low  close   volume\n",
       "0           0  2015-01-05  14.03  14.21  13.90  14.12   310010\n",
       "1           1  2015-01-06  14.12  15.05  14.12  15.05  1684600\n",
       "2           2  2015-01-07  15.09  15.31  14.65  14.87  1430340\n",
       "3           3  2015-01-08  14.92  15.49  14.87  15.31   904240\n",
       "4           4  2015-01-09  15.45  16.38  15.45  16.33  2286680"
      ]
     },
     "execution_count": 22,
     "metadata": {},
     "output_type": "execute_result"
    }
   ],
   "source": [
    "import pandas as pd\n",
    "# Đọc dữ liệu từ file CSV (có thể thay bằng file của bạn)\n",
    "file_path = r'D:\\DeTaiNam2024\\SolieuHong\\VCB.csv'\n",
    "df = pd.read_csv(file_path)\n",
    "# Kiểm tra tiêu đề các cột\n",
    "df.head()\n"
   ]
  },
  {
   "cell_type": "code",
   "execution_count": 28,
   "metadata": {},
   "outputs": [
    {
     "name": "stdout",
     "output_type": "stream",
     "text": [
      "            time  close  Y\n",
      "0     2015-01-05  14.12  0\n",
      "1     2015-01-06  15.05  1\n",
      "2     2015-01-07  14.87  0\n",
      "3     2015-01-08  15.31  1\n",
      "4     2015-01-09  16.33  1\n",
      "...          ...    ... ..\n",
      "2421  2024-09-13  89.90  1\n",
      "2422  2024-09-16  88.90  0\n",
      "2423  2024-09-17  90.50  1\n",
      "2424  2024-09-18  91.00  1\n",
      "2425  2024-09-19  91.60  1\n",
      "\n",
      "[2426 rows x 3 columns]\n"
     ]
    }
   ],
   "source": [
    "# Sắp xếp theo ngày\n",
    "df = df.sort_values('time')\n",
    "\n",
    "# Tạo cột Y: nếu giá đóng cửa hôm nay thấp hơn hôm qua, Y=0, nếu ngược lại Y=1\n",
    "df['Y'] = (df['close'].diff() > 0).astype(int)\n",
    "\n",
    "# Hiển thị dữ liệu với cột Y\n",
    "print(df[['time', 'close', 'Y']])"
   ]
  },
  {
   "cell_type": "code",
   "execution_count": 29,
   "metadata": {},
   "outputs": [],
   "source": [
    "# Lấy đặc trưng (features) và biến mục tiêu (target)\n",
    "X = df[['open', 'high', 'low', 'volume']]  # Các cột đặc trưng\n",
    "Y= df['close']  # Biến mục tiêu cho hồi quy"
   ]
  },
  {
   "cell_type": "code",
   "execution_count": 30,
   "metadata": {},
   "outputs": [],
   "source": [
    "from sklearn.model_selection import train_test_split # tải hàm train_test_split\n",
    "# Chia dữ liệu thành tập huấn luyện và tập kiểm tra\n",
    "X_train, X_test, Y_train, Y_test = train_test_split(X, Y, test_size=0.2, random_state=42)"
   ]
  },
  {
   "cell_type": "code",
   "execution_count": 34,
   "metadata": {},
   "outputs": [
    {
     "name": "stdout",
     "output_type": "stream",
     "text": [
      "Cross-validated R^2 scores: [-0.21156941  0.98920766  0.98396105  0.96398241  0.31177795]\n",
      "Average R^2 score: 0.6074719341361403\n",
      "Thời gian huấn luyện mô hình phân loại: 30.1030 giây\n",
      "Thời gian dự đoán mô hình phân loại: 0.0313 giây\n",
      "Mean Squared Error (MSE): 0.30\n",
      "R-squared (R2 Score): 1.00\n",
      "      Actual  Predicted\n",
      "1491   64.31    63.6710\n",
      "387    24.65    24.1713\n",
      "1192   54.78    55.2995\n",
      "410    26.00    26.6560\n",
      "482    21.80    21.8675\n",
      "...      ...        ...\n",
      "679    23.36    23.3769\n",
      "178    19.90    19.8156\n",
      "1011   35.32    35.4997\n",
      "324    20.80    21.1634\n",
      "2201   85.80    85.3271\n",
      "\n",
      "[486 rows x 2 columns]\n"
     ]
    }
   ],
   "source": [
    "from sklearn.ensemble import RandomForestRegressor \n",
    "from sklearn.metrics import  mean_squared_error, r2_score\n",
    "from sklearn.model_selection import cross_val_score\n",
    "\n",
    "\n",
    "\n",
    "import matplotlib.pyplot as plt\n",
    "import time\n",
    "# Bắt đầu tính thời gian huấn luyện\n",
    "start_time = time.time()\n",
    "# Khởi tạo mô hình Rừng ngẫu nhiên cho phân loại\n",
    "rf = RandomForestRegressor(n_estimators=100, random_state=42)\n",
    "scores = cross_val_score(rf, X, Y, cv=5, scoring='r2')\n",
    "print(f'Cross-validated R^2 scores: {scores}')\n",
    "print(f'Average R^2 score: {scores.mean()}')\n",
    "# Huấn luyện mô hình\n",
    "rf.fit(X_train, Y_train)\n",
    "# Kết thúc tính thời gian huấn luyện\n",
    "train_time_cls = time.time() - start_time\n",
    "print(f'Thời gian huấn luyện mô hình phân loại: {train_time_cls:.4f} giây')\n",
    "\n",
    "# Bắt đầu tính thời gian dự đoán\n",
    "start_time = time.time()\n",
    "\n",
    "# Dự đoán trên tập kiểm tra\n",
    "Y_pred = rf.predict(X_test)\n",
    "# Kết thúc tính thời gian dự đoán\n",
    "predict_time_cls = time.time() - start_time\n",
    "print(f'Thời gian dự đoán mô hình phân loại: {predict_time_cls:.4f} giây')\n",
    "# Đánh giá mô hình phân loại bằng MSE\n",
    "mse = mean_squared_error(Y_test, Y_pred)\n",
    "r2 = r2_score(Y_test, Y_pred)\n",
    "print(f'Mean Squared Error (MSE): {mse:.2f}')\n",
    "print(f'R-squared (R2 Score): {r2:.2f}')\n",
    "\n",
    "# In ra kết quả dự đoán và giá trị thực tế\n",
    "results = pd.DataFrame({'Actual': Y_test, 'Predicted': Y_pred})\n",
    "print(results)\n"
   ]
  },
  {
   "cell_type": "code",
   "execution_count": null,
   "metadata": {},
   "outputs": [],
   "source": []
  }
 ],
 "metadata": {
  "colab": {
   "authorship_tag": "ABX9TyPIc0a+yfSUdkpi0jU24TaG",
   "provenance": []
  },
  "kernelspec": {
   "display_name": "Python 3 (ipykernel)",
   "language": "python",
   "name": "python3"
  },
  "language_info": {
   "codemirror_mode": {
    "name": "ipython",
    "version": 3
   },
   "file_extension": ".py",
   "mimetype": "text/x-python",
   "name": "python",
   "nbconvert_exporter": "python",
   "pygments_lexer": "ipython3",
   "version": "3.9.13"
  }
 },
 "nbformat": 4,
 "nbformat_minor": 1
}
