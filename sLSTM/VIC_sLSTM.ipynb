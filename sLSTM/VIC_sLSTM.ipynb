{
 "cells": [
  {
   "cell_type": "code",
   "execution_count": 1,
   "metadata": {
    "executionInfo": {
     "elapsed": 600,
     "status": "ok",
     "timestamp": 1727061134424,
     "user": {
      "displayName": "Đặng Thị Kiêm Hồng",
      "userId": "05445281411830122382"
     },
     "user_tz": -420
    },
    "id": "W-RlFTdGfann"
   },
   "outputs": [],
   "source": [
    "import numpy as np\n",
    "import pandas as pd\n",
    "\n",
    "import matplotlib.pyplot as plt\n",
    "from sklearn.preprocessing import MinMaxScaler\n",
    "from tensorflow.keras.models import Model\n",
    "from tensorflow.keras.layers import Input, Dense, RNN\n",
    "from tensorflow.keras.optimizers import Adam\n",
    "from tensorflow.keras.callbacks import EarlyStopping\n",
    "import tensorflow as tf"
   ]
  },
  {
   "cell_type": "code",
   "execution_count": 2,
   "metadata": {
    "colab": {
     "base_uri": "https://localhost:8080/",
     "height": 243
    },
    "executionInfo": {
     "elapsed": 17,
     "status": "ok",
     "timestamp": 1727061135115,
     "user": {
      "displayName": "Đặng Thị Kiêm Hồng",
      "userId": "05445281411830122382"
     },
     "user_tz": -420
    },
    "id": "cwidh5C5fkmY",
    "outputId": "3c08090a-40e8-4fbd-8459-0f83c898b4bc"
   },
   "outputs": [
    {
     "data": {
      "text/html": [
       "<div>\n",
       "<style scoped>\n",
       "    .dataframe tbody tr th:only-of-type {\n",
       "        vertical-align: middle;\n",
       "    }\n",
       "\n",
       "    .dataframe tbody tr th {\n",
       "        vertical-align: top;\n",
       "    }\n",
       "\n",
       "    .dataframe thead th {\n",
       "        text-align: right;\n",
       "    }\n",
       "</style>\n",
       "<table border=\"1\" class=\"dataframe\">\n",
       "  <thead>\n",
       "    <tr style=\"text-align: right;\">\n",
       "      <th></th>\n",
       "      <th>Unnamed: 0</th>\n",
       "      <th>time</th>\n",
       "      <th>open</th>\n",
       "      <th>high</th>\n",
       "      <th>low</th>\n",
       "      <th>close</th>\n",
       "      <th>volume</th>\n",
       "    </tr>\n",
       "  </thead>\n",
       "  <tbody>\n",
       "    <tr>\n",
       "      <th>0</th>\n",
       "      <td>0</td>\n",
       "      <td>2015-01-05</td>\n",
       "      <td>20.48</td>\n",
       "      <td>20.48</td>\n",
       "      <td>20.31</td>\n",
       "      <td>20.44</td>\n",
       "      <td>320790</td>\n",
       "    </tr>\n",
       "    <tr>\n",
       "      <th>1</th>\n",
       "      <td>1</td>\n",
       "      <td>2015-01-06</td>\n",
       "      <td>20.35</td>\n",
       "      <td>20.53</td>\n",
       "      <td>20.31</td>\n",
       "      <td>20.53</td>\n",
       "      <td>462360</td>\n",
       "    </tr>\n",
       "    <tr>\n",
       "      <th>2</th>\n",
       "      <td>2</td>\n",
       "      <td>2015-01-07</td>\n",
       "      <td>20.53</td>\n",
       "      <td>20.61</td>\n",
       "      <td>20.40</td>\n",
       "      <td>20.48</td>\n",
       "      <td>319600</td>\n",
       "    </tr>\n",
       "    <tr>\n",
       "      <th>3</th>\n",
       "      <td>3</td>\n",
       "      <td>2015-01-08</td>\n",
       "      <td>20.48</td>\n",
       "      <td>20.78</td>\n",
       "      <td>20.48</td>\n",
       "      <td>20.61</td>\n",
       "      <td>788420</td>\n",
       "    </tr>\n",
       "    <tr>\n",
       "      <th>4</th>\n",
       "      <td>4</td>\n",
       "      <td>2015-01-09</td>\n",
       "      <td>20.61</td>\n",
       "      <td>20.87</td>\n",
       "      <td>20.53</td>\n",
       "      <td>20.53</td>\n",
       "      <td>969330</td>\n",
       "    </tr>\n",
       "  </tbody>\n",
       "</table>\n",
       "</div>"
      ],
      "text/plain": [
       "   Unnamed: 0        time   open   high    low  close  volume\n",
       "0           0  2015-01-05  20.48  20.48  20.31  20.44  320790\n",
       "1           1  2015-01-06  20.35  20.53  20.31  20.53  462360\n",
       "2           2  2015-01-07  20.53  20.61  20.40  20.48  319600\n",
       "3           3  2015-01-08  20.48  20.78  20.48  20.61  788420\n",
       "4           4  2015-01-09  20.61  20.87  20.53  20.53  969330"
      ]
     },
     "execution_count": 2,
     "metadata": {},
     "output_type": "execute_result"
    }
   ],
   "source": [
    "# Đọc dữ liệu từ file CSV (có thể thay bằng file của bạn)\n",
    "data = pd.read_csv('D:\\DeTaiNam2024\\SoLieuHong\\VIC.csv')\n",
    "# Kiểm tra tiêu đề các cột\n",
    "data.head()"
   ]
  },
  {
   "cell_type": "code",
   "execution_count": 3,
   "metadata": {
    "executionInfo": {
     "elapsed": 14,
     "status": "ok",
     "timestamp": 1727061135115,
     "user": {
      "displayName": "Đặng Thị Kiêm Hồng",
      "userId": "05445281411830122382"
     },
     "user_tz": -420
    },
    "id": "m7h4q7mogUbv"
   },
   "outputs": [],
   "source": [
    " data = data[['close']]\n",
    " data.dropna(inplace=True)"
   ]
  },
  {
   "cell_type": "code",
   "execution_count": 4,
   "metadata": {
    "executionInfo": {
     "elapsed": 14,
     "status": "ok",
     "timestamp": 1727061135116,
     "user": {
      "displayName": "Đặng Thị Kiêm Hồng",
      "userId": "05445281411830122382"
     },
     "user_tz": -420
    },
    "id": "fvSkw8KPgZla"
   },
   "outputs": [],
   "source": [
    "# Chuẩn bị dữ liệu\n",
    "def prepare_data(data, time_steps=60):\n",
    "    scaler = MinMaxScaler(feature_range=(0, 1))\n",
    "    scaled_data = scaler.fit_transform(data)\n",
    "\n",
    "    X, y = [], []\n",
    "    for i in range(time_steps, len(scaled_data)):\n",
    "        X.append(scaled_data[i-time_steps:i, 0])\n",
    "        y.append(scaled_data[i, 0])\n",
    "    X, y = np.array(X), np.array(y)\n",
    "\n",
    "    # Reshape X để phù hợp với RNN [samples, time_steps, features]\n",
    "    X = np.reshape(X, (X.shape[0], X.shape[1], 1))\n",
    "    return X, y, scaler\n"
   ]
  },
  {
   "cell_type": "code",
   "execution_count": 5,
   "metadata": {
    "executionInfo": {
     "elapsed": 14,
     "status": "ok",
     "timestamp": 1727061135116,
     "user": {
      "displayName": "Đặng Thị Kiêm Hồng",
      "userId": "05445281411830122382"
     },
     "user_tz": -420
    },
    "id": "_aG2vk1vgivz"
   },
   "outputs": [],
   "source": [
    "X, y, scaler = prepare_data(data)"
   ]
  },
  {
   "cell_type": "code",
   "execution_count": 6,
   "metadata": {
    "executionInfo": {
     "elapsed": 13,
     "status": "ok",
     "timestamp": 1727061135116,
     "user": {
      "displayName": "Đặng Thị Kiêm Hồng",
      "userId": "05445281411830122382"
     },
     "user_tz": -420
    },
    "id": "vwn8lrfcgmkU"
   },
   "outputs": [],
   "source": [
    "class sLSTMCell(tf.keras.layers.Layer):\n",
    "    def __init__(self, units, **kwargs):\n",
    "        super(sLSTMCell, self).__init__(**kwargs)\n",
    "        self.units = units\n",
    "        self.state_size = [self.units, self.units]  # [hidden_state, normalizer_state]\n",
    "\n",
    "    def build(self, input_shape):\n",
    "        # Khởi tạo trọng số cho các cổng\n",
    "        self.W_f = self.add_weight(shape=(input_shape[-1], self.units),\n",
    "                                   initializer='glorot_uniform',\n",
    "                                   name='W_f')\n",
    "        self.U_f = self.add_weight(shape=(self.units, self.units),\n",
    "                                   initializer='orthogonal',\n",
    "                                   name='U_f')\n",
    "        self.b_f = self.add_weight(shape=(self.units,),\n",
    "                                   initializer='zeros',\n",
    "                                   name='b_f')\n",
    "\n",
    "        self.W_i = self.add_weight(shape=(input_shape[-1], self.units),\n",
    "                                   initializer='glorot_uniform',\n",
    "                                   name='W_i')\n",
    "        self.U_i = self.add_weight(shape=(self.units, self.units),\n",
    "                                   initializer='orthogonal',\n",
    "                                   name='U_i')\n",
    "        self.b_i = self.add_weight(shape=(self.units,),\n",
    "                                   initializer='zeros',\n",
    "                                   name='b_i')\n",
    "\n",
    "        self.W_c = self.add_weight(shape=(input_shape[-1], self.units),\n",
    "                                   initializer='glorot_uniform',\n",
    "                                   name='W_c')\n",
    "        self.U_c = self.add_weight(shape=(self.units, self.units),\n",
    "                                   initializer='orthogonal',\n",
    "                                   name='U_c')\n",
    "        self.b_c = self.add_weight(shape=(self.units,),\n",
    "                                   initializer='zeros',\n",
    "                                   name='b_c')\n",
    "\n",
    "        self.W_o = self.add_weight(shape=(input_shape[-1], self.units),\n",
    "                                   initializer='glorot_uniform',\n",
    "                                   name='W_o')\n",
    "        self.U_o = self.add_weight(shape=(self.units, self.units),\n",
    "                                   initializer='orthogonal',\n",
    "                                   name='U_o')\n",
    "        self.b_o = self.add_weight(shape=(self.units,),\n",
    "                                   initializer='zeros',\n",
    "                                   name='b_o')\n",
    "        super(sLSTMCell, self).build(input_shape)\n",
    "\n",
    "    def call(self, inputs, states):\n",
    "        h_prev, n_prev = states\n",
    "\n",
    "        # Forget gate: sử dụng sigmoid hoặc exp\n",
    "       # f = tf.keras.activations.sigmoid(tf.matmul(inputs, self.W_f) + tf.matmul(h_prev, self.U_f) + self.b_f)\n",
    "        f = tf.exp(tf.matmul(inputs, self.W_f) + tf.matmul(h_prev, self.U_f) + self.b_f)\n",
    "\n",
    "        # Input gate: sử dụng (sigmoid)^2 hoặc (exp)^2\n",
    "      #  i = tf.keras.activations.sigmoid(tf.matmul(inputs, self.W_i) + tf.matmul(h_prev, self.U_i) + self.b_i)\n",
    "       # i = tf.square(i)  # (σ(x))^2\n",
    "        i = tf.exp(tf.matmul(inputs, self.W_i) + tf.matmul(h_prev, self.U_i) + self.b_i)\n",
    "        # Candidate cell state\n",
    "        c_tilde = tf.keras.activations.tanh(tf.matmul(inputs, self.W_c) + tf.matmul(h_prev, self.U_c) + self.b_c)\n",
    "\n",
    "        # Cell state update\n",
    "        c = f * states[0] + i * c_tilde\n",
    "\n",
    "        # Normalizer state update\n",
    "        n = f * n_prev + i\n",
    "\n",
    "        # Output gate\n",
    "        o = tf.keras.activations.sigmoid(tf.matmul(inputs, self.W_o) + tf.matmul(h_prev, self.U_o) + self.b_o)\n",
    "\n",
    "        # Normalized hidden state\n",
    "        h_tilde = c * tf.math.reciprocal(n + 1e-7)  # thêm epsilon để tránh chia cho 0\n",
    "        h = o * h_tilde\n",
    "\n",
    "        return h, [h, n]\n",
    "\n",
    "class sLSTM(tf.keras.layers.Layer):\n",
    "    def __init__(self, units, **kwargs):\n",
    "        super(sLSTM, self).__init__(**kwargs)\n",
    "        self.units = units\n",
    "        self.cell = sLSTMCell(units)\n",
    "\n",
    "    def call(self, inputs):\n",
    "        return tf.keras.layers.RNN(self.cell, return_sequences=False, return_state=False)(inputs)\n",
    "\n",
    "    def get_config(self):\n",
    "        config = super(sLSTM, self).get_config()\n",
    "        config.update({'units': self.units})\n",
    "        return config\n"
   ]
  },
  {
   "cell_type": "code",
   "execution_count": 11,
   "metadata": {
    "colab": {
     "base_uri": "https://localhost:8080/",
     "height": 225
    },
    "executionInfo": {
     "elapsed": 813,
     "status": "ok",
     "timestamp": 1727062104765,
     "user": {
      "displayName": "Đặng Thị Kiêm Hồng",
      "userId": "05445281411830122382"
     },
     "user_tz": -420
    },
    "id": "vAsXYHMWgoYV",
    "outputId": "f68a8b3f-3a8b-4949-d128-4e6b844505ff"
   },
   "outputs": [
    {
     "name": "stdout",
     "output_type": "stream",
     "text": [
      "Model: \"model_2\"\n",
      "_________________________________________________________________\n",
      " Layer (type)                Output Shape              Param #   \n",
      "=================================================================\n",
      " input_3 (InputLayer)        [(None, 60, 1)]           0         \n",
      "                                                                 \n",
      " s_lstm_2 (sLSTM)            (None, 50)                10400     \n",
      "                                                                 \n",
      " dense_2 (Dense)             (None, 1)                 51        \n",
      "                                                                 \n",
      "=================================================================\n",
      "Total params: 10,451\n",
      "Trainable params: 10,451\n",
      "Non-trainable params: 0\n",
      "_________________________________________________________________\n"
     ]
    }
   ],
   "source": [
    "# Xây dựng mô hình\n",
    "def build_model(time_steps, units=50):\n",
    "    inputs = Input(shape=(time_steps, 1))\n",
    "    x = sLSTM(units)(inputs)\n",
    "    x = Dense(1)(x)\n",
    "    model = Model(inputs, x)\n",
    "    model.compile(optimizer=Adam(learning_rate=2e-02), loss='mean_squared_error')\n",
    "    return model\n",
    "# Khởi tạo mô hình\n",
    "model = build_model(time_steps=60, units=50)\n",
    "model.summary()\n"
   ]
  },
  {
   "cell_type": "code",
   "execution_count": 12,
   "metadata": {
    "colab": {
     "base_uri": "https://localhost:8080/"
    },
    "executionInfo": {
     "elapsed": 116210,
     "status": "ok",
     "timestamp": 1727062224871,
     "user": {
      "displayName": "Đặng Thị Kiêm Hồng",
      "userId": "05445281411830122382"
     },
     "user_tz": -420
    },
    "id": "RNAbWmH_guLn",
    "outputId": "368ac1da-8b46-490b-84e4-bb9eb3e3d1ce"
   },
   "outputs": [
    {
     "name": "stdout",
     "output_type": "stream",
     "text": [
      "Epoch 1/100\n",
      "63/63 [==============================] - 23s 93ms/step - loss: 0.0503 - val_loss: 3.3205e-04\n",
      "Epoch 2/100\n",
      "63/63 [==============================] - 4s 71ms/step - loss: 3.6526e-04 - val_loss: 2.5200e-04\n",
      "Epoch 3/100\n",
      "63/63 [==============================] - 4s 64ms/step - loss: 2.8736e-04 - val_loss: 2.2660e-04\n",
      "Epoch 4/100\n",
      "63/63 [==============================] - 4s 68ms/step - loss: 2.7093e-04 - val_loss: 2.0980e-04\n",
      "Epoch 5/100\n",
      "63/63 [==============================] - 4s 68ms/step - loss: 2.5416e-04 - val_loss: 1.9460e-04\n",
      "Epoch 6/100\n",
      "63/63 [==============================] - 4s 64ms/step - loss: 2.6822e-04 - val_loss: 1.7486e-04\n",
      "Epoch 7/100\n",
      "63/63 [==============================] - 5s 74ms/step - loss: 2.3103e-04 - val_loss: 1.9063e-04\n",
      "Epoch 8/100\n",
      "63/63 [==============================] - 4s 71ms/step - loss: 2.2672e-04 - val_loss: 1.3561e-04\n",
      "Epoch 9/100\n",
      "63/63 [==============================] - 4s 69ms/step - loss: 2.3179e-04 - val_loss: 1.3235e-04\n",
      "Epoch 10/100\n",
      "63/63 [==============================] - 5s 71ms/step - loss: 2.0509e-04 - val_loss: 1.3793e-04\n",
      "Epoch 11/100\n",
      "63/63 [==============================] - 4s 67ms/step - loss: 2.3856e-04 - val_loss: 2.9111e-04\n",
      "Epoch 12/100\n",
      "63/63 [==============================] - 4s 65ms/step - loss: 2.0788e-04 - val_loss: 1.1655e-04\n",
      "Epoch 13/100\n",
      "63/63 [==============================] - 5s 80ms/step - loss: 1.9621e-04 - val_loss: 1.1465e-04\n",
      "Epoch 14/100\n",
      "63/63 [==============================] - 4s 68ms/step - loss: 2.2204e-04 - val_loss: 2.5203e-04\n",
      "Epoch 15/100\n",
      "63/63 [==============================] - 5s 83ms/step - loss: 2.2307e-04 - val_loss: 1.0881e-04\n",
      "Epoch 16/100\n",
      "63/63 [==============================] - 5s 75ms/step - loss: 2.0917e-04 - val_loss: 1.0966e-04\n",
      "Epoch 17/100\n",
      "63/63 [==============================] - 5s 81ms/step - loss: 2.2099e-04 - val_loss: 1.3020e-04\n",
      "Epoch 18/100\n",
      "63/63 [==============================] - 7s 104ms/step - loss: 1.7614e-04 - val_loss: 1.3397e-04\n",
      "Epoch 19/100\n",
      "63/63 [==============================] - 5s 87ms/step - loss: 1.8672e-04 - val_loss: 1.0351e-04\n",
      "Epoch 20/100\n",
      "63/63 [==============================] - 5s 82ms/step - loss: 1.8458e-04 - val_loss: 1.0948e-04\n",
      "Epoch 21/100\n",
      "63/63 [==============================] - 5s 79ms/step - loss: 1.8094e-04 - val_loss: 1.1205e-04\n",
      "Epoch 22/100\n",
      "63/63 [==============================] - 4s 66ms/step - loss: 1.6627e-04 - val_loss: 1.0616e-04\n",
      "Epoch 23/100\n",
      "63/63 [==============================] - 5s 73ms/step - loss: 1.6638e-04 - val_loss: 1.0173e-04\n",
      "Epoch 24/100\n",
      "63/63 [==============================] - 5s 75ms/step - loss: 1.7495e-04 - val_loss: 1.0096e-04\n",
      "Epoch 25/100\n",
      "63/63 [==============================] - 5s 74ms/step - loss: 1.7317e-04 - val_loss: 9.5559e-05\n",
      "Epoch 26/100\n",
      "63/63 [==============================] - 5s 72ms/step - loss: 1.7264e-04 - val_loss: 9.8991e-05\n",
      "Epoch 27/100\n",
      "63/63 [==============================] - 5s 71ms/step - loss: 1.8807e-04 - val_loss: 1.8856e-04\n",
      "Epoch 28/100\n",
      "63/63 [==============================] - 4s 71ms/step - loss: 1.8427e-04 - val_loss: 9.3183e-05\n",
      "Epoch 29/100\n",
      "63/63 [==============================] - 5s 75ms/step - loss: 1.7322e-04 - val_loss: 9.4702e-05\n",
      "Epoch 30/100\n",
      "63/63 [==============================] - 5s 74ms/step - loss: 2.1117e-04 - val_loss: 1.2112e-04\n",
      "Epoch 31/100\n",
      "63/63 [==============================] - 4s 71ms/step - loss: 1.8462e-04 - val_loss: 9.3082e-05\n",
      "Epoch 32/100\n",
      "63/63 [==============================] - 4s 70ms/step - loss: 1.9726e-04 - val_loss: 9.2834e-05\n",
      "Epoch 33/100\n",
      "63/63 [==============================] - 5s 78ms/step - loss: 1.7794e-04 - val_loss: 1.0396e-04\n",
      "Epoch 34/100\n",
      "63/63 [==============================] - 5s 72ms/step - loss: 1.8575e-04 - val_loss: 1.1208e-04\n",
      "Epoch 35/100\n",
      "63/63 [==============================] - 5s 77ms/step - loss: 1.9155e-04 - val_loss: 9.6447e-05\n",
      "Epoch 36/100\n",
      "63/63 [==============================] - 5s 78ms/step - loss: 1.6764e-04 - val_loss: 1.0394e-04\n",
      "Epoch 37/100\n",
      "63/63 [==============================] - 5s 84ms/step - loss: 1.8201e-04 - val_loss: 9.4690e-05\n",
      "Epoch 38/100\n",
      "63/63 [==============================] - 4s 71ms/step - loss: 1.8241e-04 - val_loss: 1.5831e-04\n",
      "Epoch 39/100\n",
      "63/63 [==============================] - 5s 72ms/step - loss: 1.9006e-04 - val_loss: 9.1715e-05\n",
      "Epoch 40/100\n",
      "63/63 [==============================] - 6s 100ms/step - loss: 1.7225e-04 - val_loss: 1.9338e-04\n",
      "Epoch 41/100\n",
      "63/63 [==============================] - 7s 106ms/step - loss: 1.9169e-04 - val_loss: 1.1942e-04\n",
      "Epoch 42/100\n",
      "63/63 [==============================] - 4s 71ms/step - loss: 1.8337e-04 - val_loss: 1.2849e-04\n",
      "Epoch 43/100\n",
      "63/63 [==============================] - 4s 72ms/step - loss: 1.7237e-04 - val_loss: 9.5748e-05\n",
      "Epoch 44/100\n",
      "63/63 [==============================] - 4s 66ms/step - loss: 2.0123e-04 - val_loss: 9.5201e-05\n",
      "Epoch 45/100\n",
      "63/63 [==============================] - 4s 66ms/step - loss: 1.8590e-04 - val_loss: 1.3484e-04\n",
      "Epoch 46/100\n",
      "63/63 [==============================] - 4s 63ms/step - loss: 2.2336e-04 - val_loss: 1.3113e-04\n",
      "Epoch 47/100\n",
      "63/63 [==============================] - 4s 72ms/step - loss: 2.1564e-04 - val_loss: 9.6140e-05\n",
      "Epoch 48/100\n",
      "63/63 [==============================] - 4s 65ms/step - loss: 1.8167e-04 - val_loss: 9.6202e-05\n",
      "Epoch 49/100\n",
      "63/63 [==============================] - 4s 66ms/step - loss: 2.2797e-04 - val_loss: 1.2591e-04\n"
     ]
    }
   ],
   "source": [
    "\n",
    "train_size = int(len(X) * 0.85)\n",
    "X_train, X_test = X[:train_size], X[train_size:]\n",
    "y_train, y_test = y[:train_size], y[train_size:]\n",
    "\n",
    "# Xây dựng mô hình\n",
    "model = build_model(time_steps=60, units=50)\n",
    "\n",
    "# Huấn luyện mô hình\n",
    "early_stop = EarlyStopping(monitor='val_loss', patience=10, restore_best_weights=True)\n",
    "history = model.fit(X_train, y_train, epochs=100, batch_size=32,\n",
    "                    validation_data=(X_test, y_test),\n",
    "                    callbacks=[early_stop])\n"
   ]
  },
  {
   "cell_type": "code",
   "execution_count": 13,
   "metadata": {
    "colab": {
     "base_uri": "https://localhost:8080/",
     "height": 420
    },
    "executionInfo": {
     "elapsed": 2309,
     "status": "ok",
     "timestamp": 1727062245690,
     "user": {
      "displayName": "Đặng Thị Kiêm Hồng",
      "userId": "05445281411830122382"
     },
     "user_tz": -420
    },
    "id": "RVpvOaUwg0F_",
    "outputId": "4aba7979-a386-4f58-9385-ad534bdf37ff",
    "scrolled": true
   },
   "outputs": [
    {
     "name": "stdout",
     "output_type": "stream",
     "text": [
      "12/12 [==============================] - 2s 15ms/step\n",
      "Root Mean Squared Error (RMSE): 1.037071509816052\n",
      "Mean Squared Error (MSE): 1.0755173164721454\n"
     ]
    },
    {
     "data": {
      "image/png": "[encoded data removed]",
      "text/plain": [
       "<Figure size 1400x500 with 1 Axes>"
      ]
     },
     "metadata": {},
     "output_type": "display_data"
    }
   ],
   "source": [
    "\n",
    "# Dự đoán trên tập kiểm tra\n",
    "y_pred = model.predict(X_test)\n",
    "\n",
    "# Đảo chuẩn hóa để lấy giá trị thực\n",
    "y_pred_inv = scaler.inverse_transform(y_pred)\n",
    "y_test_inv = scaler.inverse_transform(y_test.reshape(-1, 1))\n",
    "\n",
    "# Tính toán RMSE\n",
    "from sklearn.metrics import mean_squared_error\n",
    "rmse = np.sqrt(mean_squared_error(y_test_inv, y_pred_inv))\n",
    "print(f'Root Mean Squared Error (RMSE): {rmse}')\n",
    "mse = mean_squared_error(y_test_inv, y_pred_inv)\n",
    "print(f'Mean Squared Error (MSE): {mse}')\n",
    "# Vẽ đồ thị so sánh giá thực và giá dự đoán\n",
    "plt.figure(figsize=(14, 5))\n",
    "plt.plot(y_test_inv, color='blue', label='Giá Thực')\n",
    "plt.plot(y_pred_inv, color='red', label='Giá Dự Đoán')\n",
    "plt.title('Dự Đoán Giá Cổ Phiếu VIC Sử Dụng sLSTM')\n",
    "plt.xlabel('Thời Gian')\n",
    "plt.ylabel('Giá Cổ Phiếu')\n",
    "plt.legend()\n",
    "plt.show()\n"
   ]
  },
  {
   "cell_type": "code",
   "execution_count": null,
   "metadata": {},
   "outputs": [],
   "source": []
  }
 ],
 "metadata": {
  "colab": {
   "authorship_tag": "ABX9TyNgL9C8Muvj+KiWethPbxGM",
   "provenance": []
  },
  "kernelspec": {
   "display_name": "Python 3 (ipykernel)",
   "language": "python",
   "name": "python3"
  },
  "language_info": {
   "codemirror_mode": {
    "name": "ipython",
    "version": 3
   },
   "file_extension": ".py",
   "mimetype": "text/x-python",
   "name": "python",
   "nbconvert_exporter": "python",
   "pygments_lexer": "ipython3",
   "version": "3.9.13"
  }
 },
 "nbformat": 4,
 "nbformat_minor": 1
}
