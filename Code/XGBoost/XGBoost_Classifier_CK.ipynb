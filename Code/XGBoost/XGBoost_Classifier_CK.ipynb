{
 "cells": [
  {
   "cell_type": "markdown",
   "metadata": {
    "id": "p_AmfjEH808l"
   },
   "source": [
    "**Học tăng cường XGBoost**"
   ]
  },
  {
   "cell_type": "markdown",
   "metadata": {
    "id": "A9yaEBAQ86Uy"
   },
   "source": [
    "1. Tải dữ liệu\n",
    "2. Sử dụng hàm XGBClassifier cho bài toán phân lớp và XGBRegressor cho bài toán hồi quy từ thư viện xgboost"
   ]
  },
  {
   "cell_type": "markdown",
   "metadata": {
    "id": "z6AW3-ig7dST"
   },
   "source": [
    "**VCB**"
   ]
  },
  {
   "cell_type": "code",
   "execution_count": 4,
   "metadata": {
    "colab": {
     "base_uri": "https://localhost:8080/",
     "height": 206
    },
    "executionInfo": {
     "elapsed": 670,
     "status": "ok",
     "timestamp": 1726725598229,
     "user": {
      "displayName": "Đặng Thị Kiêm Hồng",
      "userId": "05445281411830122382"
     },
     "user_tz": -420
    },
    "id": "9EDAg8C-7wEE",
    "outputId": "00ffb391-ab75-448b-ced7-e0a9b7e18134"
   },
   "outputs": [
    {
     "data": {
      "text/html": [
       "<div>\n",
       "<style scoped>\n",
       "    .dataframe tbody tr th:only-of-type {\n",
       "        vertical-align: middle;\n",
       "    }\n",
       "\n",
       "    .dataframe tbody tr th {\n",
       "        vertical-align: top;\n",
       "    }\n",
       "\n",
       "    .dataframe thead th {\n",
       "        text-align: right;\n",
       "    }\n",
       "</style>\n",
       "<table border=\"1\" class=\"dataframe\">\n",
       "  <thead>\n",
       "    <tr style=\"text-align: right;\">\n",
       "      <th></th>\n",
       "      <th>Unnamed: 0</th>\n",
       "      <th>time</th>\n",
       "      <th>open</th>\n",
       "      <th>high</th>\n",
       "      <th>low</th>\n",
       "      <th>close</th>\n",
       "      <th>volume</th>\n",
       "    </tr>\n",
       "  </thead>\n",
       "  <tbody>\n",
       "    <tr>\n",
       "      <th>0</th>\n",
       "      <td>0</td>\n",
       "      <td>2015-01-05</td>\n",
       "      <td>14.03</td>\n",
       "      <td>14.21</td>\n",
       "      <td>13.90</td>\n",
       "      <td>14.12</td>\n",
       "      <td>310010</td>\n",
       "    </tr>\n",
       "    <tr>\n",
       "      <th>1</th>\n",
       "      <td>1</td>\n",
       "      <td>2015-01-06</td>\n",
       "      <td>14.12</td>\n",
       "      <td>15.05</td>\n",
       "      <td>14.12</td>\n",
       "      <td>15.05</td>\n",
       "      <td>1684600</td>\n",
       "    </tr>\n",
       "    <tr>\n",
       "      <th>2</th>\n",
       "      <td>2</td>\n",
       "      <td>2015-01-07</td>\n",
       "      <td>15.09</td>\n",
       "      <td>15.31</td>\n",
       "      <td>14.65</td>\n",
       "      <td>14.87</td>\n",
       "      <td>1430340</td>\n",
       "    </tr>\n",
       "    <tr>\n",
       "      <th>3</th>\n",
       "      <td>3</td>\n",
       "      <td>2015-01-08</td>\n",
       "      <td>14.92</td>\n",
       "      <td>15.49</td>\n",
       "      <td>14.87</td>\n",
       "      <td>15.31</td>\n",
       "      <td>904240</td>\n",
       "    </tr>\n",
       "    <tr>\n",
       "      <th>4</th>\n",
       "      <td>4</td>\n",
       "      <td>2015-01-09</td>\n",
       "      <td>15.45</td>\n",
       "      <td>16.38</td>\n",
       "      <td>15.45</td>\n",
       "      <td>16.33</td>\n",
       "      <td>2286680</td>\n",
       "    </tr>\n",
       "  </tbody>\n",
       "</table>\n",
       "</div>"
      ],
      "text/plain": [
       "   Unnamed: 0        time   open   high    low  close   volume\n",
       "0           0  2015-01-05  14.03  14.21  13.90  14.12   310010\n",
       "1           1  2015-01-06  14.12  15.05  14.12  15.05  1684600\n",
       "2           2  2015-01-07  15.09  15.31  14.65  14.87  1430340\n",
       "3           3  2015-01-08  14.92  15.49  14.87  15.31   904240\n",
       "4           4  2015-01-09  15.45  16.38  15.45  16.33  2286680"
      ]
     },
     "execution_count": 4,
     "metadata": {},
     "output_type": "execute_result"
    }
   ],
   "source": [
    "import pandas as pd\n",
    "# Đọc dữ liệu từ file CSV (có thể thay bằng file của bạn)\n",
    "#df = pd.read_csv('VCB_hose.csv')\n",
    "file_path = r'D:\\DeTaiNam2024\\SolieuHong\\VCB.csv'\n",
    "df = pd.read_csv(file_path)\n",
    "# Kiểm tra tiêu đề các cột\n",
    "df.head()\n"
   ]
  },
  {
   "cell_type": "code",
   "execution_count": 16,
   "metadata": {
    "colab": {
     "base_uri": "https://localhost:8080/"
    },
    "executionInfo": {
     "elapsed": 451,
     "status": "ok",
     "timestamp": 1726725602013,
     "user": {
      "displayName": "Đặng Thị Kiêm Hồng",
      "userId": "05445281411830122382"
     },
     "user_tz": -420
    },
    "id": "vBEVaiUMTo2F",
    "outputId": "ed238e0b-c49a-4d22-aad5-3529a306ab3f"
   },
   "outputs": [
    {
     "name": "stdout",
     "output_type": "stream",
     "text": [
      "            time  close  Y\n",
      "1     2015-01-06  31.64  0\n",
      "2     2015-01-07  32.30  1\n",
      "3     2015-01-08  32.47  1\n",
      "4     2015-01-09  33.95  1\n",
      "5     2015-01-12  32.96  0\n",
      "...          ...    ... ..\n",
      "2421  2024-09-13  72.90  0\n",
      "2422  2024-09-16  71.90  0\n",
      "2423  2024-09-17  73.40  1\n",
      "2424  2024-09-18  73.30  0\n",
      "2425  2024-09-19  73.10  0\n",
      "\n",
      "[2425 rows x 3 columns]\n"
     ]
    }
   ],
   "source": [
    "# Sắp xếp theo ngày\n",
    "df = df.sort_values('time')\n",
    "\n",
    "# Tạo cột Y: nếu giá đóng cửa hôm nay thấp hơn hôm qua, Y=0, nếu ngược lại Y=1\n",
    "df['Y'] = (df['close'].diff() > 0).astype(int)\n",
    "\n",
    "# Hiển thị dữ liệu với cột Y\n",
    "print(df[['time', 'close', 'Y']])"
   ]
  },
  {
   "cell_type": "code",
   "execution_count": 5,
   "metadata": {},
   "outputs": [
    {
     "name": "stdout",
     "output_type": "stream",
     "text": [
      "Note: you may need to restart the kernel to use updated packages.\n"
     ]
    },
    {
     "name": "stderr",
     "output_type": "stream",
     "text": [
      "WARNING: Ignoring invalid distribution -rotobuf (c:\\users\\admin\\appdata\\roaming\\python\\python39\\site-packages)\n",
      "WARNING: Ignoring invalid distribution -ensorflow-intel (c:\\users\\admin\\appdata\\roaming\\python\\python39\\site-packages)\n",
      "WARNING: Ignoring invalid distribution -rotobuf (c:\\users\\admin\\appdata\\roaming\\python\\python39\\site-packages)\n",
      "WARNING: Ignoring invalid distribution -ensorflow-intel (c:\\users\\admin\\appdata\\roaming\\python\\python39\\site-packages)\n",
      "WARNING: Ignoring invalid distribution -rotobuf (c:\\users\\admin\\appdata\\roaming\\python\\python39\\site-packages)\n",
      "WARNING: Ignoring invalid distribution -ensorflow-intel (c:\\users\\admin\\appdata\\roaming\\python\\python39\\site-packages)\n",
      "WARNING: Ignoring invalid distribution -rotobuf (c:\\users\\admin\\appdata\\roaming\\python\\python39\\site-packages)\n",
      "WARNING: Ignoring invalid distribution -ensorflow-intel (c:\\users\\admin\\appdata\\roaming\\python\\python39\\site-packages)\n",
      "WARNING: Ignoring invalid distribution -rotobuf (c:\\users\\admin\\appdata\\roaming\\python\\python39\\site-packages)\n",
      "WARNING: Ignoring invalid distribution -ensorflow-intel (c:\\users\\admin\\appdata\\roaming\\python\\python39\\site-packages)\n",
      "WARNING: Ignoring invalid distribution -rotobuf (c:\\users\\admin\\appdata\\roaming\\python\\python39\\site-packages)\n",
      "WARNING: Ignoring invalid distribution -ensorflow-intel (c:\\users\\admin\\appdata\\roaming\\python\\python39\\site-packages)\n"
     ]
    },
    {
     "name": "stdout",
     "output_type": "stream",
     "text": [
      "Defaulting to user installation because normal site-packages is not writeable\n",
      "Requirement already satisfied: xgboost in c:\\users\\admin\\appdata\\roaming\\python\\python39\\site-packages (2.1.1)\n",
      "Requirement already satisfied: scipy in c:\\programdata\\anaconda3\\lib\\site-packages (from xgboost) (1.9.1)\n",
      "Requirement already satisfied: numpy in c:\\users\\admin\\appdata\\roaming\\python\\python39\\site-packages (from xgboost) (1.24.4)\n"
     ]
    }
   ],
   "source": [
    "pip install xgboost"
   ]
  },
  {
   "cell_type": "code",
   "execution_count": 18,
   "metadata": {
    "colab": {
     "base_uri": "https://localhost:8080/"
    },
    "executionInfo": {
     "elapsed": 616,
     "status": "ok",
     "timestamp": 1726725605666,
     "user": {
      "displayName": "Đặng Thị Kiêm Hồng",
      "userId": "05445281411830122382"
     },
     "user_tz": -420
    },
    "id": "DccV_4H6LmpO",
    "outputId": "c6af5f19-1182-4fa0-bdeb-81f013d00853"
   },
   "outputs": [
    {
     "name": "stdout",
     "output_type": "stream",
     "text": [
      "Thời gian huấn luyện mô hình phân loại: 0.3279 giây\n",
      "Thời gian huấn luyện mô hình phân loại: 0.0216 giây\n",
      "Accuracy: 0.80\n",
      "              precision    recall  f1-score   support\n",
      "\n",
      "           0       0.80      0.88      0.84       422\n",
      "           1       0.81      0.69      0.74       305\n",
      "\n",
      "    accuracy                           0.80       727\n",
      "   macro avg       0.80      0.79      0.79       727\n",
      "weighted avg       0.80      0.80      0.80       727\n",
      "\n"
     ]
    }
   ],
   "source": [
    "from sklearn.model_selection import train_test_split\n",
    "from sklearn.metrics import accuracy_score, classification_report\n",
    "import time\n",
    "import xgboost as xgb\n",
    "\n",
    "# Tạo các đặc trưng (ở đây ta chỉ sử dụng giá hôm trước và khối lượng giao dịch)\n",
    "df['Close_lag1'] = df['close'].shift(1)\n",
    "df['Volume_lag1'] = df['volume'].shift(1)\n",
    "\n",
    "# Loại bỏ các hàng chứa giá trị NaN\n",
    "df.dropna(inplace=True)\n",
    "\n",
    "# Chọn các đặc trưng (X) và mục tiêu (Y)\n",
    "X = df[['open', 'close', 'high', 'volume','Close_lag1', 'Volume_lag1']]\n",
    "Y = df['Y']\n",
    "\n",
    "\n",
    "# Chia dữ liệu thành tập huấn luyện và tập kiểm tra\n",
    "X_train, X_test, Y_train, Y_test = train_test_split(X, Y, test_size=0.3, random_state=42)\n",
    "# Bắt đầu tính thời gian huấn luyện\n",
    "start_time = time.time()\n",
    "# Tạo mô hình XGBoost cho bài toán phân loại\n",
    "model = xgb.XGBClassifier(n_estimators=100, learning_rate=0.05, eval_metric='logloss')\n",
    "\n",
    "# Huấn luyện mô hình trên tập huấn luyện\n",
    "model.fit(X_train, Y_train)\n",
    "# Kết thúc tính thời gian huấn luyện\n",
    "train_time_cls = time.time() - start_time\n",
    "print(f'Thời gian huấn luyện mô hình phân loại: {train_time_cls:.4f} giây')\n",
    "\n",
    "# Bắt đầu tính thời gian dự đoán\n",
    "start_time = time.time()\n",
    "\n",
    "# Dự đoán trên tập kiểm tra\n",
    "Y_pred = model.predict(X_test)\n",
    "# Kết thúc tính thời gian huấn luyện\n",
    "train_time_cls = time.time() - start_time\n",
    "print(f'Thời gian huấn luyện mô hình phân loại: {train_time_cls:.4f} giây')\n",
    "\n",
    "# Bắt đầu tính thời gian dự đoán\n",
    "start_time = time.time()\n",
    "\n",
    "# Đánh giá mô hình\n",
    "accuracy = accuracy_score(Y_test, Y_pred)\n",
    "print(f'Accuracy: {accuracy:.2f}')\n",
    "\n",
    "# Báo cáo chi tiết kết quả dự đoán\n",
    "print(classification_report(Y_test, Y_pred))\n"
   ]
  },
  {
   "cell_type": "markdown",
   "metadata": {},
   "source": [
    "HNX"
   ]
  },
  {
   "cell_type": "code",
   "execution_count": 7,
   "metadata": {
    "colab": {
     "base_uri": "https://localhost:8080/"
    },
    "executionInfo": {
     "elapsed": 505,
     "status": "ok",
     "timestamp": 1726724987396,
     "user": {
      "displayName": "Đặng Thị Kiêm Hồng",
      "userId": "05445281411830122382"
     },
     "user_tz": -420
    },
    "id": "7bn5zNks9voV",
    "outputId": "a470f614-b649-48dc-95ec-212a88134969"
   },
   "outputs": [
    {
     "name": "stdout",
     "output_type": "stream",
     "text": [
      "           time   close  Y\n",
      "276   1/10/2018  214.26  0\n",
      "525   1/10/2019  192.42  0\n",
      "777   1/10/2020  251.11  1\n",
      "1027  1/10/2021  570.49  1\n",
      "48    1/11/2017  193.87  0\n",
      "...         ...     ... ..\n",
      "1490   9/8/2023  492.69  0\n",
      "509    9/9/2019  183.42  0\n",
      "761    9/9/2020  232.80  1\n",
      "1011   9/9/2021  589.51  1\n",
      "1261   9/9/2022  511.66  0\n",
      "\n",
      "[1706 rows x 3 columns]\n",
      "Accuracy: 0.78\n",
      "              precision    recall  f1-score   support\n",
      "\n",
      "           0       0.82      0.68      0.74       163\n",
      "           1       0.75      0.87      0.80       178\n",
      "\n",
      "    accuracy                           0.78       341\n",
      "   macro avg       0.78      0.77      0.77       341\n",
      "weighted avg       0.78      0.78      0.77       341\n",
      "\n"
     ]
    }
   ],
   "source": [
    "import pandas as pd\n",
    "# Đọc dữ liệu từ file CSV (có thể thay bằng file của bạn)\n",
    "file_path = r'D:\\DeTaiNam2024\\SolieuHong\\HNX.csv'\n",
    "df = pd.read_csv(file_path)\n",
    "# Kiểm tra tiêu đề các cột\n",
    "df.head()\n",
    "# Sắp xếp theo ngày\n",
    "df = df.sort_values('time')\n",
    "\n",
    "# Tạo cột Y: nếu giá đóng cửa hôm nay thấp hơn hôm qua, Y=0, nếu ngược lại Y=1\n",
    "df['Y'] = (df['close'].diff() > 0).astype(int)\n",
    "\n",
    "# Hiển thị dữ liệu với cột Y\n",
    "print(df[['time', 'close', 'Y']])\n",
    "\n",
    "from sklearn.model_selection import train_test_split\n",
    "from sklearn.metrics import accuracy_score, classification_report\n",
    "import time\n",
    "import xgboost as xgb\n",
    "\n",
    "# Tạo các đặc trưng (ở đây ta chỉ sử dụng giá hôm trước và khối lượng giao dịch)\n",
    "# Shift dữ liệu Close để lấy giá của ngày trước làm đặc trưng\n",
    "df['Close_lag1'] = df['close'].shift(1)\n",
    "df['Volume_lag1'] = df['volume'].shift(1)\n",
    "\n",
    "# Loại bỏ các hàng chứa giá trị NaN\n",
    "df.dropna(inplace=True)\n",
    "\n",
    "# Chọn các đặc trưng (X) và mục tiêu (Y)\n",
    "X = df[['Close_lag1', 'Volume_lag1']]\n",
    "Y = df['Y']\n",
    "\n",
    "# Chia dữ liệu thành tập huấn luyện và tập kiểm tra\n",
    "X_train, X_test, Y_train, Y_test = train_test_split(X, Y, test_size=0.2, random_state=42)\n",
    "\n",
    "# Tạo mô hình XGBoost cho bài toán phân loại\n",
    "model = xgb.XGBClassifier(n_estimators=100, learning_rate=0.05, eval_metric='logloss')\n",
    "\n",
    "\n",
    "# Huấn luyện mô hình trên tập huấn luyện\n",
    "model.fit(X_train, Y_train)\n",
    "\n",
    "# Dự đoán trên tập kiểm tra\n",
    "Y_pred = model.predict(X_test)\n",
    "\n",
    "# Đánh giá mô hình\n",
    "accuracy = accuracy_score(Y_test, Y_pred)\n",
    "print(f'Accuracy: {accuracy:.2f}')\n",
    "\n",
    "# Báo cáo chi tiết kết quả dự đoán\n",
    "print(classification_report(Y_test, Y_pred))\n"
   ]
  },
  {
   "cell_type": "code",
   "execution_count": null,
   "metadata": {},
   "outputs": [],
   "source": [
    "VCB LÂU ĐỜI"
   ]
  },
  {
   "cell_type": "code",
   "execution_count": 8,
   "metadata": {},
   "outputs": [
    {
     "data": {
      "text/html": [
       "<div>\n",
       "<style scoped>\n",
       "    .dataframe tbody tr th:only-of-type {\n",
       "        vertical-align: middle;\n",
       "    }\n",
       "\n",
       "    .dataframe tbody tr th {\n",
       "        vertical-align: top;\n",
       "    }\n",
       "\n",
       "    .dataframe thead th {\n",
       "        text-align: right;\n",
       "    }\n",
       "</style>\n",
       "<table border=\"1\" class=\"dataframe\">\n",
       "  <thead>\n",
       "    <tr style=\"text-align: right;\">\n",
       "      <th></th>\n",
       "      <th>time</th>\n",
       "      <th>&lt;Ticker&gt;</th>\n",
       "      <th>&lt;DTYYYYMMDD&gt;</th>\n",
       "      <th>&lt;Open&gt;</th>\n",
       "      <th>&lt;High&gt;</th>\n",
       "      <th>&lt;Low&gt;</th>\n",
       "      <th>&lt;Close&gt;</th>\n",
       "      <th>&lt;Volume&gt;</th>\n",
       "    </tr>\n",
       "  </thead>\n",
       "  <tbody>\n",
       "    <tr>\n",
       "      <th>0</th>\n",
       "      <td>0</td>\n",
       "      <td>VCB</td>\n",
       "      <td>20090630</td>\n",
       "      <td>16.2426</td>\n",
       "      <td>16.2426</td>\n",
       "      <td>16.2426</td>\n",
       "      <td>16.2426</td>\n",
       "      <td>294070</td>\n",
       "    </tr>\n",
       "    <tr>\n",
       "      <th>1</th>\n",
       "      <td>1</td>\n",
       "      <td>VCB</td>\n",
       "      <td>20090701</td>\n",
       "      <td>16.2426</td>\n",
       "      <td>17.0547</td>\n",
       "      <td>16.1072</td>\n",
       "      <td>16.3779</td>\n",
       "      <td>6248390</td>\n",
       "    </tr>\n",
       "    <tr>\n",
       "      <th>2</th>\n",
       "      <td>2</td>\n",
       "      <td>VCB</td>\n",
       "      <td>20090702</td>\n",
       "      <td>16.3779</td>\n",
       "      <td>16.3779</td>\n",
       "      <td>15.5658</td>\n",
       "      <td>15.7011</td>\n",
       "      <td>1515670</td>\n",
       "    </tr>\n",
       "    <tr>\n",
       "      <th>3</th>\n",
       "      <td>3</td>\n",
       "      <td>VCB</td>\n",
       "      <td>20090703</td>\n",
       "      <td>15.7011</td>\n",
       "      <td>15.7011</td>\n",
       "      <td>15.1597</td>\n",
       "      <td>15.1597</td>\n",
       "      <td>899720</td>\n",
       "    </tr>\n",
       "    <tr>\n",
       "      <th>4</th>\n",
       "      <td>4</td>\n",
       "      <td>VCB</td>\n",
       "      <td>20090706</td>\n",
       "      <td>15.1597</td>\n",
       "      <td>15.8365</td>\n",
       "      <td>15.1597</td>\n",
       "      <td>15.8365</td>\n",
       "      <td>1571740</td>\n",
       "    </tr>\n",
       "  </tbody>\n",
       "</table>\n",
       "</div>"
      ],
      "text/plain": [
       "   time <Ticker>  <DTYYYYMMDD>   <Open>   <High>    <Low>  <Close>  <Volume>\n",
       "0     0      VCB      20090630  16.2426  16.2426  16.2426  16.2426    294070\n",
       "1     1      VCB      20090701  16.2426  17.0547  16.1072  16.3779   6248390\n",
       "2     2      VCB      20090702  16.3779  16.3779  15.5658  15.7011   1515670\n",
       "3     3      VCB      20090703  15.7011  15.7011  15.1597  15.1597    899720\n",
       "4     4      VCB      20090706  15.1597  15.8365  15.1597  15.8365   1571740"
      ]
     },
     "execution_count": 8,
     "metadata": {},
     "output_type": "execute_result"
    }
   ],
   "source": [
    "import pandas as pd\n",
    "# Đọc dữ liệu từ file CSV (có thể thay bằng file của bạn)\n",
    "file_path = r'D:\\DeTaiNam2024\\Solieu\\CK_laudoi\\excel_vcb.csv'\n",
    "df = pd.read_csv(file_path)\n",
    "# Kiểm tra tiêu đề các cột\n",
    "df.head()\n"
   ]
  },
  {
   "cell_type": "code",
   "execution_count": 9,
   "metadata": {},
   "outputs": [
    {
     "name": "stdout",
     "output_type": "stream",
     "text": [
      "      time  <Close>  Y\n",
      "0        0  16.2426  0\n",
      "1        1  16.3779  1\n",
      "2        2  15.7011  0\n",
      "3        3  15.1597  0\n",
      "4        4  15.8365  1\n",
      "...    ...      ... ..\n",
      "3459  3459  91.7000  0\n",
      "3460  3460  92.6000  1\n",
      "3461  3461  92.8000  1\n",
      "3462  3462  95.0000  1\n",
      "3463  3463  93.0000  0\n",
      "\n",
      "[3464 rows x 3 columns]\n"
     ]
    }
   ],
   "source": [
    "# Sắp xếp theo ngày\n",
    "df = df.sort_values('time')\n",
    "\n",
    "# Tạo cột Y: nếu giá đóng cửa hôm nay thấp hơn hôm qua, Y=0, nếu ngược lại Y=1\n",
    "df['Y'] = (df['<Close>'].diff() > 0).astype(int)\n",
    "\n",
    "# Hiển thị dữ liệu với cột Y\n",
    "print(df[['time', '<Close>', 'Y']])"
   ]
  },
  {
   "cell_type": "code",
   "execution_count": 10,
   "metadata": {},
   "outputs": [
    {
     "name": "stdout",
     "output_type": "stream",
     "text": [
      "Accuracy: 0.52\n",
      "              precision    recall  f1-score   support\n",
      "\n",
      "           0       0.56      0.72      0.63       388\n",
      "           1       0.43      0.27      0.33       305\n",
      "\n",
      "    accuracy                           0.52       693\n",
      "   macro avg       0.49      0.49      0.48       693\n",
      "weighted avg       0.50      0.52      0.50       693\n",
      "\n"
     ]
    }
   ],
   "source": [
    "\n",
    "\n",
    "# Tạo các đặc trưng (ở đây ta chỉ sử dụng giá hôm trước và khối lượng giao dịch)\n",
    "# Shift dữ liệu Close để lấy giá của ngày trước làm đặc trưng\n",
    "df['Close_lag1'] = df['<Close>'].shift(1)\n",
    "df['Volume_lag1'] = df['<Volume>'].shift(1)\n",
    "\n",
    "# Loại bỏ các hàng chứa giá trị NaN\n",
    "df.dropna(inplace=True)\n",
    "\n",
    "# Chọn các đặc trưng (X) và mục tiêu (Y)\n",
    "X = df[['Close_lag1', 'Volume_lag1']]\n",
    "Y = df['Y']\n",
    "\n",
    "# Chia dữ liệu thành tập huấn luyện và tập kiểm tra\n",
    "X_train, X_test, Y_train, Y_test = train_test_split(X, Y, test_size=0.2, random_state=42)\n",
    "\n",
    "# Tạo mô hình XGBoost cho bài toán phân loại\n",
    "model = xgb.XGBClassifier(n_estimators=100, learning_rate=0.05, eval_metric='logloss')\n",
    "\n",
    "\n",
    "# Huấn luyện mô hình trên tập huấn luyện\n",
    "model.fit(X_train, Y_train)\n",
    "\n",
    "# Dự đoán trên tập kiểm tra\n",
    "Y_pred = model.predict(X_test)\n",
    "\n",
    "# Đánh giá mô hình\n",
    "accuracy = accuracy_score(Y_test, Y_pred)\n",
    "print(f'Accuracy: {accuracy:.2f}')\n",
    "\n",
    "# Báo cáo chi tiết kết quả dự đoán\n",
    "print(classification_report(Y_test, Y_pred))\n"
   ]
  },
  {
   "cell_type": "markdown",
   "metadata": {},
   "source": [
    "**CHẠY TẤT CẢ**"
   ]
  },
  {
   "cell_type": "code",
   "execution_count": 2,
   "metadata": {},
   "outputs": [],
   "source": [
    "import os\n",
    "from sklearn.model_selection import train_test_split\n",
    "import pandas as pd\n",
    "import time\n",
    "import xgboost as xgb\n",
    "from sklearn.preprocessing import StandardScaler\n",
    "from sklearn.metrics import accuracy_score, classification_report,precision_score, recall_score, f1_score"
   ]
  },
  {
   "cell_type": "code",
   "execution_count": 11,
   "metadata": {},
   "outputs": [
    {
     "name": "stderr",
     "output_type": "stream",
     "text": [
      "C:\\Users\\Admin\\AppData\\Roaming\\Python\\Python39\\site-packages\\sklearn\\metrics\\_classification.py:1469: UndefinedMetricWarning: Precision is ill-defined and being set to 0.0 in labels with no predicted samples. Use `zero_division` parameter to control this behavior.\n",
      "  _warn_prf(average, modifier, msg_start, len(result))\n",
      "C:\\Users\\Admin\\AppData\\Roaming\\Python\\Python39\\site-packages\\sklearn\\metrics\\_classification.py:1469: UndefinedMetricWarning: Precision is ill-defined and being set to 0.0 in labels with no predicted samples. Use `zero_division` parameter to control this behavior.\n",
      "  _warn_prf(average, modifier, msg_start, len(result))\n",
      "C:\\Users\\Admin\\AppData\\Roaming\\Python\\Python39\\site-packages\\sklearn\\metrics\\_classification.py:1469: UndefinedMetricWarning: Precision is ill-defined and being set to 0.0 in labels with no predicted samples. Use `zero_division` parameter to control this behavior.\n",
      "  _warn_prf(average, modifier, msg_start, len(result))\n",
      "C:\\Users\\Admin\\AppData\\Roaming\\Python\\Python39\\site-packages\\sklearn\\metrics\\_classification.py:1469: UndefinedMetricWarning: Precision is ill-defined and being set to 0.0 in labels with no predicted samples. Use `zero_division` parameter to control this behavior.\n",
      "  _warn_prf(average, modifier, msg_start, len(result))\n",
      "C:\\Users\\Admin\\AppData\\Roaming\\Python\\Python39\\site-packages\\sklearn\\metrics\\_classification.py:1469: UndefinedMetricWarning: Precision is ill-defined and being set to 0.0 in labels with no predicted samples. Use `zero_division` parameter to control this behavior.\n",
      "  _warn_prf(average, modifier, msg_start, len(result))\n",
      "C:\\Users\\Admin\\AppData\\Roaming\\Python\\Python39\\site-packages\\sklearn\\metrics\\_classification.py:1469: UndefinedMetricWarning: Precision is ill-defined and being set to 0.0 in labels with no predicted samples. Use `zero_division` parameter to control this behavior.\n",
      "  _warn_prf(average, modifier, msg_start, len(result))\n",
      "C:\\Users\\Admin\\AppData\\Roaming\\Python\\Python39\\site-packages\\sklearn\\metrics\\_classification.py:1469: UndefinedMetricWarning: Precision is ill-defined and being set to 0.0 in labels with no predicted samples. Use `zero_division` parameter to control this behavior.\n",
      "  _warn_prf(average, modifier, msg_start, len(result))\n",
      "C:\\Users\\Admin\\AppData\\Roaming\\Python\\Python39\\site-packages\\sklearn\\metrics\\_classification.py:1469: UndefinedMetricWarning: Precision is ill-defined and being set to 0.0 in labels with no predicted samples. Use `zero_division` parameter to control this behavior.\n",
      "  _warn_prf(average, modifier, msg_start, len(result))\n",
      "C:\\Users\\Admin\\AppData\\Roaming\\Python\\Python39\\site-packages\\sklearn\\metrics\\_classification.py:1469: UndefinedMetricWarning: Precision is ill-defined and being set to 0.0 in labels with no predicted samples. Use `zero_division` parameter to control this behavior.\n",
      "  _warn_prf(average, modifier, msg_start, len(result))\n",
      "C:\\Users\\Admin\\AppData\\Roaming\\Python\\Python39\\site-packages\\sklearn\\metrics\\_classification.py:1469: UndefinedMetricWarning: Precision is ill-defined and being set to 0.0 in labels with no predicted samples. Use `zero_division` parameter to control this behavior.\n",
      "  _warn_prf(average, modifier, msg_start, len(result))\n",
      "C:\\Users\\Admin\\AppData\\Roaming\\Python\\Python39\\site-packages\\sklearn\\metrics\\_classification.py:1469: UndefinedMetricWarning: Precision is ill-defined and being set to 0.0 in labels with no predicted samples. Use `zero_division` parameter to control this behavior.\n",
      "  _warn_prf(average, modifier, msg_start, len(result))\n"
     ]
    }
   ],
   "source": [
    "# Đường dẫn đến thư mục chứa các file CSV\n",
    "folder_path = r'D:\\DeTaiNam2024\\SoLieu\\CK_HNX_VNSTOCK'\n",
    "\n",
    "# Lấy danh sách tất cả các file CSV trong thư mục\n",
    "file_list = [f for f in os.listdir(folder_path) if f.endswith('.csv')]\n",
    "results=[]\n",
    "# Vòng lặp qua từng file CSV\n",
    "for file_name in file_list:\n",
    "    # Đọc dữ liệu từ file CSV\n",
    "    file_path = os.path.join(folder_path, file_name)\n",
    "    df = pd.read_csv(file_path)\n",
    "    \n",
    "    # Sắp xếp theo ngày\n",
    "    df = df.sort_values('time')\n",
    "\n",
    "    # Tạo cột Y: nếu giá đóng cửa hôm nay thấp hơn hôm qua, Y=0, nếu ngược lại Y=1\n",
    "    df['Y'] = (df['close'].diff() > 0).astype(int)\n",
    "\n",
    "    # Shift dữ liệu Close để lấy giá của ngày trước làm đặc trưng\n",
    "    df['Close_lag1'] = df['close'].shift(1)\n",
    "    df['Volume_lag1'] = df['volume'].shift(1)\n",
    "\n",
    "    # Loại bỏ các hàng chứa giá trị NaN\n",
    "    df.dropna(inplace=True)\n",
    "\n",
    "    # Chọn các đặc trưng (X) và mục tiêu (Y)\n",
    "    X = df[['Close_lag1', 'Volume_lag1']]\n",
    "    Y = df['Y']\n",
    "    \n",
    "    # Chia dữ liệu thành tập huấn luyện và kiểm tra\n",
    "    X_train, X_test, y_train, y_test = train_test_split(X, Y, test_size=0.2, random_state=42)\n",
    "    \n",
    "    # Tạo mô hình XGBoost cho bài toán phân loại\n",
    "    model = xgb.XGBClassifier(n_estimators=100, learning_rate=0.001, eval_metric='logloss')\n",
    "    # Huấn luyện mô hình\n",
    "    model.fit(X_train, y_train)\n",
    "    \n",
    "    # Dự đoán trên tập kiểm tra\n",
    "    y_pred = model.predict(X_test)\n",
    "    \n",
    "    # Tính độ chính xác\n",
    "    accuracy = accuracy_score(y_test, y_pred)\n",
    "    precision = precision_score(y_test, y_pred, average='weighted')\n",
    "    recall = recall_score(y_test, y_pred, average='weighted')\n",
    "    f1 = f1_score(y_test, y_pred, average='weighted')\n",
    "    \n",
    "      # Lưu kết quả vào danh sách\n",
    "    results.append({\n",
    "        'file': file_name,\n",
    "        'accuracy': accuracy,\n",
    "        'precision': precision,\n",
    "        'recall': recall,\n",
    "        'f1_score': f1\n",
    "    })\n",
    "# Ghi kết quả ra file CSV\n",
    "results_df = pd.DataFrame(results)\n",
    "results_df.to_csv(r'D:\\DeTaiNam2024\\SoLieu\\CK_HNX_VNSTOCK\\output\\XGBoost_Calssification_results2.csv', index=False)"
   ]
  },
  {
   "cell_type": "code",
   "execution_count": null,
   "metadata": {},
   "outputs": [],
   "source": [
    "**DÙNG Adaboost**"
   ]
  },
  {
   "cell_type": "code",
   "execution_count": 12,
   "metadata": {},
   "outputs": [],
   "source": [
    "import pandas as pd\n",
    "import numpy as np\n",
    "from sklearn.model_selection import train_test_split\n",
    "from sklearn.metrics import accuracy_score, confusion_matrix\n",
    "from sklearn.ensemble import AdaBoostClassifier\n",
    "from sklearn.tree import DecisionTreeClassifier\n",
    "import matplotlib.pyplot as plt\n"
   ]
  },
  {
   "cell_type": "code",
   "execution_count": 15,
   "metadata": {},
   "outputs": [
    {
     "name": "stderr",
     "output_type": "stream",
     "text": [
      "C:\\Users\\Admin\\AppData\\Roaming\\Python\\Python39\\site-packages\\sklearn\\ensemble\\_base.py:156: FutureWarning: `base_estimator` was renamed to `estimator` in version 1.2 and will be removed in 1.4.\n",
      "  warnings.warn(\n",
      "C:\\Users\\Admin\\AppData\\Roaming\\Python\\Python39\\site-packages\\sklearn\\ensemble\\_base.py:156: FutureWarning: `base_estimator` was renamed to `estimator` in version 1.2 and will be removed in 1.4.\n",
      "  warnings.warn(\n",
      "C:\\Users\\Admin\\AppData\\Roaming\\Python\\Python39\\site-packages\\sklearn\\ensemble\\_base.py:156: FutureWarning: `base_estimator` was renamed to `estimator` in version 1.2 and will be removed in 1.4.\n",
      "  warnings.warn(\n",
      "C:\\Users\\Admin\\AppData\\Roaming\\Python\\Python39\\site-packages\\sklearn\\ensemble\\_base.py:156: FutureWarning: `base_estimator` was renamed to `estimator` in version 1.2 and will be removed in 1.4.\n",
      "  warnings.warn(\n",
      "C:\\Users\\Admin\\AppData\\Roaming\\Python\\Python39\\site-packages\\sklearn\\ensemble\\_base.py:156: FutureWarning: `base_estimator` was renamed to `estimator` in version 1.2 and will be removed in 1.4.\n",
      "  warnings.warn(\n",
      "C:\\Users\\Admin\\AppData\\Roaming\\Python\\Python39\\site-packages\\sklearn\\ensemble\\_base.py:156: FutureWarning: `base_estimator` was renamed to `estimator` in version 1.2 and will be removed in 1.4.\n",
      "  warnings.warn(\n",
      "C:\\Users\\Admin\\AppData\\Roaming\\Python\\Python39\\site-packages\\sklearn\\ensemble\\_base.py:156: FutureWarning: `base_estimator` was renamed to `estimator` in version 1.2 and will be removed in 1.4.\n",
      "  warnings.warn(\n",
      "C:\\Users\\Admin\\AppData\\Roaming\\Python\\Python39\\site-packages\\sklearn\\ensemble\\_base.py:156: FutureWarning: `base_estimator` was renamed to `estimator` in version 1.2 and will be removed in 1.4.\n",
      "  warnings.warn(\n",
      "C:\\Users\\Admin\\AppData\\Roaming\\Python\\Python39\\site-packages\\sklearn\\ensemble\\_base.py:156: FutureWarning: `base_estimator` was renamed to `estimator` in version 1.2 and will be removed in 1.4.\n",
      "  warnings.warn(\n",
      "C:\\Users\\Admin\\AppData\\Roaming\\Python\\Python39\\site-packages\\sklearn\\ensemble\\_base.py:156: FutureWarning: `base_estimator` was renamed to `estimator` in version 1.2 and will be removed in 1.4.\n",
      "  warnings.warn(\n",
      "C:\\Users\\Admin\\AppData\\Roaming\\Python\\Python39\\site-packages\\sklearn\\ensemble\\_base.py:156: FutureWarning: `base_estimator` was renamed to `estimator` in version 1.2 and will be removed in 1.4.\n",
      "  warnings.warn(\n",
      "C:\\Users\\Admin\\AppData\\Roaming\\Python\\Python39\\site-packages\\sklearn\\ensemble\\_base.py:156: FutureWarning: `base_estimator` was renamed to `estimator` in version 1.2 and will be removed in 1.4.\n",
      "  warnings.warn(\n",
      "C:\\Users\\Admin\\AppData\\Roaming\\Python\\Python39\\site-packages\\sklearn\\ensemble\\_base.py:156: FutureWarning: `base_estimator` was renamed to `estimator` in version 1.2 and will be removed in 1.4.\n",
      "  warnings.warn(\n",
      "C:\\Users\\Admin\\AppData\\Roaming\\Python\\Python39\\site-packages\\sklearn\\ensemble\\_base.py:156: FutureWarning: `base_estimator` was renamed to `estimator` in version 1.2 and will be removed in 1.4.\n",
      "  warnings.warn(\n",
      "C:\\Users\\Admin\\AppData\\Roaming\\Python\\Python39\\site-packages\\sklearn\\ensemble\\_base.py:156: FutureWarning: `base_estimator` was renamed to `estimator` in version 1.2 and will be removed in 1.4.\n",
      "  warnings.warn(\n",
      "C:\\Users\\Admin\\AppData\\Roaming\\Python\\Python39\\site-packages\\sklearn\\ensemble\\_base.py:156: FutureWarning: `base_estimator` was renamed to `estimator` in version 1.2 and will be removed in 1.4.\n",
      "  warnings.warn(\n"
     ]
    }
   ],
   "source": [
    "# Đường dẫn đến thư mục chứa các file CSV\n",
    "folder_path = r'D:\\DeTaiNam2024\\SoLieu\\CK_HNX_VNSTOCK'\n",
    "\n",
    "# Lấy danh sách tất cả các file CSV trong thư mục\n",
    "file_list = [f for f in os.listdir(folder_path) if f.endswith('.csv')]\n",
    "results=[]\n",
    "# Vòng lặp qua từng file CSV\n",
    "for file_name in file_list:\n",
    "    # Đọc dữ liệu từ file CSV\n",
    "    file_path = os.path.join(folder_path, file_name)\n",
    "    df = pd.read_csv(file_path)\n",
    "    \n",
    "    # Sắp xếp theo ngày\n",
    "    df = df.sort_values('time')\n",
    "\n",
    "    # Tạo cột Y: nếu giá đóng cửa hôm nay thấp hơn hôm qua, Y=0, nếu ngược lại Y=1\n",
    "    df['Y'] = (df['close'].diff() > 0).astype(int)\n",
    "\n",
    "    # Shift dữ liệu Close để lấy giá của ngày trước làm đặc trưng\n",
    "    df['Close_lag1'] = df['close'].shift(1)\n",
    "    df['Volume_lag1'] = df['volume'].shift(1)\n",
    "\n",
    "    # Loại bỏ các hàng chứa giá trị NaN\n",
    "    df.dropna(inplace=True)\n",
    "\n",
    "    # Chọn các đặc trưng (X) và mục tiêu (Y)\n",
    "    X = df[['open', 'high', 'low', 'volume','Close_lag1', 'Volume_lag1']]\n",
    "    Y = df['Y']\n",
    "    \n",
    "    # Chia dữ liệu thành tập huấn luyện và kiểm tra\n",
    "    X_train, X_test, y_train, y_test = train_test_split(X, Y, test_size=0.2, random_state=42)\n",
    "    \n",
    "    #Tạo mô hình AdaBoost với cây quyết định làm mô hình yếu\n",
    "    base_model = DecisionTreeClassifier(max_depth=1)  # Cây quyết định với độ sâu nhỏ (stump)\n",
    "    model = AdaBoostClassifier(base_estimator=base_model, n_estimators=100, learning_rate=1.0)\n",
    "\n",
    "    # Huấn luyện mô hình\n",
    "    model.fit(X_train, y_train)\n",
    "    \n",
    "    # Dự đoán trên tập kiểm tra\n",
    "    y_pred = model.predict(X_test)\n",
    "    \n",
    "    # Tính độ chính xác\n",
    "    accuracy = accuracy_score(y_test, y_pred)\n",
    "    precision = precision_score(y_test, y_pred, average='weighted')\n",
    "    recall = recall_score(y_test, y_pred, average='weighted')\n",
    "    f1 = f1_score(y_test, y_pred, average='weighted')\n",
    "    \n",
    "      # Lưu kết quả vào danh sách\n",
    "    results.append({\n",
    "        'file': file_name,\n",
    "        'accuracy': accuracy,\n",
    "        'precision': precision,\n",
    "        'recall': recall,\n",
    "        'f1_score': f1\n",
    "    })\n",
    "# Ghi kết quả ra file CSV\n",
    "results_df = pd.DataFrame(results)\n",
    "results_df.to_csv(r'D:\\DeTaiNam2024\\SoLieu\\CK_HNX_VNSTOCK\\output\\AdaBoost_Calssification_results.csv', index=False)"
   ]
  },
  {
   "cell_type": "markdown",
   "metadata": {},
   "source": [
    "**Dùng nhiều đặc trưng khác**"
   ]
  },
  {
   "cell_type": "code",
   "execution_count": 20,
   "metadata": {},
   "outputs": [],
   "source": [
    "# Đường dẫn đến thư mục chứa các file CSV\n",
    "folder_path = r'D:\\DeTaiNam2024\\SoLieu\\CK_HNX_VNSTOCK'\n",
    "\n",
    "# Lấy danh sách tất cả các file CSV trong thư mục\n",
    "file_list = [f for f in os.listdir(folder_path) if f.endswith('.csv')]\n",
    "results=[]\n",
    "# Vòng lặp qua từng file CSV\n",
    "for file_name in file_list:\n",
    "    # Đọc dữ liệu từ file CSV\n",
    "    file_path = os.path.join(folder_path, file_name)\n",
    "    df = pd.read_csv(file_path)\n",
    "    \n",
    "    # Sắp xếp theo ngày\n",
    "    df = df.sort_values('time')\n",
    "\n",
    "    # Tạo cột Y: nếu giá đóng cửa hôm nay thấp hơn hôm qua, Y=0, nếu ngược lại Y=1\n",
    "    df['Y'] = (df['close'].diff() > 0).astype(int)\n",
    "\n",
    "    # Shift dữ liệu Close để lấy giá của ngày trước làm đặc trưng\n",
    "    df['Close_lag1'] = df['close'].shift(1)\n",
    "    df['Volume_lag1'] = df['volume'].shift(1)\n",
    "\n",
    "    # Loại bỏ các hàng chứa giá trị NaN\n",
    "    df.dropna(inplace=True)\n",
    "\n",
    "    # Chọn các đặc trưng (X) và mục tiêu (Y)\n",
    "    X = df[['open', 'high', 'low', 'volume','Close_lag1', 'Volume_lag1']]\n",
    "    Y = df['Y']\n",
    "    \n",
    "    # Chia dữ liệu thành tập huấn luyện và kiểm tra\n",
    "    X_train, X_test, y_train, y_test = train_test_split(X, Y, test_size=0.2, random_state=42)\n",
    "    \n",
    "    # Tạo mô hình XGBoost cho bài toán phân loại\n",
    "    model = xgb.XGBClassifier(n_estimators=100, learning_rate=0.05, eval_metric='logloss')\n",
    "    # Huấn luyện mô hình\n",
    "    model.fit(X_train, y_train)\n",
    "    \n",
    "    # Dự đoán trên tập kiểm tra\n",
    "    y_pred = model.predict(X_test)\n",
    "    \n",
    "    # Tính độ chính xác\n",
    "    accuracy = accuracy_score(y_test, y_pred)\n",
    "    precision = precision_score(y_test, y_pred, average='weighted')\n",
    "    recall = recall_score(y_test, y_pred, average='weighted')\n",
    "    f1 = f1_score(y_test, y_pred, average='weighted')\n",
    "    \n",
    "      # Lưu kết quả vào danh sách\n",
    "    results.append({\n",
    "        'file': file_name,\n",
    "        'accuracy': accuracy,\n",
    "        'precision': precision,\n",
    "        'recall': recall,\n",
    "        'f1_score': f1\n",
    "    })\n",
    "# Ghi kết quả ra file CSV\n",
    "results_df = pd.DataFrame(results)\n",
    "results_df.to_csv(r'D:\\DeTaiNam2024\\SoLieu\\CK_HNX_VNSTOCK\\output\\XGBoost_Calssification_resultsNhieudactrung.csv', index=False)"
   ]
  },
  {
   "cell_type": "markdown",
   "metadata": {},
   "source": [
    "**Dự báo xu hướng cho 10 ngày tiếp theo**"
   ]
  },
  {
   "cell_type": "code",
   "execution_count": 3,
   "metadata": {},
   "outputs": [
    {
     "name": "stderr",
     "output_type": "stream",
     "text": [
      "C:\\Users\\Admin\\AppData\\Roaming\\Python\\Python39\\site-packages\\sklearn\\metrics\\_classification.py:1469: UndefinedMetricWarning: Precision is ill-defined and being set to 0.0 in labels with no predicted samples. Use `zero_division` parameter to control this behavior.\n",
      "  _warn_prf(average, modifier, msg_start, len(result))\n",
      "C:\\Users\\Admin\\AppData\\Roaming\\Python\\Python39\\site-packages\\sklearn\\metrics\\_classification.py:1469: UndefinedMetricWarning: Recall is ill-defined and being set to 0.0 in labels with no true samples. Use `zero_division` parameter to control this behavior.\n",
      "  _warn_prf(average, modifier, msg_start, len(result))\n"
     ]
    },
    {
     "ename": "ValueError",
     "evalue": "With n_samples=1, test_size=0.2 and train_size=None, the resulting train set will be empty. Adjust any of the aforementioned parameters.",
     "output_type": "error",
     "traceback": [
      "\u001b[1;31m---------------------------------------------------------------------------\u001b[0m",
      "\u001b[1;31mValueError\u001b[0m                                Traceback (most recent call last)",
      "\u001b[1;32m~\\AppData\\Local\\Temp\\ipykernel_5484\\2588951212.py\u001b[0m in \u001b[0;36m<module>\u001b[1;34m\u001b[0m\n\u001b[0;32m     37\u001b[0m \u001b[1;33m\u001b[0m\u001b[0m\n\u001b[0;32m     38\u001b[0m     \u001b[1;31m# Chia dữ liệu thành tập huấn luyện và kiểm tra\u001b[0m\u001b[1;33m\u001b[0m\u001b[1;33m\u001b[0m\u001b[0m\n\u001b[1;32m---> 39\u001b[1;33m     \u001b[0mX_train\u001b[0m\u001b[1;33m,\u001b[0m \u001b[0mX_test\u001b[0m\u001b[1;33m,\u001b[0m \u001b[0my_train\u001b[0m\u001b[1;33m,\u001b[0m \u001b[0my_test\u001b[0m \u001b[1;33m=\u001b[0m \u001b[0mtrain_test_split\u001b[0m\u001b[1;33m(\u001b[0m\u001b[0mX\u001b[0m\u001b[1;33m,\u001b[0m \u001b[0mY\u001b[0m\u001b[1;33m,\u001b[0m \u001b[0mtest_size\u001b[0m\u001b[1;33m=\u001b[0m\u001b[1;36m0.2\u001b[0m\u001b[1;33m,\u001b[0m \u001b[0mrandom_state\u001b[0m\u001b[1;33m=\u001b[0m\u001b[1;36m42\u001b[0m\u001b[1;33m)\u001b[0m\u001b[1;33m\u001b[0m\u001b[1;33m\u001b[0m\u001b[0m\n\u001b[0m\u001b[0;32m     40\u001b[0m \u001b[1;33m\u001b[0m\u001b[0m\n\u001b[0;32m     41\u001b[0m     \u001b[1;31m# Tạo mô hình XGBoost cho bài toán phân loại\u001b[0m\u001b[1;33m\u001b[0m\u001b[1;33m\u001b[0m\u001b[0m\n",
      "\u001b[1;32m~\\AppData\\Roaming\\Python\\Python39\\site-packages\\sklearn\\utils\\_param_validation.py\u001b[0m in \u001b[0;36mwrapper\u001b[1;34m(*args, **kwargs)\u001b[0m\n\u001b[0;32m    209\u001b[0m                     )\n\u001b[0;32m    210\u001b[0m                 ):\n\u001b[1;32m--> 211\u001b[1;33m                     \u001b[1;32mreturn\u001b[0m \u001b[0mfunc\u001b[0m\u001b[1;33m(\u001b[0m\u001b[1;33m*\u001b[0m\u001b[0margs\u001b[0m\u001b[1;33m,\u001b[0m \u001b[1;33m**\u001b[0m\u001b[0mkwargs\u001b[0m\u001b[1;33m)\u001b[0m\u001b[1;33m\u001b[0m\u001b[1;33m\u001b[0m\u001b[0m\n\u001b[0m\u001b[0;32m    212\u001b[0m             \u001b[1;32mexcept\u001b[0m \u001b[0mInvalidParameterError\u001b[0m \u001b[1;32mas\u001b[0m \u001b[0me\u001b[0m\u001b[1;33m:\u001b[0m\u001b[1;33m\u001b[0m\u001b[1;33m\u001b[0m\u001b[0m\n\u001b[0;32m    213\u001b[0m                 \u001b[1;31m# When the function is just a wrapper around an estimator, we allow\u001b[0m\u001b[1;33m\u001b[0m\u001b[1;33m\u001b[0m\u001b[0m\n",
      "\u001b[1;32m~\\AppData\\Roaming\\Python\\Python39\\site-packages\\sklearn\\model_selection\\_split.py\u001b[0m in \u001b[0;36mtrain_test_split\u001b[1;34m(test_size, train_size, random_state, shuffle, stratify, *arrays)\u001b[0m\n\u001b[0;32m   2647\u001b[0m \u001b[1;33m\u001b[0m\u001b[0m\n\u001b[0;32m   2648\u001b[0m     \u001b[0mn_samples\u001b[0m \u001b[1;33m=\u001b[0m \u001b[0m_num_samples\u001b[0m\u001b[1;33m(\u001b[0m\u001b[0marrays\u001b[0m\u001b[1;33m[\u001b[0m\u001b[1;36m0\u001b[0m\u001b[1;33m]\u001b[0m\u001b[1;33m)\u001b[0m\u001b[1;33m\u001b[0m\u001b[1;33m\u001b[0m\u001b[0m\n\u001b[1;32m-> 2649\u001b[1;33m     n_train, n_test = _validate_shuffle_split(\n\u001b[0m\u001b[0;32m   2650\u001b[0m         \u001b[0mn_samples\u001b[0m\u001b[1;33m,\u001b[0m \u001b[0mtest_size\u001b[0m\u001b[1;33m,\u001b[0m \u001b[0mtrain_size\u001b[0m\u001b[1;33m,\u001b[0m \u001b[0mdefault_test_size\u001b[0m\u001b[1;33m=\u001b[0m\u001b[1;36m0.25\u001b[0m\u001b[1;33m\u001b[0m\u001b[1;33m\u001b[0m\u001b[0m\n\u001b[0;32m   2651\u001b[0m     )\n",
      "\u001b[1;32m~\\AppData\\Roaming\\Python\\Python39\\site-packages\\sklearn\\model_selection\\_split.py\u001b[0m in \u001b[0;36m_validate_shuffle_split\u001b[1;34m(n_samples, test_size, train_size, default_test_size)\u001b[0m\n\u001b[0;32m   2303\u001b[0m \u001b[1;33m\u001b[0m\u001b[0m\n\u001b[0;32m   2304\u001b[0m     \u001b[1;32mif\u001b[0m \u001b[0mn_train\u001b[0m \u001b[1;33m==\u001b[0m \u001b[1;36m0\u001b[0m\u001b[1;33m:\u001b[0m\u001b[1;33m\u001b[0m\u001b[1;33m\u001b[0m\u001b[0m\n\u001b[1;32m-> 2305\u001b[1;33m         raise ValueError(\n\u001b[0m\u001b[0;32m   2306\u001b[0m             \u001b[1;34m\"With n_samples={}, test_size={} and train_size={}, the \"\u001b[0m\u001b[1;33m\u001b[0m\u001b[1;33m\u001b[0m\u001b[0m\n\u001b[0;32m   2307\u001b[0m             \u001b[1;34m\"resulting train set will be empty. Adjust any of the \"\u001b[0m\u001b[1;33m\u001b[0m\u001b[1;33m\u001b[0m\u001b[0m\n",
      "\u001b[1;31mValueError\u001b[0m: With n_samples=1, test_size=0.2 and train_size=None, the resulting train set will be empty. Adjust any of the aforementioned parameters."
     ]
    }
   ],
   "source": [
    "import pandas as pd\n",
    "import os\n",
    "import xgboost as xgb\n",
    "from sklearn.model_selection import train_test_split\n",
    "from sklearn.metrics import accuracy_score, precision_score, recall_score, f1_score\n",
    "import numpy as np\n",
    "\n",
    "# Đường dẫn đến thư mục chứa các file CSV\n",
    "folder_path = r'D:\\DeTaiNam2024\\SoLieu\\CK_HOSE_VNSTOCK'\n",
    "\n",
    "# Lấy danh sách tất cả các file CSV trong thư mục\n",
    "file_list = [f for f in os.listdir(folder_path) if f.endswith('.csv')]\n",
    "results = []\n",
    "\n",
    "# Vòng lặp qua từng file CSV\n",
    "for file_name in file_list:\n",
    "    # Đọc dữ liệu từ file CSV\n",
    "    file_path = os.path.join(folder_path, file_name)\n",
    "    df = pd.read_csv(file_path)\n",
    "    \n",
    "    # Sắp xếp theo ngày\n",
    "    df = df.sort_values('time')\n",
    "\n",
    "    # Tạo cột Y: nếu giá đóng cửa hôm nay thấp hơn hôm qua, Y=0, nếu ngược lại Y=1\n",
    "    df['Y'] = (df['close'].diff() > 0).astype(int)\n",
    "\n",
    "    # Shift dữ liệu Close để lấy giá của ngày trước làm đặc trưng\n",
    "    df['Close_lag1'] = df['close'].shift(1)\n",
    "    df['Volume_lag1'] = df['volume'].shift(1)\n",
    "\n",
    "    # Loại bỏ các hàng chứa giá trị NaN\n",
    "    df.dropna(inplace=True)\n",
    "\n",
    "    # Chọn các đặc trưng (X) và mục tiêu (Y)\n",
    "    X = df[['open', 'high', 'low', 'volume', 'Close_lag1', 'Volume_lag1']]\n",
    "    Y = df['Y']\n",
    "    \n",
    "    # Chia dữ liệu thành tập huấn luyện và kiểm tra\n",
    "    X_train, X_test, y_train, y_test = train_test_split(X, Y, test_size=0.2, random_state=42)\n",
    "    \n",
    "    # Tạo mô hình XGBoost cho bài toán phân loại\n",
    "    model = xgb.XGBClassifier(n_estimators=100, learning_rate=0.05, eval_metric='logloss')\n",
    "    \n",
    "    # Huấn luyện mô hình\n",
    "    model.fit(X_train, y_train)\n",
    "    \n",
    "    # Dự đoán trên tập kiểm tra\n",
    "    y_pred = model.predict(X_test)\n",
    "    \n",
    "    # Tính độ chính xác\n",
    "    accuracy = accuracy_score(y_test, y_pred)\n",
    "    precision = precision_score(y_test, y_pred, average='weighted')\n",
    "    recall = recall_score(y_test, y_pred, average='weighted')\n",
    "    f1 = f1_score(y_test, y_pred, average='weighted')\n",
    "    \n",
    "    # Dự đoán xu hướng giá 7 ngày tiếp theo\n",
    "    # Sử dụng dữ liệu từ ngày cuối cùng của tập huấn luyện\n",
    "    last_data = X.iloc[-1:].copy()\n",
    "\n",
    "    predicted_trends = []\n",
    "    \n",
    "    for i in range(7):\n",
    "        # Dự đoán xu hướng cho ngày tiếp theo\n",
    "        next_day_trend = model.predict(last_data)[0]\n",
    "        \n",
    "        # Thêm kết quả vào danh sách dự báo\n",
    "        predicted_trends.append(next_day_trend)\n",
    "        \n",
    "        # Cập nhật dữ liệu 'Close_lag1' và 'Volume_lag1' cho ngày tiếp theo\n",
    "        last_data['Close_lag1'] = last_data['Close_lag1'] * (1.02 if next_day_trend == 1 else 0.98)\n",
    "        last_data['Volume_lag1'] = last_data['Volume_lag1'] * np.random.uniform(0.95, 1.05)  # Giả định khối lượng giao dịch biến động ngẫu nhiên\n",
    "        \n",
    "    # Lưu kết quả vào danh sách\n",
    "    results.append({\n",
    "        'file': file_name,\n",
    "        'accuracy': accuracy,\n",
    "        'precision': precision,\n",
    "        'recall': recall,\n",
    "        'f1_score': f1,\n",
    "        '7_day_prediction': predicted_trends\n",
    "    })\n",
    "\n",
    "# Ghi kết quả ra file CSV\n",
    "results_df = pd.DataFrame(results)\n",
    "results_df.to_csv(r'D:\\DeTaiNam2024\\SoLieu\\CK_HOSE_VNSTOCK\\output\\XGBoost_Calssification_resultsNhieudactrung_HOSE.csv', index=False)\n"
   ]
  },
  {
   "cell_type": "code",
   "execution_count": null,
   "metadata": {},
   "outputs": [],
   "source": []
  }
 ],
 "metadata": {
  "colab": {
   "authorship_tag": "ABX9TyPIc0a+yfSUdkpi0jU24TaG",
   "provenance": []
  },
  "kernelspec": {
   "display_name": "Python 3 (ipykernel)",
   "language": "python",
   "name": "python3"
  },
  "language_info": {
   "codemirror_mode": {
    "name": "ipython",
    "version": 3
   },
   "file_extension": ".py",
   "mimetype": "text/x-python",
   "name": "python",
   "nbconvert_exporter": "python",
   "pygments_lexer": "ipython3",
   "version": "3.9.13"
  }
 },
 "nbformat": 4,
 "nbformat_minor": 1
}
