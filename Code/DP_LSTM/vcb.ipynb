{
 "cells": [
  {
   "cell_type": "markdown",
   "metadata": {
    "id": "Y9Vn7OBBrmzz"
   },
   "source": [
    "**LSTM without new**"
   ]
  },
  {
   "cell_type": "code",
   "execution_count": 1,
   "metadata": {
    "executionInfo": {
     "elapsed": 9625,
     "status": "ok",
     "timestamp": 1724689148844,
     "user": {
      "displayName": "Đặng Thị Kiêm Hồng",
      "userId": "05445281411830122382"
     },
     "user_tz": -420
    },
    "id": "17cYzMBBDZxo"
   },
   "outputs": [],
   "source": [
    "\n",
    "import json\n",
    "import time\n",
    "import math\n",
    "import matplotlib.pyplot as plt\n",
    "import numpy as np\n",
    "import pandas as pd\n",
    "import datetime as dt\n",
    "from numpy import newaxis\n",
    "from keras.layers import Dense, Activation, Dropout, LSTM\n",
    "from keras.models import Sequential, load_model\n",
    "from keras.callbacks import EarlyStopping, ModelCheckpoint\n",
    "from sklearn.linear_model import LinearRegression\n",
    "from sklearn.ensemble import RandomForestRegressor\n",
    "from sklearn.linear_model import Ridge\n",
    "\n",
    "from math import pi,sqrt,exp,pow,log\n",
    "from numpy.linalg import det, inv\n",
    "from abc import ABCMeta, abstractmethod\n",
    "from sklearn import cluster\n",
    "\n",
    "import statsmodels.api as sm\n",
    "import scipy.stats as scs\n",
    "import scipy.optimize as sco\n",
    "import scipy.interpolate as sci\n",
    "from scipy import stats"
   ]
  },
  {
   "cell_type": "code",
   "execution_count": null,
   "metadata": {
    "id": "68MFr6yO-xv7"
   },
   "outputs": [],
   "source": []
  },
  {
   "cell_type": "code",
   "execution_count": 11,
   "metadata": {
    "executionInfo": {
     "elapsed": 489,
     "status": "ok",
     "timestamp": 1724690233146,
     "user": {
      "displayName": "Đặng Thị Kiêm Hồng",
      "userId": "05445281411830122382"
     },
     "user_tz": -420
    },
    "id": "1HOX5cX2iEKR"
   },
   "outputs": [],
   "source": [
    "split = (0.85);\n",
    "sequence_length=10;\n",
    "normalise= True\n",
    "batch_size=100;\n",
    "input_dim=1\n",
    "input_timesteps=9\n",
    "neurons=50\n",
    "epochs=5\n",
    "prediction_len=1\n",
    "dense_output=1\n",
    "drop_out=0\n",
    "\n",
    "dataframe = pd.read_csv(\"vcb.csv\")\n",
    "cols = ['Adj Close']\n",
    "\n",
    "len_dataframe=dataframe.shape[0]"
   ]
  },
  {
   "cell_type": "code",
   "execution_count": 12,
   "metadata": {
    "colab": {
     "base_uri": "https://localhost:8080/"
    },
    "executionInfo": {
     "elapsed": 599,
     "status": "ok",
     "timestamp": 1724690237798,
     "user": {
      "displayName": "Đặng Thị Kiêm Hồng",
      "userId": "05445281411830122382"
     },
     "user_tz": -420
    },
    "id": "aLO2dtJ9iGDL",
    "outputId": "6c6f087f-8c76-44a7-e2a7-d86b0ce92d98"
   },
   "outputs": [
    {
     "name": "stdout",
     "output_type": "stream",
     "text": [
      "Index(['Unnamed: 0', 'Date', 'Adj Close', 'cafef_mean_compound',\n",
      "       'vietstock_mean_compound', 'economy_mean_compound',\n",
      "       'ktck_mean_compound'],\n",
      "      dtype='object')\n"
     ]
    }
   ],
   "source": [
    "print(dataframe.columns)\n"
   ]
  },
  {
   "cell_type": "code",
   "execution_count": 13,
   "metadata": {
    "colab": {
     "base_uri": "https://localhost:8080/"
    },
    "executionInfo": {
     "elapsed": 386,
     "status": "ok",
     "timestamp": 1724690240380,
     "user": {
      "displayName": "Đặng Thị Kiêm Hồng",
      "userId": "05445281411830122382"
     },
     "user_tz": -420
    },
    "id": "s2X-e_kLikhk",
    "outputId": "3cea72a3-9b2e-4b48-bf14-75df7079e8bb"
   },
   "outputs": [
    {
     "name": "stdout",
     "output_type": "stream",
     "text": [
      "data_train.shape (121, 1)\n",
      "data_test.shape (22, 1)\n"
     ]
    }
   ],
   "source": [
    "i_split = int(len(dataframe) * split)\n",
    "data_train = dataframe.get(cols).values[:i_split]\n",
    "data_test  = dataframe.get(cols).values[i_split:]\n",
    "len_train  = len(data_train)\n",
    "len_test   = len(data_test)\n",
    "len_train_windows = None\n",
    "print('data_train.shape',data_train.shape)\n",
    "print('data_test.shape',data_test.shape)"
   ]
  },
  {
   "cell_type": "code",
   "execution_count": 14,
   "metadata": {
    "colab": {
     "base_uri": "https://localhost:8080/"
    },
    "executionInfo": {
     "elapsed": 407,
     "status": "ok",
     "timestamp": 1724690243731,
     "user": {
      "displayName": "Đặng Thị Kiêm Hồng",
      "userId": "05445281411830122382"
     },
     "user_tz": -420
    },
    "id": "W9NsXIa7D3qx",
    "outputId": "cc2647b9-73b4-4a1e-cdb8-ada0c70a0977"
   },
   "outputs": [
    {
     "name": "stdout",
     "output_type": "stream",
     "text": [
      "y_test_ori.shape (12, 1)\n"
     ]
    }
   ],
   "source": [
    "#get_test_data\n",
    "data_windows = []\n",
    "for i in range(len_test - sequence_length):\n",
    "    data_windows.append(data_test[i:i+sequence_length])\n",
    "data_windows = np.array(data_windows).astype(float)\n",
    " # get original y_test\n",
    "y_test_ori = data_windows[:, -1, [0]]\n",
    "print('y_test_ori.shape',y_test_ori.shape)\n",
    "\n",
    "window_data=data_windows\n",
    "win_num=window_data.shape[0]\n",
    "col_num=window_data.shape[2]\n",
    "normalised_data = []\n",
    "record_min=[]\n",
    "record_max=[]"
   ]
  },
  {
   "cell_type": "code",
   "execution_count": 15,
   "metadata": {
    "executionInfo": {
     "elapsed": 382,
     "status": "ok",
     "timestamp": 1724690255055,
     "user": {
      "displayName": "Đặng Thị Kiêm Hồng",
      "userId": "05445281411830122382"
     },
     "user_tz": -420
    },
    "id": "eO3opG2EEBb5"
   },
   "outputs": [],
   "source": [
    "#normalize\n",
    "for win_i in range(0,win_num):\n",
    "    normalised_window = []\n",
    "    for col_i in range(0,col_num):\n",
    "      temp_col=window_data[win_i,:,col_i]\n",
    "      temp_min=min(temp_col)\n",
    "      if col_i==0:\n",
    "        record_min.append(temp_min)#record min\n",
    "      temp_col=temp_col-temp_min\n",
    "      temp_max=max(temp_col)\n",
    "      if col_i==0:\n",
    "        record_max.append(temp_max)#record max\n",
    "      temp_col=temp_col/temp_max\n",
    "      normalised_window.append(temp_col)\n",
    "    normalised_window = np.array(normalised_window).T\n",
    "    normalised_data.append(normalised_window)\n",
    "normalised_data=np.array(normalised_data)\n"
   ]
  },
  {
   "cell_type": "code",
   "execution_count": 16,
   "metadata": {
    "colab": {
     "base_uri": "https://localhost:8080/"
    },
    "executionInfo": {
     "elapsed": 516,
     "status": "ok",
     "timestamp": 1724690265214,
     "user": {
      "displayName": "Đặng Thị Kiêm Hồng",
      "userId": "05445281411830122382"
     },
     "user_tz": -420
    },
    "id": "LL3fcitFEKv5",
    "outputId": "36f60b70-f14e-4558-d152-d0dc59c15f3e"
   },
   "outputs": [
    {
     "name": "stdout",
     "output_type": "stream",
     "text": [
      "x_test.shape (12, 9, 1)\n",
      "y_test.shape (12, 1)\n"
     ]
    }
   ],
   "source": [
    "# normalised_data=window_data\n",
    "data_windows=normalised_data#get_test_data\n",
    "x_test = data_windows[:, :-1]\n",
    "y_test = data_windows[:, -1, [0]]\n",
    "print('x_test.shape',x_test.shape)\n",
    "print('y_test.shape',y_test.shape)\n"
   ]
  },
  {
   "cell_type": "code",
   "execution_count": 17,
   "metadata": {
    "executionInfo": {
     "elapsed": 419,
     "status": "ok",
     "timestamp": 1724690269523,
     "user": {
      "displayName": "Đặng Thị Kiêm Hồng",
      "userId": "05445281411830122382"
     },
     "user_tz": -420
    },
    "id": "SrKS_ra-ERjN"
   },
   "outputs": [],
   "source": [
    "#get_train_data\n",
    "data_windows = []\n",
    "for i in range(len_train - sequence_length):\n",
    "    data_windows.append(data_train[i:i+sequence_length])\n",
    "data_windows = np.array(data_windows).astype(float)\n",
    "\n",
    "window_data=data_windows\n",
    "win_num=window_data.shape[0]\n",
    "col_num=window_data.shape[2]\n",
    "\n",
    "normalised_data = []\n",
    "for win_i in range(0,win_num):\n",
    "    normalised_window = []\n",
    "    for col_i in range(0,col_num):\n",
    "      temp_col=window_data[win_i,:,col_i]\n",
    "      temp_min=min(temp_col)\n",
    "      temp_col=temp_col-temp_min\n",
    "      temp_max=max(temp_col)\n",
    "      temp_col=temp_col/temp_max\n",
    "      normalised_window.append(temp_col)\n",
    "    normalised_window = np.array(normalised_window).T\n",
    "    normalised_data.append(normalised_window)\n",
    "normalised_data=np.array(normalised_data)\n"
   ]
  },
  {
   "cell_type": "code",
   "execution_count": 18,
   "metadata": {
    "colab": {
     "base_uri": "https://localhost:8080/"
    },
    "executionInfo": {
     "elapsed": 379,
     "status": "ok",
     "timestamp": 1724690275464,
     "user": {
      "displayName": "Đặng Thị Kiêm Hồng",
      "userId": "05445281411830122382"
     },
     "user_tz": -420
    },
    "id": "uN49VFGuETLh",
    "outputId": "f71c8fe9-2559-44c9-e250-70acd4ffbd62"
   },
   "outputs": [
    {
     "name": "stdout",
     "output_type": "stream",
     "text": [
      "x_train.shape (111, 9, 1)\n",
      "y_train.shape (111, 1)\n"
     ]
    }
   ],
   "source": [
    "# normalised_data=window_data\n",
    "data_windows=normalised_data\n",
    "x_train = data_windows[:, :-1]\n",
    "y_train = data_windows[:, -1,[0]]\n",
    "print('x_train.shape',x_train.shape)\n",
    "print('y_train.shape',y_train.shape)\n"
   ]
  },
  {
   "cell_type": "code",
   "execution_count": 19,
   "metadata": {
    "colab": {
     "base_uri": "https://localhost:8080/"
    },
    "executionInfo": {
     "elapsed": 7411,
     "status": "ok",
     "timestamp": 1724690287013,
     "user": {
      "displayName": "Đặng Thị Kiêm Hồng",
      "userId": "05445281411830122382"
     },
     "user_tz": -420
    },
    "id": "9QZkyl-CEW8V",
    "outputId": "4690d79e-a141-47be-e128-48bfaca8d81d"
   },
   "outputs": [
    {
     "name": "stderr",
     "output_type": "stream",
     "text": [
      "/usr/local/lib/python3.10/dist-packages/keras/src/layers/rnn/rnn.py:204: UserWarning: Do not pass an `input_shape`/`input_dim` argument to a layer. When using Sequential models, prefer using an `Input(shape)` object as the first layer in the model instead.\n",
      "  super().__init__(**kwargs)\n"
     ]
    },
    {
     "name": "stdout",
     "output_type": "stream",
     "text": [
      "Epoch 1/5\n",
      "\u001b[1m2/2\u001b[0m \u001b[32m━━━━━━━━━━━━━━━━━━━━\u001b[0m\u001b[37m\u001b[0m \u001b[1m6s\u001b[0m 38ms/step - loss: 0.3189\n",
      "Epoch 2/5\n",
      "\u001b[1m2/2\u001b[0m \u001b[32m━━━━━━━━━━━━━━━━━━━━\u001b[0m\u001b[37m\u001b[0m \u001b[1m0s\u001b[0m 26ms/step - loss: 0.2652 \n",
      "Epoch 3/5\n",
      "\u001b[1m2/2\u001b[0m \u001b[32m━━━━━━━━━━━━━━━━━━━━\u001b[0m\u001b[37m\u001b[0m \u001b[1m0s\u001b[0m 27ms/step - loss: 0.2136\n",
      "Epoch 4/5\n",
      "\u001b[1m2/2\u001b[0m \u001b[32m━━━━━━━━━━━━━━━━━━━━\u001b[0m\u001b[37m\u001b[0m \u001b[1m0s\u001b[0m 27ms/step - loss: 0.1757\n",
      "Epoch 5/5\n",
      "\u001b[1m2/2\u001b[0m \u001b[32m━━━━━━━━━━━━━━━━━━━━\u001b[0m\u001b[37m\u001b[0m \u001b[1m0s\u001b[0m 32ms/step - loss: 0.1806 \n"
     ]
    },
    {
     "data": {
      "text/plain": [
       "<keras.src.callbacks.history.History at 0x7e7c6c0bfd60>"
      ]
     },
     "execution_count": 19,
     "metadata": {},
     "output_type": "execute_result"
    }
   ],
   "source": [
    "# LSTM MODEL\n",
    "model = Sequential()\n",
    "model.add(LSTM(neurons, input_shape=(input_timesteps, input_dim), return_sequences = True))\n",
    "model.add(Dropout(drop_out))\n",
    "model.add(LSTM(neurons,return_sequences = True))\n",
    "model.add(LSTM(neurons,return_sequences =False))\n",
    "model.add(Dropout(drop_out))\n",
    "model.add(Dense(dense_output, activation='linear'))\n",
    "model.compile(loss='mean_squared_error',\n",
    "                optimizer='adam')\n",
    "# Fit the model\n",
    "model.fit(x_train,y_train,epochs=epochs,batch_size=batch_size)\n"
   ]
  },
  {
   "cell_type": "code",
   "execution_count": 20,
   "metadata": {
    "colab": {
     "base_uri": "https://localhost:8080/"
    },
    "executionInfo": {
     "elapsed": 988,
     "status": "ok",
     "timestamp": 1724690322924,
     "user": {
      "displayName": "Đặng Thị Kiêm Hồng",
      "userId": "05445281411830122382"
     },
     "user_tz": -420
    },
    "id": "5_gWAWlDEq2T",
    "outputId": "d53acc27-ec1f-4f26-fdbf-799080e0f09f"
   },
   "outputs": [
    {
     "name": "stdout",
     "output_type": "stream",
     "text": [
      "\u001b[1m1/1\u001b[0m \u001b[32m━━━━━━━━━━━━━━━━━━━━\u001b[0m\u001b[37m\u001b[0m \u001b[1m1s\u001b[0m 585ms/step\n"
     ]
    },
    {
     "data": {
      "text/plain": [
       "array([[0.554487  ],\n",
       "       [0.5365991 ],\n",
       "       [0.4922886 ],\n",
       "       [0.4842865 ],\n",
       "       [0.47632983],\n",
       "       [0.46345225],\n",
       "       [0.4381318 ],\n",
       "       [0.4856511 ],\n",
       "       [0.5470921 ],\n",
       "       [0.55696815],\n",
       "       [0.57264155],\n",
       "       [0.51614314]], dtype=float32)"
      ]
     },
     "execution_count": 20,
     "metadata": {},
     "output_type": "execute_result"
    }
   ],
   "source": [
    "model.predict(x_test)"
   ]
  },
  {
   "cell_type": "code",
   "execution_count": 21,
   "metadata": {
    "colab": {
     "base_uri": "https://localhost:8080/"
    },
    "executionInfo": {
     "elapsed": 2262,
     "status": "ok",
     "timestamp": 1724690330968,
     "user": {
      "displayName": "Đặng Thị Kiêm Hồng",
      "userId": "05445281411830122382"
     },
     "user_tz": -420
    },
    "id": "CgoUUCeqEyeg",
    "outputId": "f3a1466d-0df4-4606-efa8-023adce2deb4"
   },
   "outputs": [
    {
     "name": "stdout",
     "output_type": "stream",
     "text": [
      "\u001b[1m1/1\u001b[0m \u001b[32m━━━━━━━━━━━━━━━━━━━━\u001b[0m\u001b[37m\u001b[0m \u001b[1m0s\u001b[0m 494ms/step\n",
      "\u001b[1m1/1\u001b[0m \u001b[32m━━━━━━━━━━━━━━━━━━━━\u001b[0m\u001b[37m\u001b[0m \u001b[1m0s\u001b[0m 24ms/step\n",
      "\u001b[1m1/1\u001b[0m \u001b[32m━━━━━━━━━━━━━━━━━━━━\u001b[0m\u001b[37m\u001b[0m \u001b[1m0s\u001b[0m 23ms/step\n",
      "\u001b[1m1/1\u001b[0m \u001b[32m━━━━━━━━━━━━━━━━━━━━\u001b[0m\u001b[37m\u001b[0m \u001b[1m0s\u001b[0m 24ms/step\n",
      "\u001b[1m1/1\u001b[0m \u001b[32m━━━━━━━━━━━━━━━━━━━━\u001b[0m\u001b[37m\u001b[0m \u001b[1m0s\u001b[0m 23ms/step\n",
      "\u001b[1m1/1\u001b[0m \u001b[32m━━━━━━━━━━━━━━━━━━━━\u001b[0m\u001b[37m\u001b[0m \u001b[1m0s\u001b[0m 26ms/step\n",
      "\u001b[1m1/1\u001b[0m \u001b[32m━━━━━━━━━━━━━━━━━━━━\u001b[0m\u001b[37m\u001b[0m \u001b[1m0s\u001b[0m 28ms/step\n",
      "\u001b[1m1/1\u001b[0m \u001b[32m━━━━━━━━━━━━━━━━━━━━\u001b[0m\u001b[37m\u001b[0m \u001b[1m0s\u001b[0m 34ms/step\n",
      "\u001b[1m1/1\u001b[0m \u001b[32m━━━━━━━━━━━━━━━━━━━━\u001b[0m\u001b[37m\u001b[0m \u001b[1m0s\u001b[0m 23ms/step\n",
      "\u001b[1m1/1\u001b[0m \u001b[32m━━━━━━━━━━━━━━━━━━━━\u001b[0m\u001b[37m\u001b[0m \u001b[1m0s\u001b[0m 23ms/step\n",
      "\u001b[1m1/1\u001b[0m \u001b[32m━━━━━━━━━━━━━━━━━━━━\u001b[0m\u001b[37m\u001b[0m \u001b[1m0s\u001b[0m 23ms/step\n",
      "\u001b[1m1/1\u001b[0m \u001b[32m━━━━━━━━━━━━━━━━━━━━\u001b[0m\u001b[37m\u001b[0m \u001b[1m0s\u001b[0m 22ms/step\n",
      "[[array([0.5544871], dtype=float32)], [array([0.536599], dtype=float32)], [array([0.4922886], dtype=float32)], [array([0.4842865], dtype=float32)], [array([0.47632986], dtype=float32)], [array([0.46345228], dtype=float32)], [array([0.43813172], dtype=float32)], [array([0.48565114], dtype=float32)], [array([0.54709214], dtype=float32)], [array([0.5569682], dtype=float32)], [array([0.5726416], dtype=float32)], [array([0.51614314], dtype=float32)]]\n"
     ]
    }
   ],
   "source": [
    "#multi sequence predict\n",
    "data=x_test\n",
    "prediction_seqs = []\n",
    "window_size=sequence_length\n",
    "pre_win_num=int(len(data)/prediction_len)\n",
    "\n",
    "for i in range(0,pre_win_num):\n",
    "    curr_frame = data[i*prediction_len]\n",
    "    predicted = []\n",
    "    for j in range(0,prediction_len):\n",
    "      temp=model.predict(curr_frame[newaxis,:,:])[0]\n",
    "      predicted.append(temp)\n",
    "      curr_frame = curr_frame[1:]\n",
    "      curr_frame = np.insert(curr_frame, [window_size-2], predicted[-1], axis=0)\n",
    "    prediction_seqs.append(predicted)\n",
    "\n",
    "print(prediction_seqs)"
   ]
  },
  {
   "cell_type": "code",
   "execution_count": 22,
   "metadata": {
    "colab": {
     "base_uri": "https://localhost:8080/"
    },
    "executionInfo": {
     "elapsed": 424,
     "status": "ok",
     "timestamp": 1724690339434,
     "user": {
      "displayName": "Đặng Thị Kiêm Hồng",
      "userId": "05445281411830122382"
     },
     "user_tz": -420
    },
    "id": "AkPa0f1nE2QM",
    "outputId": "effbd297-49be-4cb5-d9ce-101890a97c80"
   },
   "outputs": [
    {
     "name": "stdout",
     "output_type": "stream",
     "text": [
      "[87976.28195285797, 87951.2385725975, 87889.20402526855, 87878.00108194351, 87866.86180830002, 88009.79750752449, 87981.94489181042, 87791.39068126678, 87682.96449780464, 87689.87774848938, 87700.84912776947, 87661.30020022392]\n"
     ]
    }
   ],
   "source": [
    "#de_predicted\n",
    "de_predicted=[]\n",
    "len_pre_win=int(len(data)/prediction_len)\n",
    "len_pre=prediction_len\n",
    "\n",
    "m=0\n",
    "for i in range(0,len_pre_win):\n",
    "    for j in range(0,len_pre):\n",
    "      de_predicted.append(prediction_seqs[i][j][0]*record_max[m]+record_min[m])\n",
    "      m=m+1\n",
    "print(de_predicted)\n",
    "\n"
   ]
  },
  {
   "cell_type": "code",
   "execution_count": 23,
   "metadata": {
    "colab": {
     "base_uri": "https://localhost:8080/"
    },
    "executionInfo": {
     "elapsed": 1435,
     "status": "ok",
     "timestamp": 1724690354703,
     "user": {
      "displayName": "Đặng Thị Kiêm Hồng",
      "userId": "05445281411830122382"
     },
     "user_tz": -420
    },
    "id": "nQQ9mJhrE7VT",
    "outputId": "4569992e-449b-4ed0-b663-6b212dda01fb"
   },
   "outputs": [
    {
     "name": "stdout",
     "output_type": "stream",
     "text": [
      "MSE [107477.92558869]\n",
      "accuracy [0.99662312]\n",
      "mean_error_percent [0.00337688]\n"
     ]
    }
   ],
   "source": [
    "# In[50]:\n",
    "\n",
    "\n",
    "error = []\n",
    "diff=y_test.shape[0]-prediction_len*pre_win_num\n",
    "\n",
    "for i in range(y_test_ori.shape[0]-diff):\n",
    "    error.append(y_test_ori[i,] - de_predicted[i])\n",
    "\n",
    "squaredError = []\n",
    "absError = []\n",
    "for val in error:\n",
    "    squaredError.append(val * val)\n",
    "    absError.append(abs(val))\n",
    "\n",
    "error_percent=[]\n",
    "for i in range(len(error)):\n",
    "    val=absError[i]/y_test_ori[i,]\n",
    "    val=abs(val)\n",
    "    error_percent.append(val)\n",
    "\n",
    "mean_error_percent=sum(error_percent) / len(error_percent)\n",
    "accuracy=1-mean_error_percent\n",
    "\n",
    "MSE=sum(squaredError) / len(squaredError)\n",
    "\n",
    "print(\"MSE\",MSE)\n",
    "print('accuracy',accuracy)\n",
    "print('mean_error_percent',mean_error_percent)"
   ]
  },
  {
   "cell_type": "markdown",
   "metadata": {
    "id": "BqHdgobUzhoV"
   },
   "source": [
    "**LSTM with new**"
   ]
  },
  {
   "cell_type": "code",
   "execution_count": 40,
   "metadata": {
    "colab": {
     "base_uri": "https://localhost:8080/"
    },
    "executionInfo": {
     "elapsed": 409,
     "status": "ok",
     "timestamp": 1724691508663,
     "user": {
      "displayName": "Đặng Thị Kiêm Hồng",
      "userId": "05445281411830122382"
     },
     "user_tz": -420
    },
    "id": "3Sqi6PcNljfM",
    "outputId": "c24fdd9a-1e9b-4b8e-f202-56b3cead39fa"
   },
   "outputs": [
    {
     "name": "stdout",
     "output_type": "stream",
     "text": [
      "Index(['Unnamed: 0', 'Date', 'Adj Close', 'cafef_mean_compound',\n",
      "       'vietstock_mean_compound', 'economy_mean_compound',\n",
      "       'ktck_mean_compound'],\n",
      "      dtype='object')\n"
     ]
    }
   ],
   "source": [
    "import json\n",
    "import time\n",
    "import math\n",
    "import matplotlib.pyplot as plt\n",
    "import numpy as np\n",
    "import pandas as pd\n",
    "import datetime as dt\n",
    "from numpy import newaxis\n",
    "from keras.layers import Dense, Activation, Dropout, LSTM, Input\n",
    "from keras.models import Sequential, load_model\n",
    "from keras.callbacks import EarlyStopping, ModelCheckpoint\n",
    "from sklearn.linear_model import LinearRegression\n",
    "from sklearn.ensemble import RandomForestRegressor\n",
    "from sklearn.linear_model import Ridge\n",
    "\n",
    "from math import pi,sqrt,exp,pow,log\n",
    "from numpy.linalg import det, inv\n",
    "from abc import ABCMeta, abstractmethod\n",
    "from sklearn import cluster\n",
    "\n",
    "import statsmodels.api as sm\n",
    "import scipy.stats as scs\n",
    "import scipy.optimize as sco\n",
    "import scipy.interpolate as sci\n",
    "from scipy import stats\n",
    "\n",
    "\n",
    "# In[11]:\n",
    "\n",
    "\n",
    "split = (0.85);\n",
    "sequence_length=10;\n",
    "normalise= True\n",
    "batch_size=100;\n",
    "input_dim=5\n",
    "input_timesteps=9\n",
    "neurons=50\n",
    "epochs=5\n",
    "prediction_len=1\n",
    "dense_output=1\n",
    "drop_out=0\n",
    "\n",
    "dataframe = pd.read_csv(\"/content/vcb.csv\")\n",
    "print(dataframe.columns)"
   ]
  },
  {
   "cell_type": "code",
   "execution_count": 27,
   "metadata": {
    "colab": {
     "base_uri": "https://localhost:8080/"
    },
    "executionInfo": {
     "elapsed": 513,
     "status": "ok",
     "timestamp": 1724690980974,
     "user": {
      "displayName": "Đặng Thị Kiêm Hồng",
      "userId": "05445281411830122382"
     },
     "user_tz": -420
    },
    "id": "3wOZxiGdl9EC",
    "outputId": "b2d83593-dd46-4a53-9f67-a038ca707277"
   },
   "outputs": [
    {
     "name": "stdout",
     "output_type": "stream",
     "text": [
      "data_train.shape (121, 5)\n",
      "data_test.shape (22, 5)\n"
     ]
    }
   ],
   "source": [
    "cols = ['Adj Close','cafef_mean_compound',\n",
    "       'vietstock_mean_compound', 'economy_mean_compound',\n",
    "       'ktck_mean_compound']\n",
    "\n",
    "len_dataframe=dataframe.shape[0]\n",
    "\n",
    "i_split = int(len(dataframe) * split)\n",
    "data_train = dataframe.get(cols).values[:i_split]\n",
    "data_test  = dataframe.get(cols).values[i_split:]\n",
    "len_train  = len(data_train)\n",
    "len_test   = len(data_test)\n",
    "len_train_windows = None\n",
    "print('data_train.shape',data_train.shape)\n",
    "print('data_test.shape',data_test.shape)\n"
   ]
  },
  {
   "cell_type": "code",
   "execution_count": 28,
   "metadata": {
    "colab": {
     "base_uri": "https://localhost:8080/"
    },
    "executionInfo": {
     "elapsed": 496,
     "status": "ok",
     "timestamp": 1724691000249,
     "user": {
      "displayName": "Đặng Thị Kiêm Hồng",
      "userId": "05445281411830122382"
     },
     "user_tz": -420
    },
    "id": "GLTAk7x_mB7w",
    "outputId": "9a2c91e5-b3c5-46eb-aa0a-335b8672b26b"
   },
   "outputs": [
    {
     "data": {
      "text/plain": [
       "array([[ 8.35000000e+04,  2.12000000e-01,  1.24400000e-01,\n",
       "         9.86666670e-02,  1.48000000e-01],\n",
       "       [ 8.45000000e+04,  0.00000000e+00, -1.36600000e-01,\n",
       "         4.03300000e-01,  6.41250000e-02],\n",
       "       [ 8.59000000e+04,  7.46666670e-02,  1.59100000e-01,\n",
       "         2.30825000e-01,  8.37333330e-02],\n",
       "       [ 8.62000000e+04,  4.35666667e-01, -1.59100000e-01,\n",
       "         2.17200000e-01, -1.20400000e-01],\n",
       "       [ 8.68000000e+04, -1.67433333e-01,  6.28850000e-01,\n",
       "         4.15650000e-01,  5.84750000e-02]])"
      ]
     },
     "execution_count": 28,
     "metadata": {},
     "output_type": "execute_result"
    }
   ],
   "source": [
    "\n",
    "data_train[0:5]"
   ]
  },
  {
   "cell_type": "code",
   "execution_count": 29,
   "metadata": {
    "colab": {
     "base_uri": "https://localhost:8080/"
    },
    "executionInfo": {
     "elapsed": 393,
     "status": "ok",
     "timestamp": 1724691030169,
     "user": {
      "displayName": "Đặng Thị Kiêm Hồng",
      "userId": "05445281411830122382"
     },
     "user_tz": -420
    },
    "id": "qYuFSf-TmJLq",
    "outputId": "d1b05418-ff01-4c6c-f938-1f3a2b24ad59"
   },
   "outputs": [
    {
     "data": {
      "text/plain": [
       "array([[ 8.82000000e+04,  1.48000000e-01,  2.91866667e-01,\n",
       "         2.86000000e-02,  8.44200000e-01],\n",
       "       [ 8.85000000e+04,  5.26700000e-01,  1.06066667e-01,\n",
       "        -8.50333330e-02,  2.36700000e-01],\n",
       "       [ 8.80000000e+04,  0.00000000e+00, -2.55500000e-02,\n",
       "         1.61600000e-01,  2.12000000e-01],\n",
       "       [ 8.80000000e+04,  0.00000000e+00,  2.25933333e-01,\n",
       "         3.74333333e-01, -8.60000000e-03],\n",
       "       [ 8.72000000e+04,  0.00000000e+00, -1.46666670e-02,\n",
       "         1.80800000e-01,  2.32633333e-01]])"
      ]
     },
     "execution_count": 29,
     "metadata": {},
     "output_type": "execute_result"
    }
   ],
   "source": [
    "data_test[0:5]"
   ]
  },
  {
   "cell_type": "code",
   "execution_count": 30,
   "metadata": {
    "colab": {
     "base_uri": "https://localhost:8080/"
    },
    "executionInfo": {
     "elapsed": 559,
     "status": "ok",
     "timestamp": 1724691055108,
     "user": {
      "displayName": "Đặng Thị Kiêm Hồng",
      "userId": "05445281411830122382"
     },
     "user_tz": -420
    },
    "id": "Ed1tGxkFmPTw",
    "outputId": "b4176720-622e-4776-824b-d0567a929bf1"
   },
   "outputs": [
    {
     "name": "stdout",
     "output_type": "stream",
     "text": [
      "y_test_ori.shape (12, 1)\n"
     ]
    }
   ],
   "source": [
    "data_windows = []\n",
    "for i in range(len_test - sequence_length):\n",
    "    data_windows.append(data_test[i:i+sequence_length])\n",
    "data_windows = np.array(data_windows).astype(float)\n",
    " # get original y_test\n",
    "y_test_ori = data_windows[:, -1, [0]]\n",
    "print('y_test_ori.shape',y_test_ori.shape)"
   ]
  },
  {
   "cell_type": "code",
   "execution_count": 31,
   "metadata": {
    "executionInfo": {
     "elapsed": 358,
     "status": "ok",
     "timestamp": 1724691079938,
     "user": {
      "displayName": "Đặng Thị Kiêm Hồng",
      "userId": "05445281411830122382"
     },
     "user_tz": -420
    },
    "id": "zjvFMJbUmVGi"
   },
   "outputs": [],
   "source": [
    "window_data=data_windows\n",
    "win_num=window_data.shape[0]\n",
    "col_num=window_data.shape[2]\n",
    "normalised_data = []\n",
    "record_min=[]\n",
    "record_max=[]"
   ]
  },
  {
   "cell_type": "code",
   "execution_count": 32,
   "metadata": {
    "colab": {
     "base_uri": "https://localhost:8080/"
    },
    "executionInfo": {
     "elapsed": 459,
     "status": "ok",
     "timestamp": 1724691112458,
     "user": {
      "displayName": "Đặng Thị Kiêm Hồng",
      "userId": "05445281411830122382"
     },
     "user_tz": -420
    },
    "id": "rGr43PXlmdS-",
    "outputId": "54051aef-f504-4d7d-ad36-58a3ac21f620"
   },
   "outputs": [
    {
     "name": "stdout",
     "output_type": "stream",
     "text": [
      "x_test.shape (12, 9, 5)\n",
      "y_test.shape (12, 1)\n"
     ]
    }
   ],
   "source": [
    "#normalize\n",
    "for win_i in range(0,win_num):\n",
    "    normalised_window = []\n",
    "    for col_i in range(0,1):#col_num):\n",
    "      temp_col=window_data[win_i,:,col_i]\n",
    "      temp_min=min(temp_col)\n",
    "      if col_i==0:\n",
    "        record_min.append(temp_min)#record min\n",
    "      temp_col=temp_col-temp_min\n",
    "      temp_max=max(temp_col)\n",
    "      if col_i==0:\n",
    "        record_max.append(temp_max)#record max\n",
    "      temp_col=temp_col/temp_max\n",
    "      normalised_window.append(temp_col)\n",
    "    for col_i in range(1,col_num):\n",
    "      temp_col=window_data[win_i,:,col_i]\n",
    "      normalised_window.append(temp_col)\n",
    "    normalised_window = np.array(normalised_window).T\n",
    "    normalised_data.append(normalised_window)\n",
    "normalised_data=np.array(normalised_data)\n",
    "\n",
    "# normalised_data=window_data\n",
    "data_windows=normalised_data#get_test_data\n",
    "x_test = data_windows[:, :-1]\n",
    "y_test = data_windows[:, -1, [0]]\n",
    "print('x_test.shape',x_test.shape)\n",
    "print('y_test.shape',y_test.shape)"
   ]
  },
  {
   "cell_type": "code",
   "execution_count": 33,
   "metadata": {
    "colab": {
     "base_uri": "https://localhost:8080/"
    },
    "executionInfo": {
     "elapsed": 546,
     "status": "ok",
     "timestamp": 1724691136611,
     "user": {
      "displayName": "Đặng Thị Kiêm Hồng",
      "userId": "05445281411830122382"
     },
     "user_tz": -420
    },
    "id": "ifHzrHkmmhp-",
    "outputId": "580d376a-9939-4d3d-f456-6cc1d02c307f"
   },
   "outputs": [
    {
     "data": {
      "text/plain": [
       "array([[ 0.71428571,  0.148     ,  0.29186667,  0.0286    ,  0.8442    ],\n",
       "       [ 0.92857143,  0.5267    ,  0.10606667, -0.08503333,  0.2367    ],\n",
       "       [ 0.57142857,  0.        , -0.02555   ,  0.1616    ,  0.212     ],\n",
       "       [ 0.57142857,  0.        ,  0.22593333,  0.37433333, -0.0086    ],\n",
       "       [ 0.        ,  0.        , -0.01466667,  0.1808    ,  0.23263333],\n",
       "       [ 0.64285714,  0.4144    ,  0.4378    ,  0.26013333, -0.21823333],\n",
       "       [ 1.        ,  0.2294    , -0.0334    ,  0.0911    ,  0.148     ],\n",
       "       [ 0.64285714,  0.2997    , -0.17      ,  0.17963333,  0.2027    ],\n",
       "       [ 0.28571429,  0.25825   , -0.1591    , -0.2276    , -0.0593    ]])"
      ]
     },
     "execution_count": 33,
     "metadata": {},
     "output_type": "execute_result"
    }
   ],
   "source": [
    "x_test[0]"
   ]
  },
  {
   "cell_type": "code",
   "execution_count": 34,
   "metadata": {
    "colab": {
     "base_uri": "https://localhost:8080/"
    },
    "executionInfo": {
     "elapsed": 495,
     "status": "ok",
     "timestamp": 1724691149301,
     "user": {
      "displayName": "Đặng Thị Kiêm Hồng",
      "userId": "05445281411830122382"
     },
     "user_tz": -420
    },
    "id": "lj_FP71DmlZh",
    "outputId": "764d8e31-9ffb-4297-ea0a-90f2510ee8b3"
   },
   "outputs": [
    {
     "data": {
      "text/plain": [
       "array([[0.21428571],\n",
       "       [0.5       ],\n",
       "       [0.57142857],\n",
       "       [0.57142857],\n",
       "       [0.21428571],\n",
       "       [0.18181818],\n",
       "       [0.        ],\n",
       "       [0.        ],\n",
       "       [0.        ],\n",
       "       [0.        ],\n",
       "       [0.        ],\n",
       "       [0.28571429]])"
      ]
     },
     "execution_count": 34,
     "metadata": {},
     "output_type": "execute_result"
    }
   ],
   "source": [
    "y_test"
   ]
  },
  {
   "cell_type": "code",
   "execution_count": 35,
   "metadata": {
    "colab": {
     "base_uri": "https://localhost:8080/"
    },
    "executionInfo": {
     "elapsed": 9,
     "status": "ok",
     "timestamp": 1724691184068,
     "user": {
      "displayName": "Đặng Thị Kiêm Hồng",
      "userId": "05445281411830122382"
     },
     "user_tz": -420
    },
    "id": "ppM0TiIUmu1Y",
    "outputId": "4bd143b1-74e5-4413-d662-63cc6d6d4953"
   },
   "outputs": [
    {
     "name": "stdout",
     "output_type": "stream",
     "text": [
      "x_train.shape (111, 9, 5)\n",
      "y_train.shape (111, 1)\n"
     ]
    }
   ],
   "source": [
    "#get_train_data\n",
    "data_windows = []\n",
    "for i in range(len_train - sequence_length):\n",
    "    data_windows.append(data_train[i:i+sequence_length])\n",
    "data_windows = np.array(data_windows).astype(float)\n",
    "\n",
    "window_data=data_windows\n",
    "win_num=window_data.shape[0]\n",
    "col_num=window_data.shape[2]\n",
    "\n",
    "normalised_data = []\n",
    "\n",
    "for win_i in range(0,win_num):\n",
    "    normalised_window = []\n",
    "    for col_i in range(0,1):#col_num):\n",
    "      temp_col=window_data[win_i,:,col_i]\n",
    "      temp_min=min(temp_col)\n",
    "      if col_i==0:\n",
    "        record_min.append(temp_min)#record min\n",
    "      temp_col=temp_col-temp_min\n",
    "      temp_max=max(temp_col)\n",
    "      if col_i==0:\n",
    "        record_max.append(temp_max)#record max\n",
    "      temp_col=temp_col/temp_max\n",
    "      normalised_window.append(temp_col)\n",
    "    for col_i in range(1,col_num):\n",
    "      temp_col=window_data[win_i,:,col_i]\n",
    "      normalised_window.append(temp_col)\n",
    "    normalised_window = np.array(normalised_window).T\n",
    "    normalised_data.append(normalised_window)\n",
    "normalised_data=np.array(normalised_data)\n",
    "\n",
    "# normalised_data=window_data\n",
    "data_windows=normalised_data\n",
    "x_train = data_windows[:, :-1]\n",
    "y_train = data_windows[:, -1,[0]]\n",
    "print('x_train.shape',x_train.shape)\n",
    "print('y_train.shape',y_train.shape)"
   ]
  },
  {
   "cell_type": "code",
   "execution_count": 36,
   "metadata": {
    "colab": {
     "base_uri": "https://localhost:8080/"
    },
    "executionInfo": {
     "elapsed": 565,
     "status": "ok",
     "timestamp": 1724691207468,
     "user": {
      "displayName": "Đặng Thị Kiêm Hồng",
      "userId": "05445281411830122382"
     },
     "user_tz": -420
    },
    "id": "GFqvLUWNm0l2",
    "outputId": "038cb8d3-5acd-4db3-c182-b994dddb3a17"
   },
   "outputs": [
    {
     "data": {
      "text/plain": [
       "array([[ 0.        ,  0.212     ,  0.1244    ,  0.09866667,  0.148     ],\n",
       "       [ 0.15384615,  0.        , -0.1366    ,  0.4033    ,  0.064125  ],\n",
       "       [ 0.36923077,  0.07466667,  0.1591    ,  0.230825  ,  0.08373333],\n",
       "       [ 0.41538462,  0.43566667, -0.1591    ,  0.2172    , -0.1204    ],\n",
       "       [ 0.50769231, -0.16743333,  0.62885   ,  0.41565   ,  0.058475  ],\n",
       "       [ 0.66153846,  0.29086667,  0.        ,  0.2884    ,  0.        ],\n",
       "       [ 0.92307692,  0.53505   ,  0.        ,  0.35775   ,  0.06906667],\n",
       "       [ 0.89230769,  0.3803    ,  0.2787    ,  0.2971    , -0.33525   ],\n",
       "       [ 0.8       ,  0.26026667, -0.06005   ,  0.318     ,  0.2732    ]])"
      ]
     },
     "execution_count": 36,
     "metadata": {},
     "output_type": "execute_result"
    }
   ],
   "source": [
    "x_train[0]"
   ]
  },
  {
   "cell_type": "code",
   "execution_count": 37,
   "metadata": {
    "colab": {
     "base_uri": "https://localhost:8080/"
    },
    "executionInfo": {
     "elapsed": 515,
     "status": "ok",
     "timestamp": 1724691233690,
     "user": {
      "displayName": "Đặng Thị Kiêm Hồng",
      "userId": "05445281411830122382"
     },
     "user_tz": -420
    },
    "id": "iWNM8HBrm5kd",
    "outputId": "3f5ca25a-698f-4ca7-9d24-b6571aa7a092"
   },
   "outputs": [
    {
     "data": {
      "text/plain": [
       "array([[1.],\n",
       "       [1.],\n",
       "       [1.],\n",
       "       [1.],\n",
       "       [1.]])"
      ]
     },
     "execution_count": 37,
     "metadata": {},
     "output_type": "execute_result"
    }
   ],
   "source": [
    "y_train[0:5]"
   ]
  },
  {
   "cell_type": "code",
   "execution_count": 43,
   "metadata": {
    "colab": {
     "base_uri": "https://localhost:8080/"
    },
    "executionInfo": {
     "elapsed": 479,
     "status": "ok",
     "timestamp": 1724691767122,
     "user": {
      "displayName": "Đặng Thị Kiêm Hồng",
      "userId": "05445281411830122382"
     },
     "user_tz": -420
    },
    "id": "PaU_cGQ7o85Z",
    "outputId": "6f8aca5c-b8be-4593-a645-7a84a7fda7e4"
   },
   "outputs": [
    {
     "name": "stdout",
     "output_type": "stream",
     "text": [
      "9 0\n",
      "0 0\n"
     ]
    }
   ],
   "source": [
    "import numpy as np\n",
    "print(np.isnan(x_train).sum(), np.isinf(x_train).sum())\n",
    "print(np.isnan(y_train).sum(), np.isinf(y_train).sum())\n"
   ]
  },
  {
   "cell_type": "code",
   "execution_count": 44,
   "metadata": {
    "executionInfo": {
     "elapsed": 471,
     "status": "ok",
     "timestamp": 1724691781960,
     "user": {
      "displayName": "Đặng Thị Kiêm Hồng",
      "userId": "05445281411830122382"
     },
     "user_tz": -420
    },
    "id": "DOlYumaCo_i9"
   },
   "outputs": [],
   "source": [
    "x_train = np.nan_to_num(x_train)\n",
    "y_train = np.nan_to_num(y_train)\n"
   ]
  },
  {
   "cell_type": "code",
   "execution_count": 45,
   "metadata": {
    "colab": {
     "base_uri": "https://localhost:8080/"
    },
    "executionInfo": {
     "elapsed": 7798,
     "status": "ok",
     "timestamp": 1724691792822,
     "user": {
      "displayName": "Đặng Thị Kiêm Hồng",
      "userId": "05445281411830122382"
     },
     "user_tz": -420
    },
    "id": "EZGUCXe_nC1Q",
    "outputId": "244b4b97-dfeb-4d6c-fe66-bafe191c5271"
   },
   "outputs": [
    {
     "name": "stdout",
     "output_type": "stream",
     "text": [
      "Epoch 1/5\n",
      "\u001b[1m2/2\u001b[0m \u001b[32m━━━━━━━━━━━━━━━━━━━━\u001b[0m\u001b[37m\u001b[0m \u001b[1m6s\u001b[0m 27ms/step - loss: 0.3052\n",
      "Epoch 2/5\n",
      "\u001b[1m2/2\u001b[0m \u001b[32m━━━━━━━━━━━━━━━━━━━━\u001b[0m\u001b[37m\u001b[0m \u001b[1m0s\u001b[0m 32ms/step - loss: 0.2536\n",
      "Epoch 3/5\n",
      "\u001b[1m2/2\u001b[0m \u001b[32m━━━━━━━━━━━━━━━━━━━━\u001b[0m\u001b[37m\u001b[0m \u001b[1m0s\u001b[0m 27ms/step - loss: 0.2086\n",
      "Epoch 4/5\n",
      "\u001b[1m2/2\u001b[0m \u001b[32m━━━━━━━━━━━━━━━━━━━━\u001b[0m\u001b[37m\u001b[0m \u001b[1m0s\u001b[0m 31ms/step - loss: 0.1706 \n",
      "Epoch 5/5\n",
      "\u001b[1m2/2\u001b[0m \u001b[32m━━━━━━━━━━━━━━━━━━━━\u001b[0m\u001b[37m\u001b[0m \u001b[1m0s\u001b[0m 28ms/step - loss: 0.1524 \n"
     ]
    },
    {
     "data": {
      "text/plain": [
       "<keras.src.callbacks.history.History at 0x7e7c5d530d60>"
      ]
     },
     "execution_count": 45,
     "metadata": {},
     "output_type": "execute_result"
    }
   ],
   "source": [
    "# LSTM MODEL\n",
    "from keras.models import Sequential\n",
    "from keras.layers import LSTM, Dropout, Dense, Input\n",
    "model = Sequential()\n",
    "model.add(Input(shape=(input_timesteps, input_dim)))\n",
    "model.add(LSTM(neurons, input_shape=(input_timesteps, input_dim), return_sequences = True))\n",
    "model.add(Dropout(drop_out))\n",
    "model.add(LSTM(neurons,return_sequences = True))\n",
    "model.add(LSTM(neurons,return_sequences =False))\n",
    "model.add(Dropout(drop_out))\n",
    "model.add(Dense(dense_output, activation='linear'))\n",
    "# Compile model\n",
    "model.compile(loss='mean_squared_error',\n",
    "                optimizer='adam')\n",
    "# Fit the model\n",
    "model.fit(x_train,y_train,epochs=epochs,batch_size=batch_size)\n",
    "\n",
    "\n",
    "# In[30]:\n"
   ]
  },
  {
   "cell_type": "code",
   "execution_count": 46,
   "metadata": {
    "colab": {
     "base_uri": "https://localhost:8080/"
    },
    "executionInfo": {
     "elapsed": 9489,
     "status": "ok",
     "timestamp": 1724691831761,
     "user": {
      "displayName": "Đặng Thị Kiêm Hồng",
      "userId": "05445281411830122382"
     },
     "user_tz": -420
    },
    "id": "o4zP_O4gF2_O",
    "outputId": "62c83c57-5c80-48dd-dd76-03248b168dac"
   },
   "outputs": [
    {
     "name": "stdout",
     "output_type": "stream",
     "text": [
      "Epoch 1/5\n",
      "\u001b[1m2/2\u001b[0m \u001b[32m━━━━━━━━━━━━━━━━━━━━\u001b[0m\u001b[37m\u001b[0m \u001b[1m5s\u001b[0m 32ms/step - loss: 0.3090\n",
      "Epoch 2/5\n",
      "\u001b[1m2/2\u001b[0m \u001b[32m━━━━━━━━━━━━━━━━━━━━\u001b[0m\u001b[37m\u001b[0m \u001b[1m0s\u001b[0m 23ms/step - loss: 0.2573\n",
      "Epoch 3/5\n",
      "\u001b[1m2/2\u001b[0m \u001b[32m━━━━━━━━━━━━━━━━━━━━\u001b[0m\u001b[37m\u001b[0m \u001b[1m0s\u001b[0m 24ms/step - loss: 0.2072 \n",
      "Epoch 4/5\n",
      "\u001b[1m2/2\u001b[0m \u001b[32m━━━━━━━━━━━━━━━━━━━━\u001b[0m\u001b[37m\u001b[0m \u001b[1m0s\u001b[0m 23ms/step - loss: 0.1685\n",
      "Epoch 5/5\n",
      "\u001b[1m2/2\u001b[0m \u001b[32m━━━━━━━━━━━━━━━━━━━━\u001b[0m\u001b[37m\u001b[0m \u001b[1m0s\u001b[0m 28ms/step - loss: 0.1511 \n",
      "\u001b[1m1/1\u001b[0m \u001b[32m━━━━━━━━━━━━━━━━━━━━\u001b[0m\u001b[37m\u001b[0m \u001b[1m1s\u001b[0m 678ms/step\n",
      "\u001b[1m1/1\u001b[0m \u001b[32m━━━━━━━━━━━━━━━━━━━━\u001b[0m\u001b[37m\u001b[0m \u001b[1m0s\u001b[0m 468ms/step\n",
      "\u001b[1m1/1\u001b[0m \u001b[32m━━━━━━━━━━━━━━━━━━━━\u001b[0m\u001b[37m\u001b[0m \u001b[1m0s\u001b[0m 28ms/step\n",
      "\u001b[1m1/1\u001b[0m \u001b[32m━━━━━━━━━━━━━━━━━━━━\u001b[0m\u001b[37m\u001b[0m \u001b[1m0s\u001b[0m 25ms/step\n",
      "\u001b[1m1/1\u001b[0m \u001b[32m━━━━━━━━━━━━━━━━━━━━\u001b[0m\u001b[37m\u001b[0m \u001b[1m0s\u001b[0m 22ms/step\n",
      "\u001b[1m1/1\u001b[0m \u001b[32m━━━━━━━━━━━━━━━━━━━━\u001b[0m\u001b[37m\u001b[0m \u001b[1m0s\u001b[0m 23ms/step\n",
      "\u001b[1m1/1\u001b[0m \u001b[32m━━━━━━━━━━━━━━━━━━━━\u001b[0m\u001b[37m\u001b[0m \u001b[1m0s\u001b[0m 23ms/step\n",
      "\u001b[1m1/1\u001b[0m \u001b[32m━━━━━━━━━━━━━━━━━━━━\u001b[0m\u001b[37m\u001b[0m \u001b[1m0s\u001b[0m 21ms/step\n",
      "\u001b[1m1/1\u001b[0m \u001b[32m━━━━━━━━━━━━━━━━━━━━\u001b[0m\u001b[37m\u001b[0m \u001b[1m0s\u001b[0m 22ms/step\n",
      "\u001b[1m1/1\u001b[0m \u001b[32m━━━━━━━━━━━━━━━━━━━━\u001b[0m\u001b[37m\u001b[0m \u001b[1m0s\u001b[0m 21ms/step\n",
      "\u001b[1m1/1\u001b[0m \u001b[32m━━━━━━━━━━━━━━━━━━━━\u001b[0m\u001b[37m\u001b[0m \u001b[1m0s\u001b[0m 30ms/step\n",
      "\u001b[1m1/1\u001b[0m \u001b[32m━━━━━━━━━━━━━━━━━━━━\u001b[0m\u001b[37m\u001b[0m \u001b[1m0s\u001b[0m 21ms/step\n",
      "\u001b[1m1/1\u001b[0m \u001b[32m━━━━━━━━━━━━━━━━━━━━\u001b[0m\u001b[37m\u001b[0m \u001b[1m0s\u001b[0m 23ms/step\n",
      "[[array([0.53139555], dtype=float32)], [array([0.50457644], dtype=float32)], [array([0.4605826], dtype=float32)], [array([0.47018814], dtype=float32)], [array([0.4766644], dtype=float32)], [array([0.4775801], dtype=float32)], [array([0.44819713], dtype=float32)], [array([0.48336807], dtype=float32)], [array([0.5173541], dtype=float32)], [array([0.52785647], dtype=float32)], [array([0.53498966], dtype=float32)], [array([0.4755983], dtype=float32)]]\n",
      "[87943.95377635956, 87906.4070224762, 87844.81565952301, 87858.2633972168, 87867.33015179634, 88025.33811032772, 87993.0168390274, 87790.02084136009, 87662.1478497982, 87669.49952840805, 87674.4927585125, 87632.91881382465]\n",
      "MSE [102904.55598924]\n",
      "accuracy [0.99670274]\n",
      "mean_error_percent [0.00329726]\n"
     ]
    }
   ],
   "source": [
    "# LSTM MODEL\n",
    "model = Sequential()\n",
    "model.add(LSTM(neurons, input_shape=(input_timesteps, input_dim), return_sequences = True))\n",
    "model.add(Dropout(drop_out))\n",
    "model.add(LSTM(neurons,return_sequences = True))\n",
    "model.add(LSTM(neurons,return_sequences =False))\n",
    "model.add(Dropout(drop_out))\n",
    "model.add(Dense(dense_output, activation='linear'))\n",
    "# Compile model\n",
    "model.compile(loss='mean_squared_error',\n",
    "                optimizer='adam')\n",
    "# Fit the model\n",
    "model.fit(x_train,y_train,epochs=epochs,batch_size=batch_size)\n",
    "\n",
    "\n",
    "# In[30]:\n",
    "\n",
    "\n",
    "model.predict(x_test)\n",
    "\n",
    "\n",
    "# In[31]:\n",
    "\n",
    "\n",
    "#multi sequence predict\n",
    "data=x_test\n",
    "prediction_seqs = []\n",
    "window_size=sequence_length\n",
    "pre_win_num=int(len(data)/prediction_len)\n",
    "\n",
    "for i in range(0,pre_win_num):\n",
    "    curr_frame = data[i*prediction_len]\n",
    "    predicted = []\n",
    "    for j in range(0,prediction_len):\n",
    "      temp=model.predict(curr_frame[newaxis,:,:])[0]\n",
    "      predicted.append(temp)\n",
    "      curr_frame = curr_frame[1:]\n",
    "      curr_frame = np.insert(curr_frame, [window_size-2], predicted[-1], axis=0)\n",
    "    prediction_seqs.append(predicted)\n",
    "\n",
    "print(prediction_seqs)\n",
    "\n",
    "\n",
    "# In[32]:\n",
    "\n",
    "\n",
    "#de_predicted\n",
    "de_predicted=[]\n",
    "len_pre_win=int(len(data)/prediction_len)\n",
    "len_pre=prediction_len\n",
    "\n",
    "m=0\n",
    "for i in range(0,len_pre_win):\n",
    "    for j in range(0,len_pre):\n",
    "      de_predicted.append(prediction_seqs[i][j][0]*record_max[m]+record_min[m])\n",
    "      m=m+1\n",
    "print(de_predicted)\n",
    "\n",
    "\n",
    "# In[33]:\n",
    "\n",
    "\n",
    "error = []\n",
    "diff=y_test.shape[0]-prediction_len*pre_win_num\n",
    "\n",
    "for i in range(y_test_ori.shape[0]-diff):\n",
    "    error.append(y_test_ori[i,] - de_predicted[i])\n",
    "\n",
    "squaredError = []\n",
    "absError = []\n",
    "for val in error:\n",
    "    squaredError.append(val * val)\n",
    "    absError.append(abs(val))\n",
    "\n",
    "error_percent=[]\n",
    "for i in range(len(error)):\n",
    "    val=absError[i]/y_test_ori[i,]\n",
    "    val=abs(val)\n",
    "    error_percent.append(val)\n",
    "\n",
    "mean_error_percent=sum(error_percent) / len(error_percent)\n",
    "accuracy=1-mean_error_percent\n",
    "\n",
    "MSE=sum(squaredError) / len(squaredError)\n",
    "\n",
    "print(\"MSE\",MSE)\n",
    "print('accuracy',accuracy)\n",
    "print('mean_error_percent',mean_error_percent)\n",
    "\n"
   ]
  },
  {
   "cell_type": "markdown",
   "metadata": {
    "id": "-INN6ZuFznzb"
   },
   "source": [
    "**DP-LSTM**"
   ]
  },
  {
   "cell_type": "code",
   "execution_count": 48,
   "metadata": {
    "executionInfo": {
     "elapsed": 412,
     "status": "ok",
     "timestamp": 1724692267085,
     "user": {
      "displayName": "Đặng Thị Kiêm Hồng",
      "userId": "05445281411830122382"
     },
     "user_tz": -420
    },
    "id": "aycQdJR-q3Jp"
   },
   "outputs": [],
   "source": [
    "import json\n",
    "import time\n",
    "import math\n",
    "import matplotlib.pyplot as plt\n",
    "import numpy as np\n",
    "import pandas as pd\n",
    "import datetime as dt\n",
    "from numpy import newaxis\n",
    "from keras.layers import Dense, Activation, Dropout, LSTM\n",
    "from keras.models import Sequential, load_model\n",
    "from keras.callbacks import EarlyStopping, ModelCheckpoint\n",
    "from sklearn.linear_model import LinearRegression\n",
    "from sklearn.ensemble import RandomForestRegressor\n",
    "from sklearn.linear_model import Ridge\n",
    "\n",
    "from math import pi,sqrt,exp,pow,log\n",
    "from numpy.linalg import det, inv\n",
    "from abc import ABCMeta, abstractmethod\n",
    "from sklearn import cluster\n",
    "\n",
    "import statsmodels.api as sm\n",
    "import scipy.stats as scs\n",
    "import scipy.optimize as sco\n",
    "import scipy.interpolate as sci\n",
    "from scipy import stats\n",
    "\n",
    "\n",
    "# In[3]:\n",
    "\n",
    "\n",
    "df = pd.read_csv(\"/content/vcb.csv\")\n",
    "\n",
    "cafef_var=np.var(df.cafef_mean_compound)\n",
    "vietstock_var=np.var(df.vietstock_mean_compound)\n",
    "economy_var=np.var(df.economy_mean_compound)\n",
    "ktck_var=np.var(df.ktck_mean_compound)\n",
    "\n",
    "mu=0\n",
    "\n",
    "noise=0.1\n",
    "\n",
    "sigma_cafef=noise*cafef_var\n",
    "sigma_vietstock=noise*vietstock_var\n",
    "sigma_economy=noise*economy_var\n",
    "sigma_ktck=noise*ktck_var\n",
    "\n",
    "n=df.shape[0]\n",
    "\n",
    "df_noise=pd.DataFrame()\n",
    "\n",
    "df_noise['cafef_noise']=df['cafef_mean_compound']\n",
    "df_noise['vietstock_noise']=df['vietstock_mean_compound']\n",
    "df_noise['economy_noise']=df['economy_mean_compound']\n",
    "df_noise['ktck_noise']=df['ktck_mean_compound']\n",
    "\n",
    "for i in range(0,n):\n",
    "    df_noise['cafef_noise'][i]+=np.random.normal(mu,sigma_cafef)\n",
    "    df_noise['vietstock_noise'][i]+=np.random.normal(mu,sigma_vietstock)\n",
    "    df_noise['economy_noise'][i]+=np.random.normal(mu,sigma_economy)\n",
    "    df_noise['ktck_noise'][i]+=np.random.normal(mu,sigma_ktck)\n",
    "\n",
    "\n",
    "df_noise.to_csv(\"/content/source_price_noise0.csv\")\n",
    "dfn=pd.read_csv(\"/content/source_price_noise0.csv\",index_col=0)"
   ]
  },
  {
   "cell_type": "code",
   "execution_count": 49,
   "metadata": {
    "executionInfo": {
     "elapsed": 591,
     "status": "ok",
     "timestamp": 1724692588815,
     "user": {
      "displayName": "Đặng Thị Kiêm Hồng",
      "userId": "05445281411830122382"
     },
     "user_tz": -420
    },
    "id": "MefhEjJ3sFp7"
   },
   "outputs": [],
   "source": [
    "df_1n=pd.DataFrame()\n",
    "df_1n['cafef']=df_noise['cafef_noise']\n",
    "df_1n['vietstock']=df['vietstock_mean_compound']\n",
    "df_1n['economy']=df['economy_mean_compound']\n",
    "df_1n['ktck']=df['ktck_mean_compound']\n",
    "df_1n['price']=df['Adj Close']\n",
    "\n",
    "df_2n=pd.DataFrame()\n",
    "df_2n['cafef']=df['cafef_mean_compound']\n",
    "df_2n['vietstock']=df_noise['vietstock_noise']\n",
    "df_2n['economy']=df['economy_mean_compound']\n",
    "df_2n['ktck']=df['ktck_mean_compound']\n",
    "df_2n['price']=df['Adj Close']\n",
    "\n",
    "df_3n=pd.DataFrame()\n",
    "df_3n['cafef']=df['cafef_mean_compound']\n",
    "df_3n['vietstock']=df['vietstock_mean_compound']\n",
    "df_3n['economy']=df_noise['economy_noise']\n",
    "df_3n['ktck']=df['ktck_mean_compound']\n",
    "df_3n['price']=df['Adj Close']\n",
    "\n",
    "df_4n=pd.DataFrame()\n",
    "df_4n['cafef']=df['cafef_mean_compound']\n",
    "df_4n['vietstock']=df['vietstock_mean_compound']\n",
    "df_4n['economy']=df['economy_mean_compound']\n",
    "df_4n['ktck']=df_noise['ktck_noise']\n",
    "df_4n['price']=df['Adj Close']\n",
    "\n",
    "df1=df_1n\n",
    "df2=df_2n\n",
    "df3=df_3n\n",
    "df4=df_4n"
   ]
  },
  {
   "cell_type": "code",
   "execution_count": 50,
   "metadata": {
    "colab": {
     "base_uri": "https://localhost:8080/"
    },
    "executionInfo": {
     "elapsed": 532,
     "status": "ok",
     "timestamp": 1724692655967,
     "user": {
      "displayName": "Đặng Thị Kiêm Hồng",
      "userId": "05445281411830122382"
     },
     "user_tz": -420
    },
    "id": "QoW_OZF3sWIW",
    "outputId": "2f147e1f-151f-4a19-a52c-2a12efb538ae"
   },
   "outputs": [
    {
     "name": "stdout",
     "output_type": "stream",
     "text": [
      "x_train1.shape (111, 9, 5)\n",
      "y_train1.shape (111, 1)\n"
     ]
    }
   ],
   "source": [
    "\n",
    "split = (0.85)\n",
    "sequence_length=10;\n",
    "normalise= True\n",
    "batch_size=100;\n",
    "input_dim=5\n",
    "input_timesteps=9\n",
    "neurons=50\n",
    "epochs=5\n",
    "prediction_len=1\n",
    "dense_output=1\n",
    "drop_out=0\n",
    "\n",
    "\n",
    "# In[5]:\n",
    "\n",
    "\n",
    "i_split = int(len(df1) * split)\n",
    "\n",
    "cols = ['price','cafef','vietstock','economy','ktck']\n",
    "data_train_1 = df1.get(cols).values[:i_split]\n",
    "data_train_2 = df2.get(cols).values[:i_split]\n",
    "data_train_3 = df3.get(cols).values[:i_split]\n",
    "data_train_4 = df4.get(cols).values[:i_split]\n",
    "\n",
    "len_train  = len(data_train_1)\n",
    "len_train_windows = None\n",
    "\n",
    "\n",
    "# In[6]:\n",
    "\n",
    "\n",
    "#get_train_data\n",
    "data_windows = []\n",
    "for i in range(len_train - sequence_length):\n",
    "    data_windows.append(data_train_1[i:i+sequence_length])\n",
    "data_windows = np.array(data_windows).astype(float)\n",
    "\n",
    "window_data=data_windows\n",
    "win_num=window_data.shape[0]\n",
    "col_num=window_data.shape[2]\n",
    "\n",
    "normalised_data = []\n",
    "record_min=[]\n",
    "record_max=[]\n",
    "\n",
    "for win_i in range(0,win_num):\n",
    "    normalised_window = []\n",
    "    for col_i in range(0,1):#col_num):\n",
    "      temp_col=window_data[win_i,:,col_i]\n",
    "      temp_min=min(temp_col)\n",
    "      if col_i==0:\n",
    "        record_min.append(temp_min)#record min\n",
    "      temp_col=temp_col-temp_min\n",
    "      temp_max=max(temp_col)\n",
    "      if col_i==0:\n",
    "        record_max.append(temp_max)#record max\n",
    "      temp_col=temp_col/temp_max\n",
    "      normalised_window.append(temp_col)\n",
    "    for col_i in range(1,col_num):\n",
    "      temp_col=window_data[win_i,:,col_i]\n",
    "      normalised_window.append(temp_col)\n",
    "    normalised_window = np.array(normalised_window).T\n",
    "    normalised_data.append(normalised_window)\n",
    "normalised_data=np.array(normalised_data)\n",
    "\n",
    "# normalised_data=window_data\n",
    "data_windows=normalised_data\n",
    "x_train1 = data_windows[:, :-1]\n",
    "y_train1 = data_windows[:, -1,[0]]\n",
    "print('x_train1.shape',x_train1.shape)\n",
    "print('y_train1.shape',y_train1.shape)\n"
   ]
  },
  {
   "cell_type": "code",
   "execution_count": 51,
   "metadata": {
    "colab": {
     "base_uri": "https://localhost:8080/"
    },
    "executionInfo": {
     "elapsed": 12,
     "status": "ok",
     "timestamp": 1724692673269,
     "user": {
      "displayName": "Đặng Thị Kiêm Hồng",
      "userId": "05445281411830122382"
     },
     "user_tz": -420
    },
    "id": "ceiZBEAbsaZ0",
    "outputId": "58e527d8-4dea-4512-8f04-3d497abe9a18"
   },
   "outputs": [
    {
     "name": "stdout",
     "output_type": "stream",
     "text": [
      "x_train2.shape (111, 9, 5)\n",
      "y_train2.shape (111, 1)\n"
     ]
    }
   ],
   "source": [
    "#get_train_data\n",
    "data_windows = []\n",
    "for i in range(len_train - sequence_length):\n",
    "    data_windows.append(data_train_2[i:i+sequence_length])\n",
    "data_windows = np.array(data_windows).astype(float)\n",
    "\n",
    "window_data=data_windows\n",
    "win_num=window_data.shape[0]\n",
    "col_num=window_data.shape[2]\n",
    "\n",
    "normalised_data = []\n",
    "record_min=[]\n",
    "record_max=[]\n",
    "\n",
    "for win_i in range(0,win_num):\n",
    "    normalised_window = []\n",
    "    for col_i in range(0,1):#col_num):\n",
    "      temp_col=window_data[win_i,:,col_i]\n",
    "      temp_min=min(temp_col)\n",
    "      if col_i==0:\n",
    "        record_min.append(temp_min)#record min\n",
    "      temp_col=temp_col-temp_min\n",
    "      temp_max=max(temp_col)\n",
    "      if col_i==0:\n",
    "        record_max.append(temp_max)#record max\n",
    "      temp_col=temp_col/temp_max\n",
    "      normalised_window.append(temp_col)\n",
    "    for col_i in range(1,col_num):\n",
    "      temp_col=window_data[win_i,:,col_i]\n",
    "      normalised_window.append(temp_col)\n",
    "    normalised_window = np.array(normalised_window).T\n",
    "    normalised_data.append(normalised_window)\n",
    "normalised_data=np.array(normalised_data)\n",
    "\n",
    "# normalised_data=window_data\n",
    "data_windows=normalised_data\n",
    "x_train2 = data_windows[:, :-1]\n",
    "y_train2 = data_windows[:, -1,[0]]\n",
    "print('x_train2.shape',x_train2.shape)\n",
    "print('y_train2.shape',y_train2.shape)\n"
   ]
  },
  {
   "cell_type": "code",
   "execution_count": 52,
   "metadata": {
    "colab": {
     "base_uri": "https://localhost:8080/"
    },
    "executionInfo": {
     "elapsed": 631,
     "status": "ok",
     "timestamp": 1724692690837,
     "user": {
      "displayName": "Đặng Thị Kiêm Hồng",
      "userId": "05445281411830122382"
     },
     "user_tz": -420
    },
    "id": "HlBWItwTseZ7",
    "outputId": "01933a76-7a34-499f-878a-cf73eaaa572d"
   },
   "outputs": [
    {
     "name": "stdout",
     "output_type": "stream",
     "text": [
      "x_train3.shape (111, 9, 5)\n",
      "y_train3.shape (111, 1)\n"
     ]
    }
   ],
   "source": [
    "#get_train_data\n",
    "data_windows = []\n",
    "for i in range(len_train - sequence_length):\n",
    "    data_windows.append(data_train_3[i:i+sequence_length])\n",
    "data_windows = np.array(data_windows).astype(float)\n",
    "\n",
    "window_data=data_windows\n",
    "win_num=window_data.shape[0]\n",
    "col_num=window_data.shape[2]\n",
    "\n",
    "normalised_data = []\n",
    "record_min=[]\n",
    "record_max=[]\n",
    "\n",
    "for win_i in range(0,win_num):\n",
    "    normalised_window = []\n",
    "    for col_i in range(0,1):#col_num):\n",
    "      temp_col=window_data[win_i,:,col_i]\n",
    "      temp_min=min(temp_col)\n",
    "      if col_i==0:\n",
    "        record_min.append(temp_min)#record min\n",
    "      temp_col=temp_col-temp_min\n",
    "      temp_max=max(temp_col)\n",
    "      if col_i==0:\n",
    "        record_max.append(temp_max)#record max\n",
    "      temp_col=temp_col/temp_max\n",
    "      normalised_window.append(temp_col)\n",
    "    for col_i in range(1,col_num):\n",
    "      temp_col=window_data[win_i,:,col_i]\n",
    "      normalised_window.append(temp_col)\n",
    "    normalised_window = np.array(normalised_window).T\n",
    "    normalised_data.append(normalised_window)\n",
    "normalised_data=np.array(normalised_data)\n",
    "\n",
    "# normalised_data=window_data\n",
    "data_windows=normalised_data\n",
    "x_train3 = data_windows[:, :-1]\n",
    "y_train3 = data_windows[:, -1,[0]]\n",
    "print('x_train3.shape',x_train3.shape)\n",
    "print('y_train3.shape',y_train3.shape)"
   ]
  },
  {
   "cell_type": "code",
   "execution_count": 53,
   "metadata": {
    "colab": {
     "base_uri": "https://localhost:8080/"
    },
    "executionInfo": {
     "elapsed": 547,
     "status": "ok",
     "timestamp": 1724692710817,
     "user": {
      "displayName": "Đặng Thị Kiêm Hồng",
      "userId": "05445281411830122382"
     },
     "user_tz": -420
    },
    "id": "FhFtmbVOsjbV",
    "outputId": "0bb0dd9e-64d6-4a6d-8988-e0683e6379e9"
   },
   "outputs": [
    {
     "name": "stdout",
     "output_type": "stream",
     "text": [
      "x_train4.shape (111, 9, 5)\n",
      "y_train4.shape (111, 1)\n"
     ]
    }
   ],
   "source": [
    "\n",
    "#get_train_data\n",
    "\n",
    "data_windows = []\n",
    "for i in range(len_train - sequence_length):\n",
    "    data_windows.append(data_train_4[i:i+sequence_length])\n",
    "data_windows = np.array(data_windows).astype(float)\n",
    "\n",
    "window_data=data_windows\n",
    "win_num=window_data.shape[0]\n",
    "col_num=window_data.shape[2]\n",
    "\n",
    "normalised_data = []\n",
    "record_min=[]\n",
    "record_max=[]\n",
    "\n",
    "for win_i in range(0,win_num):\n",
    "    normalised_window = []\n",
    "    for col_i in range(0,1):#col_num):\n",
    "      temp_col=window_data[win_i,:,col_i]\n",
    "      temp_min=min(temp_col)\n",
    "      if col_i==0:\n",
    "        record_min.append(temp_min)#record min\n",
    "      temp_col=temp_col-temp_min\n",
    "      temp_max=max(temp_col)\n",
    "      if col_i==0:\n",
    "        record_max.append(temp_max)#record max\n",
    "      temp_col=temp_col/temp_max\n",
    "      normalised_window.append(temp_col)\n",
    "    for col_i in range(1,col_num):\n",
    "      temp_col=window_data[win_i,:,col_i]\n",
    "      normalised_window.append(temp_col)\n",
    "    normalised_window = np.array(normalised_window).T\n",
    "    normalised_data.append(normalised_window)\n",
    "normalised_data=np.array(normalised_data)\n",
    "\n",
    "# normalised_data=window_data\n",
    "data_windows=normalised_data\n",
    "x_train4 = data_windows[:, :-1]\n",
    "y_train4 = data_windows[:, -1,[0]]\n",
    "print('x_train4.shape',x_train4.shape)\n",
    "print('y_train4.shape',y_train4.shape)"
   ]
  },
  {
   "cell_type": "code",
   "execution_count": 54,
   "metadata": {
    "colab": {
     "base_uri": "https://localhost:8080/"
    },
    "executionInfo": {
     "elapsed": 409,
     "status": "ok",
     "timestamp": 1724692726542,
     "user": {
      "displayName": "Đặng Thị Kiêm Hồng",
      "userId": "05445281411830122382"
     },
     "user_tz": -420
    },
    "id": "lLQqJS-rsnBR",
    "outputId": "14b7e6f0-ad41-4ddc-a1ae-f2d4dd081628"
   },
   "outputs": [
    {
     "data": {
      "text/plain": [
       "numpy.ndarray"
      ]
     },
     "execution_count": 54,
     "metadata": {},
     "output_type": "execute_result"
    }
   ],
   "source": [
    "\n",
    "##concat train window\n",
    "type(x_train4)\n"
   ]
  },
  {
   "cell_type": "code",
   "execution_count": 55,
   "metadata": {
    "colab": {
     "base_uri": "https://localhost:8080/"
    },
    "executionInfo": {
     "elapsed": 1359,
     "status": "ok",
     "timestamp": 1724692749412,
     "user": {
      "displayName": "Đặng Thị Kiêm Hồng",
      "userId": "05445281411830122382"
     },
     "user_tz": -420
    },
    "id": "y890swuIssWi",
    "outputId": "e9e95f64-d0b4-49da-d888-fe0bb870634b"
   },
   "outputs": [
    {
     "name": "stdout",
     "output_type": "stream",
     "text": [
      "(444, 9, 5)\n",
      "(444, 1)\n"
     ]
    }
   ],
   "source": [
    "\n",
    "x_train_t=np.concatenate((x_train1,x_train2,x_train3,x_train4),axis=0)\n",
    "print(x_train_t.shape)\n",
    "x_train=x_train_t\n",
    "\n",
    "y_train_t=np.concatenate((y_train1,y_train2,y_train3,y_train4),axis=0)\n",
    "print(y_train_t.shape)\n",
    "y_train=y_train_t\n"
   ]
  },
  {
   "cell_type": "code",
   "execution_count": 57,
   "metadata": {
    "colab": {
     "base_uri": "https://localhost:8080/"
    },
    "executionInfo": {
     "elapsed": 476,
     "status": "ok",
     "timestamp": 1724693148446,
     "user": {
      "displayName": "Đặng Thị Kiêm Hồng",
      "userId": "05445281411830122382"
     },
     "user_tz": -420
    },
    "id": "rie3tJcbuOZX",
    "outputId": "746e45f5-ba0d-4cf0-c4b5-58b0821d4516"
   },
   "outputs": [
    {
     "name": "stdout",
     "output_type": "stream",
     "text": [
      "Index(['Unnamed: 0', 'Date', 'Adj Close', 'cafef_mean_compound',\n",
      "       'vietstock_mean_compound', 'economy_mean_compound',\n",
      "       'ktck_mean_compound'],\n",
      "      dtype='object')\n"
     ]
    }
   ],
   "source": [
    "dataframe = pd.read_csv(\"/content/vcb.csv\")\n",
    "print(dataframe.columns)  # Check the actual number of columns"
   ]
  },
  {
   "cell_type": "code",
   "execution_count": 66,
   "metadata": {
    "executionInfo": {
     "elapsed": 602,
     "status": "ok",
     "timestamp": 1724694035218,
     "user": {
      "displayName": "Đặng Thị Kiêm Hồng",
      "userId": "05445281411830122382"
     },
     "user_tz": -420
    },
    "id": "-6kXMrp0wxhU"
   },
   "outputs": [],
   "source": [
    "dataframe= pd.read_csv(\"/content/vcb.csv\")\n",
    "dataframe.columns=['Unnamed: 0', 'Date', 'Adj Close', 'cafef_mean_compound',\n",
    "       'vietstock_mean_compound', 'economy_mean_compound',\n",
    "       'ktck_mean_compound']\n",
    "cols = ['Adj Close', 'cafef_mean_compound',\n",
    "       'vietstock_mean_compound', 'economy_mean_compound',\n",
    "       'ktck_mean_compound']\n",
    "len_dataframe=dataframe.shape[0]"
   ]
  },
  {
   "cell_type": "code",
   "execution_count": 67,
   "metadata": {
    "colab": {
     "base_uri": "https://localhost:8080/"
    },
    "executionInfo": {
     "elapsed": 670,
     "status": "ok",
     "timestamp": 1724694038088,
     "user": {
      "displayName": "Đặng Thị Kiêm Hồng",
      "userId": "05445281411830122382"
     },
     "user_tz": -420
    },
    "id": "HEd7XAzxtKd_",
    "outputId": "8bc1f7f2-acd7-4517-df40-cec528f8bafc"
   },
   "outputs": [
    {
     "name": "stdout",
     "output_type": "stream",
     "text": [
      "data_test.shape (22, 5)\n"
     ]
    }
   ],
   "source": [
    "\n",
    "len_dataframe=dataframe.shape[0]\n",
    "\n",
    "i_split = int(len(dataframe) * split)\n",
    "data_test  = dataframe.get(cols).values[i_split:]\n",
    "\n",
    "len_test   = len(data_test)\n",
    "len_train_windows = None\n",
    "\n",
    "print('data_test.shape',data_test.shape)"
   ]
  },
  {
   "cell_type": "code",
   "execution_count": 68,
   "metadata": {
    "colab": {
     "base_uri": "https://localhost:8080/"
    },
    "executionInfo": {
     "elapsed": 400,
     "status": "ok",
     "timestamp": 1724694041698,
     "user": {
      "displayName": "Đặng Thị Kiêm Hồng",
      "userId": "05445281411830122382"
     },
     "user_tz": -420
    },
    "id": "D78yV9-YxUC-",
    "outputId": "abad8616-b32e-4503-e70e-0766155abe1f"
   },
   "outputs": [
    {
     "name": "stdout",
     "output_type": "stream",
     "text": [
      "y_test_ori.shape (12, 1)\n"
     ]
    }
   ],
   "source": [
    "data_windows = []\n",
    "for i in range(len_test - sequence_length):\n",
    "    data_windows.append(data_test[i:i+sequence_length])\n",
    "\n",
    "data_windows = np.array(data_windows).astype(float)\n",
    "\n",
    "y_test_ori = data_windows[:, -1, [0]]\n",
    "print('y_test_ori.shape',y_test_ori.shape)\n"
   ]
  },
  {
   "cell_type": "code",
   "execution_count": 69,
   "metadata": {
    "colab": {
     "base_uri": "https://localhost:8080/"
    },
    "executionInfo": {
     "elapsed": 392,
     "status": "ok",
     "timestamp": 1724694056416,
     "user": {
      "displayName": "Đặng Thị Kiêm Hồng",
      "userId": "05445281411830122382"
     },
     "user_tz": -420
    },
    "id": "LKHybdQFxsLW",
    "outputId": "c5b305e0-a472-49f5-ea9a-8be7a423d0a1"
   },
   "outputs": [
    {
     "data": {
      "text/plain": [
       "array([[87500.],\n",
       "       [87900.],\n",
       "       [88000.],\n",
       "       [88000.],\n",
       "       [87500.],\n",
       "       [87700.],\n",
       "       [87500.],\n",
       "       [87500.],\n",
       "       [87300.],\n",
       "       [87300.],\n",
       "       [87300.],\n",
       "       [87500.]])"
      ]
     },
     "execution_count": 69,
     "metadata": {},
     "output_type": "execute_result"
    }
   ],
   "source": [
    "y_test_ori"
   ]
  },
  {
   "cell_type": "code",
   "execution_count": 70,
   "metadata": {
    "colab": {
     "base_uri": "https://localhost:8080/"
    },
    "executionInfo": {
     "elapsed": 605,
     "status": "ok",
     "timestamp": 1724694073436,
     "user": {
      "displayName": "Đặng Thị Kiêm Hồng",
      "userId": "05445281411830122382"
     },
     "user_tz": -420
    },
    "id": "Qq_5iMrzxwPL",
    "outputId": "8a84e3ad-a77a-406e-f15e-871b7576747f"
   },
   "outputs": [
    {
     "name": "stdout",
     "output_type": "stream",
     "text": [
      "x_test.shape (12, 9, 5)\n",
      "y_test.shape (12, 1)\n"
     ]
    }
   ],
   "source": [
    "window_data=data_windows\n",
    "win_num=window_data.shape[0]\n",
    "col_num=window_data.shape[2]\n",
    "normalised_data = []\n",
    "record_min=[]\n",
    "record_max=[]\n",
    "\n",
    "#normalize\n",
    "for win_i in range(0,win_num):\n",
    "    normalised_window = []\n",
    "    for col_i in range(0,1):#col_num):\n",
    "      temp_col=window_data[win_i,:,col_i]\n",
    "      temp_min=min(temp_col)\n",
    "      if col_i==0:\n",
    "        record_min.append(temp_min)#record min\n",
    "      temp_col=temp_col-temp_min\n",
    "      temp_max=max(temp_col)\n",
    "      if col_i==0:\n",
    "        record_max.append(temp_max)#record max\n",
    "      temp_col=temp_col/temp_max\n",
    "      normalised_window.append(temp_col)\n",
    "    for col_i in range(1,col_num):\n",
    "      temp_col=window_data[win_i,:,col_i]\n",
    "      normalised_window.append(temp_col)\n",
    "    normalised_window = np.array(normalised_window).T\n",
    "    normalised_data.append(normalised_window)\n",
    "normalised_data=np.array(normalised_data)\n",
    "\n",
    "# normalised_data=window_data\n",
    "data_windows=normalised_data#get_test_data\n",
    "x_test = data_windows[:, :-1]\n",
    "y_test = data_windows[:, -1, [0]]\n",
    "print('x_test.shape',x_test.shape)\n",
    "print('y_test.shape',y_test.shape)\n"
   ]
  },
  {
   "cell_type": "code",
   "execution_count": 72,
   "metadata": {
    "colab": {
     "base_uri": "https://localhost:8080/"
    },
    "executionInfo": {
     "elapsed": 428,
     "status": "ok",
     "timestamp": 1724694142430,
     "user": {
      "displayName": "Đặng Thị Kiêm Hồng",
      "userId": "05445281411830122382"
     },
     "user_tz": -420
    },
    "id": "Z9iapvbwyA0u",
    "outputId": "bd2e9e54-db5e-4bd0-e8cf-27d9a2d1fbe5"
   },
   "outputs": [
    {
     "name": "stdout",
     "output_type": "stream",
     "text": [
      "36 0\n",
      "0 0\n"
     ]
    }
   ],
   "source": [
    "import numpy as np\n",
    "print(np.isnan(x_train).sum(), np.isinf(x_train).sum())\n",
    "print(np.isnan(y_train).sum(), np.isinf(y_train).sum())"
   ]
  },
  {
   "cell_type": "code",
   "execution_count": 73,
   "metadata": {
    "executionInfo": {
     "elapsed": 12,
     "status": "ok",
     "timestamp": 1724694155951,
     "user": {
      "displayName": "Đặng Thị Kiêm Hồng",
      "userId": "05445281411830122382"
     },
     "user_tz": -420
    },
    "id": "07CsBsByyCf4"
   },
   "outputs": [],
   "source": [
    "x_train = np.nan_to_num(x_train)\n",
    "y_train = np.nan_to_num(y_train)"
   ]
  },
  {
   "cell_type": "code",
   "execution_count": 74,
   "metadata": {
    "colab": {
     "base_uri": "https://localhost:8080/"
    },
    "executionInfo": {
     "elapsed": 7402,
     "status": "ok",
     "timestamp": 1724694169916,
     "user": {
      "displayName": "Đặng Thị Kiêm Hồng",
      "userId": "05445281411830122382"
     },
     "user_tz": -420
    },
    "id": "JvQZ79uaxz9K",
    "outputId": "8eb8ab9d-9282-4ae8-fb82-c71d1839b452"
   },
   "outputs": [
    {
     "name": "stdout",
     "output_type": "stream",
     "text": [
      "Epoch 1/5\n",
      "\u001b[1m5/5\u001b[0m \u001b[32m━━━━━━━━━━━━━━━━━━━━\u001b[0m\u001b[37m\u001b[0m \u001b[1m6s\u001b[0m 20ms/step - loss: 0.3001\n",
      "Epoch 2/5\n",
      "\u001b[1m5/5\u001b[0m \u001b[32m━━━━━━━━━━━━━━━━━━━━\u001b[0m\u001b[37m\u001b[0m \u001b[1m0s\u001b[0m 19ms/step - loss: 0.1734\n",
      "Epoch 3/5\n",
      "\u001b[1m5/5\u001b[0m \u001b[32m━━━━━━━━━━━━━━━━━━━━\u001b[0m\u001b[37m\u001b[0m \u001b[1m0s\u001b[0m 20ms/step - loss: 0.1651\n",
      "Epoch 4/5\n",
      "\u001b[1m5/5\u001b[0m \u001b[32m━━━━━━━━━━━━━━━━━━━━\u001b[0m\u001b[37m\u001b[0m \u001b[1m0s\u001b[0m 20ms/step - loss: 0.1464\n",
      "Epoch 5/5\n",
      "\u001b[1m5/5\u001b[0m \u001b[32m━━━━━━━━━━━━━━━━━━━━\u001b[0m\u001b[37m\u001b[0m \u001b[1m0s\u001b[0m 20ms/step - loss: 0.1497\n"
     ]
    },
    {
     "data": {
      "text/plain": [
       "<keras.src.callbacks.history.History at 0x7e7c5a920cd0>"
      ]
     },
     "execution_count": 74,
     "metadata": {},
     "output_type": "execute_result"
    }
   ],
   "source": [
    "# LSTM MODEL\n",
    "model = Sequential()\n",
    "model.add(LSTM(neurons, input_shape=(input_timesteps, input_dim), return_sequences = True))\n",
    "model.add(Dropout(drop_out))\n",
    "model.add(LSTM(neurons,return_sequences = True))\n",
    "model.add(LSTM(neurons,return_sequences =False))\n",
    "model.add(Dropout(drop_out))\n",
    "model.add(Dense(dense_output, activation='linear'))\n",
    "# Compile model\n",
    "model.compile(loss='mean_squared_error',\n",
    "                optimizer='adam')\n",
    "# Fit the model\n",
    "model.fit(x_train,y_train,epochs=epochs,batch_size=batch_size)"
   ]
  },
  {
   "cell_type": "code",
   "execution_count": 75,
   "metadata": {
    "colab": {
     "base_uri": "https://localhost:8080/"
    },
    "executionInfo": {
     "elapsed": 3651,
     "status": "ok",
     "timestamp": 1724694233012,
     "user": {
      "displayName": "Đặng Thị Kiêm Hồng",
      "userId": "05445281411830122382"
     },
     "user_tz": -420
    },
    "id": "bkrP3-kyyWWb",
    "outputId": "6b9f4e59-0fff-48cc-dc62-7eb931859718"
   },
   "outputs": [
    {
     "name": "stdout",
     "output_type": "stream",
     "text": [
      "\u001b[1m1/1\u001b[0m \u001b[32m━━━━━━━━━━━━━━━━━━━━\u001b[0m\u001b[37m\u001b[0m \u001b[1m1s\u001b[0m 1s/step\n",
      "\u001b[1m1/1\u001b[0m \u001b[32m━━━━━━━━━━━━━━━━━━━━\u001b[0m\u001b[37m\u001b[0m \u001b[1m0s\u001b[0m 36ms/step\n",
      "\u001b[1m1/1\u001b[0m \u001b[32m━━━━━━━━━━━━━━━━━━━━\u001b[0m\u001b[37m\u001b[0m \u001b[1m0s\u001b[0m 43ms/step\n",
      "\u001b[1m1/1\u001b[0m \u001b[32m━━━━━━━━━━━━━━━━━━━━\u001b[0m\u001b[37m\u001b[0m \u001b[1m0s\u001b[0m 50ms/step\n",
      "\u001b[1m1/1\u001b[0m \u001b[32m━━━━━━━━━━━━━━━━━━━━\u001b[0m\u001b[37m\u001b[0m \u001b[1m0s\u001b[0m 33ms/step\n",
      "\u001b[1m1/1\u001b[0m \u001b[32m━━━━━━━━━━━━━━━━━━━━\u001b[0m\u001b[37m\u001b[0m \u001b[1m0s\u001b[0m 36ms/step\n",
      "\u001b[1m1/1\u001b[0m \u001b[32m━━━━━━━━━━━━━━━━━━━━\u001b[0m\u001b[37m\u001b[0m \u001b[1m0s\u001b[0m 33ms/step\n",
      "\u001b[1m1/1\u001b[0m \u001b[32m━━━━━━━━━━━━━━━━━━━━\u001b[0m\u001b[37m\u001b[0m \u001b[1m0s\u001b[0m 47ms/step\n",
      "\u001b[1m1/1\u001b[0m \u001b[32m━━━━━━━━━━━━━━━━━━━━\u001b[0m\u001b[37m\u001b[0m \u001b[1m0s\u001b[0m 37ms/step\n",
      "\u001b[1m1/1\u001b[0m \u001b[32m━━━━━━━━━━━━━━━━━━━━\u001b[0m\u001b[37m\u001b[0m \u001b[1m0s\u001b[0m 34ms/step\n",
      "\u001b[1m1/1\u001b[0m \u001b[32m━━━━━━━━━━━━━━━━━━━━\u001b[0m\u001b[37m\u001b[0m \u001b[1m0s\u001b[0m 32ms/step\n",
      "\u001b[1m1/1\u001b[0m \u001b[32m━━━━━━━━━━━━━━━━━━━━\u001b[0m\u001b[37m\u001b[0m \u001b[1m0s\u001b[0m 39ms/step\n"
     ]
    }
   ],
   "source": [
    "\n",
    "#multi sequence predict\n",
    "data=x_test\n",
    "prediction_seqs = []\n",
    "window_size=sequence_length\n",
    "pre_win_num=int(len(data)/prediction_len)\n",
    "\n",
    "for i in range(0,pre_win_num):\n",
    "    curr_frame = data[i*prediction_len]\n",
    "    predicted = []\n",
    "    for j in range(0,prediction_len):\n",
    "      temp=model.predict(curr_frame[newaxis,:,:])[0]\n",
    "      predicted.append(temp)\n",
    "      curr_frame = curr_frame[1:]\n",
    "      curr_frame = np.insert(curr_frame, [window_size-2], predicted[-1], axis=0)\n",
    "    prediction_seqs.append(predicted)"
   ]
  },
  {
   "cell_type": "code",
   "execution_count": 76,
   "metadata": {
    "colab": {
     "base_uri": "https://localhost:8080/"
    },
    "executionInfo": {
     "elapsed": 384,
     "status": "ok",
     "timestamp": 1724694247653,
     "user": {
      "displayName": "Đặng Thị Kiêm Hồng",
      "userId": "05445281411830122382"
     },
     "user_tz": -420
    },
    "id": "xyirtrUGya4p",
    "outputId": "8d7fda7d-10c4-4132-a00f-6420a1154d61"
   },
   "outputs": [
    {
     "name": "stdout",
     "output_type": "stream",
     "text": [
      "[87673.16507697105, 87663.49888443947, 87646.69976830482, 87655.84154129028, 87648.79047870636, 87859.40678417683, 87837.16149330139, 87691.3377404213, 87526.36463940144, 87537.8627538681, 87544.58007216454, 87528.74724566936]\n"
     ]
    }
   ],
   "source": [
    "\n",
    "#de_predicted\n",
    "de_predicted=[]\n",
    "len_pre_win=int(len(data)/prediction_len)\n",
    "len_pre=prediction_len\n",
    "\n",
    "m=0\n",
    "for i in range(0,len_pre_win):\n",
    "    for j in range(0,len_pre):\n",
    "      de_predicted.append(prediction_seqs[i][j][0]*record_max[m]+record_min[m])\n",
    "      m=m+1\n",
    "print(de_predicted)"
   ]
  },
  {
   "cell_type": "code",
   "execution_count": 78,
   "metadata": {
    "executionInfo": {
     "elapsed": 1513,
     "status": "ok",
     "timestamp": 1724694314850,
     "user": {
      "displayName": "Đặng Thị Kiêm Hồng",
      "userId": "05445281411830122382"
     },
     "user_tz": -420
    },
    "id": "_jHGP5q1yflV"
   },
   "outputs": [],
   "source": [
    " np.save('/content/sp_5dim_n01_7030.npy',de_predicted)"
   ]
  },
  {
   "cell_type": "code",
   "execution_count": 79,
   "metadata": {
    "colab": {
     "base_uri": "https://localhost:8080/"
    },
    "executionInfo": {
     "elapsed": 1376,
     "status": "ok",
     "timestamp": 1724694376124,
     "user": {
      "displayName": "Đặng Thị Kiêm Hồng",
      "userId": "05445281411830122382"
     },
     "user_tz": -420
    },
    "id": "gxuvqJdfIVgK",
    "outputId": "2610d2ff-01aa-429c-b4ad-dabd1d2641bb"
   },
   "outputs": [
    {
     "name": "stdout",
     "output_type": "stream",
     "text": [
      "MSE [57957.30069281]\n",
      "accuracy [0.99744991]\n",
      "mean_error_percent [0.00255009]\n"
     ]
    }
   ],
   "source": [
    "error = []\n",
    "diff=y_test.shape[0]-prediction_len*pre_win_num\n",
    "\n",
    "for i in range(y_test_ori.shape[0]-diff):\n",
    "    error.append(y_test_ori[i,] - de_predicted[i])\n",
    "\n",
    "squaredError = []\n",
    "absError = []\n",
    "for val in error:\n",
    "    squaredError.append(val * val)\n",
    "    absError.append(abs(val))\n",
    "\n",
    "error_percent=[]\n",
    "for i in range(len(error)):\n",
    "    val=absError[i]/y_test_ori[i,]\n",
    "    val=abs(val)\n",
    "    error_percent.append(val)\n",
    "\n",
    "mean_error_percent=sum(error_percent) / len(error_percent)\n",
    "accuracy=1-mean_error_percent\n",
    "\n",
    "MSE=sum(squaredError) / len(squaredError)\n",
    "\n",
    "print(\"MSE\",MSE)\n",
    "print('accuracy',accuracy)\n",
    "print('mean_error_percent',mean_error_percent)\n",
    "\n"
   ]
  }
 ],
 "metadata": {
  "colab": {
   "authorship_tag": "ABX9TyNBKXT7tP/gPivNmXNvaNxE",
   "provenance": []
  },
  "kernelspec": {
   "display_name": "Python 3 (ipykernel)",
   "language": "python",
   "name": "python3"
  },
  "language_info": {
   "codemirror_mode": {
    "name": "ipython",
    "version": 3
   },
   "file_extension": ".py",
   "mimetype": "text/x-python",
   "name": "python",
   "nbconvert_exporter": "python",
   "pygments_lexer": "ipython3",
   "version": "3.9.13"
  }
 },
 "nbformat": 4,
 "nbformat_minor": 1
}
