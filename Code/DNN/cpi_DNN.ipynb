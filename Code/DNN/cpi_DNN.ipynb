{
 "cells": [
  {
   "cell_type": "code",
   "execution_count": 1,
   "metadata": {
    "id": "XLYnJKBXgm2k"
   },
   "outputs": [],
   "source": [
    "import tensorflow as tf\n",
    "import numpy as np\n",
    "import matplotlib.pyplot as plt\n",
    "import csv"
   ]
  },
  {
   "cell_type": "code",
   "execution_count": 2,
   "metadata": {
    "id": "eHSj6Kgwg2HQ"
   },
   "outputs": [],
   "source": [
    "def plot_series(x, y, format=\"-\", start=0, end=None,\n",
    "                title=None, xlabel=None, ylabel=None, legend=None ):\n",
    "    \"\"\"\n",
    "    Visualizes time series data\n",
    "\n",
    "    Args:\n",
    "      x (array of int) - contains values for the x-axis\n",
    "      y (array of int or tuple of arrays) - contains the values for the y-axis\n",
    "      format (string) - line style when plotting the graph\n",
    "      label (string) - tag for the line\n",
    "      start (int) - first time step to plot\n",
    "      end (int) - last time step to plot\n",
    "      title (string) - title of the plot\n",
    "      xlabel (string) - label for the x-axis\n",
    "      ylabel (string) - label for the y-axis\n",
    "      legend (list of strings) - legend for the plot\n",
    "    \"\"\"\n",
    "\n",
    "    # Setup dimensions of the graph figure\n",
    "    plt.figure(figsize=(10, 6))\n",
    "\n",
    "    # Check if there are more than two series to plot\n",
    "    if type(y) is tuple:\n",
    "\n",
    "      # Loop over the y elements\n",
    "      for y_curr in y:\n",
    "\n",
    "        # Plot the x and current y values\n",
    "        plt.plot(x[start:end], y_curr[start:end], format)\n",
    "\n",
    "    else:\n",
    "      # Plot the x and y values\n",
    "      plt.plot(x[start:end], y[start:end], format)\n",
    "\n",
    "    # Label the x-axis\n",
    "    plt.xlabel(xlabel)\n",
    "\n",
    "    # Label the y-axis\n",
    "    plt.ylabel(ylabel)\n",
    "\n",
    "    # Set the legend\n",
    "    if legend:\n",
    "      plt.legend(legend)\n",
    "\n",
    "    # Set the title\n",
    "    plt.title(title)\n",
    "\n",
    "    # Overlay a grid on the graph\n",
    "    plt.grid(True)\n",
    "\n",
    "    # Draw the graph on screen\n",
    "    plt.show()"
   ]
  },
  {
   "cell_type": "code",
   "execution_count": 3,
   "metadata": {
    "id": "to0XzETfg3dU"
   },
   "outputs": [],
   "source": [
    "import pandas as pd"
   ]
  },
  {
   "cell_type": "code",
   "execution_count": 9,
   "metadata": {
    "id": "VhrV4FMlg9F4"
   },
   "outputs": [],
   "source": [
    "data=pd.read_csv('D:\\DeTaiNam2024\\SoLieu\\KinhTeViMo\\CPI.csv')"
   ]
  },
  {
   "cell_type": "code",
   "execution_count": 8,
   "metadata": {
    "colab": {
     "base_uri": "https://localhost:8080/",
     "height": 206
    },
    "executionInfo": {
     "elapsed": 533,
     "status": "ok",
     "timestamp": 1727056718664,
     "user": {
      "displayName": "Đặng Thị Kiêm Hồng",
      "userId": "05445281411830122382"
     },
     "user_tz": -420
    },
    "id": "OkJpIU_2g_bp",
    "outputId": "138da7c5-9c58-44d7-f353-4e279a359dc5"
   },
   "outputs": [
    {
     "data": {
      "text/html": [
       "<div>\n",
       "<style scoped>\n",
       "    .dataframe tbody tr th:only-of-type {\n",
       "        vertical-align: middle;\n",
       "    }\n",
       "\n",
       "    .dataframe tbody tr th {\n",
       "        vertical-align: top;\n",
       "    }\n",
       "\n",
       "    .dataframe thead th {\n",
       "        text-align: right;\n",
       "    }\n",
       "</style>\n",
       "<table border=\"1\" class=\"dataframe\">\n",
       "  <thead>\n",
       "    <tr style=\"text-align: right;\">\n",
       "      <th></th>\n",
       "      <th>tg</th>\n",
       "      <th>t</th>\n",
       "      <th>cpi</th>\n",
       "    </tr>\n",
       "  </thead>\n",
       "  <tbody>\n",
       "    <tr>\n",
       "      <th>0</th>\n",
       "      <td>0</td>\n",
       "      <td>Jan-95</td>\n",
       "      <td>103.8</td>\n",
       "    </tr>\n",
       "    <tr>\n",
       "      <th>1</th>\n",
       "      <td>1</td>\n",
       "      <td>Feb-95</td>\n",
       "      <td>103.4</td>\n",
       "    </tr>\n",
       "    <tr>\n",
       "      <th>2</th>\n",
       "      <td>2</td>\n",
       "      <td>Mar-95</td>\n",
       "      <td>100.2</td>\n",
       "    </tr>\n",
       "    <tr>\n",
       "      <th>3</th>\n",
       "      <td>3</td>\n",
       "      <td>Apr-95</td>\n",
       "      <td>101.0</td>\n",
       "    </tr>\n",
       "    <tr>\n",
       "      <th>4</th>\n",
       "      <td>4</td>\n",
       "      <td>May-95</td>\n",
       "      <td>101.8</td>\n",
       "    </tr>\n",
       "  </tbody>\n",
       "</table>\n",
       "</div>"
      ],
      "text/plain": [
       "   tg       t    cpi\n",
       "0   0  Jan-95  103.8\n",
       "1   1  Feb-95  103.4\n",
       "2   2  Mar-95  100.2\n",
       "3   3  Apr-95  101.0\n",
       "4   4  May-95  101.8"
      ]
     },
     "execution_count": 8,
     "metadata": {},
     "output_type": "execute_result"
    }
   ],
   "source": [
    "data.head()"
   ]
  },
  {
   "cell_type": "code",
   "execution_count": 11,
   "metadata": {
    "colab": {
     "base_uri": "https://localhost:8080/",
     "height": 545
    },
    "executionInfo": {
     "elapsed": 11451,
     "status": "ok",
     "timestamp": 1727056764571,
     "user": {
      "displayName": "Đặng Thị Kiêm Hồng",
      "userId": "05445281411830122382"
     },
     "user_tz": -420
    },
    "id": "1QzTd_9shFVB",
    "outputId": "8560f0ea-ca79-4aff-9b64-e4de39e8eb03"
   },
   "outputs": [
    {
     "data": {
      "image/png": "[encoded data removed]",
      "text/plain": [
       "<Figure size 1000x600 with 1 Axes>"
      ]
     },
     "metadata": {},
     "output_type": "display_data"
    }
   ],
   "source": [
    "import csv\n",
    "import numpy as np\n",
    "import matplotlib.pyplot as plt\n",
    "\n",
    "# Initialize lists\n",
    "time_step = []\n",
    "cpi = []\n",
    "\n",
    "# Open CSV file\n",
    "with open('D:\\DeTaiNam2024\\SoLieu\\KinhTeViMo\\CPI.csv', 'r') as csvfile:\n",
    "    # Initialize reader\n",
    "    reader = csv.reader(csvfile)\n",
    "\n",
    "    # Skip the first line\n",
    "    next(reader)\n",
    "\n",
    "    # Append values to lists\n",
    "    for row in reader:\n",
    "        time_step.append(row[1])  # Thời gian (ví dụ: \"Jan-95\")\n",
    "        cpi.append(float(row[2]))  # CPI\n",
    "\n",
    "# Convert lists to numpy arrays (cho cột CPI)\n",
    "series = np.array(cpi)\n",
    "\n",
    "# Plot the data\n",
    "plt.figure(figsize=(10, 6))\n",
    "plt.plot(time_step, series, marker='o', linestyle='-')\n",
    "plt.xlabel('Thời gian')\n",
    "plt.ylabel('CPI')\n",
    "plt.title('CPI theo thời gian')\n",
    "plt.xticks(rotation=90)  # Xoay nhãn trục x cho dễ đọc\n",
    "plt.tight_layout()\n",
    "plt.show()\n"
   ]
  },
  {
   "cell_type": "code",
   "execution_count": 14,
   "metadata": {
    "id": "1gw92rUchQzw"
   },
   "outputs": [],
   "source": [
    "# Define the split time\n",
    "split_time = int( 0.85*len(series))\n",
    "\n",
    "# Get the train set\n",
    "time_train = time_step[:split_time]\n",
    "x_train = series[:split_time]\n",
    "\n",
    "# Get the validation set\n",
    "time_valid = time_step[split_time:]\n",
    "x_valid = series[split_time:]"
   ]
  },
  {
   "cell_type": "code",
   "execution_count": 15,
   "metadata": {
    "id": "_eI-dTP1ho-V"
   },
   "outputs": [],
   "source": [
    "def windowed_dataset(series, window_size, batch_size, shuffle_buffer):\n",
    "    \"\"\"Generates dataset windows\n",
    "\n",
    "    Args:\n",
    "      series (array of float) - contains the values of the time series\n",
    "      window_size (int) - the number of time steps to include in the feature\n",
    "      batch_size (int) - the batch size\n",
    "      shuffle_buffer(int) - buffer size to use for the shuffle method\n",
    "\n",
    "    Returns:\n",
    "      dataset (TF Dataset) - TF Dataset containing time windows\n",
    "    \"\"\"\n",
    "\n",
    "    # Generate a TF Dataset from the series values\n",
    "    dataset = tf.data.Dataset.from_tensor_slices(series)\n",
    "\n",
    "    # Window the data but only take those with the specified size\n",
    "    dataset = dataset.window(window_size + 1, shift=1, drop_remainder=True)\n",
    "\n",
    "    # Flatten the windows by putting its elements in a single batch\n",
    "    dataset = dataset.flat_map(lambda window: window.batch(window_size + 1))\n",
    "\n",
    "    # Create tuples with features and labels\n",
    "    dataset = dataset.map(lambda window: (window[:-1], window[-1]))\n",
    "\n",
    "    # Shuffle the windows\n",
    "    dataset = dataset.shuffle(shuffle_buffer)\n",
    "\n",
    "    # Create batches of windows\n",
    "    dataset = dataset.batch(batch_size).prefetch(1)\n",
    "\n",
    "    return dataset"
   ]
  },
  {
   "cell_type": "code",
   "execution_count": 23,
   "metadata": {
    "id": "PGJCMMYahusU"
   },
   "outputs": [],
   "source": [
    "# Parameters\n",
    "window_size = 30\n",
    "batch_size = 32\n",
    "shuffle_buffer_size = 1000\n",
    "\n",
    "# Generate the dataset windows\n",
    "train_set = windowed_dataset(x_train, window_size, batch_size, shuffle_buffer_size)"
   ]
  },
  {
   "cell_type": "code",
   "execution_count": 24,
   "metadata": {
    "colab": {
     "base_uri": "https://localhost:8080/",
     "height": 280
    },
    "executionInfo": {
     "elapsed": 793,
     "status": "ok",
     "timestamp": 1727056788338,
     "user": {
      "displayName": "Đặng Thị Kiêm Hồng",
      "userId": "05445281411830122382"
     },
     "user_tz": -420
    },
    "id": "yTOq4iK7hwDB",
    "outputId": "6c5855fb-9008-4e16-dee9-74c8e110ed64"
   },
   "outputs": [
    {
     "name": "stdout",
     "output_type": "stream",
     "text": [
      "Model: \"sequential_1\"\n",
      "_________________________________________________________________\n",
      " Layer (type)                Output Shape              Param #   \n",
      "=================================================================\n",
      " dense_3 (Dense)             (None, 30)                930       \n",
      "                                                                 \n",
      " dense_4 (Dense)             (None, 10)                310       \n",
      "                                                                 \n",
      " dense_5 (Dense)             (None, 1)                 11        \n",
      "                                                                 \n",
      "=================================================================\n",
      "Total params: 1,251\n",
      "Trainable params: 1,251\n",
      "Non-trainable params: 0\n",
      "_________________________________________________________________\n"
     ]
    }
   ],
   "source": [
    "# Build the model\n",
    "model = tf.keras.models.Sequential([\n",
    "    tf.keras.layers.Dense(30, input_shape=[window_size], activation=\"relu\"),\n",
    "    tf.keras.layers.Dense(10, activation=\"relu\"),\n",
    "    tf.keras.layers.Dense(1)\n",
    "])\n",
    "\n",
    "# Print the model summary\n",
    "model.summary()"
   ]
  },
  {
   "cell_type": "code",
   "execution_count": 25,
   "metadata": {
    "colab": {
     "base_uri": "https://localhost:8080/"
    },
    "executionInfo": {
     "elapsed": 76966,
     "status": "ok",
     "timestamp": 1727056868679,
     "user": {
      "displayName": "Đặng Thị Kiêm Hồng",
      "userId": "05445281411830122382"
     },
     "user_tz": -420
    },
    "id": "oZrVFCCRh21E",
    "outputId": "28ce7dc8-08c5-441f-ef68-3820dc903e0c"
   },
   "outputs": [
    {
     "name": "stdout",
     "output_type": "stream",
     "text": [
      "Epoch 1/100\n",
      "8/8 [==============================] - 1s 9ms/step - loss: 48.5621 - lr: 1.0000e-08\n",
      "Epoch 2/100\n",
      "8/8 [==============================] - 0s 3ms/step - loss: 48.5146 - lr: 1.1220e-08\n",
      "Epoch 3/100\n",
      "8/8 [==============================] - 0s 4ms/step - loss: 48.4385 - lr: 1.2589e-08\n",
      "Epoch 4/100\n",
      "8/8 [==============================] - 0s 3ms/step - loss: 48.3434 - lr: 1.4125e-08\n",
      "Epoch 5/100\n",
      "8/8 [==============================] - 0s 4ms/step - loss: 48.2323 - lr: 1.5849e-08\n",
      "Epoch 6/100\n",
      "8/8 [==============================] - 0s 4ms/step - loss: 48.1058 - lr: 1.7783e-08\n",
      "Epoch 7/100\n",
      "8/8 [==============================] - 0s 4ms/step - loss: 47.9629 - lr: 1.9953e-08\n",
      "Epoch 8/100\n",
      "8/8 [==============================] - 0s 4ms/step - loss: 47.8021 - lr: 2.2387e-08\n",
      "Epoch 9/100\n",
      "8/8 [==============================] - 0s 4ms/step - loss: 47.6214 - lr: 2.5119e-08\n",
      "Epoch 10/100\n",
      "8/8 [==============================] - 0s 5ms/step - loss: 47.4183 - lr: 2.8184e-08\n",
      "Epoch 11/100\n",
      "8/8 [==============================] - 0s 4ms/step - loss: 47.1900 - lr: 3.1623e-08\n",
      "Epoch 12/100\n",
      "8/8 [==============================] - 0s 4ms/step - loss: 46.9335 - lr: 3.5481e-08\n",
      "Epoch 13/100\n",
      "8/8 [==============================] - 0s 4ms/step - loss: 46.6453 - lr: 3.9811e-08\n",
      "Epoch 14/100\n",
      "8/8 [==============================] - 0s 4ms/step - loss: 46.3212 - lr: 4.4668e-08\n",
      "Epoch 15/100\n",
      "8/8 [==============================] - 0s 4ms/step - loss: 45.9568 - lr: 5.0119e-08\n",
      "Epoch 16/100\n",
      "8/8 [==============================] - 0s 4ms/step - loss: 45.5468 - lr: 5.6234e-08\n",
      "Epoch 17/100\n",
      "8/8 [==============================] - 0s 4ms/step - loss: 45.0857 - lr: 6.3096e-08\n",
      "Epoch 18/100\n",
      "8/8 [==============================] - 0s 4ms/step - loss: 44.5666 - lr: 7.0795e-08\n",
      "Epoch 19/100\n",
      "8/8 [==============================] - 0s 5ms/step - loss: 43.9820 - lr: 7.9433e-08\n",
      "Epoch 20/100\n",
      "8/8 [==============================] - 0s 3ms/step - loss: 43.3236 - lr: 8.9125e-08\n",
      "Epoch 21/100\n",
      "8/8 [==============================] - 0s 4ms/step - loss: 42.5813 - lr: 1.0000e-07\n",
      "Epoch 22/100\n",
      "8/8 [==============================] - 0s 3ms/step - loss: 41.7441 - lr: 1.1220e-07\n",
      "Epoch 23/100\n",
      "8/8 [==============================] - 0s 3ms/step - loss: 40.7993 - lr: 1.2589e-07\n",
      "Epoch 24/100\n",
      "8/8 [==============================] - 0s 4ms/step - loss: 39.7320 - lr: 1.4125e-07\n",
      "Epoch 25/100\n",
      "8/8 [==============================] - 0s 4ms/step - loss: 38.5252 - lr: 1.5849e-07\n",
      "Epoch 26/100\n",
      "8/8 [==============================] - 0s 4ms/step - loss: 37.1595 - lr: 1.7783e-07\n",
      "Epoch 27/100\n",
      "8/8 [==============================] - 0s 4ms/step - loss: 35.6118 - lr: 1.9953e-07\n",
      "Epoch 28/100\n",
      "8/8 [==============================] - 0s 4ms/step - loss: 33.8554 - lr: 2.2387e-07\n",
      "Epoch 29/100\n",
      "8/8 [==============================] - 0s 5ms/step - loss: 31.8587 - lr: 2.5119e-07\n",
      "Epoch 30/100\n",
      "8/8 [==============================] - 0s 4ms/step - loss: 29.5847 - lr: 2.8184e-07\n",
      "Epoch 31/100\n",
      "8/8 [==============================] - 0s 7ms/step - loss: 26.9887 - lr: 3.1623e-07\n",
      "Epoch 32/100\n",
      "8/8 [==============================] - 0s 4ms/step - loss: 24.0184 - lr: 3.5481e-07\n",
      "Epoch 33/100\n",
      "8/8 [==============================] - 0s 4ms/step - loss: 20.6082 - lr: 3.9811e-07\n",
      "Epoch 34/100\n",
      "8/8 [==============================] - 0s 4ms/step - loss: 16.6796 - lr: 4.4668e-07\n",
      "Epoch 35/100\n",
      "8/8 [==============================] - 0s 4ms/step - loss: 12.1352 - lr: 5.0119e-07\n",
      "Epoch 36/100\n",
      "8/8 [==============================] - 0s 4ms/step - loss: 6.8537 - lr: 5.6234e-07\n",
      "Epoch 37/100\n",
      "8/8 [==============================] - 0s 4ms/step - loss: 1.4041 - lr: 6.3096e-07\n",
      "Epoch 38/100\n",
      "8/8 [==============================] - 0s 5ms/step - loss: 1.6080 - lr: 7.0795e-07\n",
      "Epoch 39/100\n",
      "8/8 [==============================] - 0s 4ms/step - loss: 0.6090 - lr: 7.9433e-07\n",
      "Epoch 40/100\n",
      "8/8 [==============================] - 0s 4ms/step - loss: 0.4766 - lr: 8.9125e-07\n",
      "Epoch 41/100\n",
      "8/8 [==============================] - 0s 4ms/step - loss: 0.4164 - lr: 1.0000e-06\n",
      "Epoch 42/100\n",
      "8/8 [==============================] - 0s 4ms/step - loss: 0.3425 - lr: 1.1220e-06\n",
      "Epoch 43/100\n",
      "8/8 [==============================] - 0s 4ms/step - loss: 0.3363 - lr: 1.2589e-06\n",
      "Epoch 44/100\n",
      "8/8 [==============================] - 0s 4ms/step - loss: 0.3220 - lr: 1.4125e-06\n",
      "Epoch 45/100\n",
      "8/8 [==============================] - 0s 5ms/step - loss: 0.3180 - lr: 1.5849e-06\n",
      "Epoch 46/100\n",
      "8/8 [==============================] - 0s 4ms/step - loss: 0.3161 - lr: 1.7783e-06\n",
      "Epoch 47/100\n",
      "8/8 [==============================] - 0s 4ms/step - loss: 0.3208 - lr: 1.9953e-06\n",
      "Epoch 48/100\n",
      "8/8 [==============================] - 0s 4ms/step - loss: 0.3438 - lr: 2.2387e-06\n",
      "Epoch 49/100\n",
      "8/8 [==============================] - 0s 9ms/step - loss: 0.3327 - lr: 2.5119e-06\n",
      "Epoch 50/100\n",
      "8/8 [==============================] - 0s 3ms/step - loss: 0.3320 - lr: 2.8184e-06\n",
      "Epoch 51/100\n",
      "8/8 [==============================] - 0s 4ms/step - loss: 0.3247 - lr: 3.1623e-06\n",
      "Epoch 52/100\n",
      "8/8 [==============================] - 0s 4ms/step - loss: 0.3161 - lr: 3.5481e-06\n",
      "Epoch 53/100\n",
      "8/8 [==============================] - 0s 4ms/step - loss: 0.3223 - lr: 3.9811e-06\n",
      "Epoch 54/100\n",
      "8/8 [==============================] - 0s 4ms/step - loss: 0.3312 - lr: 4.4668e-06\n",
      "Epoch 55/100\n",
      "8/8 [==============================] - 0s 4ms/step - loss: 0.3224 - lr: 5.0119e-06\n",
      "Epoch 56/100\n",
      "8/8 [==============================] - 0s 4ms/step - loss: 0.3136 - lr: 5.6234e-06\n",
      "Epoch 57/100\n",
      "8/8 [==============================] - 0s 4ms/step - loss: 0.3898 - lr: 6.3096e-06\n",
      "Epoch 58/100\n",
      "8/8 [==============================] - 0s 3ms/step - loss: 0.3353 - lr: 7.0795e-06\n",
      "Epoch 59/100\n",
      "8/8 [==============================] - 0s 4ms/step - loss: 0.3489 - lr: 7.9433e-06\n",
      "Epoch 60/100\n",
      "8/8 [==============================] - 0s 4ms/step - loss: 0.3702 - lr: 8.9125e-06\n",
      "Epoch 61/100\n",
      "8/8 [==============================] - 0s 4ms/step - loss: 0.3595 - lr: 1.0000e-05\n",
      "Epoch 62/100\n",
      "8/8 [==============================] - 0s 4ms/step - loss: 0.3944 - lr: 1.1220e-05\n",
      "Epoch 63/100\n",
      "8/8 [==============================] - 0s 4ms/step - loss: 0.4951 - lr: 1.2589e-05\n",
      "Epoch 64/100\n",
      "8/8 [==============================] - 0s 4ms/step - loss: 0.4042 - lr: 1.4125e-05\n",
      "Epoch 65/100\n",
      "8/8 [==============================] - 0s 5ms/step - loss: 0.4383 - lr: 1.5849e-05\n",
      "Epoch 66/100\n",
      "8/8 [==============================] - 0s 4ms/step - loss: 0.4021 - lr: 1.7783e-05\n",
      "Epoch 67/100\n",
      "8/8 [==============================] - 0s 4ms/step - loss: 0.3586 - lr: 1.9953e-05\n",
      "Epoch 68/100\n",
      "8/8 [==============================] - 0s 4ms/step - loss: 0.4777 - lr: 2.2387e-05\n",
      "Epoch 69/100\n",
      "8/8 [==============================] - 0s 4ms/step - loss: 0.5242 - lr: 2.5119e-05\n",
      "Epoch 70/100\n",
      "8/8 [==============================] - 0s 4ms/step - loss: 1.4374 - lr: 2.8184e-05\n",
      "Epoch 71/100\n",
      "8/8 [==============================] - 0s 4ms/step - loss: 0.6746 - lr: 3.1623e-05\n",
      "Epoch 72/100\n",
      "8/8 [==============================] - 0s 4ms/step - loss: 0.8418 - lr: 3.5481e-05\n",
      "Epoch 73/100\n",
      "8/8 [==============================] - 0s 4ms/step - loss: 0.9997 - lr: 3.9811e-05\n",
      "Epoch 74/100\n",
      "8/8 [==============================] - 0s 5ms/step - loss: 0.5102 - lr: 4.4668e-05\n",
      "Epoch 75/100\n",
      "8/8 [==============================] - 0s 4ms/step - loss: 1.2373 - lr: 5.0119e-05\n",
      "Epoch 76/100\n",
      "8/8 [==============================] - 0s 5ms/step - loss: 2.3078 - lr: 5.6234e-05\n",
      "Epoch 77/100\n",
      "8/8 [==============================] - 0s 4ms/step - loss: 3.9141 - lr: 6.3096e-05\n",
      "Epoch 78/100\n",
      "8/8 [==============================] - 0s 4ms/step - loss: 8.5773 - lr: 7.0795e-05\n",
      "Epoch 79/100\n",
      "8/8 [==============================] - 0s 4ms/step - loss: 6.9534 - lr: 7.9433e-05\n",
      "Epoch 80/100\n",
      "8/8 [==============================] - 0s 4ms/step - loss: 5.3676 - lr: 8.9125e-05\n",
      "Epoch 81/100\n",
      "8/8 [==============================] - 0s 4ms/step - loss: 10.6579 - lr: 1.0000e-04\n",
      "Epoch 82/100\n",
      "8/8 [==============================] - 0s 4ms/step - loss: 8.3915 - lr: 1.1220e-04\n",
      "Epoch 83/100\n",
      "8/8 [==============================] - 0s 7ms/step - loss: 7.9168 - lr: 1.2589e-04\n",
      "Epoch 84/100\n",
      "8/8 [==============================] - 0s 4ms/step - loss: 19.8820 - lr: 1.4125e-04\n",
      "Epoch 85/100\n",
      "8/8 [==============================] - 0s 4ms/step - loss: 4.1892 - lr: 1.5849e-04\n",
      "Epoch 86/100\n"
     ]
    },
    {
     "name": "stdout",
     "output_type": "stream",
     "text": [
      "8/8 [==============================] - 0s 4ms/step - loss: 18.6815 - lr: 1.7783e-04\n",
      "Epoch 87/100\n",
      "8/8 [==============================] - 0s 4ms/step - loss: 12.0046 - lr: 1.9953e-04\n",
      "Epoch 88/100\n",
      "8/8 [==============================] - 0s 4ms/step - loss: 9.9683 - lr: 2.2387e-04\n",
      "Epoch 89/100\n",
      "8/8 [==============================] - 0s 3ms/step - loss: 24.3925 - lr: 2.5119e-04\n",
      "Epoch 90/100\n",
      "8/8 [==============================] - 0s 4ms/step - loss: 22.9517 - lr: 2.8184e-04\n",
      "Epoch 91/100\n",
      "8/8 [==============================] - 0s 4ms/step - loss: 18.4748 - lr: 3.1623e-04\n",
      "Epoch 92/100\n",
      "8/8 [==============================] - 0s 4ms/step - loss: 21.2041 - lr: 3.5481e-04\n",
      "Epoch 93/100\n",
      "8/8 [==============================] - 0s 4ms/step - loss: 32.1211 - lr: 3.9811e-04\n",
      "Epoch 94/100\n",
      "8/8 [==============================] - 0s 4ms/step - loss: 32.7824 - lr: 4.4668e-04\n",
      "Epoch 95/100\n",
      "8/8 [==============================] - 0s 4ms/step - loss: 34.4926 - lr: 5.0119e-04\n",
      "Epoch 96/100\n",
      "8/8 [==============================] - 0s 4ms/step - loss: 30.9954 - lr: 5.6234e-04\n",
      "Epoch 97/100\n",
      "8/8 [==============================] - 0s 4ms/step - loss: 61.8769 - lr: 6.3096e-04\n",
      "Epoch 98/100\n",
      "8/8 [==============================] - 0s 4ms/step - loss: 62.7173 - lr: 7.0795e-04\n",
      "Epoch 99/100\n",
      "8/8 [==============================] - 0s 4ms/step - loss: 71.2453 - lr: 7.9433e-04\n",
      "Epoch 100/100\n",
      "8/8 [==============================] - 0s 4ms/step - loss: 63.3691 - lr: 8.9125e-04\n"
     ]
    }
   ],
   "source": [
    "# Set the learning rate scheduler\n",
    "lr_schedule = tf.keras.callbacks.LearningRateScheduler(\n",
    "    lambda epoch: 1e-8 * 10**(epoch / 20))\n",
    "\n",
    "# Initialize the optimizer\n",
    "optimizer = tf.keras.optimizers.SGD(momentum=0.9)\n",
    "\n",
    "# Set the training parameters\n",
    "model.compile(loss=tf.keras.losses.Huber(), optimizer=optimizer)\n",
    "\n",
    "# Train the model\n",
    "history = model.fit(train_set, epochs=100, callbacks=[lr_schedule])"
   ]
  },
  {
   "cell_type": "code",
   "execution_count": null,
   "metadata": {
    "colab": {
     "base_uri": "https://localhost:8080/",
     "height": 558
    },
    "executionInfo": {
     "elapsed": 1069,
     "status": "ok",
     "timestamp": 1727056880310,
     "user": {
      "displayName": "Đặng Thị Kiêm Hồng",
      "userId": "05445281411830122382"
     },
     "user_tz": -420
    },
    "id": "Z76WBHMdh93S",
    "outputId": "27297d9b-ef6d-4827-d764-dd78671ac9fb"
   },
   "outputs": [
    {
     "data": {
      "text/plain": [
       "(1e-08, 0.001, 0.0, 100.0)"
      ]
     },
     "execution_count": 26,
     "metadata": {},
     "output_type": "execute_result"
    }
   ],
   "source": [
    "# Define the learning rate array\n",
    "lrs = 1e-8 * (10 ** (np.arange(100) / 20))\n",
    "\n",
    "# Set the figure size\n",
    "plt.figure(figsize=(10, 6))\n",
    "\n",
    "# Set the grid\n",
    "plt.grid(True)\n",
    "\n",
    "# Plot the loss in log scale\n",
    "plt.semilogx(lrs, history.history[\"loss\"])\n",
    "\n",
    "# Increase the tickmarks size\n",
    "plt.tick_params('both', length=10, width=1, which='both')\n",
    "\n",
    "# Set the plot boundaries\n",
    "plt.axis([1e-8, 1e-3, 0, 100])\n"
   ]
  },
  {
   "cell_type": "code",
   "execution_count": null,
   "metadata": {
    "id": "GCz8PBSsiPJt"
   },
   "outputs": [],
   "source": [
    "# Reset states generated by Keras\n",
    "tf.keras.backend.clear_session()\n",
    "\n",
    "# Build the Model\n",
    "model = tf.keras.models.Sequential([\n",
    "    tf.keras.layers.Dense(30, input_shape=[window_size], activation=\"relu\"),\n",
    "    tf.keras.layers.Dense(20, activation=\"relu\"),\n",
    "    tf.keras.layers.Dense(1)\n",
    "])"
   ]
  },
  {
   "cell_type": "code",
   "execution_count": 20,
   "metadata": {
    "colab": {
     "base_uri": "https://localhost:8080/"
    },
    "executionInfo": {
     "elapsed": 72714,
     "status": "ok",
     "timestamp": 1727062809416,
     "user": {
      "displayName": "Đặng Thị Kiêm Hồng",
      "userId": "05445281411830122382"
     },
     "user_tz": -420
    },
    "id": "786LsJ5piSI_",
    "outputId": "63de70f3-0c60-42df-f9d8-0d2eb0e7e4a6"
   },
   "outputs": [
    {
     "name": "stdout",
     "output_type": "stream",
     "text": [
      "Epoch 1/100\n",
      "8/8 [==============================] - 2s 13ms/step - loss: 99.9011 - mse: 10081.0557\n",
      "Epoch 2/100\n",
      "8/8 [==============================] - 0s 9ms/step - loss: 99.9010 - mse: 10081.0430\n",
      "Epoch 3/100\n",
      "8/8 [==============================] - 0s 8ms/step - loss: 99.9009 - mse: 10081.0234\n",
      "Epoch 4/100\n",
      "8/8 [==============================] - 0s 8ms/step - loss: 99.9008 - mse: 10081.0029\n",
      "Epoch 5/100\n",
      "8/8 [==============================] - 0s 9ms/step - loss: 99.9007 - mse: 10080.9795\n",
      "Epoch 6/100\n",
      "8/8 [==============================] - 0s 8ms/step - loss: 99.9006 - mse: 10080.9561\n",
      "Epoch 7/100\n",
      "8/8 [==============================] - 0s 9ms/step - loss: 99.9005 - mse: 10080.9326\n",
      "Epoch 8/100\n",
      "8/8 [==============================] - 0s 9ms/step - loss: 99.9004 - mse: 10080.9092\n",
      "Epoch 9/100\n",
      "8/8 [==============================] - 0s 9ms/step - loss: 99.9003 - mse: 10080.8857\n",
      "Epoch 10/100\n",
      "8/8 [==============================] - 0s 10ms/step - loss: 99.9001 - mse: 10080.8613\n",
      "Epoch 11/100\n",
      "8/8 [==============================] - 0s 8ms/step - loss: 99.9000 - mse: 10080.8389\n",
      "Epoch 12/100\n",
      "8/8 [==============================] - 0s 9ms/step - loss: 99.8999 - mse: 10080.8145\n",
      "Epoch 13/100\n",
      "8/8 [==============================] - 0s 8ms/step - loss: 99.8998 - mse: 10080.7900\n",
      "Epoch 14/100\n",
      "8/8 [==============================] - 0s 8ms/step - loss: 99.8997 - mse: 10080.7666\n",
      "Epoch 15/100\n",
      "8/8 [==============================] - 0s 8ms/step - loss: 99.8995 - mse: 10080.7432\n",
      "Epoch 16/100\n",
      "8/8 [==============================] - 0s 8ms/step - loss: 99.8994 - mse: 10080.7207\n",
      "Epoch 17/100\n",
      "8/8 [==============================] - 0s 8ms/step - loss: 99.8993 - mse: 10080.6963\n",
      "Epoch 18/100\n",
      "8/8 [==============================] - 0s 8ms/step - loss: 99.8992 - mse: 10080.6719\n",
      "Epoch 19/100\n",
      "8/8 [==============================] - 0s 9ms/step - loss: 99.8991 - mse: 10080.6494\n",
      "Epoch 20/100\n",
      "8/8 [==============================] - 0s 9ms/step - loss: 99.8990 - mse: 10080.6240\n",
      "Epoch 21/100\n",
      "8/8 [==============================] - 0s 9ms/step - loss: 99.8988 - mse: 10080.6006\n",
      "Epoch 22/100\n",
      "8/8 [==============================] - 0s 8ms/step - loss: 99.8987 - mse: 10080.5771\n",
      "Epoch 23/100\n",
      "8/8 [==============================] - 0s 8ms/step - loss: 99.8986 - mse: 10080.5527\n",
      "Epoch 24/100\n",
      "8/8 [==============================] - 0s 8ms/step - loss: 99.8985 - mse: 10080.5293\n",
      "Epoch 25/100\n",
      "8/8 [==============================] - 0s 9ms/step - loss: 99.8984 - mse: 10080.5059\n",
      "Epoch 26/100\n",
      "8/8 [==============================] - 0s 8ms/step - loss: 99.8982 - mse: 10080.4824\n",
      "Epoch 27/100\n",
      "8/8 [==============================] - 0s 9ms/step - loss: 99.8981 - mse: 10080.4580\n",
      "Epoch 28/100\n",
      "8/8 [==============================] - 0s 8ms/step - loss: 99.8980 - mse: 10080.4346\n",
      "Epoch 29/100\n",
      "8/8 [==============================] - 0s 8ms/step - loss: 99.8979 - mse: 10080.4111\n",
      "Epoch 30/100\n",
      "8/8 [==============================] - 0s 12ms/step - loss: 99.8978 - mse: 10080.3877\n",
      "Epoch 31/100\n",
      "8/8 [==============================] - 0s 13ms/step - loss: 99.8977 - mse: 10080.3633\n",
      "Epoch 32/100\n",
      "8/8 [==============================] - 0s 10ms/step - loss: 99.8975 - mse: 10080.3398\n",
      "Epoch 33/100\n",
      "8/8 [==============================] - 0s 9ms/step - loss: 99.8974 - mse: 10080.3164\n",
      "Epoch 34/100\n",
      "8/8 [==============================] - 0s 13ms/step - loss: 99.8973 - mse: 10080.2930\n",
      "Epoch 35/100\n",
      "8/8 [==============================] - 0s 8ms/step - loss: 99.8972 - mse: 10080.2695\n",
      "Epoch 36/100\n",
      "8/8 [==============================] - 0s 8ms/step - loss: 99.8971 - mse: 10080.2461\n",
      "Epoch 37/100\n",
      "8/8 [==============================] - 0s 9ms/step - loss: 99.8969 - mse: 10080.2227\n",
      "Epoch 38/100\n",
      "8/8 [==============================] - 0s 8ms/step - loss: 99.8968 - mse: 10080.1973\n",
      "Epoch 39/100\n",
      "8/8 [==============================] - 0s 8ms/step - loss: 99.8967 - mse: 10080.1748\n",
      "Epoch 40/100\n",
      "8/8 [==============================] - 0s 9ms/step - loss: 99.8966 - mse: 10080.1514\n",
      "Epoch 41/100\n",
      "8/8 [==============================] - 0s 9ms/step - loss: 99.8965 - mse: 10080.1270\n",
      "Epoch 42/100\n",
      "8/8 [==============================] - 0s 9ms/step - loss: 99.8964 - mse: 10080.1016\n",
      "Epoch 43/100\n",
      "8/8 [==============================] - 0s 9ms/step - loss: 99.8962 - mse: 10080.0801\n",
      "Epoch 44/100\n",
      "8/8 [==============================] - 0s 9ms/step - loss: 99.8961 - mse: 10080.0547\n",
      "Epoch 45/100\n",
      "8/8 [==============================] - 0s 8ms/step - loss: 99.8960 - mse: 10080.0322\n",
      "Epoch 46/100\n",
      "8/8 [==============================] - 0s 8ms/step - loss: 99.8959 - mse: 10080.0068\n",
      "Epoch 47/100\n",
      "8/8 [==============================] - 0s 8ms/step - loss: 99.8958 - mse: 10079.9844\n",
      "Epoch 48/100\n",
      "8/8 [==============================] - 0s 8ms/step - loss: 99.8956 - mse: 10079.9609\n",
      "Epoch 49/100\n",
      "8/8 [==============================] - 0s 8ms/step - loss: 99.8955 - mse: 10079.9375\n",
      "Epoch 50/100\n",
      "8/8 [==============================] - 0s 9ms/step - loss: 99.8954 - mse: 10079.9131\n",
      "Epoch 51/100\n",
      "8/8 [==============================] - 0s 8ms/step - loss: 99.8953 - mse: 10079.8896\n",
      "Epoch 52/100\n",
      "8/8 [==============================] - 0s 13ms/step - loss: 99.8952 - mse: 10079.8652\n",
      "Epoch 53/100\n",
      "8/8 [==============================] - 0s 8ms/step - loss: 99.8951 - mse: 10079.8418\n",
      "Epoch 54/100\n",
      "8/8 [==============================] - 0s 7ms/step - loss: 99.8949 - mse: 10079.8193\n",
      "Epoch 55/100\n",
      "8/8 [==============================] - 0s 8ms/step - loss: 99.8948 - mse: 10079.7949\n",
      "Epoch 56/100\n",
      "8/8 [==============================] - 0s 7ms/step - loss: 99.8947 - mse: 10079.7715\n",
      "Epoch 57/100\n",
      "8/8 [==============================] - 0s 8ms/step - loss: 99.8946 - mse: 10079.7471\n",
      "Epoch 58/100\n",
      "8/8 [==============================] - 0s 7ms/step - loss: 99.8945 - mse: 10079.7246\n",
      "Epoch 59/100\n",
      "8/8 [==============================] - 0s 7ms/step - loss: 99.8943 - mse: 10079.7002\n",
      "Epoch 60/100\n",
      "8/8 [==============================] - 0s 8ms/step - loss: 99.8942 - mse: 10079.6768\n",
      "Epoch 61/100\n",
      "8/8 [==============================] - 0s 9ms/step - loss: 99.8941 - mse: 10079.6523\n",
      "Epoch 62/100\n",
      "8/8 [==============================] - 0s 11ms/step - loss: 99.8940 - mse: 10079.6299\n",
      "Epoch 63/100\n",
      "8/8 [==============================] - 0s 8ms/step - loss: 99.8939 - mse: 10079.6064\n",
      "Epoch 64/100\n",
      "8/8 [==============================] - 0s 10ms/step - loss: 99.8938 - mse: 10079.5820\n",
      "Epoch 65/100\n",
      "8/8 [==============================] - 0s 10ms/step - loss: 99.8936 - mse: 10079.5576\n",
      "Epoch 66/100\n",
      "8/8 [==============================] - 0s 9ms/step - loss: 99.8935 - mse: 10079.5352\n",
      "Epoch 67/100\n",
      "8/8 [==============================] - 0s 8ms/step - loss: 99.8934 - mse: 10079.5098\n",
      "Epoch 68/100\n",
      "8/8 [==============================] - 0s 8ms/step - loss: 99.8933 - mse: 10079.4873\n",
      "Epoch 69/100\n",
      "8/8 [==============================] - 0s 8ms/step - loss: 99.8932 - mse: 10079.4629\n",
      "Epoch 70/100\n",
      "8/8 [==============================] - 0s 9ms/step - loss: 99.8931 - mse: 10079.4395\n",
      "Epoch 71/100\n",
      "8/8 [==============================] - 0s 8ms/step - loss: 99.8929 - mse: 10079.4150\n",
      "Epoch 72/100\n",
      "8/8 [==============================] - 0s 9ms/step - loss: 99.8928 - mse: 10079.3926\n",
      "Epoch 73/100\n",
      "8/8 [==============================] - 0s 11ms/step - loss: 99.8927 - mse: 10079.3672\n",
      "Epoch 74/100\n",
      "8/8 [==============================] - 0s 9ms/step - loss: 99.8926 - mse: 10079.3447\n",
      "Epoch 75/100\n",
      "8/8 [==============================] - 0s 9ms/step - loss: 99.8925 - mse: 10079.3213\n",
      "Epoch 76/100\n",
      "8/8 [==============================] - 0s 9ms/step - loss: 99.8923 - mse: 10079.2969\n",
      "Epoch 77/100\n",
      "8/8 [==============================] - 0s 8ms/step - loss: 99.8922 - mse: 10079.2744\n",
      "Epoch 78/100\n",
      "8/8 [==============================] - 0s 8ms/step - loss: 99.8921 - mse: 10079.2490\n",
      "Epoch 79/100\n",
      "8/8 [==============================] - 0s 8ms/step - loss: 99.8920 - mse: 10079.2266\n",
      "Epoch 80/100\n",
      "8/8 [==============================] - 0s 8ms/step - loss: 99.8919 - mse: 10079.2031\n",
      "Epoch 81/100\n",
      "8/8 [==============================] - 0s 7ms/step - loss: 99.8918 - mse: 10079.1787\n",
      "Epoch 82/100\n",
      "8/8 [==============================] - 0s 9ms/step - loss: 99.8916 - mse: 10079.1553\n",
      "Epoch 83/100\n",
      "8/8 [==============================] - 0s 8ms/step - loss: 99.8915 - mse: 10079.1328\n",
      "Epoch 84/100\n"
     ]
    },
    {
     "name": "stdout",
     "output_type": "stream",
     "text": [
      "8/8 [==============================] - 0s 13ms/step - loss: 99.8914 - mse: 10079.1084\n",
      "Epoch 85/100\n",
      "8/8 [==============================] - 0s 8ms/step - loss: 99.8913 - mse: 10079.0850\n",
      "Epoch 86/100\n",
      "8/8 [==============================] - 0s 8ms/step - loss: 99.8912 - mse: 10079.0605\n",
      "Epoch 87/100\n",
      "8/8 [==============================] - 0s 8ms/step - loss: 99.8910 - mse: 10079.0371\n",
      "Epoch 88/100\n",
      "8/8 [==============================] - 0s 11ms/step - loss: 99.8909 - mse: 10079.0127\n",
      "Epoch 89/100\n",
      "8/8 [==============================] - 0s 9ms/step - loss: 99.8908 - mse: 10078.9893\n",
      "Epoch 90/100\n",
      "8/8 [==============================] - 0s 8ms/step - loss: 99.8907 - mse: 10078.9648\n",
      "Epoch 91/100\n",
      "8/8 [==============================] - 0s 8ms/step - loss: 99.8906 - mse: 10078.9414\n",
      "Epoch 92/100\n",
      "8/8 [==============================] - 0s 8ms/step - loss: 99.8905 - mse: 10078.9180\n",
      "Epoch 93/100\n",
      "8/8 [==============================] - 0s 8ms/step - loss: 99.8903 - mse: 10078.8945\n",
      "Epoch 94/100\n",
      "8/8 [==============================] - 0s 8ms/step - loss: 99.8902 - mse: 10078.8711\n",
      "Epoch 95/100\n",
      "8/8 [==============================] - 0s 8ms/step - loss: 99.8901 - mse: 10078.8457\n",
      "Epoch 96/100\n",
      "8/8 [==============================] - 0s 11ms/step - loss: 99.8900 - mse: 10078.8232\n",
      "Epoch 97/100\n",
      "8/8 [==============================] - 0s 13ms/step - loss: 99.8899 - mse: 10078.7988\n",
      "Epoch 98/100\n",
      "8/8 [==============================] - 0s 10ms/step - loss: 99.8897 - mse: 10078.7773\n",
      "Epoch 99/100\n",
      "8/8 [==============================] - 0s 9ms/step - loss: 99.8896 - mse: 10078.7520\n",
      "Epoch 100/100\n",
      "8/8 [==============================] - 0s 7ms/step - loss: 99.8895 - mse: 10078.7275\n"
     ]
    }
   ],
   "source": [
    "# Set the learning rate\n",
    "learning_rate = 1e-6\n",
    "\n",
    "# Set the optimizer\n",
    "optimizer = tf.keras.optimizers.SGD(learning_rate=learning_rate, momentum=0.9)\n",
    "\n",
    "# Set the training parameters\n",
    "model.compile(loss=tf.keras.losses.Huber(),\n",
    "              optimizer=optimizer,\n",
    "              metrics=[\"mse\"])\n",
    "\n",
    "# Train the model\n",
    "history = model.fit(train_set,epochs=100)"
   ]
  },
  {
   "cell_type": "code",
   "execution_count": 21,
   "metadata": {
    "id": "751bkoX1im-E"
   },
   "outputs": [],
   "source": [
    "def model_forecast(model, series, window_size, batch_size):\n",
    "    \"\"\"Uses an input model to generate predictions on data windows\n",
    "\n",
    "    Args:\n",
    "      model (TF Keras Model) - model that accepts data windows\n",
    "      series (array of float) - contains the values of the time series\n",
    "      window_size (int) - the number of time steps to include in the window\n",
    "      batch_size (int) - the batch size\n",
    "\n",
    "    Returns:\n",
    "      forecast (numpy array) - array containing predictions\n",
    "    \"\"\"\n",
    "\n",
    "    # Generate a TF Dataset from the series values\n",
    "    dataset = tf.data.Dataset.from_tensor_slices(series)\n",
    "\n",
    "    # Window the data but only take those with the specified size\n",
    "    dataset = dataset.window(window_size, shift=1, drop_remainder=True)\n",
    "\n",
    "    # Flatten the windows by putting its elements in a single batch\n",
    "    dataset = dataset.flat_map(lambda w: w.batch(window_size))\n",
    "\n",
    "    # Create batches of windows\n",
    "    dataset = dataset.batch(batch_size).prefetch(1)\n",
    "\n",
    "    # Get predictions on the entire dataset\n",
    "    forecast = model.predict(dataset)\n",
    "\n",
    "    return forecast"
   ]
  },
  {
   "cell_type": "code",
   "execution_count": 22,
   "metadata": {
    "colab": {
     "base_uri": "https://localhost:8080/",
     "height": 1000
    },
    "executionInfo": {
     "elapsed": 1332,
     "status": "ok",
     "timestamp": 1727062708649,
     "user": {
      "displayName": "Đặng Thị Kiêm Hồng",
      "userId": "05445281411830122382"
     },
     "user_tz": -420
    },
    "id": "xeN_ZmBVioj4",
    "outputId": "a0a48c4b-f01d-420e-e149-6887f36202f0"
   },
   "outputs": [
    {
     "name": "stdout",
     "output_type": "stream",
     "text": [
      "2/2 [==============================] - 0s 54ms/step\n"
     ]
    },
    {
     "data": {
      "image/png": "[encoded data removed]",
      "text/plain": [
       "<Figure size 1000x600 with 1 Axes>"
      ]
     },
     "metadata": {},
     "output_type": "display_data"
    },
    {
     "name": "stdout",
     "output_type": "stream",
     "text": [
      "[0.13957855 0.13957855 0.13957855 0.13957855 0.13957855 0.13957855\n",
      " 0.13957855 0.13957855 0.13957855 0.13957855 0.13957855 0.13957855\n",
      " 0.13957855 0.13957855 0.13957855 0.13957855 0.13957855 0.13957855\n",
      " 0.13957855 0.13957855 0.13957855 0.13957855 0.13957855 0.13957855\n",
      " 0.13957855 0.13957855 0.13957855 0.13957855 0.13957855 0.13957855\n",
      " 0.13957855 0.13957855 0.13957855 0.13957855 0.13957855 0.13957855\n",
      " 0.13957855 0.13957855 0.13957855 0.13957855 0.13957855 0.13957855\n",
      " 0.13957855 0.13957855 0.13957855 0.13957855 0.13957855 0.13957855\n",
      " 0.13957855]\n"
     ]
    }
   ],
   "source": [
    "# Reduce the original series\n",
    "forecast_series = series[split_time-window_size:-1]\n",
    "\n",
    "# Use helper function to generate predictions\n",
    "forecast = model_forecast(model, forecast_series, window_size, batch_size)\n",
    "\n",
    "# Drop single dimensional axis\n",
    "results = forecast.squeeze()\n",
    "\n",
    "# Plot the results\n",
    "plot_series(time_valid, (x_valid, results))\n",
    "print(results)"
   ]
  },
  {
   "cell_type": "code",
   "execution_count": null,
   "metadata": {
    "colab": {
     "base_uri": "https://localhost:8080/"
    },
    "executionInfo": {
     "elapsed": 484,
     "status": "ok",
     "timestamp": 1727062718479,
     "user": {
      "displayName": "Đặng Thị Kiêm Hồng",
      "userId": "05445281411830122382"
     },
     "user_tz": -420
    },
    "id": "9kJpbJJpq6Dq",
    "outputId": "3e4bff22-5427-439f-ab55-4db816939fe7"
   },
   "outputs": [
    {
     "name": "stdout",
     "output_type": "stream",
     "text": [
      "Mean Squared Error (MSE): 148.657044430109\n"
     ]
    }
   ],
   "source": [
    "import numpy as np\n",
    "\n",
    "def mean_squared_error(actual, predicted):\n",
    "    return np.mean((actual - predicted) ** 2)\n",
    "\n",
    "# Tính MSE\n",
    "mse = mean_squared_error(x_valid, results)\n",
    "print(\"Mean Squared Error (MSE):\", mse)"
   ]
  }
 ],
 "metadata": {
  "colab": {
   "authorship_tag": "ABX9TyOy2QCqOk/AA+RkmIoGixk1",
   "provenance": []
  },
  "kernelspec": {
   "display_name": "Python 3 (ipykernel)",
   "language": "python",
   "name": "python3"
  },
  "language_info": {
   "codemirror_mode": {
    "name": "ipython",
    "version": 3
   },
   "file_extension": ".py",
   "mimetype": "text/x-python",
   "name": "python",
   "nbconvert_exporter": "python",
   "pygments_lexer": "ipython3",
   "version": "3.9.13"
  }
 },
 "nbformat": 4,
 "nbformat_minor": 1
}
