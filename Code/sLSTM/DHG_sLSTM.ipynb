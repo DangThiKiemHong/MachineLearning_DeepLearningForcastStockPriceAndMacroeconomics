{
 "cells": [
  {
   "cell_type": "code",
   "execution_count": 1,
   "metadata": {
    "executionInfo": {
     "elapsed": 600,
     "status": "ok",
     "timestamp": 1727061134424,
     "user": {
      "displayName": "Đặng Thị Kiêm Hồng",
      "userId": "05445281411830122382"
     },
     "user_tz": -420
    },
    "id": "W-RlFTdGfann"
   },
   "outputs": [],
   "source": [
    "import numpy as np\n",
    "import pandas as pd\n",
    "#import yfinance as yf\n",
    "import matplotlib.pyplot as plt\n",
    "from sklearn.preprocessing import MinMaxScaler\n",
    "from tensorflow.keras.models import Model\n",
    "from tensorflow.keras.layers import Input, Dense, RNN\n",
    "from tensorflow.keras.optimizers import Adam\n",
    "from tensorflow.keras.callbacks import EarlyStopping\n",
    "import tensorflow as tf"
   ]
  },
  {
   "cell_type": "code",
   "execution_count": 2,
   "metadata": {
    "colab": {
     "base_uri": "https://localhost:8080/",
     "height": 243
    },
    "executionInfo": {
     "elapsed": 17,
     "status": "ok",
     "timestamp": 1727061135115,
     "user": {
      "displayName": "Đặng Thị Kiêm Hồng",
      "userId": "05445281411830122382"
     },
     "user_tz": -420
    },
    "id": "cwidh5C5fkmY",
    "outputId": "3c08090a-40e8-4fbd-8459-0f83c898b4bc"
   },
   "outputs": [
    {
     "data": {
      "text/html": [
       "<div>\n",
       "<style scoped>\n",
       "    .dataframe tbody tr th:only-of-type {\n",
       "        vertical-align: middle;\n",
       "    }\n",
       "\n",
       "    .dataframe tbody tr th {\n",
       "        vertical-align: top;\n",
       "    }\n",
       "\n",
       "    .dataframe thead th {\n",
       "        text-align: right;\n",
       "    }\n",
       "</style>\n",
       "<table border=\"1\" class=\"dataframe\">\n",
       "  <thead>\n",
       "    <tr style=\"text-align: right;\">\n",
       "      <th></th>\n",
       "      <th>Unnamed: 0</th>\n",
       "      <th>time</th>\n",
       "      <th>open</th>\n",
       "      <th>high</th>\n",
       "      <th>low</th>\n",
       "      <th>close</th>\n",
       "      <th>volume</th>\n",
       "    </tr>\n",
       "  </thead>\n",
       "  <tbody>\n",
       "    <tr>\n",
       "      <th>0</th>\n",
       "      <td>0</td>\n",
       "      <td>2015-01-05</td>\n",
       "      <td>44.06</td>\n",
       "      <td>44.06</td>\n",
       "      <td>42.68</td>\n",
       "      <td>43.60</td>\n",
       "      <td>1160</td>\n",
       "    </tr>\n",
       "    <tr>\n",
       "      <th>1</th>\n",
       "      <td>1</td>\n",
       "      <td>2015-01-06</td>\n",
       "      <td>43.14</td>\n",
       "      <td>43.60</td>\n",
       "      <td>43.14</td>\n",
       "      <td>43.60</td>\n",
       "      <td>250</td>\n",
       "    </tr>\n",
       "    <tr>\n",
       "      <th>2</th>\n",
       "      <td>2</td>\n",
       "      <td>2015-01-07</td>\n",
       "      <td>43.60</td>\n",
       "      <td>43.60</td>\n",
       "      <td>42.68</td>\n",
       "      <td>43.14</td>\n",
       "      <td>2410</td>\n",
       "    </tr>\n",
       "    <tr>\n",
       "      <th>3</th>\n",
       "      <td>3</td>\n",
       "      <td>2015-01-08</td>\n",
       "      <td>43.14</td>\n",
       "      <td>43.14</td>\n",
       "      <td>42.68</td>\n",
       "      <td>43.14</td>\n",
       "      <td>2430</td>\n",
       "    </tr>\n",
       "    <tr>\n",
       "      <th>4</th>\n",
       "      <td>4</td>\n",
       "      <td>2015-01-09</td>\n",
       "      <td>43.14</td>\n",
       "      <td>43.14</td>\n",
       "      <td>42.68</td>\n",
       "      <td>43.14</td>\n",
       "      <td>6720</td>\n",
       "    </tr>\n",
       "  </tbody>\n",
       "</table>\n",
       "</div>"
      ],
      "text/plain": [
       "   Unnamed: 0        time   open   high    low  close  volume\n",
       "0           0  2015-01-05  44.06  44.06  42.68  43.60    1160\n",
       "1           1  2015-01-06  43.14  43.60  43.14  43.60     250\n",
       "2           2  2015-01-07  43.60  43.60  42.68  43.14    2410\n",
       "3           3  2015-01-08  43.14  43.14  42.68  43.14    2430\n",
       "4           4  2015-01-09  43.14  43.14  42.68  43.14    6720"
      ]
     },
     "execution_count": 2,
     "metadata": {},
     "output_type": "execute_result"
    }
   ],
   "source": [
    "# Đọc dữ liệu từ file CSV (có thể thay bằng file của bạn)\n",
    "data = pd.read_csv('D:\\DeTaiNam2024\\SoLieuHong\\DHG.csv')\n",
    "# Kiểm tra tiêu đề các cột\n",
    "data.head()"
   ]
  },
  {
   "cell_type": "code",
   "execution_count": 4,
   "metadata": {
    "executionInfo": {
     "elapsed": 14,
     "status": "ok",
     "timestamp": 1727061135115,
     "user": {
      "displayName": "Đặng Thị Kiêm Hồng",
      "userId": "05445281411830122382"
     },
     "user_tz": -420
    },
    "id": "m7h4q7mogUbv"
   },
   "outputs": [],
   "source": [
    " data = data[['close']]\n",
    " data.dropna(inplace=True)"
   ]
  },
  {
   "cell_type": "code",
   "execution_count": 5,
   "metadata": {
    "executionInfo": {
     "elapsed": 14,
     "status": "ok",
     "timestamp": 1727061135116,
     "user": {
      "displayName": "Đặng Thị Kiêm Hồng",
      "userId": "05445281411830122382"
     },
     "user_tz": -420
    },
    "id": "fvSkw8KPgZla"
   },
   "outputs": [],
   "source": [
    "# Chuẩn bị dữ liệu\n",
    "def prepare_data(data, time_steps=60):\n",
    "    scaler = MinMaxScaler(feature_range=(0, 1))\n",
    "    scaled_data = scaler.fit_transform(data)\n",
    "\n",
    "    X, y = [], []\n",
    "    for i in range(time_steps, len(scaled_data)):\n",
    "        X.append(scaled_data[i-time_steps:i, 0])\n",
    "        y.append(scaled_data[i, 0])\n",
    "    X, y = np.array(X), np.array(y)\n",
    "\n",
    "    # Reshape X để phù hợp với RNN [samples, time_steps, features]\n",
    "    X = np.reshape(X, (X.shape[0], X.shape[1], 1))\n",
    "    return X, y, scaler\n"
   ]
  },
  {
   "cell_type": "code",
   "execution_count": 6,
   "metadata": {
    "executionInfo": {
     "elapsed": 14,
     "status": "ok",
     "timestamp": 1727061135116,
     "user": {
      "displayName": "Đặng Thị Kiêm Hồng",
      "userId": "05445281411830122382"
     },
     "user_tz": -420
    },
    "id": "_aG2vk1vgivz"
   },
   "outputs": [],
   "source": [
    "X, y, scaler = prepare_data(data)"
   ]
  },
  {
   "cell_type": "code",
   "execution_count": 6,
   "metadata": {},
   "outputs": [
    {
     "data": {
      "text/plain": [
       "array([[[0.14078818],\n",
       "        [0.14078818],\n",
       "        [0.13625616],\n",
       "        ...,\n",
       "        [0.11142857],\n",
       "        [0.11142857],\n",
       "        [0.10916256]],\n",
       "\n",
       "       [[0.14078818],\n",
       "        [0.13625616],\n",
       "        [0.13625616],\n",
       "        ...,\n",
       "        [0.11142857],\n",
       "        [0.10916256],\n",
       "        [0.10916256]],\n",
       "\n",
       "       [[0.13625616],\n",
       "        [0.13625616],\n",
       "        [0.13625616],\n",
       "        ...,\n",
       "        [0.10916256],\n",
       "        [0.10916256],\n",
       "        [0.10689655]],\n",
       "\n",
       "       ...,\n",
       "\n",
       "       [[0.81330049],\n",
       "        [0.79714286],\n",
       "        [0.79418719],\n",
       "        ...,\n",
       "        [0.76640394],\n",
       "        [0.76147783],\n",
       "        [0.76147783]],\n",
       "\n",
       "       [[0.79714286],\n",
       "        [0.79418719],\n",
       "        [0.78945813],\n",
       "        ...,\n",
       "        [0.76147783],\n",
       "        [0.76147783],\n",
       "        [0.76837438]],\n",
       "\n",
       "       [[0.79418719],\n",
       "        [0.78945813],\n",
       "        [0.79231527],\n",
       "        ...,\n",
       "        [0.76147783],\n",
       "        [0.76837438],\n",
       "        [0.77133005]]])"
      ]
     },
     "execution_count": 6,
     "metadata": {},
     "output_type": "execute_result"
    }
   ],
   "source": [
    "X"
   ]
  },
  {
   "cell_type": "code",
   "execution_count": 7,
   "metadata": {
    "executionInfo": {
     "elapsed": 13,
     "status": "ok",
     "timestamp": 1727061135116,
     "user": {
      "displayName": "Đặng Thị Kiêm Hồng",
      "userId": "05445281411830122382"
     },
     "user_tz": -420
    },
    "id": "vwn8lrfcgmkU"
   },
   "outputs": [],
   "source": [
    "class sLSTMCell(tf.keras.layers.Layer):\n",
    "    def __init__(self, units, **kwargs):\n",
    "        super(sLSTMCell, self).__init__(**kwargs)\n",
    "        self.units = units\n",
    "        self.state_size = [self.units, self.units]  # [hidden_state, normalizer_state]\n",
    "\n",
    "    def build(self, input_shape):\n",
    "        # Khởi tạo trọng số cho các cổng\n",
    "        self.W_f = self.add_weight(shape=(input_shape[-1], self.units),\n",
    "                                   initializer='glorot_uniform',\n",
    "                                   name='W_f')\n",
    "        self.U_f = self.add_weight(shape=(self.units, self.units),\n",
    "                                   initializer='orthogonal',\n",
    "                                   name='U_f')\n",
    "        self.b_f = self.add_weight(shape=(self.units,),\n",
    "                                   initializer='zeros',\n",
    "                                   name='b_f')\n",
    "\n",
    "        self.W_i = self.add_weight(shape=(input_shape[-1], self.units),\n",
    "                                   initializer='glorot_uniform',\n",
    "                                   name='W_i')\n",
    "        self.U_i = self.add_weight(shape=(self.units, self.units),\n",
    "                                   initializer='orthogonal',\n",
    "                                   name='U_i')\n",
    "        self.b_i = self.add_weight(shape=(self.units,),\n",
    "                                   initializer='zeros',\n",
    "                                   name='b_i')\n",
    "\n",
    "        self.W_c = self.add_weight(shape=(input_shape[-1], self.units),\n",
    "                                   initializer='glorot_uniform',\n",
    "                                   name='W_c')\n",
    "        self.U_c = self.add_weight(shape=(self.units, self.units),\n",
    "                                   initializer='orthogonal',\n",
    "                                   name='U_c')\n",
    "        self.b_c = self.add_weight(shape=(self.units,),\n",
    "                                   initializer='zeros',\n",
    "                                   name='b_c')\n",
    "\n",
    "        self.W_o = self.add_weight(shape=(input_shape[-1], self.units),\n",
    "                                   initializer='glorot_uniform',\n",
    "                                   name='W_o')\n",
    "        self.U_o = self.add_weight(shape=(self.units, self.units),\n",
    "                                   initializer='orthogonal',\n",
    "                                   name='U_o')\n",
    "        self.b_o = self.add_weight(shape=(self.units,),\n",
    "                                   initializer='zeros',\n",
    "                                   name='b_o')\n",
    "        super(sLSTMCell, self).build(input_shape)\n",
    "\n",
    "    def call(self, inputs, states):\n",
    "        h_prev, n_prev = states\n",
    "\n",
    "        # Forget gate: sử dụng sigmoid hoặc exp\n",
    "       # f = tf.keras.activations.sigmoid(tf.matmul(inputs, self.W_f) + tf.matmul(h_prev, self.U_f) + self.b_f)\n",
    "        f = tf.exp(tf.matmul(inputs, self.W_f) + tf.matmul(h_prev, self.U_f) + self.b_f)\n",
    "\n",
    "        # Input gate: sử dụng (sigmoid)^2 hoặc (exp)^2\n",
    "      #  i = tf.keras.activations.sigmoid(tf.matmul(inputs, self.W_i) + tf.matmul(h_prev, self.U_i) + self.b_i)\n",
    "       # i = tf.square(i)  # (σ(x))^2\n",
    "        i = tf.exp(tf.matmul(inputs, self.W_i) + tf.matmul(h_prev, self.U_i) + self.b_i)\n",
    "        # Candidate cell state\n",
    "        c_tilde = tf.keras.activations.tanh(tf.matmul(inputs, self.W_c) + tf.matmul(h_prev, self.U_c) + self.b_c)\n",
    "\n",
    "        # Cell state update\n",
    "        c = f * states[0] + i * c_tilde\n",
    "\n",
    "        # Normalizer state update\n",
    "        n = f * n_prev + i\n",
    "\n",
    "        # Output gate\n",
    "        o = tf.keras.activations.sigmoid(tf.matmul(inputs, self.W_o) + tf.matmul(h_prev, self.U_o) + self.b_o)\n",
    "\n",
    "        # Normalized hidden state\n",
    "        h_tilde = c * tf.math.reciprocal(n + 1e-7)  # thêm epsilon để tránh chia cho 0\n",
    "        h = o * h_tilde\n",
    "\n",
    "        return h, [h, n]\n",
    "\n",
    "class sLSTM(tf.keras.layers.Layer):\n",
    "    def __init__(self, units, **kwargs):\n",
    "        super(sLSTM, self).__init__(**kwargs)\n",
    "        self.units = units\n",
    "        self.cell = sLSTMCell(units)\n",
    "\n",
    "    def call(self, inputs):\n",
    "        return tf.keras.layers.RNN(self.cell, return_sequences=False, return_state=False)(inputs)\n",
    "\n",
    "    def get_config(self):\n",
    "        config = super(sLSTM, self).get_config()\n",
    "        config.update({'units': self.units})\n",
    "        return config\n"
   ]
  },
  {
   "cell_type": "code",
   "execution_count": 15,
   "metadata": {
    "colab": {
     "base_uri": "https://localhost:8080/",
     "height": 225
    },
    "executionInfo": {
     "elapsed": 813,
     "status": "ok",
     "timestamp": 1727062104765,
     "user": {
      "displayName": "Đặng Thị Kiêm Hồng",
      "userId": "05445281411830122382"
     },
     "user_tz": -420
    },
    "id": "vAsXYHMWgoYV",
    "outputId": "f68a8b3f-3a8b-4949-d128-4e6b844505ff"
   },
   "outputs": [
    {
     "name": "stdout",
     "output_type": "stream",
     "text": [
      "Model: \"model_4\"\n",
      "_________________________________________________________________\n",
      " Layer (type)                Output Shape              Param #   \n",
      "=================================================================\n",
      " input_5 (InputLayer)        [(None, 60, 1)]           0         \n",
      "                                                                 \n",
      " s_lstm_4 (sLSTM)            (None, 50)                10400     \n",
      "                                                                 \n",
      " dense_4 (Dense)             (None, 1)                 51        \n",
      "                                                                 \n",
      "=================================================================\n",
      "Total params: 10,451\n",
      "Trainable params: 10,451\n",
      "Non-trainable params: 0\n",
      "_________________________________________________________________\n"
     ]
    }
   ],
   "source": [
    "# Xây dựng mô hình\n",
    "def build_model(time_steps, units=50):\n",
    "    inputs = Input(shape=(time_steps, 1))\n",
    "    x = sLSTM(units)(inputs)\n",
    "    x = Dense(1)(x)\n",
    "    model = Model(inputs, x)\n",
    "    model.compile(optimizer=Adam(learning_rate=1e-05), loss='mean_squared_error')\n",
    "    return model\n",
    "# Khởi tạo mô hình\n",
    "model = build_model(time_steps=60, units=50)\n",
    "model.summary()\n"
   ]
  },
  {
   "cell_type": "code",
   "execution_count": 16,
   "metadata": {
    "colab": {
     "base_uri": "https://localhost:8080/"
    },
    "executionInfo": {
     "elapsed": 116210,
     "status": "ok",
     "timestamp": 1727062224871,
     "user": {
      "displayName": "Đặng Thị Kiêm Hồng",
      "userId": "05445281411830122382"
     },
     "user_tz": -420
    },
    "id": "RNAbWmH_guLn",
    "outputId": "368ac1da-8b46-490b-84e4-bb9eb3e3d1ce"
   },
   "outputs": [
    {
     "name": "stdout",
     "output_type": "stream",
     "text": [
      "Epoch 1/100\n",
      "63/63 [==============================] - 9s 70ms/step - loss: 0.2186 - val_loss: 0.5953\n",
      "Epoch 2/100\n",
      "63/63 [==============================] - 4s 60ms/step - loss: 0.2177 - val_loss: 0.5930\n",
      "Epoch 3/100\n",
      "63/63 [==============================] - 4s 63ms/step - loss: 0.2168 - val_loss: 0.5907\n",
      "Epoch 4/100\n",
      "63/63 [==============================] - 4s 60ms/step - loss: 0.2159 - val_loss: 0.5885\n",
      "Epoch 5/100\n",
      "63/63 [==============================] - 4s 56ms/step - loss: 0.2149 - val_loss: 0.5862\n",
      "Epoch 6/100\n",
      "63/63 [==============================] - 4s 61ms/step - loss: 0.2140 - val_loss: 0.5840\n",
      "Epoch 7/100\n",
      "63/63 [==============================] - 4s 59ms/step - loss: 0.2131 - val_loss: 0.5817\n",
      "Epoch 8/100\n",
      "63/63 [==============================] - 3s 52ms/step - loss: 0.2122 - val_loss: 0.5795\n",
      "Epoch 9/100\n",
      "63/63 [==============================] - 3s 55ms/step - loss: 0.2113 - val_loss: 0.5772\n",
      "Epoch 10/100\n",
      "63/63 [==============================] - 4s 61ms/step - loss: 0.2104 - val_loss: 0.5750\n",
      "Epoch 11/100\n",
      "63/63 [==============================] - 4s 58ms/step - loss: 0.2095 - val_loss: 0.5727\n",
      "Epoch 12/100\n",
      "63/63 [==============================] - 4s 65ms/step - loss: 0.2086 - val_loss: 0.5705\n",
      "Epoch 13/100\n",
      "63/63 [==============================] - 4s 59ms/step - loss: 0.2077 - val_loss: 0.5682\n",
      "Epoch 14/100\n",
      "63/63 [==============================] - 4s 61ms/step - loss: 0.2068 - val_loss: 0.5659\n",
      "Epoch 15/100\n",
      "63/63 [==============================] - 4s 63ms/step - loss: 0.2058 - val_loss: 0.5637\n",
      "Epoch 16/100\n",
      "63/63 [==============================] - 4s 63ms/step - loss: 0.2049 - val_loss: 0.5614\n",
      "Epoch 17/100\n",
      "63/63 [==============================] - 4s 60ms/step - loss: 0.2040 - val_loss: 0.5591\n",
      "Epoch 18/100\n",
      "63/63 [==============================] - 4s 59ms/step - loss: 0.2031 - val_loss: 0.5568\n",
      "Epoch 19/100\n",
      "63/63 [==============================] - 4s 63ms/step - loss: 0.2022 - val_loss: 0.5545\n",
      "Epoch 20/100\n",
      "63/63 [==============================] - 4s 60ms/step - loss: 0.2013 - val_loss: 0.5522\n",
      "Epoch 21/100\n",
      "63/63 [==============================] - 3s 55ms/step - loss: 0.2003 - val_loss: 0.5499\n",
      "Epoch 22/100\n",
      "63/63 [==============================] - 4s 57ms/step - loss: 0.1994 - val_loss: 0.5475\n",
      "Epoch 23/100\n",
      "63/63 [==============================] - 3s 54ms/step - loss: 0.1985 - val_loss: 0.5451\n",
      "Epoch 24/100\n",
      "63/63 [==============================] - 3s 55ms/step - loss: 0.1975 - val_loss: 0.5428\n",
      "Epoch 25/100\n",
      "63/63 [==============================] - 3s 55ms/step - loss: 0.1966 - val_loss: 0.5404\n",
      "Epoch 26/100\n",
      "63/63 [==============================] - 3s 54ms/step - loss: 0.1956 - val_loss: 0.5379\n",
      "Epoch 27/100\n",
      "63/63 [==============================] - 3s 53ms/step - loss: 0.1947 - val_loss: 0.5355\n",
      "Epoch 28/100\n",
      "63/63 [==============================] - 4s 56ms/step - loss: 0.1937 - val_loss: 0.5330\n",
      "Epoch 29/100\n",
      "63/63 [==============================] - 3s 54ms/step - loss: 0.1928 - val_loss: 0.5305\n",
      "Epoch 30/100\n",
      "63/63 [==============================] - 4s 57ms/step - loss: 0.1918 - val_loss: 0.5280\n",
      "Epoch 31/100\n",
      "63/63 [==============================] - 3s 54ms/step - loss: 0.1908 - val_loss: 0.5255\n",
      "Epoch 32/100\n",
      "63/63 [==============================] - 4s 56ms/step - loss: 0.1898 - val_loss: 0.5230\n",
      "Epoch 33/100\n",
      "63/63 [==============================] - 4s 58ms/step - loss: 0.1888 - val_loss: 0.5204\n",
      "Epoch 34/100\n",
      "63/63 [==============================] - 4s 58ms/step - loss: 0.1878 - val_loss: 0.5178\n",
      "Epoch 35/100\n",
      "63/63 [==============================] - 3s 55ms/step - loss: 0.1868 - val_loss: 0.5151\n",
      "Epoch 36/100\n",
      "63/63 [==============================] - 3s 54ms/step - loss: 0.1858 - val_loss: 0.5125\n",
      "Epoch 37/100\n",
      "63/63 [==============================] - 3s 49ms/step - loss: 0.1848 - val_loss: 0.5097\n",
      "Epoch 38/100\n",
      "63/63 [==============================] - 3s 52ms/step - loss: 0.1837 - val_loss: 0.5070\n",
      "Epoch 39/100\n",
      "63/63 [==============================] - 4s 56ms/step - loss: 0.1827 - val_loss: 0.5042\n",
      "Epoch 40/100\n",
      "63/63 [==============================] - 3s 55ms/step - loss: 0.1816 - val_loss: 0.5015\n",
      "Epoch 41/100\n",
      "63/63 [==============================] - 3s 54ms/step - loss: 0.1806 - val_loss: 0.4986\n",
      "Epoch 42/100\n",
      "63/63 [==============================] - 3s 54ms/step - loss: 0.1795 - val_loss: 0.4957\n",
      "Epoch 43/100\n",
      "63/63 [==============================] - 4s 62ms/step - loss: 0.1784 - val_loss: 0.4928\n",
      "Epoch 44/100\n",
      "63/63 [==============================] - 4s 60ms/step - loss: 0.1773 - val_loss: 0.4898\n",
      "Epoch 45/100\n",
      "63/63 [==============================] - 4s 61ms/step - loss: 0.1761 - val_loss: 0.4868\n",
      "Epoch 46/100\n",
      "63/63 [==============================] - 3s 54ms/step - loss: 0.1750 - val_loss: 0.4837\n",
      "Epoch 47/100\n",
      "63/63 [==============================] - 4s 56ms/step - loss: 0.1738 - val_loss: 0.4805\n",
      "Epoch 48/100\n",
      "63/63 [==============================] - 4s 57ms/step - loss: 0.1727 - val_loss: 0.4773\n",
      "Epoch 49/100\n",
      "63/63 [==============================] - 4s 59ms/step - loss: 0.1715 - val_loss: 0.4741\n",
      "Epoch 50/100\n",
      "63/63 [==============================] - 4s 63ms/step - loss: 0.1703 - val_loss: 0.4707\n",
      "Epoch 51/100\n",
      "63/63 [==============================] - 4s 62ms/step - loss: 0.1690 - val_loss: 0.4673\n",
      "Epoch 52/100\n",
      "63/63 [==============================] - 4s 56ms/step - loss: 0.1678 - val_loss: 0.4639\n",
      "Epoch 53/100\n",
      "63/63 [==============================] - 4s 61ms/step - loss: 0.1665 - val_loss: 0.4603\n",
      "Epoch 54/100\n",
      "63/63 [==============================] - 4s 62ms/step - loss: 0.1652 - val_loss: 0.4567\n",
      "Epoch 55/100\n",
      "63/63 [==============================] - 4s 63ms/step - loss: 0.1639 - val_loss: 0.4529\n",
      "Epoch 56/100\n",
      "63/63 [==============================] - 3s 54ms/step - loss: 0.1626 - val_loss: 0.4491\n",
      "Epoch 57/100\n",
      "63/63 [==============================] - 4s 58ms/step - loss: 0.1612 - val_loss: 0.4451\n",
      "Epoch 58/100\n",
      "63/63 [==============================] - 4s 61ms/step - loss: 0.1598 - val_loss: 0.4411\n",
      "Epoch 59/100\n",
      "63/63 [==============================] - 4s 58ms/step - loss: 0.1583 - val_loss: 0.4370\n",
      "Epoch 60/100\n",
      "63/63 [==============================] - 4s 62ms/step - loss: 0.1569 - val_loss: 0.4326\n",
      "Epoch 61/100\n",
      "63/63 [==============================] - 4s 59ms/step - loss: 0.1554 - val_loss: 0.4282\n",
      "Epoch 62/100\n",
      "63/63 [==============================] - 3s 53ms/step - loss: 0.1539 - val_loss: 0.4236\n",
      "Epoch 63/100\n",
      "63/63 [==============================] - 4s 56ms/step - loss: 0.1523 - val_loss: 0.4189\n",
      "Epoch 64/100\n",
      "63/63 [==============================] - 3s 55ms/step - loss: 0.1507 - val_loss: 0.4140\n",
      "Epoch 65/100\n",
      "63/63 [==============================] - 3s 53ms/step - loss: 0.1490 - val_loss: 0.4089\n",
      "Epoch 66/100\n",
      "63/63 [==============================] - 4s 56ms/step - loss: 0.1473 - val_loss: 0.4035\n",
      "Epoch 67/100\n",
      "63/63 [==============================] - 4s 61ms/step - loss: 0.1456 - val_loss: 0.3980\n",
      "Epoch 68/100\n",
      "63/63 [==============================] - 3s 54ms/step - loss: 0.1438 - val_loss: 0.3923\n",
      "Epoch 69/100\n",
      "63/63 [==============================] - 3s 54ms/step - loss: 0.1419 - val_loss: 0.3862\n",
      "Epoch 70/100\n",
      "63/63 [==============================] - 3s 55ms/step - loss: 0.1400 - val_loss: 0.3799\n",
      "Epoch 71/100\n",
      "63/63 [==============================] - 4s 59ms/step - loss: 0.1380 - val_loss: 0.3732\n",
      "Epoch 72/100\n",
      "63/63 [==============================] - 4s 58ms/step - loss: 0.1360 - val_loss: 0.3662\n",
      "Epoch 73/100\n",
      "63/63 [==============================] - 3s 52ms/step - loss: 0.1339 - val_loss: 0.3587\n",
      "Epoch 74/100\n",
      "63/63 [==============================] - 3s 55ms/step - loss: 0.1317 - val_loss: 0.3506\n",
      "Epoch 75/100\n",
      "63/63 [==============================] - 3s 55ms/step - loss: 0.1293 - val_loss: 0.3421\n",
      "Epoch 76/100\n",
      "63/63 [==============================] - 4s 56ms/step - loss: 0.1269 - val_loss: 0.3325\n",
      "Epoch 77/100\n",
      "63/63 [==============================] - 3s 54ms/step - loss: 0.1244 - val_loss: 0.3212\n",
      "Epoch 78/100\n",
      "63/63 [==============================] - 3s 52ms/step - loss: 0.1217 - val_loss: nan\n",
      "Epoch 79/100\n",
      "63/63 [==============================] - 4s 59ms/step - loss: nan - val_loss: nan\n",
      "Epoch 80/100\n",
      "63/63 [==============================] - 4s 56ms/step - loss: nan - val_loss: nan\n",
      "Epoch 81/100\n",
      "63/63 [==============================] - 3s 55ms/step - loss: nan - val_loss: nan\n",
      "Epoch 82/100\n"
     ]
    },
    {
     "name": "stdout",
     "output_type": "stream",
     "text": [
      "63/63 [==============================] - 3s 53ms/step - loss: nan - val_loss: nan\n",
      "Epoch 83/100\n",
      "63/63 [==============================] - 3s 53ms/step - loss: nan - val_loss: nan\n",
      "Epoch 84/100\n",
      "63/63 [==============================] - 3s 52ms/step - loss: nan - val_loss: nan\n",
      "Epoch 85/100\n",
      "63/63 [==============================] - 4s 56ms/step - loss: nan - val_loss: nan\n",
      "Epoch 86/100\n",
      "63/63 [==============================] - 4s 57ms/step - loss: nan - val_loss: nan\n",
      "Epoch 87/100\n",
      "63/63 [==============================] - 3s 53ms/step - loss: nan - val_loss: nan\n"
     ]
    }
   ],
   "source": [
    "\n",
    "# Chia dữ liệu thành tập huấn luyện và kiểm tra\n",
    "train_size = int(len(X) * 0.85)\n",
    "X_train, X_test = X[:train_size], X[train_size:]\n",
    "y_train, y_test = y[:train_size], y[train_size:]\n",
    "\n",
    "# Xây dựng mô hình\n",
    "model = build_model(time_steps=60, units=50)\n",
    "\n",
    "# Huấn luyện mô hình\n",
    "early_stop = EarlyStopping(monitor='val_loss', patience=10, restore_best_weights=True)\n",
    "history = model.fit(X_train, y_train, epochs=100, batch_size=32,\n",
    "                    validation_data=(X_test, y_test),\n",
    "                    callbacks=[early_stop])\n"
   ]
  },
  {
   "cell_type": "code",
   "execution_count": 17,
   "metadata": {
    "colab": {
     "base_uri": "https://localhost:8080/",
     "height": 420
    },
    "executionInfo": {
     "elapsed": 2309,
     "status": "ok",
     "timestamp": 1727062245690,
     "user": {
      "displayName": "Đặng Thị Kiêm Hồng",
      "userId": "05445281411830122382"
     },
     "user_tz": -420
    },
    "id": "RVpvOaUwg0F_",
    "outputId": "4aba7979-a386-4f58-9385-ad534bdf37ff"
   },
   "outputs": [
    {
     "name": "stdout",
     "output_type": "stream",
     "text": [
      "12/12 [==============================] - 1s 11ms/step\n",
      "Root Mean Squared Error (RMSE): 57.52558669379986\n",
      "Mean Squared Error (MSE): 3309.193124465883\n"
     ]
    },
    {
     "data": {
      "image/png": "[encoded data removed]",
      "text/plain": [
       "<Figure size 1400x500 with 1 Axes>"
      ]
     },
     "metadata": {},
     "output_type": "display_data"
    }
   ],
   "source": [
    "\n",
    "# Dự đoán trên tập kiểm tra\n",
    "y_pred = model.predict(X_test)\n",
    "\n",
    "# Đảo chuẩn hóa để lấy giá trị thực\n",
    "y_pred_inv = scaler.inverse_transform(y_pred)\n",
    "y_test_inv = scaler.inverse_transform(y_test.reshape(-1, 1))\n",
    "\n",
    "# Tính toán RMSE\n",
    "from sklearn.metrics import mean_squared_error\n",
    "rmse = np.sqrt(mean_squared_error(y_test_inv, y_pred_inv))\n",
    "print(f'Root Mean Squared Error (RMSE): {rmse}')\n",
    "mse = mean_squared_error(y_test_inv, y_pred_inv)\n",
    "print(f'Mean Squared Error (MSE): {mse}')\n",
    "# Vẽ đồ thị so sánh giá thực và giá dự đoán\n",
    "plt.figure(figsize=(14, 5))\n",
    "plt.plot(y_test_inv, color='blue', label='Giá Thực')\n",
    "plt.plot(y_pred_inv, color='red', label='Giá Dự Đoán')\n",
    "plt.title('Dự Đoán Giá Cổ Phiếu Sử Dụng sLSTM')\n",
    "plt.xlabel('Thời Gian')\n",
    "plt.ylabel('Giá Cổ Phiếu')\n",
    "plt.legend()\n",
    "plt.show()\n"
   ]
  },
  {
   "cell_type": "code",
   "execution_count": 18,
   "metadata": {},
   "outputs": [
    {
     "name": "stdout",
     "output_type": "stream",
     "text": [
      "MSE= 3309.193124465883\n",
      "Accuracy= 0.46404441602394186\n",
      "mean_error_percent= 0.5359555839760581\n"
     ]
    }
   ],
   "source": [
    "mse1=np.mean(np.square(y_pred_inv - y_test_inv))\n",
    "print('MSE=', mse1)\n",
    "mean_error_percent1 = np.mean(np.abs((y_pred_inv - y_test_inv) / y_test_inv))\n",
    "accuracy1 = 1 - mean_error_percent1\n",
    "print('Accuracy=', accuracy1)\n",
    "print('mean_error_percent=', mean_error_percent1)"
   ]
  },
  {
   "cell_type": "code",
   "execution_count": null,
   "metadata": {},
   "outputs": [],
   "source": []
  }
 ],
 "metadata": {
  "colab": {
   "authorship_tag": "ABX9TyNgL9C8Muvj+KiWethPbxGM",
   "provenance": []
  },
  "kernelspec": {
   "display_name": "Python 3 (ipykernel)",
   "language": "python",
   "name": "python3"
  },
  "language_info": {
   "codemirror_mode": {
    "name": "ipython",
    "version": 3
   },
   "file_extension": ".py",
   "mimetype": "text/x-python",
   "name": "python",
   "nbconvert_exporter": "python",
   "pygments_lexer": "ipython3",
   "version": "3.9.13"
  }
 },
 "nbformat": 4,
 "nbformat_minor": 1
}
