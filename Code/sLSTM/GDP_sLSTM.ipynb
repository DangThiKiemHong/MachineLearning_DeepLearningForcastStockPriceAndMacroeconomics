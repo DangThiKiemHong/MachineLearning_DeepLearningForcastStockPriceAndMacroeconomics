{
 "cells": [
  {
   "cell_type": "code",
   "execution_count": 1,
   "metadata": {
    "id": "XLYnJKBXgm2k"
   },
   "outputs": [],
   "source": [
    "import tensorflow as tf\n",
    "import numpy as np\n",
    "import matplotlib.pyplot as plt\n",
    "import csv"
   ]
  },
  {
   "cell_type": "code",
   "execution_count": 2,
   "metadata": {
    "id": "eHSj6Kgwg2HQ"
   },
   "outputs": [],
   "source": [
    "def plot_series(x, y, format=\"-\", start=0, end=None,\n",
    "                title=None, xlabel=None, ylabel=None, legend=None ):\n",
    "    \"\"\"\n",
    "    Visualizes time series data\n",
    "\n",
    "    Args:\n",
    "      x (array of int) - contains values for the x-axis\n",
    "      y (array of int or tuple of arrays) - contains the values for the y-axis\n",
    "      format (string) - line style when plotting the graph\n",
    "      label (string) - tag for the line\n",
    "      start (int) - first time step to plot\n",
    "      end (int) - last time step to plot\n",
    "      title (string) - title of the plot\n",
    "      xlabel (string) - label for the x-axis\n",
    "      ylabel (string) - label for the y-axis\n",
    "      legend (list of strings) - legend for the plot\n",
    "    \"\"\"\n",
    "\n",
    "    # Setup dimensions of the graph figure\n",
    "    plt.figure(figsize=(10, 6))\n",
    "\n",
    "    # Check if there are more than two series to plot\n",
    "    if type(y) is tuple:\n",
    "\n",
    "      # Loop over the y elements\n",
    "      for y_curr in y:\n",
    "\n",
    "        # Plot the x and current y values\n",
    "        plt.plot(x[start:end], y_curr[start:end], format)\n",
    "\n",
    "    else:\n",
    "      # Plot the x and y values\n",
    "      plt.plot(x[start:end], y[start:end], format)\n",
    "\n",
    "    # Label the x-axis\n",
    "    plt.xlabel(xlabel)\n",
    "\n",
    "    # Label the y-axis\n",
    "    plt.ylabel(ylabel)\n",
    "\n",
    "    # Set the legend\n",
    "    if legend:\n",
    "      plt.legend(legend)\n",
    "\n",
    "    # Set the title\n",
    "    plt.title(title)\n",
    "\n",
    "    # Overlay a grid on the graph\n",
    "    plt.grid(True)\n",
    "\n",
    "    # Draw the graph on screen\n",
    "    plt.show()"
   ]
  },
  {
   "cell_type": "code",
   "execution_count": 3,
   "metadata": {
    "id": "to0XzETfg3dU"
   },
   "outputs": [],
   "source": [
    "import pandas as pd"
   ]
  },
  {
   "cell_type": "code",
   "execution_count": 17,
   "metadata": {
    "id": "VhrV4FMlg9F4"
   },
   "outputs": [],
   "source": [
    "data=pd.read_csv('D:\\DeTaiNam2024\\SoLieu\\KinhTeViMo\\GDP.csv')"
   ]
  },
  {
   "cell_type": "code",
   "execution_count": 18,
   "metadata": {
    "colab": {
     "base_uri": "https://localhost:8080/",
     "height": 206
    },
    "executionInfo": {
     "elapsed": 533,
     "status": "ok",
     "timestamp": 1727056718664,
     "user": {
      "displayName": "Đặng Thị Kiêm Hồng",
      "userId": "05445281411830122382"
     },
     "user_tz": -420
    },
    "id": "OkJpIU_2g_bp",
    "outputId": "138da7c5-9c58-44d7-f353-4e279a359dc5"
   },
   "outputs": [
    {
     "data": {
      "text/html": [
       "<div>\n",
       "<style scoped>\n",
       "    .dataframe tbody tr th:only-of-type {\n",
       "        vertical-align: middle;\n",
       "    }\n",
       "\n",
       "    .dataframe tbody tr th {\n",
       "        vertical-align: top;\n",
       "    }\n",
       "\n",
       "    .dataframe thead th {\n",
       "        text-align: right;\n",
       "    }\n",
       "</style>\n",
       "<table border=\"1\" class=\"dataframe\">\n",
       "  <thead>\n",
       "    <tr style=\"text-align: right;\">\n",
       "      <th></th>\n",
       "      <th>t</th>\n",
       "      <th>GDP_VN</th>\n",
       "    </tr>\n",
       "  </thead>\n",
       "  <tbody>\n",
       "    <tr>\n",
       "      <th>0</th>\n",
       "      <td>1984</td>\n",
       "      <td>3.436346e+10</td>\n",
       "    </tr>\n",
       "    <tr>\n",
       "      <th>1</th>\n",
       "      <td>1985</td>\n",
       "      <td>3.567129e+10</td>\n",
       "    </tr>\n",
       "    <tr>\n",
       "      <th>2</th>\n",
       "      <td>1986</td>\n",
       "      <td>3.666626e+10</td>\n",
       "    </tr>\n",
       "    <tr>\n",
       "      <th>3</th>\n",
       "      <td>1987</td>\n",
       "      <td>3.798019e+10</td>\n",
       "    </tr>\n",
       "    <tr>\n",
       "      <th>4</th>\n",
       "      <td>1988</td>\n",
       "      <td>3.993047e+10</td>\n",
       "    </tr>\n",
       "  </tbody>\n",
       "</table>\n",
       "</div>"
      ],
      "text/plain": [
       "      t        GDP_VN\n",
       "0  1984  3.436346e+10\n",
       "1  1985  3.567129e+10\n",
       "2  1986  3.666626e+10\n",
       "3  1987  3.798019e+10\n",
       "4  1988  3.993047e+10"
      ]
     },
     "execution_count": 18,
     "metadata": {},
     "output_type": "execute_result"
    }
   ],
   "source": [
    "data.head()"
   ]
  },
  {
   "cell_type": "code",
   "execution_count": 19,
   "metadata": {
    "colab": {
     "base_uri": "https://localhost:8080/",
     "height": 545
    },
    "executionInfo": {
     "elapsed": 11451,
     "status": "ok",
     "timestamp": 1727056764571,
     "user": {
      "displayName": "Đặng Thị Kiêm Hồng",
      "userId": "05445281411830122382"
     },
     "user_tz": -420
    },
    "id": "1QzTd_9shFVB",
    "outputId": "8560f0ea-ca79-4aff-9b64-e4de39e8eb03"
   },
   "outputs": [
    {
     "data": {
      "image/png": "[encoded data removed]",
      "text/plain": [
       "<Figure size 1000x600 with 1 Axes>"
      ]
     },
     "metadata": {},
     "output_type": "display_data"
    }
   ],
   "source": [
    "# Initialize lists\n",
    "time_step = []\n",
    "close = []\n",
    "\n",
    "# Open CSV file\n",
    "with open('D:\\DeTaiNam2024\\SoLieu\\KinhTeViMo\\GDP.csv') as csvfile:\n",
    "\n",
    "  # Initialize reader\n",
    "  reader = csv.reader(csvfile, delimiter=',')\n",
    "\n",
    "  # Skip the first line\n",
    "  next(reader)\n",
    "\n",
    "  # Append row and sunspot number to lists\n",
    "  for row in reader:\n",
    "    time_step.append(int(row[0]))\n",
    "    close.append(float(row[1]))\n",
    "\n",
    "# Convert lists to numpy arrays\n",
    "time = np.array(time_step)\n",
    "series = np.array(close)\n",
    "\n",
    "# Preview the data\n",
    "plot_series(time, series, xlabel='Năm', ylabel='GDP')"
   ]
  },
  {
   "cell_type": "code",
   "execution_count": null,
   "metadata": {},
   "outputs": [],
   "source": [
    "import pandas as pd\n",
    "import numpy as np\n",
    "from sklearn.preprocessing import MinMaxScaler\n",
    "\n",
    "# Đọc dữ liệu CPI\n",
    "data = pd.read_csv('D:\\DeTaiNam2024\\SoLieu\\KinhTeViMo\\GDP.csv')  # Thay 'path_to_cpi_data.csv' bằng đường dẫn của bạn\n",
    "data = data['GDP_VN'].values  # Giả sử cột CPI chứa chỉ số cần dự báo\n",
    "data = data.reshape(-1, 1)\n",
    "\n",
    "# Chuẩn hóa dữ liệu\n",
    "scaler = MinMaxScaler(feature_range=(0, 1))\n",
    "data_scaled = scaler.fit_transform(data)\n",
    "\n",
    "# Tạo chuỗi thời gian\n",
    "sequence_length = 12  # Ví dụ dùng 12 tháng để dự báo tháng tiếp theo\n",
    "X, y = [], []\n",
    "for i in range(sequence_length, len(data_scaled)):\n",
    "    X.append(data_scaled[i-sequence_length:i, 0])\n",
    "    y.append(data_scaled[i, 0])\n",
    "\n",
    "X, y = np.array(X), np.array(y)\n",
    "X = np.reshape(X, (X.shape[0], X.shape[1], 1))\n",
    "\n",
    "# Chia tập huấn luyện và kiểm tra\n",
    "split = int(0.8 * len(X))\n",
    "X_train, X_test = X[:split], X[split:]\n",
    "y_train, y_test = y[:split], y[split:]\n"
   ]
  },
  {
   "cell_type": "code",
   "execution_count": 2,
   "metadata": {},
   "outputs": [
    {
     "name": "stdout",
     "output_type": "stream",
     "text": [
      "Model: \"model\"\n",
      "_________________________________________________________________\n",
      " Layer (type)                Output Shape              Param #   \n",
      "=================================================================\n",
      " input_1 (InputLayer)        [(None, 12, 1)]           0         \n",
      "                                                                 \n",
      " rnn (RNN)                   (None, 50)                10400     \n",
      "                                                                 \n",
      " dense (Dense)               (None, 1)                 51        \n",
      "                                                                 \n",
      "=================================================================\n",
      "Total params: 10,451\n",
      "Trainable params: 10,451\n",
      "Non-trainable params: 0\n",
      "_________________________________________________________________\n"
     ]
    }
   ],
   "source": [
    "import tensorflow as tf\n",
    "from tensorflow.keras.layers import LSTMCell, RNN\n",
    "\n",
    "class sLSTMCell(LSTMCell):\n",
    "    def __init__(self, units, **kwargs):\n",
    "        super(sLSTMCell, self).__init__(units, **kwargs)\n",
    "    \n",
    "    def call(self, inputs, states, training=None):\n",
    "        # Gọi hàm LSTM mặc định\n",
    "        h, [c, h] = super(sLSTMCell, self).call(inputs, states, training=training)\n",
    "        \n",
    "        # Tùy chỉnh cổng quên và cổng đầu vào\n",
    "        forget_gate = tf.math.exp(c)  # Sử dụng hàm mũ e cho cổng quên\n",
    "        input_gate = tf.math.exp(2 * c)  # Sử dụng hàm mũ cơ số 2 cho cổng đầu vào\n",
    "        \n",
    "        # Áp dụng các cổng vào trạng thái bộ nhớ\n",
    "        new_c = forget_gate * c + input_gate * h\n",
    "        \n",
    "        # Trả về trạng thái cập nhật và output\n",
    "        return h, [new_c, h]\n",
    "\n",
    "# Tạo lớp RNN với sLSTMCell\n",
    "def build_sLSTM_model(input_shape, units=50):\n",
    "    inputs = tf.keras.Input(shape=input_shape)\n",
    "    sLSTM_layer = RNN(sLSTMCell(units))(inputs)\n",
    "    output = tf.keras.layers.Dense(1)(sLSTM_layer)\n",
    "    \n",
    "    model = tf.keras.Model(inputs, output)\n",
    "    model.compile(optimizer='adam', loss='mse')\n",
    "    return model\n",
    "\n",
    "# Xây dựng mô hình sLSTM\n",
    "model = build_sLSTM_model((X_train.shape[1], 1))\n",
    "model.summary()\n"
   ]
  },
  {
   "cell_type": "code",
   "execution_count": 3,
   "metadata": {},
   "outputs": [
    {
     "name": "stdout",
     "output_type": "stream",
     "text": [
      "Epoch 1/50\n",
      "2/2 [==============================] - 3s 426ms/step - loss: 0.0231 - val_loss: 0.1673\n",
      "Epoch 2/50\n",
      "2/2 [==============================] - 0s 42ms/step - loss: 0.0136 - val_loss: 0.0840\n",
      "Epoch 3/50\n",
      "2/2 [==============================] - 0s 54ms/step - loss: 0.0057 - val_loss: 0.0071\n",
      "Epoch 4/50\n",
      "2/2 [==============================] - 0s 52ms/step - loss: 8.4843e-04 - val_loss: 0.0023\n",
      "Epoch 5/50\n",
      "2/2 [==============================] - 0s 49ms/step - loss: 0.0026 - val_loss: 0.0032\n",
      "Epoch 6/50\n",
      "2/2 [==============================] - 0s 55ms/step - loss: 0.0021 - val_loss: 8.8844e-04\n",
      "Epoch 7/50\n",
      "2/2 [==============================] - 0s 58ms/step - loss: 4.4676e-04 - val_loss: 0.0027\n",
      "Epoch 8/50\n",
      "2/2 [==============================] - 0s 48ms/step - loss: 2.1396e-04 - val_loss: 0.0054\n",
      "Epoch 9/50\n",
      "2/2 [==============================] - 0s 57ms/step - loss: 7.7551e-04 - val_loss: 0.0028\n",
      "Epoch 10/50\n",
      "2/2 [==============================] - 0s 60ms/step - loss: 4.8710e-04 - val_loss: 6.0850e-04\n",
      "Epoch 11/50\n",
      "2/2 [==============================] - 0s 47ms/step - loss: 8.2879e-05 - val_loss: 0.0022\n",
      "Epoch 12/50\n",
      "2/2 [==============================] - 0s 50ms/step - loss: 3.5632e-04 - val_loss: 0.0031\n",
      "Epoch 13/50\n",
      "2/2 [==============================] - 0s 53ms/step - loss: 4.1667e-04 - val_loss: 0.0016\n",
      "Epoch 14/50\n",
      "2/2 [==============================] - 0s 43ms/step - loss: 1.7624e-04 - val_loss: 5.9845e-04\n",
      "Epoch 15/50\n",
      "2/2 [==============================] - 0s 54ms/step - loss: 7.4522e-05 - val_loss: 7.3403e-04\n",
      "Epoch 16/50\n",
      "2/2 [==============================] - 0s 51ms/step - loss: 1.5320e-04 - val_loss: 7.6563e-04\n",
      "Epoch 17/50\n",
      "2/2 [==============================] - 0s 68ms/step - loss: 1.0913e-04 - val_loss: 5.8320e-04\n",
      "Epoch 18/50\n",
      "2/2 [==============================] - 0s 49ms/step - loss: 3.5963e-05 - val_loss: 7.2376e-04\n",
      "Epoch 19/50\n",
      "2/2 [==============================] - 0s 51ms/step - loss: 6.9086e-05 - val_loss: 7.8773e-04\n",
      "Epoch 20/50\n",
      "2/2 [==============================] - 0s 59ms/step - loss: 9.0631e-05 - val_loss: 6.1621e-04\n",
      "Epoch 21/50\n",
      "2/2 [==============================] - 0s 57ms/step - loss: 5.3598e-05 - val_loss: 6.8177e-04\n",
      "Epoch 22/50\n",
      "2/2 [==============================] - 0s 57ms/step - loss: 3.9715e-05 - val_loss: 7.8352e-04\n",
      "Epoch 23/50\n",
      "2/2 [==============================] - 0s 40ms/step - loss: 3.8042e-05 - val_loss: 6.6324e-04\n",
      "Epoch 24/50\n",
      "2/2 [==============================] - 0s 48ms/step - loss: 2.8739e-05 - val_loss: 5.8789e-04\n",
      "Epoch 25/50\n",
      "2/2 [==============================] - 0s 47ms/step - loss: 3.6609e-05 - val_loss: 5.9354e-04\n",
      "Epoch 26/50\n",
      "2/2 [==============================] - 0s 49ms/step - loss: 4.5244e-05 - val_loss: 5.7782e-04\n",
      "Epoch 27/50\n",
      "2/2 [==============================] - 0s 51ms/step - loss: 3.7699e-05 - val_loss: 5.6557e-04\n",
      "Epoch 28/50\n",
      "2/2 [==============================] - 0s 53ms/step - loss: 2.5082e-05 - val_loss: 5.6031e-04\n",
      "Epoch 29/50\n",
      "2/2 [==============================] - 0s 60ms/step - loss: 2.5899e-05 - val_loss: 5.5144e-04\n",
      "Epoch 30/50\n",
      "2/2 [==============================] - 0s 55ms/step - loss: 2.5876e-05 - val_loss: 5.4755e-04\n",
      "Epoch 31/50\n",
      "2/2 [==============================] - 0s 57ms/step - loss: 2.3192e-05 - val_loss: 5.9575e-04\n",
      "Epoch 32/50\n",
      "2/2 [==============================] - 0s 47ms/step - loss: 2.7688e-05 - val_loss: 6.5734e-04\n",
      "Epoch 33/50\n",
      "2/2 [==============================] - 0s 56ms/step - loss: 3.5141e-05 - val_loss: 6.2709e-04\n",
      "Epoch 34/50\n",
      "2/2 [==============================] - 0s 66ms/step - loss: 3.0705e-05 - val_loss: 5.6248e-04\n",
      "Epoch 35/50\n",
      "2/2 [==============================] - 0s 53ms/step - loss: 2.4420e-05 - val_loss: 5.3697e-04\n",
      "Epoch 36/50\n",
      "2/2 [==============================] - 0s 57ms/step - loss: 2.4164e-05 - val_loss: 5.3470e-04\n",
      "Epoch 37/50\n",
      "2/2 [==============================] - 0s 53ms/step - loss: 2.3774e-05 - val_loss: 5.4163e-04\n",
      "Epoch 38/50\n",
      "2/2 [==============================] - 0s 49ms/step - loss: 2.2374e-05 - val_loss: 5.5516e-04\n",
      "Epoch 39/50\n",
      "2/2 [==============================] - 0s 50ms/step - loss: 2.2422e-05 - val_loss: 5.6992e-04\n",
      "Epoch 40/50\n",
      "2/2 [==============================] - 0s 43ms/step - loss: 2.3706e-05 - val_loss: 5.6928e-04\n",
      "Epoch 41/50\n",
      "2/2 [==============================] - 0s 49ms/step - loss: 2.3571e-05 - val_loss: 5.5813e-04\n",
      "Epoch 42/50\n",
      "2/2 [==============================] - 0s 47ms/step - loss: 2.2317e-05 - val_loss: 5.2659e-04\n",
      "Epoch 43/50\n",
      "2/2 [==============================] - 0s 55ms/step - loss: 2.1790e-05 - val_loss: 5.1230e-04\n",
      "Epoch 44/50\n",
      "2/2 [==============================] - 0s 52ms/step - loss: 2.3480e-05 - val_loss: 5.1135e-04\n",
      "Epoch 45/50\n",
      "2/2 [==============================] - 0s 47ms/step - loss: 2.3288e-05 - val_loss: 5.1465e-04\n",
      "Epoch 46/50\n",
      "2/2 [==============================] - 0s 42ms/step - loss: 2.1647e-05 - val_loss: 5.2094e-04\n",
      "Epoch 47/50\n",
      "2/2 [==============================] - 0s 61ms/step - loss: 2.0997e-05 - val_loss: 5.2922e-04\n",
      "Epoch 48/50\n",
      "2/2 [==============================] - 0s 50ms/step - loss: 2.0524e-05 - val_loss: 5.2692e-04\n",
      "Epoch 49/50\n",
      "2/2 [==============================] - 0s 49ms/step - loss: 2.0202e-05 - val_loss: 5.2017e-04\n",
      "Epoch 50/50\n",
      "2/2 [==============================] - 0s 43ms/step - loss: 2.0637e-05 - val_loss: 5.2596e-04\n"
     ]
    }
   ],
   "source": [
    "# Huấn luyện mô hình\n",
    "history = model.fit(X_train, y_train, epochs=50, batch_size=16, validation_data=(X_test, y_test))\n"
   ]
  },
  {
   "cell_type": "code",
   "execution_count": 7,
   "metadata": {},
   "outputs": [
    {
     "name": "stdout",
     "output_type": "stream",
     "text": [
      "1/1 [==============================] - 0s 32ms/step\n",
      "Mean Squared Error (MSE): 4.659294689560013e+19\n",
      "Mean Absolute Error (MAE): 5501226325.333333\n",
      "Root Mean Squared Error (RMSE): 6825902643.284633\n"
     ]
    },
    {
     "data": {
      "image/png": "[encoded data removed]",
      "text/plain": [
       "<Figure size 640x480 with 1 Axes>"
      ]
     },
     "metadata": {},
     "output_type": "display_data"
    }
   ],
   "source": [
    "from sklearn.metrics import mean_squared_error, mean_absolute_error\n",
    "import matplotlib.pyplot as plt\n",
    "\n",
    "# Dự đoán trên tập kiểm tra\n",
    "predicted_cpi = model.predict(X_test)\n",
    "\n",
    "# Chuyển đổi giá trị dự đoán về dạng CPI ban đầu\n",
    "predicted_cpi = scaler.inverse_transform(predicted_cpi)\n",
    "y_test_actual = scaler.inverse_transform(y_test.reshape(-1, 1))\n",
    "\n",
    "# Tính toán các chỉ số đánh giá\n",
    "mse = mean_squared_error(y_test_actual, predicted_cpi)\n",
    "mae = mean_absolute_error(y_test_actual, predicted_cpi)\n",
    "rmse = np.sqrt(mse)\n",
    "\n",
    "# In kết quả\n",
    "print(\"Mean Squared Error (MSE):\", mse)\n",
    "print(\"Mean Absolute Error (MAE):\", mae)\n",
    "print(\"Root Mean Squared Error (RMSE):\", rmse)\n",
    "\n",
    "# Vẽ biểu đồ dự đoán và giá trị thực tế\n",
    "plt.plot(y_test_actual, color='blue', label='Actual GDP')\n",
    "plt.plot(predicted_cpi, color='red', label='Predicted GDP')\n",
    "plt.title('GDP Prediction')\n",
    "plt.xlabel('Time')\n",
    "plt.ylabel('GDP')\n",
    "plt.legend()\n",
    "plt.show()\n"
   ]
  },
  {
   "cell_type": "code",
   "execution_count": 5,
   "metadata": {},
   "outputs": [
    {
     "name": "stdout",
     "output_type": "stream",
     "text": [
      "MSE= 4.659294689560013e+19\n",
      "Accuracy= 0.9821356196913508\n",
      "mean_error_percent= 0.017864380308649255\n"
     ]
    }
   ],
   "source": [
    "mse1=np.mean(np.square(y_test_actual - predicted_cpi))\n",
    "print('MSE=', mse1)\n",
    "mean_error_percent1 = np.mean(np.abs((predicted_cpi - y_test_actual) / y_test_actual))\n",
    "accuracy1 = 1 - mean_error_percent1\n",
    "print('Accuracy=', accuracy1)\n",
    "print('mean_error_percent=', mean_error_percent1)"
   ]
  },
  {
   "cell_type": "code",
   "execution_count": null,
   "metadata": {},
   "outputs": [],
   "source": []
  }
 ],
 "metadata": {
  "colab": {
   "authorship_tag": "ABX9TyOy2QCqOk/AA+RkmIoGixk1",
   "provenance": []
  },
  "kernelspec": {
   "display_name": "Python 3 (ipykernel)",
   "language": "python",
   "name": "python3"
  },
  "language_info": {
   "codemirror_mode": {
    "name": "ipython",
    "version": 3
   },
   "file_extension": ".py",
   "mimetype": "text/x-python",
   "name": "python",
   "nbconvert_exporter": "python",
   "pygments_lexer": "ipython3",
   "version": "3.9.13"
  }
 },
 "nbformat": 4,
 "nbformat_minor": 1
}
