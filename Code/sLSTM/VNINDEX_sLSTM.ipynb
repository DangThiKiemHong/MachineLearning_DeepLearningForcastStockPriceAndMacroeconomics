{
 "cells": [
  {
   "cell_type": "code",
   "execution_count": 1,
   "metadata": {
    "executionInfo": {
     "elapsed": 600,
     "status": "ok",
     "timestamp": 1727061134424,
     "user": {
      "displayName": "Đặng Thị Kiêm Hồng",
      "userId": "05445281411830122382"
     },
     "user_tz": -420
    },
    "id": "W-RlFTdGfann"
   },
   "outputs": [],
   "source": [
    "import numpy as np\n",
    "import pandas as pd\n",
    "\n",
    "import matplotlib.pyplot as plt\n",
    "from sklearn.preprocessing import MinMaxScaler\n",
    "from tensorflow.keras.models import Model\n",
    "from tensorflow.keras.layers import Input, Dense, RNN\n",
    "from tensorflow.keras.optimizers import Adam\n",
    "from tensorflow.keras.callbacks import EarlyStopping\n",
    "import tensorflow as tf"
   ]
  },
  {
   "cell_type": "code",
   "execution_count": 2,
   "metadata": {
    "colab": {
     "base_uri": "https://localhost:8080/",
     "height": 243
    },
    "executionInfo": {
     "elapsed": 17,
     "status": "ok",
     "timestamp": 1727061135115,
     "user": {
      "displayName": "Đặng Thị Kiêm Hồng",
      "userId": "05445281411830122382"
     },
     "user_tz": -420
    },
    "id": "cwidh5C5fkmY",
    "outputId": "3c08090a-40e8-4fbd-8459-0f83c898b4bc"
   },
   "outputs": [
    {
     "data": {
      "text/html": [
       "<div>\n",
       "<style scoped>\n",
       "    .dataframe tbody tr th:only-of-type {\n",
       "        vertical-align: middle;\n",
       "    }\n",
       "\n",
       "    .dataframe tbody tr th {\n",
       "        vertical-align: top;\n",
       "    }\n",
       "\n",
       "    .dataframe thead th {\n",
       "        text-align: right;\n",
       "    }\n",
       "</style>\n",
       "<table border=\"1\" class=\"dataframe\">\n",
       "  <thead>\n",
       "    <tr style=\"text-align: right;\">\n",
       "      <th></th>\n",
       "      <th>Unnamed: 0</th>\n",
       "      <th>time</th>\n",
       "      <th>open</th>\n",
       "      <th>high</th>\n",
       "      <th>low</th>\n",
       "      <th>close</th>\n",
       "      <th>volume</th>\n",
       "    </tr>\n",
       "  </thead>\n",
       "  <tbody>\n",
       "    <tr>\n",
       "      <th>0</th>\n",
       "      <td>0</td>\n",
       "      <td>2015-01-05</td>\n",
       "      <td>544.86</td>\n",
       "      <td>549.22</td>\n",
       "      <td>543.78</td>\n",
       "      <td>544.45</td>\n",
       "      <td>95949953</td>\n",
       "    </tr>\n",
       "    <tr>\n",
       "      <th>1</th>\n",
       "      <td>1</td>\n",
       "      <td>2015-01-06</td>\n",
       "      <td>539.08</td>\n",
       "      <td>550.11</td>\n",
       "      <td>538.82</td>\n",
       "      <td>549.66</td>\n",
       "      <td>112316461</td>\n",
       "    </tr>\n",
       "    <tr>\n",
       "      <th>2</th>\n",
       "      <td>2</td>\n",
       "      <td>2015-01-07</td>\n",
       "      <td>548.44</td>\n",
       "      <td>555.83</td>\n",
       "      <td>548.44</td>\n",
       "      <td>552.05</td>\n",
       "      <td>111705080</td>\n",
       "    </tr>\n",
       "    <tr>\n",
       "      <th>3</th>\n",
       "      <td>3</td>\n",
       "      <td>2015-01-08</td>\n",
       "      <td>553.49</td>\n",
       "      <td>556.80</td>\n",
       "      <td>552.15</td>\n",
       "      <td>553.47</td>\n",
       "      <td>77867146</td>\n",
       "    </tr>\n",
       "    <tr>\n",
       "      <th>4</th>\n",
       "      <td>4</td>\n",
       "      <td>2015-01-09</td>\n",
       "      <td>553.49</td>\n",
       "      <td>570.52</td>\n",
       "      <td>552.15</td>\n",
       "      <td>569.73</td>\n",
       "      <td>107474507</td>\n",
       "    </tr>\n",
       "  </tbody>\n",
       "</table>\n",
       "</div>"
      ],
      "text/plain": [
       "   Unnamed: 0        time    open    high     low   close     volume\n",
       "0           0  2015-01-05  544.86  549.22  543.78  544.45   95949953\n",
       "1           1  2015-01-06  539.08  550.11  538.82  549.66  112316461\n",
       "2           2  2015-01-07  548.44  555.83  548.44  552.05  111705080\n",
       "3           3  2015-01-08  553.49  556.80  552.15  553.47   77867146\n",
       "4           4  2015-01-09  553.49  570.52  552.15  569.73  107474507"
      ]
     },
     "execution_count": 2,
     "metadata": {},
     "output_type": "execute_result"
    }
   ],
   "source": [
    "# Đọc dữ liệu từ file CSV (có thể thay bằng file của bạn)\n",
    "data = pd.read_csv('D:\\DeTaiNam2024\\SoLieuHong\\VNINDEX.csv')\n",
    "# Kiểm tra tiêu đề các cột\n",
    "data.head()"
   ]
  },
  {
   "cell_type": "code",
   "execution_count": 3,
   "metadata": {
    "executionInfo": {
     "elapsed": 14,
     "status": "ok",
     "timestamp": 1727061135115,
     "user": {
      "displayName": "Đặng Thị Kiêm Hồng",
      "userId": "05445281411830122382"
     },
     "user_tz": -420
    },
    "id": "m7h4q7mogUbv"
   },
   "outputs": [],
   "source": [
    " data = data[['close']]\n",
    " data.dropna(inplace=True)"
   ]
  },
  {
   "cell_type": "code",
   "execution_count": 4,
   "metadata": {
    "executionInfo": {
     "elapsed": 14,
     "status": "ok",
     "timestamp": 1727061135116,
     "user": {
      "displayName": "Đặng Thị Kiêm Hồng",
      "userId": "05445281411830122382"
     },
     "user_tz": -420
    },
    "id": "fvSkw8KPgZla"
   },
   "outputs": [],
   "source": [
    "# Chuẩn bị dữ liệu\n",
    "def prepare_data(data, time_steps=60):\n",
    "    scaler = MinMaxScaler(feature_range=(0, 1))\n",
    "    scaled_data = scaler.fit_transform(data)\n",
    "\n",
    "    X, y = [], []\n",
    "    for i in range(time_steps, len(scaled_data)):\n",
    "        X.append(scaled_data[i-time_steps:i, 0])\n",
    "        y.append(scaled_data[i, 0])\n",
    "    X, y = np.array(X), np.array(y)\n",
    "\n",
    "    # Reshape X để phù hợp với RNN [samples, time_steps, features]\n",
    "    X = np.reshape(X, (X.shape[0], X.shape[1], 1))\n",
    "    return X, y, scaler\n"
   ]
  },
  {
   "cell_type": "code",
   "execution_count": 5,
   "metadata": {
    "executionInfo": {
     "elapsed": 14,
     "status": "ok",
     "timestamp": 1727061135116,
     "user": {
      "displayName": "Đặng Thị Kiêm Hồng",
      "userId": "05445281411830122382"
     },
     "user_tz": -420
    },
    "id": "_aG2vk1vgivz"
   },
   "outputs": [],
   "source": [
    "X, y, scaler = prepare_data(data)"
   ]
  },
  {
   "cell_type": "code",
   "execution_count": 6,
   "metadata": {
    "executionInfo": {
     "elapsed": 13,
     "status": "ok",
     "timestamp": 1727061135116,
     "user": {
      "displayName": "Đặng Thị Kiêm Hồng",
      "userId": "05445281411830122382"
     },
     "user_tz": -420
    },
    "id": "vwn8lrfcgmkU"
   },
   "outputs": [],
   "source": [
    "class sLSTMCell(tf.keras.layers.Layer):\n",
    "    def __init__(self, units, **kwargs):\n",
    "        super(sLSTMCell, self).__init__(**kwargs)\n",
    "        self.units = units\n",
    "        self.state_size = [self.units, self.units]  # [hidden_state, normalizer_state]\n",
    "\n",
    "    def build(self, input_shape):\n",
    "        # Khởi tạo trọng số cho các cổng\n",
    "        self.W_f = self.add_weight(shape=(input_shape[-1], self.units),\n",
    "                                   initializer='glorot_uniform',\n",
    "                                   name='W_f')\n",
    "        self.U_f = self.add_weight(shape=(self.units, self.units),\n",
    "                                   initializer='orthogonal',\n",
    "                                   name='U_f')\n",
    "        self.b_f = self.add_weight(shape=(self.units,),\n",
    "                                   initializer='zeros',\n",
    "                                   name='b_f')\n",
    "\n",
    "        self.W_i = self.add_weight(shape=(input_shape[-1], self.units),\n",
    "                                   initializer='glorot_uniform',\n",
    "                                   name='W_i')\n",
    "        self.U_i = self.add_weight(shape=(self.units, self.units),\n",
    "                                   initializer='orthogonal',\n",
    "                                   name='U_i')\n",
    "        self.b_i = self.add_weight(shape=(self.units,),\n",
    "                                   initializer='zeros',\n",
    "                                   name='b_i')\n",
    "\n",
    "        self.W_c = self.add_weight(shape=(input_shape[-1], self.units),\n",
    "                                   initializer='glorot_uniform',\n",
    "                                   name='W_c')\n",
    "        self.U_c = self.add_weight(shape=(self.units, self.units),\n",
    "                                   initializer='orthogonal',\n",
    "                                   name='U_c')\n",
    "        self.b_c = self.add_weight(shape=(self.units,),\n",
    "                                   initializer='zeros',\n",
    "                                   name='b_c')\n",
    "\n",
    "        self.W_o = self.add_weight(shape=(input_shape[-1], self.units),\n",
    "                                   initializer='glorot_uniform',\n",
    "                                   name='W_o')\n",
    "        self.U_o = self.add_weight(shape=(self.units, self.units),\n",
    "                                   initializer='orthogonal',\n",
    "                                   name='U_o')\n",
    "        self.b_o = self.add_weight(shape=(self.units,),\n",
    "                                   initializer='zeros',\n",
    "                                   name='b_o')\n",
    "        super(sLSTMCell, self).build(input_shape)\n",
    "\n",
    "    def call(self, inputs, states):\n",
    "        h_prev, n_prev = states\n",
    "\n",
    "        # Forget gate: sử dụng sigmoid hoặc exp\n",
    "       # f = tf.keras.activations.sigmoid(tf.matmul(inputs, self.W_f) + tf.matmul(h_prev, self.U_f) + self.b_f)\n",
    "        f = tf.exp(tf.matmul(inputs, self.W_f) + tf.matmul(h_prev, self.U_f) + self.b_f)\n",
    "\n",
    "        # Input gate: sử dụng (sigmoid)^2 hoặc (exp)^2\n",
    "      #  i = tf.keras.activations.sigmoid(tf.matmul(inputs, self.W_i) + tf.matmul(h_prev, self.U_i) + self.b_i)\n",
    "       # i = tf.square(i)  # (σ(x))^2\n",
    "        i = tf.exp(tf.matmul(inputs, self.W_i) + tf.matmul(h_prev, self.U_i) + self.b_i)\n",
    "        # Candidate cell state\n",
    "        c_tilde = tf.keras.activations.tanh(tf.matmul(inputs, self.W_c) + tf.matmul(h_prev, self.U_c) + self.b_c)\n",
    "\n",
    "        # Cell state update\n",
    "        c = f * states[0] + i * c_tilde\n",
    "\n",
    "        # Normalizer state update\n",
    "        n = f * n_prev + i\n",
    "\n",
    "        # Output gate\n",
    "        o = tf.keras.activations.sigmoid(tf.matmul(inputs, self.W_o) + tf.matmul(h_prev, self.U_o) + self.b_o)\n",
    "\n",
    "        # Normalized hidden state\n",
    "        h_tilde = c * tf.math.reciprocal(n + 1e-7)  # thêm epsilon để tránh chia cho 0\n",
    "        h = o * h_tilde\n",
    "\n",
    "        return h, [h, n]\n",
    "\n",
    "class sLSTM(tf.keras.layers.Layer):\n",
    "    def __init__(self, units, **kwargs):\n",
    "        super(sLSTM, self).__init__(**kwargs)\n",
    "        self.units = units\n",
    "        self.cell = sLSTMCell(units)\n",
    "\n",
    "    def call(self, inputs):\n",
    "        return tf.keras.layers.RNN(self.cell, return_sequences=False, return_state=False)(inputs)\n",
    "\n",
    "    def get_config(self):\n",
    "        config = super(sLSTM, self).get_config()\n",
    "        config.update({'units': self.units})\n",
    "        return config\n"
   ]
  },
  {
   "cell_type": "code",
   "execution_count": 7,
   "metadata": {
    "colab": {
     "base_uri": "https://localhost:8080/",
     "height": 225
    },
    "executionInfo": {
     "elapsed": 813,
     "status": "ok",
     "timestamp": 1727062104765,
     "user": {
      "displayName": "Đặng Thị Kiêm Hồng",
      "userId": "05445281411830122382"
     },
     "user_tz": -420
    },
    "id": "vAsXYHMWgoYV",
    "outputId": "f68a8b3f-3a8b-4949-d128-4e6b844505ff"
   },
   "outputs": [
    {
     "name": "stdout",
     "output_type": "stream",
     "text": [
      "Model: \"model\"\n",
      "_________________________________________________________________\n",
      " Layer (type)                Output Shape              Param #   \n",
      "=================================================================\n",
      " input_1 (InputLayer)        [(None, 60, 1)]           0         \n",
      "                                                                 \n",
      " s_lstm (sLSTM)              (None, 50)                10400     \n",
      "                                                                 \n",
      " dense (Dense)               (None, 1)                 51        \n",
      "                                                                 \n",
      "=================================================================\n",
      "Total params: 10,451\n",
      "Trainable params: 10,451\n",
      "Non-trainable params: 0\n",
      "_________________________________________________________________\n"
     ]
    }
   ],
   "source": [
    "# Xây dựng mô hình\n",
    "def build_model(time_steps, units=50):\n",
    "    inputs = Input(shape=(time_steps, 1))\n",
    "    x = sLSTM(units)(inputs)\n",
    "    x = Dense(1)(x)\n",
    "    model = Model(inputs, x)\n",
    "    model.compile(optimizer=Adam(learning_rate=2e-06), loss='mean_squared_error')\n",
    "    return model\n",
    "# Khởi tạo mô hình\n",
    "model = build_model(time_steps=60, units=50)\n",
    "model.summary()\n"
   ]
  },
  {
   "cell_type": "code",
   "execution_count": 8,
   "metadata": {
    "colab": {
     "base_uri": "https://localhost:8080/"
    },
    "executionInfo": {
     "elapsed": 116210,
     "status": "ok",
     "timestamp": 1727062224871,
     "user": {
      "displayName": "Đặng Thị Kiêm Hồng",
      "userId": "05445281411830122382"
     },
     "user_tz": -420
    },
    "id": "RNAbWmH_guLn",
    "outputId": "368ac1da-8b46-490b-84e4-bb9eb3e3d1ce"
   },
   "outputs": [
    {
     "name": "stdout",
     "output_type": "stream",
     "text": [
      "Epoch 1/100\n",
      "60/60 [==============================] - 38s 152ms/step - loss: 0.2356 - val_loss: 0.3925\n",
      "Epoch 2/100\n",
      "60/60 [==============================] - 6s 102ms/step - loss: 0.2354 - val_loss: 0.3922\n",
      "Epoch 3/100\n",
      "60/60 [==============================] - 6s 96ms/step - loss: 0.2353 - val_loss: 0.3920\n",
      "Epoch 4/100\n",
      "60/60 [==============================] - 6s 93ms/step - loss: 0.2351 - val_loss: 0.3917\n",
      "Epoch 5/100\n",
      "60/60 [==============================] - 6s 94ms/step - loss: 0.2349 - val_loss: 0.3915\n",
      "Epoch 6/100\n",
      "60/60 [==============================] - 6s 102ms/step - loss: 0.2348 - val_loss: 0.3912\n",
      "Epoch 7/100\n",
      "60/60 [==============================] - 6s 104ms/step - loss: 0.2346 - val_loss: 0.3910\n",
      "Epoch 8/100\n",
      "60/60 [==============================] - 5s 89ms/step - loss: 0.2344 - val_loss: 0.3907\n",
      "Epoch 9/100\n",
      "60/60 [==============================] - 6s 99ms/step - loss: 0.2343 - val_loss: 0.3905\n",
      "Epoch 10/100\n",
      "60/60 [==============================] - 6s 102ms/step - loss: 0.2341 - val_loss: 0.3902\n",
      "Epoch 11/100\n",
      "60/60 [==============================] - 7s 108ms/step - loss: 0.2340 - val_loss: 0.3900\n",
      "Epoch 12/100\n",
      "60/60 [==============================] - 6s 98ms/step - loss: 0.2338 - val_loss: 0.3897\n",
      "Epoch 13/100\n",
      "60/60 [==============================] - 6s 98ms/step - loss: 0.2336 - val_loss: 0.3895\n",
      "Epoch 14/100\n",
      "60/60 [==============================] - 6s 100ms/step - loss: 0.2335 - val_loss: 0.3892\n",
      "Epoch 15/100\n",
      "60/60 [==============================] - 6s 93ms/step - loss: 0.2333 - val_loss: 0.3890\n",
      "Epoch 16/100\n",
      "60/60 [==============================] - 6s 96ms/step - loss: 0.2332 - val_loss: 0.3887\n",
      "Epoch 17/100\n",
      "60/60 [==============================] - 5s 90ms/step - loss: 0.2330 - val_loss: 0.3885\n",
      "Epoch 18/100\n",
      "60/60 [==============================] - 5s 86ms/step - loss: 0.2328 - val_loss: 0.3882\n",
      "Epoch 19/100\n",
      "60/60 [==============================] - 6s 94ms/step - loss: 0.2327 - val_loss: 0.3880\n",
      "Epoch 20/100\n",
      "60/60 [==============================] - 6s 96ms/step - loss: 0.2325 - val_loss: 0.3877\n",
      "Epoch 21/100\n",
      "60/60 [==============================] - 6s 95ms/step - loss: 0.2324 - val_loss: 0.3875\n",
      "Epoch 22/100\n",
      "60/60 [==============================] - 6s 94ms/step - loss: 0.2322 - val_loss: 0.3872\n",
      "Epoch 23/100\n",
      "60/60 [==============================] - 6s 97ms/step - loss: 0.2320 - val_loss: 0.3870\n",
      "Epoch 24/100\n",
      "60/60 [==============================] - 6s 99ms/step - loss: 0.2319 - val_loss: 0.3867\n",
      "Epoch 25/100\n",
      "60/60 [==============================] - 7s 110ms/step - loss: 0.2317 - val_loss: 0.3865\n",
      "Epoch 26/100\n",
      "60/60 [==============================] - 6s 101ms/step - loss: 0.2315 - val_loss: 0.3862\n",
      "Epoch 27/100\n",
      "60/60 [==============================] - 7s 113ms/step - loss: 0.2314 - val_loss: 0.3860\n",
      "Epoch 28/100\n",
      "60/60 [==============================] - 6s 103ms/step - loss: 0.2312 - val_loss: 0.3857\n",
      "Epoch 29/100\n",
      "60/60 [==============================] - 7s 111ms/step - loss: 0.2311 - val_loss: 0.3855\n",
      "Epoch 30/100\n",
      "60/60 [==============================] - 6s 103ms/step - loss: 0.2309 - val_loss: 0.3852\n",
      "Epoch 31/100\n",
      "60/60 [==============================] - 6s 105ms/step - loss: 0.2307 - val_loss: 0.3849\n",
      "Epoch 32/100\n",
      "60/60 [==============================] - 7s 114ms/step - loss: 0.2306 - val_loss: 0.3847\n",
      "Epoch 33/100\n",
      "60/60 [==============================] - 7s 117ms/step - loss: 0.2304 - val_loss: 0.3844\n",
      "Epoch 34/100\n",
      "60/60 [==============================] - 7s 113ms/step - loss: 0.2302 - val_loss: 0.3842\n",
      "Epoch 35/100\n",
      "60/60 [==============================] - 6s 100ms/step - loss: 0.2301 - val_loss: 0.3839\n",
      "Epoch 36/100\n",
      "60/60 [==============================] - 5s 90ms/step - loss: 0.2299 - val_loss: 0.3837\n",
      "Epoch 37/100\n",
      "60/60 [==============================] - 5s 75ms/step - loss: 0.2298 - val_loss: 0.3834\n",
      "Epoch 38/100\n",
      "60/60 [==============================] - 5s 78ms/step - loss: 0.2296 - val_loss: 0.3832\n",
      "Epoch 39/100\n",
      "60/60 [==============================] - 4s 67ms/step - loss: 0.2294 - val_loss: 0.3829\n",
      "Epoch 40/100\n",
      "60/60 [==============================] - 4s 72ms/step - loss: 0.2293 - val_loss: 0.3827\n",
      "Epoch 41/100\n",
      "60/60 [==============================] - 4s 75ms/step - loss: 0.2291 - val_loss: 0.3824\n",
      "Epoch 42/100\n",
      "60/60 [==============================] - 5s 76ms/step - loss: 0.2289 - val_loss: 0.3822\n",
      "Epoch 43/100\n",
      "60/60 [==============================] - 4s 67ms/step - loss: 0.2288 - val_loss: 0.3819\n",
      "Epoch 44/100\n",
      "60/60 [==============================] - 4s 72ms/step - loss: 0.2286 - val_loss: 0.3817\n",
      "Epoch 45/100\n",
      "60/60 [==============================] - 5s 76ms/step - loss: 0.2285 - val_loss: 0.3814\n",
      "Epoch 46/100\n",
      "60/60 [==============================] - 4s 70ms/step - loss: 0.2283 - val_loss: 0.3811\n",
      "Epoch 47/100\n",
      "60/60 [==============================] - 4s 71ms/step - loss: 0.2281 - val_loss: 0.3809\n",
      "Epoch 48/100\n",
      "60/60 [==============================] - 4s 59ms/step - loss: 0.2280 - val_loss: 0.3806\n",
      "Epoch 49/100\n",
      "60/60 [==============================] - 4s 68ms/step - loss: 0.2278 - val_loss: 0.3804\n",
      "Epoch 50/100\n",
      "60/60 [==============================] - 3s 58ms/step - loss: 0.2276 - val_loss: 0.3801\n",
      "Epoch 51/100\n",
      "60/60 [==============================] - 3s 45ms/step - loss: 0.2275 - val_loss: 0.3799\n",
      "Epoch 52/100\n",
      "60/60 [==============================] - 3s 42ms/step - loss: 0.2273 - val_loss: 0.3796\n",
      "Epoch 53/100\n",
      "60/60 [==============================] - 3s 43ms/step - loss: 0.2272 - val_loss: 0.3794\n",
      "Epoch 54/100\n",
      "60/60 [==============================] - 3s 44ms/step - loss: 0.2270 - val_loss: 0.3791\n",
      "Epoch 55/100\n",
      "60/60 [==============================] - 3s 46ms/step - loss: 0.2268 - val_loss: 0.3788\n",
      "Epoch 56/100\n",
      "60/60 [==============================] - 3s 44ms/step - loss: 0.2267 - val_loss: 0.3786\n",
      "Epoch 57/100\n",
      "60/60 [==============================] - 3s 47ms/step - loss: 0.2265 - val_loss: 0.3783\n",
      "Epoch 58/100\n",
      "60/60 [==============================] - 3s 45ms/step - loss: 0.2263 - val_loss: 0.3781\n",
      "Epoch 59/100\n",
      "60/60 [==============================] - 3s 46ms/step - loss: 0.2262 - val_loss: 0.3778\n",
      "Epoch 60/100\n",
      "60/60 [==============================] - 3s 44ms/step - loss: 0.2260 - val_loss: 0.3776\n",
      "Epoch 61/100\n",
      "60/60 [==============================] - 3s 43ms/step - loss: 0.2258 - val_loss: 0.3773\n",
      "Epoch 62/100\n",
      "60/60 [==============================] - 3s 46ms/step - loss: 0.2257 - val_loss: 0.3771\n",
      "Epoch 63/100\n",
      "60/60 [==============================] - 3s 45ms/step - loss: 0.2255 - val_loss: 0.3768\n",
      "Epoch 64/100\n",
      "60/60 [==============================] - 3s 43ms/step - loss: 0.2254 - val_loss: 0.3766\n",
      "Epoch 65/100\n",
      "60/60 [==============================] - 2s 40ms/step - loss: 0.2252 - val_loss: 0.3763\n",
      "Epoch 66/100\n",
      "60/60 [==============================] - 3s 43ms/step - loss: 0.2250 - val_loss: 0.3760\n",
      "Epoch 67/100\n",
      "60/60 [==============================] - 3s 45ms/step - loss: 0.2249 - val_loss: 0.3758\n",
      "Epoch 68/100\n",
      "60/60 [==============================] - 2s 41ms/step - loss: 0.2247 - val_loss: 0.3755\n",
      "Epoch 69/100\n",
      "60/60 [==============================] - 2s 40ms/step - loss: 0.2245 - val_loss: 0.3753\n",
      "Epoch 70/100\n",
      "60/60 [==============================] - 2s 42ms/step - loss: 0.2244 - val_loss: 0.3750\n",
      "Epoch 71/100\n",
      "60/60 [==============================] - 3s 45ms/step - loss: 0.2242 - val_loss: 0.3748\n",
      "Epoch 72/100\n",
      "60/60 [==============================] - 3s 44ms/step - loss: 0.2240 - val_loss: 0.3745\n",
      "Epoch 73/100\n",
      "60/60 [==============================] - 3s 44ms/step - loss: 0.2239 - val_loss: 0.3742\n",
      "Epoch 74/100\n",
      "60/60 [==============================] - 3s 43ms/step - loss: 0.2237 - val_loss: 0.3740\n",
      "Epoch 75/100\n",
      "60/60 [==============================] - 3s 47ms/step - loss: 0.2235 - val_loss: 0.3737\n",
      "Epoch 76/100\n",
      "60/60 [==============================] - 2s 39ms/step - loss: 0.2234 - val_loss: 0.3735\n",
      "Epoch 77/100\n",
      "60/60 [==============================] - 2s 38ms/step - loss: 0.2232 - val_loss: 0.3732\n",
      "Epoch 78/100\n",
      "60/60 [==============================] - 2s 38ms/step - loss: 0.2230 - val_loss: 0.3729\n",
      "Epoch 79/100\n",
      "60/60 [==============================] - 2s 37ms/step - loss: 0.2229 - val_loss: 0.3727\n",
      "Epoch 80/100\n",
      "60/60 [==============================] - 2s 38ms/step - loss: 0.2227 - val_loss: 0.3724\n",
      "Epoch 81/100\n",
      "60/60 [==============================] - 2s 38ms/step - loss: 0.2225 - val_loss: 0.3722\n",
      "Epoch 82/100\n"
     ]
    },
    {
     "name": "stdout",
     "output_type": "stream",
     "text": [
      "60/60 [==============================] - 2s 37ms/step - loss: 0.2224 - val_loss: 0.3719\n",
      "Epoch 83/100\n",
      "60/60 [==============================] - 2s 38ms/step - loss: 0.2222 - val_loss: 0.3716\n",
      "Epoch 84/100\n",
      "60/60 [==============================] - 2s 38ms/step - loss: 0.2220 - val_loss: 0.3714\n",
      "Epoch 85/100\n",
      "60/60 [==============================] - 2s 38ms/step - loss: 0.2219 - val_loss: 0.3711\n",
      "Epoch 86/100\n",
      "60/60 [==============================] - 2s 40ms/step - loss: 0.2217 - val_loss: 0.3709\n",
      "Epoch 87/100\n",
      "60/60 [==============================] - 2s 38ms/step - loss: 0.2215 - val_loss: 0.3706\n",
      "Epoch 88/100\n",
      "60/60 [==============================] - 2s 40ms/step - loss: 0.2214 - val_loss: 0.3703\n",
      "Epoch 89/100\n",
      "60/60 [==============================] - 2s 39ms/step - loss: 0.2212 - val_loss: 0.3701\n",
      "Epoch 90/100\n",
      "60/60 [==============================] - 2s 39ms/step - loss: 0.2210 - val_loss: 0.3698\n",
      "Epoch 91/100\n",
      "60/60 [==============================] - 2s 38ms/step - loss: 0.2209 - val_loss: 0.3696\n",
      "Epoch 92/100\n",
      "60/60 [==============================] - 2s 37ms/step - loss: 0.2207 - val_loss: 0.3693\n",
      "Epoch 93/100\n",
      "60/60 [==============================] - 2s 40ms/step - loss: 0.2205 - val_loss: 0.3690\n",
      "Epoch 94/100\n",
      "60/60 [==============================] - 2s 40ms/step - loss: 0.2204 - val_loss: 0.3688\n",
      "Epoch 95/100\n",
      "60/60 [==============================] - 3s 43ms/step - loss: 0.2202 - val_loss: 0.3685\n",
      "Epoch 96/100\n",
      "60/60 [==============================] - 3s 46ms/step - loss: 0.2200 - val_loss: 0.3682\n",
      "Epoch 97/100\n",
      "60/60 [==============================] - 2s 39ms/step - loss: 0.2199 - val_loss: 0.3680\n",
      "Epoch 98/100\n",
      "60/60 [==============================] - 2s 40ms/step - loss: 0.2197 - val_loss: 0.3677\n",
      "Epoch 99/100\n",
      "60/60 [==============================] - 3s 42ms/step - loss: 0.2195 - val_loss: 0.3675\n",
      "Epoch 100/100\n",
      "60/60 [==============================] - 2s 41ms/step - loss: 0.2194 - val_loss: 0.3672\n"
     ]
    }
   ],
   "source": [
    "\n",
    "train_size = int(len(X) * 0.8)\n",
    "X_train, X_test = X[:train_size], X[train_size:]\n",
    "y_train, y_test = y[:train_size], y[train_size:]\n",
    "\n",
    "# Xây dựng mô hình\n",
    "model = build_model(time_steps=60, units=50)\n",
    "\n",
    "# Huấn luyện mô hình\n",
    "early_stop = EarlyStopping(monitor='val_loss', patience=10, restore_best_weights=True)\n",
    "history = model.fit(X_train, y_train, epochs=100, batch_size=32,\n",
    "                    validation_data=(X_test, y_test),\n",
    "                    callbacks=[early_stop])\n"
   ]
  },
  {
   "cell_type": "code",
   "execution_count": 9,
   "metadata": {
    "colab": {
     "base_uri": "https://localhost:8080/",
     "height": 420
    },
    "executionInfo": {
     "elapsed": 2309,
     "status": "ok",
     "timestamp": 1727062245690,
     "user": {
      "displayName": "Đặng Thị Kiêm Hồng",
      "userId": "05445281411830122382"
     },
     "user_tz": -420
    },
    "id": "RVpvOaUwg0F_",
    "outputId": "4aba7979-a386-4f58-9385-ad534bdf37ff",
    "scrolled": true
   },
   "outputs": [
    {
     "name": "stdout",
     "output_type": "stream",
     "text": [
      "15/15 [==============================] - 1s 9ms/step\n",
      "Root Mean Squared Error (RMSE): 610.0148489365106\n",
      "Mean Squared Error (MSE): 372118.11592303385\n"
     ]
    },
    {
     "data": {
      "image/png": "[encoded data removed]",
      "text/plain": [
       "<Figure size 1400x500 with 1 Axes>"
      ]
     },
     "metadata": {},
     "output_type": "display_data"
    }
   ],
   "source": [
    "\n",
    "# Dự đoán trên tập kiểm tra\n",
    "y_pred = model.predict(X_test)\n",
    "\n",
    "# Đảo chuẩn hóa để lấy giá trị thực\n",
    "y_pred_inv = scaler.inverse_transform(y_pred)\n",
    "y_test_inv = scaler.inverse_transform(y_test.reshape(-1, 1))\n",
    "\n",
    "# Tính toán RMSE\n",
    "from sklearn.metrics import mean_squared_error\n",
    "rmse = np.sqrt(mean_squared_error(y_test_inv, y_pred_inv))\n",
    "print(f'Root Mean Squared Error (RMSE): {rmse}')\n",
    "mse = mean_squared_error(y_test_inv, y_pred_inv)\n",
    "print(f'Mean Squared Error (MSE): {mse}')\n",
    "# Vẽ đồ thị so sánh giá thực và giá dự đoán\n",
    "plt.figure(figsize=(14, 5))\n",
    "plt.plot(y_test_inv, color='blue', label='Giá Thực')\n",
    "plt.plot(y_pred_inv, color='red', label='Giá Dự Đoán')\n",
    "plt.title('Dự Đoán Giá Cổ Phiếu VNINDEX Sử Dụng sLSTM')\n",
    "plt.xlabel('Thời Gian')\n",
    "plt.ylabel('Giá Cổ Phiếu')\n",
    "plt.legend()\n",
    "plt.show()\n"
   ]
  },
  {
   "cell_type": "code",
   "execution_count": 10,
   "metadata": {},
   "outputs": [
    {
     "name": "stdout",
     "output_type": "stream",
     "text": [
      "MSE= 372118.11592303385\n",
      "Accuracy= 0.4784727974321086\n",
      "mean_error_percent= 0.5215272025678914\n"
     ]
    }
   ],
   "source": [
    "mse1=np.mean(np.square(y_pred_inv - y_test_inv))\n",
    "print('MSE=', mse1)\n",
    "mean_error_percent1 = np.mean(np.abs((y_pred_inv - y_test_inv) / y_test_inv))\n",
    "accuracy1 = 1 - mean_error_percent1\n",
    "print('Accuracy=', accuracy1)\n",
    "print('mean_error_percent=', mean_error_percent1)"
   ]
  },
  {
   "cell_type": "code",
   "execution_count": null,
   "metadata": {},
   "outputs": [],
   "source": []
  }
 ],
 "metadata": {
  "colab": {
   "authorship_tag": "ABX9TyNgL9C8Muvj+KiWethPbxGM",
   "provenance": []
  },
  "kernelspec": {
   "display_name": "Python 3 (ipykernel)",
   "language": "python",
   "name": "python3"
  },
  "language_info": {
   "codemirror_mode": {
    "name": "ipython",
    "version": 3
   },
   "file_extension": ".py",
   "mimetype": "text/x-python",
   "name": "python",
   "nbconvert_exporter": "python",
   "pygments_lexer": "ipython3",
   "version": "3.9.13"
  }
 },
 "nbformat": 4,
 "nbformat_minor": 1
}
