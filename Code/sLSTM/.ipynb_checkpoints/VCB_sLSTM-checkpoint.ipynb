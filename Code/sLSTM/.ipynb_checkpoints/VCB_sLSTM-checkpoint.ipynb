{
 "cells": [
  {
   "cell_type": "code",
   "execution_count": 1,
   "metadata": {
    "executionInfo": {
     "elapsed": 600,
     "status": "ok",
     "timestamp": 1727061134424,
     "user": {
      "displayName": "Đặng Thị Kiêm Hồng",
      "userId": "05445281411830122382"
     },
     "user_tz": -420
    },
    "id": "W-RlFTdGfann"
   },
   "outputs": [],
   "source": [
    "import numpy as np\n",
    "import pandas as pd\n",
    "#import yfinance as yf\n",
    "import matplotlib.pyplot as plt\n",
    "from sklearn.preprocessing import MinMaxScaler\n",
    "from tensorflow.keras.models import Model\n",
    "from tensorflow.keras.layers import Input, Dense, RNN\n",
    "from tensorflow.keras.optimizers import Adam\n",
    "from tensorflow.keras.callbacks import EarlyStopping\n",
    "import tensorflow as tf"
   ]
  },
  {
   "cell_type": "code",
   "execution_count": 2,
   "metadata": {
    "colab": {
     "base_uri": "https://localhost:8080/",
     "height": 243
    },
    "executionInfo": {
     "elapsed": 17,
     "status": "ok",
     "timestamp": 1727061135115,
     "user": {
      "displayName": "Đặng Thị Kiêm Hồng",
      "userId": "05445281411830122382"
     },
     "user_tz": -420
    },
    "id": "cwidh5C5fkmY",
    "outputId": "3c08090a-40e8-4fbd-8459-0f83c898b4bc"
   },
   "outputs": [
    {
     "data": {
      "text/html": [
       "<div>\n",
       "<style scoped>\n",
       "    .dataframe tbody tr th:only-of-type {\n",
       "        vertical-align: middle;\n",
       "    }\n",
       "\n",
       "    .dataframe tbody tr th {\n",
       "        vertical-align: top;\n",
       "    }\n",
       "\n",
       "    .dataframe thead th {\n",
       "        text-align: right;\n",
       "    }\n",
       "</style>\n",
       "<table border=\"1\" class=\"dataframe\">\n",
       "  <thead>\n",
       "    <tr style=\"text-align: right;\">\n",
       "      <th></th>\n",
       "      <th>Unnamed: 0</th>\n",
       "      <th>time</th>\n",
       "      <th>open</th>\n",
       "      <th>high</th>\n",
       "      <th>low</th>\n",
       "      <th>close</th>\n",
       "      <th>volume</th>\n",
       "    </tr>\n",
       "  </thead>\n",
       "  <tbody>\n",
       "    <tr>\n",
       "      <th>0</th>\n",
       "      <td>0</td>\n",
       "      <td>2015-01-05</td>\n",
       "      <td>14.03</td>\n",
       "      <td>14.21</td>\n",
       "      <td>13.90</td>\n",
       "      <td>14.12</td>\n",
       "      <td>310010</td>\n",
       "    </tr>\n",
       "    <tr>\n",
       "      <th>1</th>\n",
       "      <td>1</td>\n",
       "      <td>2015-01-06</td>\n",
       "      <td>14.12</td>\n",
       "      <td>15.05</td>\n",
       "      <td>14.12</td>\n",
       "      <td>15.05</td>\n",
       "      <td>1684600</td>\n",
       "    </tr>\n",
       "    <tr>\n",
       "      <th>2</th>\n",
       "      <td>2</td>\n",
       "      <td>2015-01-07</td>\n",
       "      <td>15.09</td>\n",
       "      <td>15.31</td>\n",
       "      <td>14.65</td>\n",
       "      <td>14.87</td>\n",
       "      <td>1430340</td>\n",
       "    </tr>\n",
       "    <tr>\n",
       "      <th>3</th>\n",
       "      <td>3</td>\n",
       "      <td>2015-01-08</td>\n",
       "      <td>14.92</td>\n",
       "      <td>15.49</td>\n",
       "      <td>14.87</td>\n",
       "      <td>15.31</td>\n",
       "      <td>904240</td>\n",
       "    </tr>\n",
       "    <tr>\n",
       "      <th>4</th>\n",
       "      <td>4</td>\n",
       "      <td>2015-01-09</td>\n",
       "      <td>15.45</td>\n",
       "      <td>16.38</td>\n",
       "      <td>15.45</td>\n",
       "      <td>16.33</td>\n",
       "      <td>2286680</td>\n",
       "    </tr>\n",
       "  </tbody>\n",
       "</table>\n",
       "</div>"
      ],
      "text/plain": [
       "   Unnamed: 0        time   open   high    low  close   volume\n",
       "0           0  2015-01-05  14.03  14.21  13.90  14.12   310010\n",
       "1           1  2015-01-06  14.12  15.05  14.12  15.05  1684600\n",
       "2           2  2015-01-07  15.09  15.31  14.65  14.87  1430340\n",
       "3           3  2015-01-08  14.92  15.49  14.87  15.31   904240\n",
       "4           4  2015-01-09  15.45  16.38  15.45  16.33  2286680"
      ]
     },
     "execution_count": 2,
     "metadata": {},
     "output_type": "execute_result"
    }
   ],
   "source": [
    "# Đọc dữ liệu từ file CSV (có thể thay bằng file của bạn)\n",
    "data = pd.read_csv('D:\\DeTaiNam2024\\SoLieuHong\\VCB.csv')\n",
    "# Kiểm tra tiêu đề các cột\n",
    "data.head()"
   ]
  },
  {
   "cell_type": "code",
   "execution_count": 3,
   "metadata": {
    "executionInfo": {
     "elapsed": 14,
     "status": "ok",
     "timestamp": 1727061135115,
     "user": {
      "displayName": "Đặng Thị Kiêm Hồng",
      "userId": "05445281411830122382"
     },
     "user_tz": -420
    },
    "id": "m7h4q7mogUbv"
   },
   "outputs": [],
   "source": [
    " data = data[['close']]\n",
    " data.dropna(inplace=True)"
   ]
  },
  {
   "cell_type": "code",
   "execution_count": 4,
   "metadata": {
    "executionInfo": {
     "elapsed": 14,
     "status": "ok",
     "timestamp": 1727061135116,
     "user": {
      "displayName": "Đặng Thị Kiêm Hồng",
      "userId": "05445281411830122382"
     },
     "user_tz": -420
    },
    "id": "fvSkw8KPgZla"
   },
   "outputs": [],
   "source": [
    "# Chuẩn bị dữ liệu\n",
    "def prepare_data(data, time_steps=60):\n",
    "    scaler = MinMaxScaler(feature_range=(0, 1))\n",
    "    scaled_data = scaler.fit_transform(data)\n",
    "\n",
    "    X, y = [], []\n",
    "    for i in range(time_steps, len(scaled_data)):\n",
    "        X.append(scaled_data[i-time_steps:i, 0])\n",
    "        y.append(scaled_data[i, 0])\n",
    "    X, y = np.array(X), np.array(y)\n",
    "\n",
    "    # Reshape X để phù hợp với RNN [samples, time_steps, features]\n",
    "    X = np.reshape(X, (X.shape[0], X.shape[1], 1))\n",
    "    return X, y, scaler\n"
   ]
  },
  {
   "cell_type": "code",
   "execution_count": 5,
   "metadata": {
    "executionInfo": {
     "elapsed": 14,
     "status": "ok",
     "timestamp": 1727061135116,
     "user": {
      "displayName": "Đặng Thị Kiêm Hồng",
      "userId": "05445281411830122382"
     },
     "user_tz": -420
    },
    "id": "_aG2vk1vgivz"
   },
   "outputs": [],
   "source": [
    "X, y, scaler = prepare_data(data)"
   ]
  },
  {
   "cell_type": "code",
   "execution_count": 6,
   "metadata": {},
   "outputs": [
    {
     "data": {
      "text/plain": [
       "array([[[0.        ],\n",
       "        [0.01116715],\n",
       "        [0.00900576],\n",
       "        ...,\n",
       "        [0.02017291],\n",
       "        [0.02017291],\n",
       "        [0.01909222]],\n",
       "\n",
       "       [[0.01116715],\n",
       "        [0.00900576],\n",
       "        [0.01428915],\n",
       "        ...,\n",
       "        [0.02017291],\n",
       "        [0.01909222],\n",
       "        [0.02065322]],\n",
       "\n",
       "       [[0.00900576],\n",
       "        [0.01428915],\n",
       "        [0.02653698],\n",
       "        ...,\n",
       "        [0.01909222],\n",
       "        [0.02065322],\n",
       "        [0.01909222]],\n",
       "\n",
       "       ...,\n",
       "\n",
       "       [[0.86311239],\n",
       "        [0.85710855],\n",
       "        [0.85710855],\n",
       "        ...,\n",
       "        [0.90513929],\n",
       "        [0.90994236],\n",
       "        [0.89793468]],\n",
       "\n",
       "       [[0.85710855],\n",
       "        [0.85710855],\n",
       "        [0.85350624],\n",
       "        ...,\n",
       "        [0.90994236],\n",
       "        [0.89793468],\n",
       "        [0.91714697]],\n",
       "\n",
       "       [[0.85710855],\n",
       "        [0.85350624],\n",
       "        [0.85350624],\n",
       "        ...,\n",
       "        [0.89793468],\n",
       "        [0.91714697],\n",
       "        [0.92315082]]])"
      ]
     },
     "execution_count": 6,
     "metadata": {},
     "output_type": "execute_result"
    }
   ],
   "source": [
    "X"
   ]
  },
  {
   "cell_type": "code",
   "execution_count": 7,
   "metadata": {
    "executionInfo": {
     "elapsed": 13,
     "status": "ok",
     "timestamp": 1727061135116,
     "user": {
      "displayName": "Đặng Thị Kiêm Hồng",
      "userId": "05445281411830122382"
     },
     "user_tz": -420
    },
    "id": "vwn8lrfcgmkU"
   },
   "outputs": [],
   "source": [
    "class sLSTMCell(tf.keras.layers.Layer):\n",
    "    def __init__(self, units, **kwargs):\n",
    "        super(sLSTMCell, self).__init__(**kwargs)\n",
    "        self.units = units\n",
    "        self.state_size = [self.units, self.units]  # [hidden_state, normalizer_state]\n",
    "\n",
    "    def build(self, input_shape):\n",
    "        # Khởi tạo trọng số cho các cổng\n",
    "        self.W_f = self.add_weight(shape=(input_shape[-1], self.units),\n",
    "                                   initializer='glorot_uniform',\n",
    "                                   name='W_f')\n",
    "        self.U_f = self.add_weight(shape=(self.units, self.units),\n",
    "                                   initializer='orthogonal',\n",
    "                                   name='U_f')\n",
    "        self.b_f = self.add_weight(shape=(self.units,),\n",
    "                                   initializer='zeros',\n",
    "                                   name='b_f')\n",
    "\n",
    "        self.W_i = self.add_weight(shape=(input_shape[-1], self.units),\n",
    "                                   initializer='glorot_uniform',\n",
    "                                   name='W_i')\n",
    "        self.U_i = self.add_weight(shape=(self.units, self.units),\n",
    "                                   initializer='orthogonal',\n",
    "                                   name='U_i')\n",
    "        self.b_i = self.add_weight(shape=(self.units,),\n",
    "                                   initializer='zeros',\n",
    "                                   name='b_i')\n",
    "\n",
    "        self.W_c = self.add_weight(shape=(input_shape[-1], self.units),\n",
    "                                   initializer='glorot_uniform',\n",
    "                                   name='W_c')\n",
    "        self.U_c = self.add_weight(shape=(self.units, self.units),\n",
    "                                   initializer='orthogonal',\n",
    "                                   name='U_c')\n",
    "        self.b_c = self.add_weight(shape=(self.units,),\n",
    "                                   initializer='zeros',\n",
    "                                   name='b_c')\n",
    "\n",
    "        self.W_o = self.add_weight(shape=(input_shape[-1], self.units),\n",
    "                                   initializer='glorot_uniform',\n",
    "                                   name='W_o')\n",
    "        self.U_o = self.add_weight(shape=(self.units, self.units),\n",
    "                                   initializer='orthogonal',\n",
    "                                   name='U_o')\n",
    "        self.b_o = self.add_weight(shape=(self.units,),\n",
    "                                   initializer='zeros',\n",
    "                                   name='b_o')\n",
    "        super(sLSTMCell, self).build(input_shape)\n",
    "\n",
    "    def call(self, inputs, states):\n",
    "        h_prev, n_prev = states\n",
    "\n",
    "        # Forget gate: sử dụng sigmoid hoặc exp\n",
    "       # f = tf.keras.activations.sigmoid(tf.matmul(inputs, self.W_f) + tf.matmul(h_prev, self.U_f) + self.b_f)\n",
    "        f = tf.exp(tf.matmul(inputs, self.W_f) + tf.matmul(h_prev, self.U_f) + self.b_f)\n",
    "\n",
    "        # Input gate: sử dụng (sigmoid)^2 hoặc (exp)^2\n",
    "      #  i = tf.keras.activations.sigmoid(tf.matmul(inputs, self.W_i) + tf.matmul(h_prev, self.U_i) + self.b_i)\n",
    "       # i = tf.square(i)  # (σ(x))^2\n",
    "        i = tf.exp(tf.matmul(inputs, self.W_i) + tf.matmul(h_prev, self.U_i) + self.b_i)\n",
    "        # Candidate cell state\n",
    "        c_tilde = tf.keras.activations.tanh(tf.matmul(inputs, self.W_c) + tf.matmul(h_prev, self.U_c) + self.b_c)\n",
    "\n",
    "        # Cell state update\n",
    "        c = f * states[0] + i * c_tilde\n",
    "\n",
    "        # Normalizer state update\n",
    "        n = f * n_prev + i\n",
    "\n",
    "        # Output gate\n",
    "        o = tf.keras.activations.sigmoid(tf.matmul(inputs, self.W_o) + tf.matmul(h_prev, self.U_o) + self.b_o)\n",
    "\n",
    "        # Normalized hidden state\n",
    "        h_tilde = c * tf.math.reciprocal(n + 1e-7)  # thêm epsilon để tránh chia cho 0\n",
    "        h = o * h_tilde\n",
    "\n",
    "        return h, [h, n]\n",
    "\n",
    "class sLSTM(tf.keras.layers.Layer):\n",
    "    def __init__(self, units, **kwargs):\n",
    "        super(sLSTM, self).__init__(**kwargs)\n",
    "        self.units = units\n",
    "        self.cell = sLSTMCell(units)\n",
    "\n",
    "    def call(self, inputs):\n",
    "        return tf.keras.layers.RNN(self.cell, return_sequences=False, return_state=False)(inputs)\n",
    "\n",
    "    def get_config(self):\n",
    "        config = super(sLSTM, self).get_config()\n",
    "        config.update({'units': self.units})\n",
    "        return config\n"
   ]
  },
  {
   "cell_type": "code",
   "execution_count": 8,
   "metadata": {
    "colab": {
     "base_uri": "https://localhost:8080/",
     "height": 225
    },
    "executionInfo": {
     "elapsed": 813,
     "status": "ok",
     "timestamp": 1727062104765,
     "user": {
      "displayName": "Đặng Thị Kiêm Hồng",
      "userId": "05445281411830122382"
     },
     "user_tz": -420
    },
    "id": "vAsXYHMWgoYV",
    "outputId": "f68a8b3f-3a8b-4949-d128-4e6b844505ff"
   },
   "outputs": [
    {
     "name": "stdout",
     "output_type": "stream",
     "text": [
      "Model: \"model\"\n",
      "_________________________________________________________________\n",
      " Layer (type)                Output Shape              Param #   \n",
      "=================================================================\n",
      " input_1 (InputLayer)        [(None, 60, 1)]           0         \n",
      "                                                                 \n",
      " s_lstm (sLSTM)              (None, 50)                10400     \n",
      "                                                                 \n",
      " dense (Dense)               (None, 1)                 51        \n",
      "                                                                 \n",
      "=================================================================\n",
      "Total params: 10,451\n",
      "Trainable params: 10,451\n",
      "Non-trainable params: 0\n",
      "_________________________________________________________________\n"
     ]
    }
   ],
   "source": [
    "# Xây dựng mô hình\n",
    "def build_model(time_steps, units=50):\n",
    "    inputs = Input(shape=(time_steps, 1))\n",
    "    x = sLSTM(units)(inputs)\n",
    "    x = Dense(1)(x)\n",
    "    model = Model(inputs, x)\n",
    "    model.compile(optimizer=Adam(learning_rate=2e-02), loss='mean_squared_error')\n",
    "    return model\n",
    "# Khởi tạo mô hình\n",
    "model = build_model(time_steps=60, units=50)\n",
    "model.summary()\n"
   ]
  },
  {
   "cell_type": "code",
   "execution_count": 9,
   "metadata": {
    "colab": {
     "base_uri": "https://localhost:8080/"
    },
    "executionInfo": {
     "elapsed": 116210,
     "status": "ok",
     "timestamp": 1727062224871,
     "user": {
      "displayName": "Đặng Thị Kiêm Hồng",
      "userId": "05445281411830122382"
     },
     "user_tz": -420
    },
    "id": "RNAbWmH_guLn",
    "outputId": "368ac1da-8b46-490b-84e4-bb9eb3e3d1ce"
   },
   "outputs": [
    {
     "name": "stdout",
     "output_type": "stream",
     "text": [
      "Epoch 1/50\n",
      "63/63 [==============================] - 6s 44ms/step - loss: 0.0203 - val_loss: 0.0013\n",
      "Epoch 2/50\n",
      "63/63 [==============================] - 2s 36ms/step - loss: 2.4797e-04 - val_loss: 0.0013\n",
      "Epoch 3/50\n",
      "63/63 [==============================] - 2s 37ms/step - loss: 2.0960e-04 - val_loss: 8.3790e-04\n",
      "Epoch 4/50\n",
      "63/63 [==============================] - 2s 37ms/step - loss: 1.8428e-04 - val_loss: 4.7388e-04\n",
      "Epoch 5/50\n",
      "63/63 [==============================] - 2s 37ms/step - loss: 1.6702e-04 - val_loss: 2.8633e-04\n",
      "Epoch 6/50\n",
      "63/63 [==============================] - 2s 37ms/step - loss: 1.5833e-04 - val_loss: 1.9821e-04\n",
      "Epoch 7/50\n",
      "63/63 [==============================] - 2s 39ms/step - loss: 1.4841e-04 - val_loss: 1.9848e-04\n",
      "Epoch 8/50\n",
      "63/63 [==============================] - 3s 41ms/step - loss: 1.4109e-04 - val_loss: 2.2651e-04\n",
      "Epoch 9/50\n",
      "63/63 [==============================] - 3s 41ms/step - loss: 1.4192e-04 - val_loss: 1.8282e-04\n",
      "Epoch 10/50\n",
      "63/63 [==============================] - 2s 38ms/step - loss: 1.4638e-04 - val_loss: 1.7598e-04\n",
      "Epoch 11/50\n",
      "63/63 [==============================] - 2s 37ms/step - loss: 1.5424e-04 - val_loss: 1.8629e-04\n",
      "Epoch 12/50\n",
      "63/63 [==============================] - 3s 41ms/step - loss: 1.3442e-04 - val_loss: 2.4091e-04\n",
      "Epoch 13/50\n",
      "63/63 [==============================] - 2s 38ms/step - loss: 1.3773e-04 - val_loss: 5.2088e-04\n",
      "Epoch 14/50\n",
      "63/63 [==============================] - 3s 40ms/step - loss: 1.3639e-04 - val_loss: 0.0259\n",
      "Epoch 15/50\n",
      "63/63 [==============================] - 2s 38ms/step - loss: 1.3024e-04 - val_loss: 0.2041\n",
      "Epoch 16/50\n",
      "63/63 [==============================] - 2s 38ms/step - loss: 1.4171e-04 - val_loss: 0.0047\n",
      "Epoch 17/50\n",
      "63/63 [==============================] - 4s 57ms/step - loss: 1.5124e-04 - val_loss: nan\n",
      "Epoch 18/50\n",
      "63/63 [==============================] - 3s 53ms/step - loss: 1.5424e-04 - val_loss: nan\n",
      "Epoch 19/50\n",
      "63/63 [==============================] - 4s 59ms/step - loss: 1.3644e-04 - val_loss: nan\n",
      "Epoch 20/50\n",
      "63/63 [==============================] - 4s 67ms/step - loss: 1.2871e-04 - val_loss: nan\n",
      "Thời gian huấn luyện 56.926939725875854\n"
     ]
    }
   ],
   "source": [
    "import time\n",
    "start_time=time.time()\n",
    "# Chia dữ liệu thành tập huấn luyện và kiểm tra\n",
    "train_size = int(len(X) * 0.85)\n",
    "X_train, X_test = X[:train_size], X[train_size:]\n",
    "y_train, y_test = y[:train_size], y[train_size:]\n",
    "\n",
    "# Xây dựng mô hình\n",
    "model = build_model(time_steps=60, units=50)\n",
    "\n",
    "# Huấn luyện mô hình\n",
    "early_stop = EarlyStopping(monitor='val_loss', patience=10, restore_best_weights=True)\n",
    "history = model.fit(X_train, y_train, epochs=50, batch_size=32,\n",
    "                    validation_data=(X_test, y_test),\n",
    "                    callbacks=[early_stop])\n",
    "tghuanluyen=time.time() - start_time\n",
    "print('Thời gian huấn luyện', tghuanluyen)"
   ]
  },
  {
   "cell_type": "code",
   "execution_count": 10,
   "metadata": {
    "colab": {
     "base_uri": "https://localhost:8080/",
     "height": 420
    },
    "executionInfo": {
     "elapsed": 2309,
     "status": "ok",
     "timestamp": 1727062245690,
     "user": {
      "displayName": "Đặng Thị Kiêm Hồng",
      "userId": "05445281411830122382"
     },
     "user_tz": -420
    },
    "id": "RVpvOaUwg0F_",
    "outputId": "4aba7979-a386-4f58-9385-ad534bdf37ff"
   },
   "outputs": [
    {
     "name": "stdout",
     "output_type": "stream",
     "text": [
      "12/12 [==============================] - 2s 11ms/step\n",
      "Thời gian dự đoán 30.35189723968506\n",
      "Root Mean Squared Error (RMSE): 1.1047625215560304\n",
      "Mean Squared Error (MSE): 1.2205002290348383\n"
     ]
    },
    {
     "data": {
      "image/png": "[encoded data removed]",
      "text/plain": [
       "<Figure size 1400x500 with 1 Axes>"
      ]
     },
     "metadata": {},
     "output_type": "display_data"
    }
   ],
   "source": [
    "start_time=time.time()\n",
    "# Dự đoán trên tập kiểm tra\n",
    "y_pred = model.predict(X_test)\n",
    "\n",
    "# Đảo chuẩn hóa để lấy giá trị thực\n",
    "y_pred_inv = scaler.inverse_transform(y_pred)\n",
    "y_test_inv = scaler.inverse_transform(y_test.reshape(-1, 1))\n",
    "tgdudoan=time.time()-start_time\n",
    "print('Thời gian dự đoán', tgdudoan)\n",
    "# Tính toán RMSE\n",
    "from sklearn.metrics import mean_squared_error\n",
    "rmse = np.sqrt(mean_squared_error(y_test_inv, y_pred_inv))\n",
    "print(f'Root Mean Squared Error (RMSE): {rmse}')\n",
    "mse = mean_squared_error(y_test_inv, y_pred_inv)\n",
    "print(f'Mean Squared Error (MSE): {mse}')\n",
    "# Vẽ đồ thị so sánh giá thực và giá dự đoán\n",
    "plt.figure(figsize=(14, 5))\n",
    "plt.plot(y_test_inv, color='blue', label='Giá Thực')\n",
    "plt.plot(y_pred_inv, color='red', label='Giá Dự Đoán')\n",
    "plt.title('Dự Đoán Giá Cổ Phiếu Sử Dụng sLSTM')\n",
    "plt.xlabel('Thời Gian')\n",
    "plt.ylabel('Giá Cổ Phiếu')\n",
    "plt.legend()\n",
    "plt.show()\n"
   ]
  },
  {
   "cell_type": "code",
   "execution_count": 11,
   "metadata": {},
   "outputs": [
    {
     "name": "stdout",
     "output_type": "stream",
     "text": [
      "MSE= 1.2205002290348383\n",
      "Accuracy= 0.9905935633290762\n",
      "mean_error_percent= 0.009406436670923763\n"
     ]
    }
   ],
   "source": [
    "mse1=np.mean(np.square(y_pred_inv - y_test_inv))\n",
    "print('MSE=', mse1)\n",
    "mean_error_percent1 = np.mean(np.abs((y_pred_inv - y_test_inv) / y_test_inv))\n",
    "accuracy1 = 1 - mean_error_percent1\n",
    "print('Accuracy=', accuracy1)\n",
    "print('mean_error_percent=', mean_error_percent1)"
   ]
  }
 ],
 "metadata": {
  "colab": {
   "authorship_tag": "ABX9TyNgL9C8Muvj+KiWethPbxGM",
   "provenance": []
  },
  "kernelspec": {
   "display_name": "Python 3 (ipykernel)",
   "language": "python",
   "name": "python3"
  },
  "language_info": {
   "codemirror_mode": {
    "name": "ipython",
    "version": 3
   },
   "file_extension": ".py",
   "mimetype": "text/x-python",
   "name": "python",
   "nbconvert_exporter": "python",
   "pygments_lexer": "ipython3",
   "version": "3.9.13"
  }
 },
 "nbformat": 4,
 "nbformat_minor": 1
}
