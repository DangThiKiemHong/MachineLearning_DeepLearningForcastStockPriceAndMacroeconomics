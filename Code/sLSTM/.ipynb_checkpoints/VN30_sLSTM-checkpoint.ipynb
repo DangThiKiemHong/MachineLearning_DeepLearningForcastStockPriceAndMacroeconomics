{
 "cells": [
  {
   "cell_type": "code",
   "execution_count": null,
   "metadata": {
    "executionInfo": {
     "elapsed": 600,
     "status": "ok",
     "timestamp": 1727061134424,
     "user": {
      "displayName": "Đặng Thị Kiêm Hồng",
      "userId": "05445281411830122382"
     },
     "user_tz": -420
    },
    "id": "W-RlFTdGfann"
   },
   "outputs": [],
   "source": [
    "import numpy as np\n",
    "import pandas as pd\n",
    "\n",
    "import matplotlib.pyplot as plt\n",
    "from sklearn.preprocessing import MinMaxScaler\n",
    "from tensorflow.keras.models import Model\n",
    "from tensorflow.keras.layers import Input, Dense, RNN\n",
    "from tensorflow.keras.optimizers import Adam\n",
    "from tensorflow.keras.callbacks import EarlyStopping\n",
    "import tensorflow as tf"
   ]
  },
  {
   "cell_type": "code",
   "execution_count": null,
   "metadata": {
    "colab": {
     "base_uri": "https://localhost:8080/",
     "height": 243
    },
    "executionInfo": {
     "elapsed": 17,
     "status": "ok",
     "timestamp": 1727061135115,
     "user": {
      "displayName": "Đặng Thị Kiêm Hồng",
      "userId": "05445281411830122382"
     },
     "user_tz": -420
    },
    "id": "cwidh5C5fkmY",
    "outputId": "3c08090a-40e8-4fbd-8459-0f83c898b4bc"
   },
   "outputs": [],
   "source": [
    "# Đọc dữ liệu từ file CSV (có thể thay bằng file của bạn)\n",
    "data = pd.read_csv('D:\\DeTaiNam2024\\SoLieuHong\\VN30.csv')\n",
    "# Kiểm tra tiêu đề các cột\n",
    "data.head()"
   ]
  },
  {
   "cell_type": "code",
   "execution_count": null,
   "metadata": {
    "executionInfo": {
     "elapsed": 14,
     "status": "ok",
     "timestamp": 1727061135115,
     "user": {
      "displayName": "Đặng Thị Kiêm Hồng",
      "userId": "05445281411830122382"
     },
     "user_tz": -420
    },
    "id": "m7h4q7mogUbv"
   },
   "outputs": [],
   "source": [
    " data = data[['close']]\n",
    " data.dropna(inplace=True)"
   ]
  },
  {
   "cell_type": "code",
   "execution_count": null,
   "metadata": {
    "executionInfo": {
     "elapsed": 14,
     "status": "ok",
     "timestamp": 1727061135116,
     "user": {
      "displayName": "Đặng Thị Kiêm Hồng",
      "userId": "05445281411830122382"
     },
     "user_tz": -420
    },
    "id": "fvSkw8KPgZla"
   },
   "outputs": [],
   "source": [
    "# Chuẩn bị dữ liệu\n",
    "def prepare_data(data, time_steps=60):\n",
    "    scaler = MinMaxScaler(feature_range=(0, 1))\n",
    "    scaled_data = scaler.fit_transform(data)\n",
    "\n",
    "    X, y = [], []\n",
    "    for i in range(time_steps, len(scaled_data)):\n",
    "        X.append(scaled_data[i-time_steps:i, 0])\n",
    "        y.append(scaled_data[i, 0])\n",
    "    X, y = np.array(X), np.array(y)\n",
    "\n",
    "    # Reshape X để phù hợp với RNN [samples, time_steps, features]\n",
    "    X = np.reshape(X, (X.shape[0], X.shape[1], 1))\n",
    "    return X, y, scaler\n"
   ]
  },
  {
   "cell_type": "code",
   "execution_count": null,
   "metadata": {
    "executionInfo": {
     "elapsed": 14,
     "status": "ok",
     "timestamp": 1727061135116,
     "user": {
      "displayName": "Đặng Thị Kiêm Hồng",
      "userId": "05445281411830122382"
     },
     "user_tz": -420
    },
    "id": "_aG2vk1vgivz"
   },
   "outputs": [],
   "source": [
    "X, y, scaler = prepare_data(data)"
   ]
  },
  {
   "cell_type": "code",
   "execution_count": null,
   "metadata": {
    "executionInfo": {
     "elapsed": 13,
     "status": "ok",
     "timestamp": 1727061135116,
     "user": {
      "displayName": "Đặng Thị Kiêm Hồng",
      "userId": "05445281411830122382"
     },
     "user_tz": -420
    },
    "id": "vwn8lrfcgmkU"
   },
   "outputs": [],
   "source": [
    "class sLSTMCell(tf.keras.layers.Layer):\n",
    "    def __init__(self, units, **kwargs):\n",
    "        super(sLSTMCell, self).__init__(**kwargs)\n",
    "        self.units = units\n",
    "        self.state_size = [self.units, self.units]  # [hidden_state, normalizer_state]\n",
    "\n",
    "    def build(self, input_shape):\n",
    "        # Khởi tạo trọng số cho các cổng\n",
    "        self.W_f = self.add_weight(shape=(input_shape[-1], self.units),\n",
    "                                   initializer='glorot_uniform',\n",
    "                                   name='W_f')\n",
    "        self.U_f = self.add_weight(shape=(self.units, self.units),\n",
    "                                   initializer='orthogonal',\n",
    "                                   name='U_f')\n",
    "        self.b_f = self.add_weight(shape=(self.units,),\n",
    "                                   initializer='zeros',\n",
    "                                   name='b_f')\n",
    "\n",
    "        self.W_i = self.add_weight(shape=(input_shape[-1], self.units),\n",
    "                                   initializer='glorot_uniform',\n",
    "                                   name='W_i')\n",
    "        self.U_i = self.add_weight(shape=(self.units, self.units),\n",
    "                                   initializer='orthogonal',\n",
    "                                   name='U_i')\n",
    "        self.b_i = self.add_weight(shape=(self.units,),\n",
    "                                   initializer='zeros',\n",
    "                                   name='b_i')\n",
    "\n",
    "        self.W_c = self.add_weight(shape=(input_shape[-1], self.units),\n",
    "                                   initializer='glorot_uniform',\n",
    "                                   name='W_c')\n",
    "        self.U_c = self.add_weight(shape=(self.units, self.units),\n",
    "                                   initializer='orthogonal',\n",
    "                                   name='U_c')\n",
    "        self.b_c = self.add_weight(shape=(self.units,),\n",
    "                                   initializer='zeros',\n",
    "                                   name='b_c')\n",
    "\n",
    "        self.W_o = self.add_weight(shape=(input_shape[-1], self.units),\n",
    "                                   initializer='glorot_uniform',\n",
    "                                   name='W_o')\n",
    "        self.U_o = self.add_weight(shape=(self.units, self.units),\n",
    "                                   initializer='orthogonal',\n",
    "                                   name='U_o')\n",
    "        self.b_o = self.add_weight(shape=(self.units,),\n",
    "                                   initializer='zeros',\n",
    "                                   name='b_o')\n",
    "        super(sLSTMCell, self).build(input_shape)\n",
    "\n",
    "    def call(self, inputs, states):\n",
    "        h_prev, n_prev = states\n",
    "\n",
    "        # Forget gate: sử dụng sigmoid hoặc exp\n",
    "       # f = tf.keras.activations.sigmoid(tf.matmul(inputs, self.W_f) + tf.matmul(h_prev, self.U_f) + self.b_f)\n",
    "        f = tf.exp(tf.matmul(inputs, self.W_f) + tf.matmul(h_prev, self.U_f) + self.b_f)\n",
    "\n",
    "        # Input gate: sử dụng (sigmoid)^2 hoặc (exp)^2\n",
    "      #  i = tf.keras.activations.sigmoid(tf.matmul(inputs, self.W_i) + tf.matmul(h_prev, self.U_i) + self.b_i)\n",
    "       # i = tf.square(i)  # (σ(x))^2\n",
    "        i = tf.exp(tf.matmul(inputs, self.W_i) + tf.matmul(h_prev, self.U_i) + self.b_i)\n",
    "        # Candidate cell state\n",
    "        c_tilde = tf.keras.activations.tanh(tf.matmul(inputs, self.W_c) + tf.matmul(h_prev, self.U_c) + self.b_c)\n",
    "\n",
    "        # Cell state update\n",
    "        c = f * states[0] + i * c_tilde\n",
    "\n",
    "        # Normalizer state update\n",
    "        n = f * n_prev + i\n",
    "\n",
    "        # Output gate\n",
    "        o = tf.keras.activations.sigmoid(tf.matmul(inputs, self.W_o) + tf.matmul(h_prev, self.U_o) + self.b_o)\n",
    "\n",
    "        # Normalized hidden state\n",
    "        h_tilde = c * tf.math.reciprocal(n + 1e-7)  # thêm epsilon để tránh chia cho 0\n",
    "        h = o * h_tilde\n",
    "\n",
    "        return h, [h, n]\n",
    "\n",
    "class sLSTM(tf.keras.layers.Layer):\n",
    "    def __init__(self, units, **kwargs):\n",
    "        super(sLSTM, self).__init__(**kwargs)\n",
    "        self.units = units\n",
    "        self.cell = sLSTMCell(units)\n",
    "\n",
    "    def call(self, inputs):\n",
    "        return tf.keras.layers.RNN(self.cell, return_sequences=False, return_state=False)(inputs)\n",
    "\n",
    "    def get_config(self):\n",
    "        config = super(sLSTM, self).get_config()\n",
    "        config.update({'units': self.units})\n",
    "        return config\n"
   ]
  },
  {
   "cell_type": "code",
   "execution_count": null,
   "metadata": {
    "colab": {
     "base_uri": "https://localhost:8080/",
     "height": 225
    },
    "executionInfo": {
     "elapsed": 813,
     "status": "ok",
     "timestamp": 1727062104765,
     "user": {
      "displayName": "Đặng Thị Kiêm Hồng",
      "userId": "05445281411830122382"
     },
     "user_tz": -420
    },
    "id": "vAsXYHMWgoYV",
    "outputId": "f68a8b3f-3a8b-4949-d128-4e6b844505ff"
   },
   "outputs": [],
   "source": [
    "# Xây dựng mô hình\n",
    "def build_model(time_steps, units=50):\n",
    "    inputs = Input(shape=(time_steps, 1))\n",
    "    x = sLSTM(units)(inputs)\n",
    "    x = Dense(1)(x)\n",
    "    model = Model(inputs, x)\n",
    "    model.compile(optimizer=Adam(learning_rate=2e-02), loss='mean_squared_error')\n",
    "    return model\n",
    "# Khởi tạo mô hình\n",
    "model = build_model(time_steps=60, units=50)\n",
    "model.summary()\n"
   ]
  },
  {
   "cell_type": "code",
   "execution_count": null,
   "metadata": {
    "colab": {
     "base_uri": "https://localhost:8080/"
    },
    "executionInfo": {
     "elapsed": 116210,
     "status": "ok",
     "timestamp": 1727062224871,
     "user": {
      "displayName": "Đặng Thị Kiêm Hồng",
      "userId": "05445281411830122382"
     },
     "user_tz": -420
    },
    "id": "RNAbWmH_guLn",
    "outputId": "368ac1da-8b46-490b-84e4-bb9eb3e3d1ce"
   },
   "outputs": [],
   "source": [
    "\n",
    "train_size = int(len(X) * 0.85)\n",
    "X_train, X_test = X[:train_size], X[train_size:]\n",
    "y_train, y_test = y[:train_size], y[train_size:]\n",
    "\n",
    "# Xây dựng mô hình\n",
    "model = build_model(time_steps=60, units=50)\n",
    "\n",
    "# Huấn luyện mô hình\n",
    "early_stop = EarlyStopping(monitor='val_loss', patience=10, restore_best_weights=True)\n",
    "history = model.fit(X_train, y_train, epochs=100, batch_size=32,\n",
    "                    validation_data=(X_test, y_test),\n",
    "                    callbacks=[early_stop])\n"
   ]
  },
  {
   "cell_type": "code",
   "execution_count": null,
   "metadata": {
    "colab": {
     "base_uri": "https://localhost:8080/",
     "height": 420
    },
    "executionInfo": {
     "elapsed": 2309,
     "status": "ok",
     "timestamp": 1727062245690,
     "user": {
      "displayName": "Đặng Thị Kiêm Hồng",
      "userId": "05445281411830122382"
     },
     "user_tz": -420
    },
    "id": "RVpvOaUwg0F_",
    "outputId": "4aba7979-a386-4f58-9385-ad534bdf37ff",
    "scrolled": true
   },
   "outputs": [],
   "source": [
    "\n",
    "# Dự đoán trên tập kiểm tra\n",
    "y_pred = model.predict(X_test)\n",
    "\n",
    "# Đảo chuẩn hóa để lấy giá trị thực\n",
    "y_pred_inv = scaler.inverse_transform(y_pred)\n",
    "y_test_inv = scaler.inverse_transform(y_test.reshape(-1, 1))\n",
    "\n",
    "# Tính toán RMSE\n",
    "from sklearn.metrics import mean_squared_error\n",
    "rmse = np.sqrt(mean_squared_error(y_test_inv, y_pred_inv))\n",
    "print(f'Root Mean Squared Error (RMSE): {rmse}')\n",
    "mse = mean_squared_error(y_test_inv, y_pred_inv)\n",
    "print(f'Mean Squared Error (MSE): {mse}')\n",
    "# Vẽ đồ thị so sánh giá thực và giá dự đoán\n",
    "plt.figure(figsize=(14, 5))\n",
    "plt.plot(y_test_inv, color='blue', label='Giá Thực')\n",
    "plt.plot(y_pred_inv, color='red', label='Giá Dự Đoán')\n",
    "plt.title('Dự Đoán Giá Cổ Phiếu VN30 Sử Dụng sLSTM')\n",
    "plt.xlabel('Thời Gian')\n",
    "plt.ylabel('Giá Cổ Phiếu')\n",
    "plt.legend()\n",
    "plt.show()\n"
   ]
  },
  {
   "cell_type": "code",
   "execution_count": null,
   "metadata": {},
   "outputs": [],
   "source": []
  }
 ],
 "metadata": {
  "colab": {
   "authorship_tag": "ABX9TyNgL9C8Muvj+KiWethPbxGM",
   "provenance": []
  },
  "kernelspec": {
   "display_name": "Python 3 (ipykernel)",
   "language": "python",
   "name": "python3"
  },
  "language_info": {
   "codemirror_mode": {
    "name": "ipython",
    "version": 3
   },
   "file_extension": ".py",
   "mimetype": "text/x-python",
   "name": "python",
   "nbconvert_exporter": "python",
   "pygments_lexer": "ipython3",
   "version": "3.9.13"
  }
 },
 "nbformat": 4,
 "nbformat_minor": 1
}
