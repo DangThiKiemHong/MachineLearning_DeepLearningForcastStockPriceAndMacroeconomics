{
 "cells": [
  {
   "cell_type": "code",
   "execution_count": 1,
   "metadata": {
    "executionInfo": {
     "elapsed": 600,
     "status": "ok",
     "timestamp": 1727061134424,
     "user": {
      "displayName": "Đặng Thị Kiêm Hồng",
      "userId": "05445281411830122382"
     },
     "user_tz": -420
    },
    "id": "W-RlFTdGfann"
   },
   "outputs": [],
   "source": [
    "import numpy as np\n",
    "import pandas as pd\n",
    "#import yfinance as yf\n",
    "import matplotlib.pyplot as plt\n",
    "from sklearn.preprocessing import MinMaxScaler\n",
    "from tensorflow.keras.models import Model\n",
    "from tensorflow.keras.layers import Input, Dense, RNN\n",
    "from tensorflow.keras.optimizers import Adam\n",
    "from tensorflow.keras.callbacks import EarlyStopping\n",
    "import tensorflow as tf"
   ]
  },
  {
   "cell_type": "code",
   "execution_count": 2,
   "metadata": {
    "colab": {
     "base_uri": "https://localhost:8080/",
     "height": 243
    },
    "executionInfo": {
     "elapsed": 17,
     "status": "ok",
     "timestamp": 1727061135115,
     "user": {
      "displayName": "Đặng Thị Kiêm Hồng",
      "userId": "05445281411830122382"
     },
     "user_tz": -420
    },
    "id": "cwidh5C5fkmY",
    "outputId": "3c08090a-40e8-4fbd-8459-0f83c898b4bc"
   },
   "outputs": [
    {
     "data": {
      "text/html": [
       "<div>\n",
       "<style scoped>\n",
       "    .dataframe tbody tr th:only-of-type {\n",
       "        vertical-align: middle;\n",
       "    }\n",
       "\n",
       "    .dataframe tbody tr th {\n",
       "        vertical-align: top;\n",
       "    }\n",
       "\n",
       "    .dataframe thead th {\n",
       "        text-align: right;\n",
       "    }\n",
       "</style>\n",
       "<table border=\"1\" class=\"dataframe\">\n",
       "  <thead>\n",
       "    <tr style=\"text-align: right;\">\n",
       "      <th></th>\n",
       "      <th>Unnamed: 0</th>\n",
       "      <th>time</th>\n",
       "      <th>open</th>\n",
       "      <th>high</th>\n",
       "      <th>low</th>\n",
       "      <th>close</th>\n",
       "      <th>volume</th>\n",
       "    </tr>\n",
       "  </thead>\n",
       "  <tbody>\n",
       "    <tr>\n",
       "      <th>0</th>\n",
       "      <td>0</td>\n",
       "      <td>2015-01-05</td>\n",
       "      <td>4.13</td>\n",
       "      <td>4.21</td>\n",
       "      <td>4.09</td>\n",
       "      <td>4.13</td>\n",
       "      <td>207020</td>\n",
       "    </tr>\n",
       "    <tr>\n",
       "      <th>1</th>\n",
       "      <td>1</td>\n",
       "      <td>2015-01-06</td>\n",
       "      <td>4.05</td>\n",
       "      <td>4.17</td>\n",
       "      <td>4.05</td>\n",
       "      <td>4.17</td>\n",
       "      <td>260380</td>\n",
       "    </tr>\n",
       "    <tr>\n",
       "      <th>2</th>\n",
       "      <td>2</td>\n",
       "      <td>2015-01-07</td>\n",
       "      <td>4.17</td>\n",
       "      <td>4.21</td>\n",
       "      <td>4.13</td>\n",
       "      <td>4.13</td>\n",
       "      <td>232770</td>\n",
       "    </tr>\n",
       "    <tr>\n",
       "      <th>3</th>\n",
       "      <td>3</td>\n",
       "      <td>2015-01-08</td>\n",
       "      <td>4.13</td>\n",
       "      <td>4.17</td>\n",
       "      <td>4.09</td>\n",
       "      <td>4.13</td>\n",
       "      <td>107380</td>\n",
       "    </tr>\n",
       "    <tr>\n",
       "      <th>4</th>\n",
       "      <td>4</td>\n",
       "      <td>2015-01-09</td>\n",
       "      <td>4.13</td>\n",
       "      <td>4.21</td>\n",
       "      <td>4.09</td>\n",
       "      <td>4.21</td>\n",
       "      <td>409230</td>\n",
       "    </tr>\n",
       "  </tbody>\n",
       "</table>\n",
       "</div>"
      ],
      "text/plain": [
       "   Unnamed: 0        time  open  high   low  close  volume\n",
       "0           0  2015-01-05  4.13  4.21  4.09   4.13  207020\n",
       "1           1  2015-01-06  4.05  4.17  4.05   4.17  260380\n",
       "2           2  2015-01-07  4.17  4.21  4.13   4.13  232770\n",
       "3           3  2015-01-08  4.13  4.17  4.09   4.13  107380\n",
       "4           4  2015-01-09  4.13  4.21  4.09   4.21  409230"
      ]
     },
     "execution_count": 2,
     "metadata": {},
     "output_type": "execute_result"
    }
   ],
   "source": [
    "# Đọc dữ liệu từ file CSV (có thể thay bằng file của bạn)\n",
    "data = pd.read_csv('D:\\DeTaiNam2024\\SoLieuHong\\HPG.csv')\n",
    "# Kiểm tra tiêu đề các cột\n",
    "data.head()"
   ]
  },
  {
   "cell_type": "code",
   "execution_count": 3,
   "metadata": {
    "executionInfo": {
     "elapsed": 14,
     "status": "ok",
     "timestamp": 1727061135115,
     "user": {
      "displayName": "Đặng Thị Kiêm Hồng",
      "userId": "05445281411830122382"
     },
     "user_tz": -420
    },
    "id": "m7h4q7mogUbv"
   },
   "outputs": [],
   "source": [
    " data = data[['close']]\n",
    " data.dropna(inplace=True)"
   ]
  },
  {
   "cell_type": "code",
   "execution_count": 4,
   "metadata": {
    "executionInfo": {
     "elapsed": 14,
     "status": "ok",
     "timestamp": 1727061135116,
     "user": {
      "displayName": "Đặng Thị Kiêm Hồng",
      "userId": "05445281411830122382"
     },
     "user_tz": -420
    },
    "id": "fvSkw8KPgZla"
   },
   "outputs": [],
   "source": [
    "# Chuẩn bị dữ liệu\n",
    "def prepare_data(data, time_steps=60):\n",
    "    scaler = MinMaxScaler(feature_range=(0, 1))\n",
    "    scaled_data = scaler.fit_transform(data)\n",
    "\n",
    "    X, y = [], []\n",
    "    for i in range(time_steps, len(scaled_data)):\n",
    "        X.append(scaled_data[i-time_steps:i, 0])\n",
    "        y.append(scaled_data[i, 0])\n",
    "    X, y = np.array(X), np.array(y)\n",
    "\n",
    "    # Reshape X để phù hợp với RNN [samples, time_steps, features]\n",
    "    X = np.reshape(X, (X.shape[0], X.shape[1], 1))\n",
    "    return X, y, scaler\n"
   ]
  },
  {
   "cell_type": "code",
   "execution_count": 5,
   "metadata": {
    "executionInfo": {
     "elapsed": 14,
     "status": "ok",
     "timestamp": 1727061135116,
     "user": {
      "displayName": "Đặng Thị Kiêm Hồng",
      "userId": "05445281411830122382"
     },
     "user_tz": -420
    },
    "id": "_aG2vk1vgivz"
   },
   "outputs": [],
   "source": [
    "X, y, scaler = prepare_data(data)"
   ]
  },
  {
   "cell_type": "code",
   "execution_count": 6,
   "metadata": {},
   "outputs": [
    {
     "data": {
      "text/plain": [
       "array([[[0.03141078],\n",
       "        [0.03249391],\n",
       "        [0.03141078],\n",
       "        ...,\n",
       "        [0.01272678],\n",
       "        [0.01435148],\n",
       "        [0.01326835]],\n",
       "\n",
       "       [[0.03249391],\n",
       "        [0.03141078],\n",
       "        [0.03141078],\n",
       "        ...,\n",
       "        [0.01435148],\n",
       "        [0.01326835],\n",
       "        [0.01326835]],\n",
       "\n",
       "       [[0.03141078],\n",
       "        [0.03141078],\n",
       "        [0.03357704],\n",
       "        ...,\n",
       "        [0.01326835],\n",
       "        [0.01326835],\n",
       "        [0.01272678]],\n",
       "\n",
       "       ...,\n",
       "\n",
       "       [[0.70620092],\n",
       "        [0.69672353],\n",
       "        [0.69672353],\n",
       "        ...,\n",
       "        [0.59924181],\n",
       "        [0.59653398],\n",
       "        [0.59247224]],\n",
       "\n",
       "       [[0.69672353],\n",
       "        [0.69672353],\n",
       "        [0.70213918],\n",
       "        ...,\n",
       "        [0.59653398],\n",
       "        [0.59247224],\n",
       "        [0.60330355]],\n",
       "\n",
       "       [[0.69672353],\n",
       "        [0.70213918],\n",
       "        [0.70078527],\n",
       "        ...,\n",
       "        [0.59247224],\n",
       "        [0.60330355],\n",
       "        [0.59924181]]])"
      ]
     },
     "execution_count": 6,
     "metadata": {},
     "output_type": "execute_result"
    }
   ],
   "source": [
    "X"
   ]
  },
  {
   "cell_type": "code",
   "execution_count": 7,
   "metadata": {
    "executionInfo": {
     "elapsed": 13,
     "status": "ok",
     "timestamp": 1727061135116,
     "user": {
      "displayName": "Đặng Thị Kiêm Hồng",
      "userId": "05445281411830122382"
     },
     "user_tz": -420
    },
    "id": "vwn8lrfcgmkU"
   },
   "outputs": [],
   "source": [
    "class sLSTMCell(tf.keras.layers.Layer):\n",
    "    def __init__(self, units, **kwargs):\n",
    "        super(sLSTMCell, self).__init__(**kwargs)\n",
    "        self.units = units\n",
    "        self.state_size = [self.units, self.units]  # [hidden_state, normalizer_state]\n",
    "\n",
    "    def build(self, input_shape):\n",
    "        # Khởi tạo trọng số cho các cổng\n",
    "        self.W_f = self.add_weight(shape=(input_shape[-1], self.units),\n",
    "                                   initializer='glorot_uniform',\n",
    "                                   name='W_f')\n",
    "        self.U_f = self.add_weight(shape=(self.units, self.units),\n",
    "                                   initializer='orthogonal',\n",
    "                                   name='U_f')\n",
    "        self.b_f = self.add_weight(shape=(self.units,),\n",
    "                                   initializer='zeros',\n",
    "                                   name='b_f')\n",
    "\n",
    "        self.W_i = self.add_weight(shape=(input_shape[-1], self.units),\n",
    "                                   initializer='glorot_uniform',\n",
    "                                   name='W_i')\n",
    "        self.U_i = self.add_weight(shape=(self.units, self.units),\n",
    "                                   initializer='orthogonal',\n",
    "                                   name='U_i')\n",
    "        self.b_i = self.add_weight(shape=(self.units,),\n",
    "                                   initializer='zeros',\n",
    "                                   name='b_i')\n",
    "\n",
    "        self.W_c = self.add_weight(shape=(input_shape[-1], self.units),\n",
    "                                   initializer='glorot_uniform',\n",
    "                                   name='W_c')\n",
    "        self.U_c = self.add_weight(shape=(self.units, self.units),\n",
    "                                   initializer='orthogonal',\n",
    "                                   name='U_c')\n",
    "        self.b_c = self.add_weight(shape=(self.units,),\n",
    "                                   initializer='zeros',\n",
    "                                   name='b_c')\n",
    "\n",
    "        self.W_o = self.add_weight(shape=(input_shape[-1], self.units),\n",
    "                                   initializer='glorot_uniform',\n",
    "                                   name='W_o')\n",
    "        self.U_o = self.add_weight(shape=(self.units, self.units),\n",
    "                                   initializer='orthogonal',\n",
    "                                   name='U_o')\n",
    "        self.b_o = self.add_weight(shape=(self.units,),\n",
    "                                   initializer='zeros',\n",
    "                                   name='b_o')\n",
    "        super(sLSTMCell, self).build(input_shape)\n",
    "\n",
    "    def call(self, inputs, states):\n",
    "        h_prev, n_prev = states\n",
    "\n",
    "        # Forget gate: sử dụng sigmoid hoặc exp\n",
    "       # f = tf.keras.activations.sigmoid(tf.matmul(inputs, self.W_f) + tf.matmul(h_prev, self.U_f) + self.b_f)\n",
    "        f = tf.exp(tf.matmul(inputs, self.W_f) + tf.matmul(h_prev, self.U_f) + self.b_f)\n",
    "\n",
    "        # Input gate: sử dụng (sigmoid)^2 hoặc (exp)^2\n",
    "      #  i = tf.keras.activations.sigmoid(tf.matmul(inputs, self.W_i) + tf.matmul(h_prev, self.U_i) + self.b_i)\n",
    "       # i = tf.square(i)  # (σ(x))^2\n",
    "        i = tf.exp(tf.matmul(inputs, self.W_i) + tf.matmul(h_prev, self.U_i) + self.b_i)\n",
    "        # Candidate cell state\n",
    "        c_tilde = tf.keras.activations.tanh(tf.matmul(inputs, self.W_c) + tf.matmul(h_prev, self.U_c) + self.b_c)\n",
    "\n",
    "        # Cell state update\n",
    "        c = f * states[0] + i * c_tilde\n",
    "\n",
    "        # Normalizer state update\n",
    "        n = f * n_prev + i\n",
    "\n",
    "        # Output gate\n",
    "        o = tf.keras.activations.sigmoid(tf.matmul(inputs, self.W_o) + tf.matmul(h_prev, self.U_o) + self.b_o)\n",
    "\n",
    "        # Normalized hidden state\n",
    "        h_tilde = c * tf.math.reciprocal(n + 1e-7)  # thêm epsilon để tránh chia cho 0\n",
    "        h = o * h_tilde\n",
    "\n",
    "        return h, [h, n]\n",
    "\n",
    "class sLSTM(tf.keras.layers.Layer):\n",
    "    def __init__(self, units, **kwargs):\n",
    "        super(sLSTM, self).__init__(**kwargs)\n",
    "        self.units = units\n",
    "        self.cell = sLSTMCell(units)\n",
    "\n",
    "    def call(self, inputs):\n",
    "        return tf.keras.layers.RNN(self.cell, return_sequences=False, return_state=False)(inputs)\n",
    "\n",
    "    def get_config(self):\n",
    "        config = super(sLSTM, self).get_config()\n",
    "        config.update({'units': self.units})\n",
    "        return config\n"
   ]
  },
  {
   "cell_type": "code",
   "execution_count": 8,
   "metadata": {
    "colab": {
     "base_uri": "https://localhost:8080/",
     "height": 225
    },
    "executionInfo": {
     "elapsed": 813,
     "status": "ok",
     "timestamp": 1727062104765,
     "user": {
      "displayName": "Đặng Thị Kiêm Hồng",
      "userId": "05445281411830122382"
     },
     "user_tz": -420
    },
    "id": "vAsXYHMWgoYV",
    "outputId": "f68a8b3f-3a8b-4949-d128-4e6b844505ff"
   },
   "outputs": [
    {
     "name": "stdout",
     "output_type": "stream",
     "text": [
      "Model: \"model\"\n",
      "_________________________________________________________________\n",
      " Layer (type)                Output Shape              Param #   \n",
      "=================================================================\n",
      " input_1 (InputLayer)        [(None, 60, 1)]           0         \n",
      "                                                                 \n",
      " s_lstm (sLSTM)              (None, 50)                10400     \n",
      "                                                                 \n",
      " dense (Dense)               (None, 1)                 51        \n",
      "                                                                 \n",
      "=================================================================\n",
      "Total params: 10,451\n",
      "Trainable params: 10,451\n",
      "Non-trainable params: 0\n",
      "_________________________________________________________________\n"
     ]
    }
   ],
   "source": [
    "# Xây dựng mô hình\n",
    "def build_model(time_steps, units=50):\n",
    "    inputs = Input(shape=(time_steps, 1))\n",
    "    x = sLSTM(units)(inputs)\n",
    "    x = Dense(1)(x)\n",
    "    model = Model(inputs, x)\n",
    "    model.compile(optimizer=Adam(learning_rate=2e-02), loss='mean_squared_error')\n",
    "    return model\n",
    "# Khởi tạo mô hình\n",
    "model = build_model(time_steps=60, units=50)\n",
    "model.summary()\n"
   ]
  },
  {
   "cell_type": "code",
   "execution_count": 12,
   "metadata": {
    "colab": {
     "base_uri": "https://localhost:8080/"
    },
    "executionInfo": {
     "elapsed": 116210,
     "status": "ok",
     "timestamp": 1727062224871,
     "user": {
      "displayName": "Đặng Thị Kiêm Hồng",
      "userId": "05445281411830122382"
     },
     "user_tz": -420
    },
    "id": "RNAbWmH_guLn",
    "outputId": "368ac1da-8b46-490b-84e4-bb9eb3e3d1ce"
   },
   "outputs": [
    {
     "name": "stdout",
     "output_type": "stream",
     "text": [
      "Epoch 1/100\n",
      "60/60 [==============================] - 35s 207ms/step - loss: 0.0422 - val_loss: 3.7127e-04\n",
      "Epoch 2/100\n",
      "60/60 [==============================] - 10s 172ms/step - loss: 3.7515e-04 - val_loss: 7.5981e-04\n",
      "Epoch 3/100\n",
      "60/60 [==============================] - 8s 134ms/step - loss: 2.1128e-04 - val_loss: 2.9345e-04\n",
      "Epoch 4/100\n",
      "60/60 [==============================] - 7s 123ms/step - loss: 2.0853e-04 - val_loss: 3.2265e-04\n",
      "Epoch 5/100\n",
      "60/60 [==============================] - 8s 129ms/step - loss: 2.1192e-04 - val_loss: 1.9476e-04\n",
      "Epoch 6/100\n",
      "60/60 [==============================] - 13s 211ms/step - loss: 1.6879e-04 - val_loss: 1.8571e-04\n",
      "Epoch 7/100\n",
      "60/60 [==============================] - 11s 191ms/step - loss: 1.5566e-04 - val_loss: 2.2158e-04\n",
      "Epoch 8/100\n",
      "60/60 [==============================] - 15s 254ms/step - loss: 1.6978e-04 - val_loss: 2.6408e-04\n",
      "Epoch 9/100\n",
      "60/60 [==============================] - 12s 206ms/step - loss: 1.5528e-04 - val_loss: 2.3422e-04\n",
      "Epoch 10/100\n",
      "60/60 [==============================] - 12s 205ms/step - loss: 1.4630e-04 - val_loss: 4.4996e-04\n",
      "Epoch 11/100\n",
      "60/60 [==============================] - 13s 221ms/step - loss: 1.4666e-04 - val_loss: 1.7663e-04\n",
      "Epoch 12/100\n",
      "60/60 [==============================] - 13s 213ms/step - loss: 1.3410e-04 - val_loss: 2.0176e-04\n",
      "Epoch 13/100\n",
      "60/60 [==============================] - 14s 235ms/step - loss: 1.5406e-04 - val_loss: 2.0324e-04\n",
      "Epoch 14/100\n",
      "60/60 [==============================] - 14s 237ms/step - loss: 1.4423e-04 - val_loss: 4.4085e-04\n",
      "Epoch 15/100\n",
      "60/60 [==============================] - 13s 222ms/step - loss: 1.4458e-04 - val_loss: 1.6177e-04\n",
      "Epoch 16/100\n",
      "60/60 [==============================] - 13s 222ms/step - loss: 1.2585e-04 - val_loss: 1.9057e-04\n",
      "Epoch 17/100\n",
      "60/60 [==============================] - 12s 203ms/step - loss: 1.6788e-04 - val_loss: 5.6806e-04\n",
      "Epoch 18/100\n",
      "60/60 [==============================] - 10s 164ms/step - loss: 1.3190e-04 - val_loss: 1.9503e-04\n",
      "Epoch 19/100\n",
      "60/60 [==============================] - 9s 147ms/step - loss: 1.2271e-04 - val_loss: 1.5877e-04\n",
      "Epoch 20/100\n",
      "60/60 [==============================] - 9s 151ms/step - loss: 1.2998e-04 - val_loss: 3.6855e-04\n",
      "Epoch 21/100\n",
      "60/60 [==============================] - 8s 133ms/step - loss: 1.6245e-04 - val_loss: 1.9117e-04\n",
      "Epoch 22/100\n",
      "60/60 [==============================] - 8s 136ms/step - loss: 1.3093e-04 - val_loss: 1.5344e-04\n",
      "Epoch 23/100\n",
      "60/60 [==============================] - 10s 167ms/step - loss: 1.1532e-04 - val_loss: 4.1190e-04\n",
      "Epoch 24/100\n",
      "60/60 [==============================] - 10s 174ms/step - loss: 1.2186e-04 - val_loss: 1.4976e-04\n",
      "Epoch 25/100\n",
      "60/60 [==============================] - 8s 140ms/step - loss: 1.1282e-04 - val_loss: 1.4799e-04\n",
      "Epoch 26/100\n",
      "60/60 [==============================] - 8s 141ms/step - loss: 1.1394e-04 - val_loss: 1.5283e-04\n",
      "Epoch 27/100\n",
      "60/60 [==============================] - 9s 142ms/step - loss: 1.1818e-04 - val_loss: 2.1346e-04\n",
      "Epoch 28/100\n",
      "60/60 [==============================] - 10s 160ms/step - loss: 1.2268e-04 - val_loss: 1.4117e-04\n",
      "Epoch 29/100\n",
      "60/60 [==============================] - 8s 136ms/step - loss: 1.3686e-04 - val_loss: 2.3567e-04\n",
      "Epoch 30/100\n",
      "60/60 [==============================] - 9s 150ms/step - loss: 1.7453e-04 - val_loss: 1.4198e-04\n",
      "Epoch 31/100\n",
      "60/60 [==============================] - 8s 135ms/step - loss: 1.3017e-04 - val_loss: 1.4368e-04\n",
      "Epoch 32/100\n",
      "60/60 [==============================] - 9s 150ms/step - loss: 1.1239e-04 - val_loss: 1.7071e-04\n",
      "Epoch 33/100\n",
      "60/60 [==============================] - 9s 145ms/step - loss: 1.2914e-04 - val_loss: 1.6249e-04\n",
      "Epoch 34/100\n",
      "60/60 [==============================] - 9s 155ms/step - loss: 1.1400e-04 - val_loss: 1.5447e-04\n",
      "Epoch 35/100\n",
      "60/60 [==============================] - 9s 147ms/step - loss: 1.5882e-04 - val_loss: 1.7323e-04\n",
      "Epoch 36/100\n",
      "60/60 [==============================] - 8s 138ms/step - loss: 1.3121e-04 - val_loss: 1.6722e-04\n",
      "Epoch 37/100\n",
      "60/60 [==============================] - 9s 149ms/step - loss: 1.4373e-04 - val_loss: 1.7317e-04\n",
      "Epoch 38/100\n",
      "60/60 [==============================] - 9s 152ms/step - loss: 1.3130e-04 - val_loss: 3.8106e-04\n"
     ]
    }
   ],
   "source": [
    "\n",
    "# Chia dữ liệu thành tập huấn luyện và kiểm tra\n",
    "train_size = int(len(X) * 0.8)\n",
    "X_train, X_test = X[:train_size], X[train_size:]\n",
    "y_train, y_test = y[:train_size], y[train_size:]\n",
    "\n",
    "# Xây dựng mô hình\n",
    "model = build_model(time_steps=60, units=50)\n",
    "\n",
    "# Huấn luyện mô hình\n",
    "early_stop = EarlyStopping(monitor='val_loss', patience=10, restore_best_weights=True)\n",
    "history = model.fit(X_train, y_train, epochs=100, batch_size=32,\n",
    "                    validation_data=(X_test, y_test),\n",
    "                    callbacks=[early_stop])\n"
   ]
  },
  {
   "cell_type": "code",
   "execution_count": 13,
   "metadata": {
    "colab": {
     "base_uri": "https://localhost:8080/",
     "height": 420
    },
    "executionInfo": {
     "elapsed": 2309,
     "status": "ok",
     "timestamp": 1727062245690,
     "user": {
      "displayName": "Đặng Thị Kiêm Hồng",
      "userId": "05445281411830122382"
     },
     "user_tz": -420
    },
    "id": "RVpvOaUwg0F_",
    "outputId": "4aba7979-a386-4f58-9385-ad534bdf37ff"
   },
   "outputs": [
    {
     "name": "stdout",
     "output_type": "stream",
     "text": [
      "15/15 [==============================] - 4s 21ms/step\n",
      "Root Mean Squared Error (RMSE): 0.438787398875322\n",
      "Mean Squared Error (MSE): 0.19253438141177093\n"
     ]
    },
    {
     "data": {
      "image/png": "[encoded data removed]",
      "text/plain": [
       "<Figure size 1400x500 with 1 Axes>"
      ]
     },
     "metadata": {},
     "output_type": "display_data"
    }
   ],
   "source": [
    "\n",
    "# Dự đoán trên tập kiểm tra\n",
    "y_pred = model.predict(X_test)\n",
    "\n",
    "# Đảo chuẩn hóa để lấy giá trị thực\n",
    "y_pred_inv = scaler.inverse_transform(y_pred)\n",
    "y_test_inv = scaler.inverse_transform(y_test.reshape(-1, 1))\n",
    "\n",
    "# Tính toán RMSE\n",
    "from sklearn.metrics import mean_squared_error\n",
    "rmse = np.sqrt(mean_squared_error(y_test_inv, y_pred_inv))\n",
    "print(f'Root Mean Squared Error (RMSE): {rmse}')\n",
    "mse = mean_squared_error(y_test_inv, y_pred_inv)\n",
    "print(f'Mean Squared Error (MSE): {mse}')\n",
    "# Vẽ đồ thị so sánh giá thực và giá dự đoán\n",
    "plt.figure(figsize=(14, 5))\n",
    "plt.plot(y_test_inv, color='blue', label='Giá Thực')\n",
    "plt.plot(y_pred_inv, color='red', label='Giá Dự Đoán')\n",
    "plt.title('Dự Đoán Giá Cổ Phiếu HPG Sử Dụng sLSTM')\n",
    "plt.xlabel('Thời Gian')\n",
    "plt.ylabel('Giá Cổ Phiếu')\n",
    "plt.legend()\n",
    "plt.show()\n"
   ]
  },
  {
   "cell_type": "code",
   "execution_count": null,
   "metadata": {},
   "outputs": [],
   "source": [
    "mse1=np.mean(np.square(y_pred_inv - y_test_inv))\n",
    "print('MSE=', mse1)\n",
    "mean_error_percent1 = np.mean(np.abs((y_pred_inv - y_test_inv) / y_test_inv))\n",
    "accuracy1 = 1 - mean_error_percent1\n",
    "print('Accuracy=', accuracy1)\n",
    "print('mean_error_percent=', mean_error_percent1)"
   ]
  }
 ],
 "metadata": {
  "colab": {
   "authorship_tag": "ABX9TyNgL9C8Muvj+KiWethPbxGM",
   "provenance": []
  },
  "kernelspec": {
   "display_name": "Python 3 (ipykernel)",
   "language": "python",
   "name": "python3"
  },
  "language_info": {
   "codemirror_mode": {
    "name": "ipython",
    "version": 3
   },
   "file_extension": ".py",
   "mimetype": "text/x-python",
   "name": "python",
   "nbconvert_exporter": "python",
   "pygments_lexer": "ipython3",
   "version": "3.9.13"
  }
 },
 "nbformat": 4,
 "nbformat_minor": 1
}
