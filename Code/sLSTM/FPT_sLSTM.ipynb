{
 "cells": [
  {
   "cell_type": "code",
   "execution_count": 1,
   "metadata": {
    "executionInfo": {
     "elapsed": 600,
     "status": "ok",
     "timestamp": 1727061134424,
     "user": {
      "displayName": "Đặng Thị Kiêm Hồng",
      "userId": "05445281411830122382"
     },
     "user_tz": -420
    },
    "id": "W-RlFTdGfann"
   },
   "outputs": [],
   "source": [
    "import numpy as np\n",
    "import pandas as pd\n",
    "#import yfinance as yf\n",
    "import matplotlib.pyplot as plt\n",
    "from sklearn.preprocessing import MinMaxScaler\n",
    "from tensorflow.keras.models import Model\n",
    "from tensorflow.keras.layers import Input, Dense, RNN\n",
    "from tensorflow.keras.optimizers import Adam\n",
    "from tensorflow.keras.callbacks import EarlyStopping\n",
    "import tensorflow as tf"
   ]
  },
  {
   "cell_type": "code",
   "execution_count": 2,
   "metadata": {
    "colab": {
     "base_uri": "https://localhost:8080/",
     "height": 243
    },
    "executionInfo": {
     "elapsed": 17,
     "status": "ok",
     "timestamp": 1727061135115,
     "user": {
      "displayName": "Đặng Thị Kiêm Hồng",
      "userId": "05445281411830122382"
     },
     "user_tz": -420
    },
    "id": "cwidh5C5fkmY",
    "outputId": "3c08090a-40e8-4fbd-8459-0f83c898b4bc"
   },
   "outputs": [
    {
     "data": {
      "text/html": [
       "<div>\n",
       "<style scoped>\n",
       "    .dataframe tbody tr th:only-of-type {\n",
       "        vertical-align: middle;\n",
       "    }\n",
       "\n",
       "    .dataframe tbody tr th {\n",
       "        vertical-align: top;\n",
       "    }\n",
       "\n",
       "    .dataframe thead th {\n",
       "        text-align: right;\n",
       "    }\n",
       "</style>\n",
       "<table border=\"1\" class=\"dataframe\">\n",
       "  <thead>\n",
       "    <tr style=\"text-align: right;\">\n",
       "      <th></th>\n",
       "      <th>Unnamed: 0</th>\n",
       "      <th>time</th>\n",
       "      <th>open</th>\n",
       "      <th>high</th>\n",
       "      <th>low</th>\n",
       "      <th>close</th>\n",
       "      <th>volume</th>\n",
       "    </tr>\n",
       "  </thead>\n",
       "  <tbody>\n",
       "    <tr>\n",
       "      <th>0</th>\n",
       "      <td>0</td>\n",
       "      <td>2015-01-05</td>\n",
       "      <td>8.58</td>\n",
       "      <td>8.61</td>\n",
       "      <td>8.50</td>\n",
       "      <td>8.54</td>\n",
       "      <td>273550</td>\n",
       "    </tr>\n",
       "    <tr>\n",
       "      <th>1</th>\n",
       "      <td>1</td>\n",
       "      <td>2015-01-06</td>\n",
       "      <td>8.49</td>\n",
       "      <td>8.59</td>\n",
       "      <td>8.45</td>\n",
       "      <td>8.59</td>\n",
       "      <td>364050</td>\n",
       "    </tr>\n",
       "    <tr>\n",
       "      <th>2</th>\n",
       "      <td>2</td>\n",
       "      <td>2015-01-07</td>\n",
       "      <td>8.59</td>\n",
       "      <td>8.77</td>\n",
       "      <td>8.59</td>\n",
       "      <td>8.65</td>\n",
       "      <td>405560</td>\n",
       "    </tr>\n",
       "    <tr>\n",
       "      <th>3</th>\n",
       "      <td>3</td>\n",
       "      <td>2015-01-08</td>\n",
       "      <td>8.63</td>\n",
       "      <td>8.65</td>\n",
       "      <td>8.54</td>\n",
       "      <td>8.56</td>\n",
       "      <td>227300</td>\n",
       "    </tr>\n",
       "    <tr>\n",
       "      <th>4</th>\n",
       "      <td>4</td>\n",
       "      <td>2015-01-09</td>\n",
       "      <td>8.56</td>\n",
       "      <td>8.66</td>\n",
       "      <td>8.56</td>\n",
       "      <td>8.63</td>\n",
       "      <td>320210</td>\n",
       "    </tr>\n",
       "  </tbody>\n",
       "</table>\n",
       "</div>"
      ],
      "text/plain": [
       "   Unnamed: 0        time  open  high   low  close  volume\n",
       "0           0  2015-01-05  8.58  8.61  8.50   8.54  273550\n",
       "1           1  2015-01-06  8.49  8.59  8.45   8.59  364050\n",
       "2           2  2015-01-07  8.59  8.77  8.59   8.65  405560\n",
       "3           3  2015-01-08  8.63  8.65  8.54   8.56  227300\n",
       "4           4  2015-01-09  8.56  8.66  8.56   8.63  320210"
      ]
     },
     "execution_count": 2,
     "metadata": {},
     "output_type": "execute_result"
    }
   ],
   "source": [
    "# Đọc dữ liệu từ file CSV (có thể thay bằng file của bạn)\n",
    "data = pd.read_csv('D:\\DeTaiNam2024\\SoLieuHong\\FPT.csv')\n",
    "# Kiểm tra tiêu đề các cột\n",
    "data.head()"
   ]
  },
  {
   "cell_type": "code",
   "execution_count": 3,
   "metadata": {
    "executionInfo": {
     "elapsed": 14,
     "status": "ok",
     "timestamp": 1727061135115,
     "user": {
      "displayName": "Đặng Thị Kiêm Hồng",
      "userId": "05445281411830122382"
     },
     "user_tz": -420
    },
    "id": "m7h4q7mogUbv"
   },
   "outputs": [],
   "source": [
    " data = data[['close']]\n",
    " data.dropna(inplace=True)"
   ]
  },
  {
   "cell_type": "code",
   "execution_count": 4,
   "metadata": {
    "executionInfo": {
     "elapsed": 14,
     "status": "ok",
     "timestamp": 1727061135116,
     "user": {
      "displayName": "Đặng Thị Kiêm Hồng",
      "userId": "05445281411830122382"
     },
     "user_tz": -420
    },
    "id": "fvSkw8KPgZla"
   },
   "outputs": [],
   "source": [
    "# Chuẩn bị dữ liệu\n",
    "def prepare_data(data, time_steps=60):\n",
    "    scaler = MinMaxScaler(feature_range=(0, 1))\n",
    "    scaled_data = scaler.fit_transform(data)\n",
    "\n",
    "    X, y = [], []\n",
    "    for i in range(time_steps, len(scaled_data)):\n",
    "        X.append(scaled_data[i-time_steps:i, 0])\n",
    "        y.append(scaled_data[i, 0])\n",
    "    X, y = np.array(X), np.array(y)\n",
    "\n",
    "    # Reshape X để phù hợp với RNN [samples, time_steps, features]\n",
    "    X = np.reshape(X, (X.shape[0], X.shape[1], 1))\n",
    "    return X, y, scaler\n"
   ]
  },
  {
   "cell_type": "code",
   "execution_count": 5,
   "metadata": {
    "executionInfo": {
     "elapsed": 14,
     "status": "ok",
     "timestamp": 1727061135116,
     "user": {
      "displayName": "Đặng Thị Kiêm Hồng",
      "userId": "05445281411830122382"
     },
     "user_tz": -420
    },
    "id": "_aG2vk1vgivz"
   },
   "outputs": [],
   "source": [
    "X, y, scaler = prepare_data(data)"
   ]
  },
  {
   "cell_type": "code",
   "execution_count": 6,
   "metadata": {},
   "outputs": [
    {
     "data": {
      "text/plain": [
       "array([[[0.00121933],\n",
       "        [0.00160037],\n",
       "        [0.00205761],\n",
       "        ...,\n",
       "        [0.00160037],\n",
       "        [0.00259107],\n",
       "        [0.00213382]],\n",
       "\n",
       "       [[0.00160037],\n",
       "        [0.00205761],\n",
       "        [0.00137174],\n",
       "        ...,\n",
       "        [0.00259107],\n",
       "        [0.00213382],\n",
       "        [0.00274348]],\n",
       "\n",
       "       [[0.00205761],\n",
       "        [0.00137174],\n",
       "        [0.0019052 ],\n",
       "        ...,\n",
       "        [0.00213382],\n",
       "        [0.00274348],\n",
       "        [0.00274348]],\n",
       "\n",
       "       ...,\n",
       "\n",
       "       [[0.97332724],\n",
       "        [0.94284408],\n",
       "        [0.92684042],\n",
       "        ...,\n",
       "        [0.94436824],\n",
       "        [0.94970279],\n",
       "        [0.93522329]],\n",
       "\n",
       "       [[0.94284408],\n",
       "        [0.92684042],\n",
       "        [0.94055784],\n",
       "        ...,\n",
       "        [0.94970279],\n",
       "        [0.93522329],\n",
       "        [0.94894071]],\n",
       "\n",
       "       [[0.92684042],\n",
       "        [0.94055784],\n",
       "        [0.94817863],\n",
       "        ...,\n",
       "        [0.93522329],\n",
       "        [0.94894071],\n",
       "        [0.96189605]]])"
      ]
     },
     "execution_count": 6,
     "metadata": {},
     "output_type": "execute_result"
    }
   ],
   "source": [
    "X"
   ]
  },
  {
   "cell_type": "code",
   "execution_count": 7,
   "metadata": {
    "executionInfo": {
     "elapsed": 13,
     "status": "ok",
     "timestamp": 1727061135116,
     "user": {
      "displayName": "Đặng Thị Kiêm Hồng",
      "userId": "05445281411830122382"
     },
     "user_tz": -420
    },
    "id": "vwn8lrfcgmkU"
   },
   "outputs": [],
   "source": [
    "class sLSTMCell(tf.keras.layers.Layer):\n",
    "    def __init__(self, units, **kwargs):\n",
    "        super(sLSTMCell, self).__init__(**kwargs)\n",
    "        self.units = units\n",
    "        self.state_size = [self.units, self.units]  # [hidden_state, normalizer_state]\n",
    "\n",
    "    def build(self, input_shape):\n",
    "        # Khởi tạo trọng số cho các cổng\n",
    "        self.W_f = self.add_weight(shape=(input_shape[-1], self.units),\n",
    "                                   initializer='glorot_uniform',\n",
    "                                   name='W_f')\n",
    "        self.U_f = self.add_weight(shape=(self.units, self.units),\n",
    "                                   initializer='orthogonal',\n",
    "                                   name='U_f')\n",
    "        self.b_f = self.add_weight(shape=(self.units,),\n",
    "                                   initializer='zeros',\n",
    "                                   name='b_f')\n",
    "\n",
    "        self.W_i = self.add_weight(shape=(input_shape[-1], self.units),\n",
    "                                   initializer='glorot_uniform',\n",
    "                                   name='W_i')\n",
    "        self.U_i = self.add_weight(shape=(self.units, self.units),\n",
    "                                   initializer='orthogonal',\n",
    "                                   name='U_i')\n",
    "        self.b_i = self.add_weight(shape=(self.units,),\n",
    "                                   initializer='zeros',\n",
    "                                   name='b_i')\n",
    "\n",
    "        self.W_c = self.add_weight(shape=(input_shape[-1], self.units),\n",
    "                                   initializer='glorot_uniform',\n",
    "                                   name='W_c')\n",
    "        self.U_c = self.add_weight(shape=(self.units, self.units),\n",
    "                                   initializer='orthogonal',\n",
    "                                   name='U_c')\n",
    "        self.b_c = self.add_weight(shape=(self.units,),\n",
    "                                   initializer='zeros',\n",
    "                                   name='b_c')\n",
    "\n",
    "        self.W_o = self.add_weight(shape=(input_shape[-1], self.units),\n",
    "                                   initializer='glorot_uniform',\n",
    "                                   name='W_o')\n",
    "        self.U_o = self.add_weight(shape=(self.units, self.units),\n",
    "                                   initializer='orthogonal',\n",
    "                                   name='U_o')\n",
    "        self.b_o = self.add_weight(shape=(self.units,),\n",
    "                                   initializer='zeros',\n",
    "                                   name='b_o')\n",
    "        super(sLSTMCell, self).build(input_shape)\n",
    "\n",
    "    def call(self, inputs, states):\n",
    "        h_prev, n_prev = states\n",
    "\n",
    "        # Forget gate: sử dụng sigmoid hoặc exp\n",
    "       # f = tf.keras.activations.sigmoid(tf.matmul(inputs, self.W_f) + tf.matmul(h_prev, self.U_f) + self.b_f)\n",
    "        f = tf.exp(tf.matmul(inputs, self.W_f) + tf.matmul(h_prev, self.U_f) + self.b_f)\n",
    "\n",
    "        # Input gate: sử dụng (sigmoid)^2 hoặc (exp)^2\n",
    "      #  i = tf.keras.activations.sigmoid(tf.matmul(inputs, self.W_i) + tf.matmul(h_prev, self.U_i) + self.b_i)\n",
    "       # i = tf.square(i)  # (σ(x))^2\n",
    "        i = tf.exp(tf.matmul(inputs, self.W_i) + tf.matmul(h_prev, self.U_i) + self.b_i)\n",
    "        # Candidate cell state\n",
    "        c_tilde = tf.keras.activations.tanh(tf.matmul(inputs, self.W_c) + tf.matmul(h_prev, self.U_c) + self.b_c)\n",
    "\n",
    "        # Cell state update\n",
    "        c = f * states[0] + i * c_tilde\n",
    "\n",
    "        # Normalizer state update\n",
    "        n = f * n_prev + i\n",
    "\n",
    "        # Output gate\n",
    "        o = tf.keras.activations.sigmoid(tf.matmul(inputs, self.W_o) + tf.matmul(h_prev, self.U_o) + self.b_o)\n",
    "\n",
    "        # Normalized hidden state\n",
    "        h_tilde = c * tf.math.reciprocal(n + 1e-7)  # thêm epsilon để tránh chia cho 0\n",
    "        h = o * h_tilde\n",
    "\n",
    "        return h, [h, n]\n",
    "\n",
    "class sLSTM(tf.keras.layers.Layer):\n",
    "    def __init__(self, units, **kwargs):\n",
    "        super(sLSTM, self).__init__(**kwargs)\n",
    "        self.units = units\n",
    "        self.cell = sLSTMCell(units)\n",
    "\n",
    "    def call(self, inputs):\n",
    "        return tf.keras.layers.RNN(self.cell, return_sequences=False, return_state=False)(inputs)\n",
    "\n",
    "    def get_config(self):\n",
    "        config = super(sLSTM, self).get_config()\n",
    "        config.update({'units': self.units})\n",
    "        return config\n"
   ]
  },
  {
   "cell_type": "code",
   "execution_count": 8,
   "metadata": {
    "colab": {
     "base_uri": "https://localhost:8080/",
     "height": 225
    },
    "executionInfo": {
     "elapsed": 813,
     "status": "ok",
     "timestamp": 1727062104765,
     "user": {
      "displayName": "Đặng Thị Kiêm Hồng",
      "userId": "05445281411830122382"
     },
     "user_tz": -420
    },
    "id": "vAsXYHMWgoYV",
    "outputId": "f68a8b3f-3a8b-4949-d128-4e6b844505ff"
   },
   "outputs": [
    {
     "name": "stdout",
     "output_type": "stream",
     "text": [
      "Model: \"model\"\n",
      "_________________________________________________________________\n",
      " Layer (type)                Output Shape              Param #   \n",
      "=================================================================\n",
      " input_1 (InputLayer)        [(None, 60, 1)]           0         \n",
      "                                                                 \n",
      " s_lstm (sLSTM)              (None, 50)                10400     \n",
      "                                                                 \n",
      " dense (Dense)               (None, 1)                 51        \n",
      "                                                                 \n",
      "=================================================================\n",
      "Total params: 10,451\n",
      "Trainable params: 10,451\n",
      "Non-trainable params: 0\n",
      "_________________________________________________________________\n"
     ]
    }
   ],
   "source": [
    "# Xây dựng mô hình\n",
    "def build_model(time_steps, units=50):\n",
    "    inputs = Input(shape=(time_steps, 1))\n",
    "    x = sLSTM(units)(inputs)\n",
    "    x = Dense(1)(x)\n",
    "    model = Model(inputs, x)\n",
    "    model.compile(optimizer=Adam(learning_rate=2e-02), loss='mean_squared_error')\n",
    "    return model\n",
    "# Khởi tạo mô hình\n",
    "model = build_model(time_steps=60, units=50)\n",
    "model.summary()\n"
   ]
  },
  {
   "cell_type": "code",
   "execution_count": 10,
   "metadata": {
    "colab": {
     "base_uri": "https://localhost:8080/"
    },
    "executionInfo": {
     "elapsed": 116210,
     "status": "ok",
     "timestamp": 1727062224871,
     "user": {
      "displayName": "Đặng Thị Kiêm Hồng",
      "userId": "05445281411830122382"
     },
     "user_tz": -420
    },
    "id": "RNAbWmH_guLn",
    "outputId": "368ac1da-8b46-490b-84e4-bb9eb3e3d1ce"
   },
   "outputs": [
    {
     "name": "stdout",
     "output_type": "stream",
     "text": [
      "Epoch 1/100\n",
      "67/67 [==============================] - 11s 70ms/step - loss: 0.0061 - val_loss: 0.0029\n",
      "Epoch 2/100\n",
      "67/67 [==============================] - 4s 62ms/step - loss: 6.9403e-05 - val_loss: 0.0023\n",
      "Epoch 3/100\n",
      "67/67 [==============================] - 4s 56ms/step - loss: 4.2201e-05 - val_loss: 0.0019\n",
      "Epoch 4/100\n",
      "67/67 [==============================] - 4s 53ms/step - loss: 4.0943e-05 - val_loss: 0.0016\n",
      "Epoch 5/100\n",
      "67/67 [==============================] - 3s 51ms/step - loss: 3.9781e-05 - val_loss: 0.0013\n",
      "Epoch 6/100\n",
      "67/67 [==============================] - 4s 57ms/step - loss: 3.9957e-05 - val_loss: 0.0012\n",
      "Epoch 7/100\n",
      "67/67 [==============================] - 4s 54ms/step - loss: 3.8059e-05 - val_loss: 0.0012\n",
      "Epoch 8/100\n",
      "67/67 [==============================] - 4s 59ms/step - loss: 3.8988e-05 - val_loss: 7.9241e-04\n",
      "Epoch 9/100\n",
      "67/67 [==============================] - 4s 58ms/step - loss: 3.9818e-05 - val_loss: 8.6861e-04\n",
      "Epoch 10/100\n",
      "67/67 [==============================] - 4s 56ms/step - loss: 4.0692e-05 - val_loss: 4.8334e-04\n",
      "Epoch 11/100\n",
      "67/67 [==============================] - 4s 55ms/step - loss: 3.8677e-05 - val_loss: 5.0749e-04\n",
      "Epoch 12/100\n",
      "67/67 [==============================] - 4s 56ms/step - loss: 3.5937e-05 - val_loss: 8.7212e-04\n",
      "Epoch 13/100\n",
      "67/67 [==============================] - 3s 50ms/step - loss: 3.5036e-05 - val_loss: 7.8258e-04\n",
      "Epoch 14/100\n",
      "67/67 [==============================] - 3s 49ms/step - loss: 3.6909e-05 - val_loss: 8.9848e-04\n",
      "Epoch 15/100\n",
      "67/67 [==============================] - 4s 52ms/step - loss: 3.3603e-05 - val_loss: 3.0268e-04\n",
      "Epoch 16/100\n",
      "67/67 [==============================] - 4s 62ms/step - loss: 3.1916e-05 - val_loss: 3.7004e-04\n",
      "Epoch 17/100\n",
      "67/67 [==============================] - 4s 57ms/step - loss: 3.3614e-05 - val_loss: 0.0012\n",
      "Epoch 18/100\n",
      "67/67 [==============================] - 4s 54ms/step - loss: 3.4631e-05 - val_loss: 3.1186e-04\n",
      "Epoch 19/100\n",
      "67/67 [==============================] - 3s 51ms/step - loss: 3.3750e-05 - val_loss: 7.1435e-04\n",
      "Epoch 20/100\n",
      "67/67 [==============================] - 4s 60ms/step - loss: 3.5343e-05 - val_loss: 4.1644e-04\n",
      "Epoch 21/100\n",
      "67/67 [==============================] - 4s 63ms/step - loss: 3.1062e-05 - val_loss: 5.5564e-04\n",
      "Epoch 22/100\n",
      "67/67 [==============================] - 5s 67ms/step - loss: 3.3260e-05 - val_loss: 2.6626e-04\n",
      "Epoch 23/100\n",
      "67/67 [==============================] - 4s 63ms/step - loss: 3.7285e-05 - val_loss: 3.0211e-04\n",
      "Epoch 24/100\n",
      "67/67 [==============================] - 4s 62ms/step - loss: 3.3385e-05 - val_loss: 2.7763e-04\n",
      "Epoch 25/100\n",
      "67/67 [==============================] - 4s 65ms/step - loss: 4.2302e-05 - val_loss: 0.0011\n",
      "Epoch 26/100\n",
      "67/67 [==============================] - 4s 63ms/step - loss: 3.2171e-05 - val_loss: 8.7578e-04\n",
      "Epoch 27/100\n",
      "67/67 [==============================] - 4s 61ms/step - loss: 5.0695e-05 - val_loss: 8.7320e-04\n",
      "Epoch 28/100\n",
      "67/67 [==============================] - 4s 59ms/step - loss: 2.9839e-05 - val_loss: 5.4065e-04\n",
      "Epoch 29/100\n",
      "67/67 [==============================] - 4s 62ms/step - loss: 3.4241e-05 - val_loss: 4.0581e-04\n",
      "Epoch 30/100\n",
      "67/67 [==============================] - 4s 61ms/step - loss: 3.8782e-05 - val_loss: 4.2053e-04\n",
      "Epoch 31/100\n",
      "67/67 [==============================] - 4s 63ms/step - loss: 3.0199e-05 - val_loss: 2.7110e-04\n",
      "Epoch 32/100\n",
      "67/67 [==============================] - 4s 60ms/step - loss: 3.5284e-05 - val_loss: 3.6446e-04\n"
     ]
    }
   ],
   "source": [
    "\n",
    "# Chia dữ liệu thành tập huấn luyện và kiểm tra\n",
    "train_size = int(len(X) * 0.9)\n",
    "X_train, X_test = X[:train_size], X[train_size:]\n",
    "y_train, y_test = y[:train_size], y[train_size:]\n",
    "\n",
    "# Xây dựng mô hình\n",
    "model = build_model(time_steps=60, units=50)\n",
    "\n",
    "# Huấn luyện mô hình\n",
    "early_stop = EarlyStopping(monitor='val_loss', patience=10, restore_best_weights=True)\n",
    "history = model.fit(X_train, y_train, epochs=100, batch_size=32,\n",
    "                    validation_data=(X_test, y_test),\n",
    "                    callbacks=[early_stop])\n"
   ]
  },
  {
   "cell_type": "code",
   "execution_count": 11,
   "metadata": {
    "colab": {
     "base_uri": "https://localhost:8080/",
     "height": 420
    },
    "executionInfo": {
     "elapsed": 2309,
     "status": "ok",
     "timestamp": 1727062245690,
     "user": {
      "displayName": "Đặng Thị Kiêm Hồng",
      "userId": "05445281411830122382"
     },
     "user_tz": -420
    },
    "id": "RVpvOaUwg0F_",
    "outputId": "4aba7979-a386-4f58-9385-ad534bdf37ff"
   },
   "outputs": [
    {
     "name": "stdout",
     "output_type": "stream",
     "text": [
      "8/8 [==============================] - 1s 17ms/step\n",
      "Root Mean Squared Error (RMSE): 2.1411913371031366\n",
      "Mean Squared Error (MSE): 4.584700342085519\n"
     ]
    },
    {
     "data": {
      "image/png": "[encoded data removed]",
      "text/plain": [
       "<Figure size 1400x500 with 1 Axes>"
      ]
     },
     "metadata": {},
     "output_type": "display_data"
    }
   ],
   "source": [
    "\n",
    "# Dự đoán trên tập kiểm tra\n",
    "y_pred = model.predict(X_test)\n",
    "\n",
    "# Đảo chuẩn hóa để lấy giá trị thực\n",
    "y_pred_inv = scaler.inverse_transform(y_pred)\n",
    "y_test_inv = scaler.inverse_transform(y_test.reshape(-1, 1))\n",
    "\n",
    "# Tính toán RMSE\n",
    "from sklearn.metrics import mean_squared_error\n",
    "rmse = np.sqrt(mean_squared_error(y_test_inv, y_pred_inv))\n",
    "print(f'Root Mean Squared Error (RMSE): {rmse}')\n",
    "mse = mean_squared_error(y_test_inv, y_pred_inv)\n",
    "print(f'Mean Squared Error (MSE): {mse}')\n",
    "# Vẽ đồ thị so sánh giá thực và giá dự đoán\n",
    "plt.figure(figsize=(14, 5))\n",
    "plt.plot(y_test_inv, color='blue', label='Giá Thực')\n",
    "plt.plot(y_pred_inv, color='red', label='Giá Dự Đoán')\n",
    "plt.title('Dự Đoán Giá Cổ Phiếu Sử Dụng sLSTM')\n",
    "plt.xlabel('Thời Gian')\n",
    "plt.ylabel('Giá Cổ Phiếu')\n",
    "plt.legend()\n",
    "plt.show()\n"
   ]
  },
  {
   "cell_type": "code",
   "execution_count": 12,
   "metadata": {},
   "outputs": [
    {
     "name": "stdout",
     "output_type": "stream",
     "text": [
      "MSE= 4.584700342085519\n",
      "Accuracy= 0.9837034138050043\n",
      "mean_error_percent= 0.01629658619499571\n"
     ]
    }
   ],
   "source": [
    "mse1=np.mean(np.square(y_pred_inv - y_test_inv))\n",
    "print('MSE=', mse1)\n",
    "mean_error_percent1 = np.mean(np.abs((y_pred_inv - y_test_inv) / y_test_inv))\n",
    "accuracy1 = 1 - mean_error_percent1\n",
    "print('Accuracy=', accuracy1)\n",
    "print('mean_error_percent=', mean_error_percent1)"
   ]
  },
  {
   "cell_type": "code",
   "execution_count": null,
   "metadata": {},
   "outputs": [],
   "source": []
  }
 ],
 "metadata": {
  "colab": {
   "authorship_tag": "ABX9TyNgL9C8Muvj+KiWethPbxGM",
   "provenance": []
  },
  "kernelspec": {
   "display_name": "Python 3 (ipykernel)",
   "language": "python",
   "name": "python3"
  },
  "language_info": {
   "codemirror_mode": {
    "name": "ipython",
    "version": 3
   },
   "file_extension": ".py",
   "mimetype": "text/x-python",
   "name": "python",
   "nbconvert_exporter": "python",
   "pygments_lexer": "ipython3",
   "version": "3.9.13"
  }
 },
 "nbformat": 4,
 "nbformat_minor": 1
}
