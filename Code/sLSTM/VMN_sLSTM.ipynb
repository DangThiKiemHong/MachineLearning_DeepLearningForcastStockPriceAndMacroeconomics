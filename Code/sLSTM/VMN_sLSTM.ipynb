{
 "cells": [
  {
   "cell_type": "code",
   "execution_count": 1,
   "metadata": {
    "executionInfo": {
     "elapsed": 600,
     "status": "ok",
     "timestamp": 1727061134424,
     "user": {
      "displayName": "Đặng Thị Kiêm Hồng",
      "userId": "05445281411830122382"
     },
     "user_tz": -420
    },
    "id": "W-RlFTdGfann"
   },
   "outputs": [],
   "source": [
    "import numpy as np\n",
    "import pandas as pd\n",
    "\n",
    "import matplotlib.pyplot as plt\n",
    "from sklearn.preprocessing import MinMaxScaler\n",
    "from tensorflow.keras.models import Model\n",
    "from tensorflow.keras.layers import Input, Dense, RNN\n",
    "from tensorflow.keras.optimizers import Adam\n",
    "from tensorflow.keras.callbacks import EarlyStopping\n",
    "import tensorflow as tf"
   ]
  },
  {
   "cell_type": "code",
   "execution_count": 2,
   "metadata": {
    "colab": {
     "base_uri": "https://localhost:8080/",
     "height": 243
    },
    "executionInfo": {
     "elapsed": 17,
     "status": "ok",
     "timestamp": 1727061135115,
     "user": {
      "displayName": "Đặng Thị Kiêm Hồng",
      "userId": "05445281411830122382"
     },
     "user_tz": -420
    },
    "id": "cwidh5C5fkmY",
    "outputId": "3c08090a-40e8-4fbd-8459-0f83c898b4bc"
   },
   "outputs": [
    {
     "data": {
      "text/html": [
       "<div>\n",
       "<style scoped>\n",
       "    .dataframe tbody tr th:only-of-type {\n",
       "        vertical-align: middle;\n",
       "    }\n",
       "\n",
       "    .dataframe tbody tr th {\n",
       "        vertical-align: top;\n",
       "    }\n",
       "\n",
       "    .dataframe thead th {\n",
       "        text-align: right;\n",
       "    }\n",
       "</style>\n",
       "<table border=\"1\" class=\"dataframe\">\n",
       "  <thead>\n",
       "    <tr style=\"text-align: right;\">\n",
       "      <th></th>\n",
       "      <th>Unnamed: 0</th>\n",
       "      <th>time</th>\n",
       "      <th>open</th>\n",
       "      <th>high</th>\n",
       "      <th>low</th>\n",
       "      <th>close</th>\n",
       "      <th>volume</th>\n",
       "    </tr>\n",
       "  </thead>\n",
       "  <tbody>\n",
       "    <tr>\n",
       "      <th>0</th>\n",
       "      <td>0</td>\n",
       "      <td>2015-01-05</td>\n",
       "      <td>31.64</td>\n",
       "      <td>31.81</td>\n",
       "      <td>31.48</td>\n",
       "      <td>31.64</td>\n",
       "      <td>70290</td>\n",
       "    </tr>\n",
       "    <tr>\n",
       "      <th>1</th>\n",
       "      <td>1</td>\n",
       "      <td>2015-01-06</td>\n",
       "      <td>31.64</td>\n",
       "      <td>31.97</td>\n",
       "      <td>31.31</td>\n",
       "      <td>31.64</td>\n",
       "      <td>100890</td>\n",
       "    </tr>\n",
       "    <tr>\n",
       "      <th>2</th>\n",
       "      <td>2</td>\n",
       "      <td>2015-01-07</td>\n",
       "      <td>31.64</td>\n",
       "      <td>32.47</td>\n",
       "      <td>31.64</td>\n",
       "      <td>32.30</td>\n",
       "      <td>194130</td>\n",
       "    </tr>\n",
       "    <tr>\n",
       "      <th>3</th>\n",
       "      <td>3</td>\n",
       "      <td>2015-01-08</td>\n",
       "      <td>32.30</td>\n",
       "      <td>32.63</td>\n",
       "      <td>32.14</td>\n",
       "      <td>32.47</td>\n",
       "      <td>70650</td>\n",
       "    </tr>\n",
       "    <tr>\n",
       "      <th>4</th>\n",
       "      <td>4</td>\n",
       "      <td>2015-01-09</td>\n",
       "      <td>32.80</td>\n",
       "      <td>33.95</td>\n",
       "      <td>32.63</td>\n",
       "      <td>33.95</td>\n",
       "      <td>290390</td>\n",
       "    </tr>\n",
       "  </tbody>\n",
       "</table>\n",
       "</div>"
      ],
      "text/plain": [
       "   Unnamed: 0        time   open   high    low  close  volume\n",
       "0           0  2015-01-05  31.64  31.81  31.48  31.64   70290\n",
       "1           1  2015-01-06  31.64  31.97  31.31  31.64  100890\n",
       "2           2  2015-01-07  31.64  32.47  31.64  32.30  194130\n",
       "3           3  2015-01-08  32.30  32.63  32.14  32.47   70650\n",
       "4           4  2015-01-09  32.80  33.95  32.63  33.95  290390"
      ]
     },
     "execution_count": 2,
     "metadata": {},
     "output_type": "execute_result"
    }
   ],
   "source": [
    "# Đọc dữ liệu từ file CSV (có thể thay bằng file của bạn)\n",
    "data = pd.read_csv('D:\\DeTaiNam2024\\SoLieuHong\\VNM.csv')\n",
    "# Kiểm tra tiêu đề các cột\n",
    "data.head()"
   ]
  },
  {
   "cell_type": "code",
   "execution_count": 3,
   "metadata": {
    "executionInfo": {
     "elapsed": 14,
     "status": "ok",
     "timestamp": 1727061135115,
     "user": {
      "displayName": "Đặng Thị Kiêm Hồng",
      "userId": "05445281411830122382"
     },
     "user_tz": -420
    },
    "id": "m7h4q7mogUbv"
   },
   "outputs": [],
   "source": [
    " data = data[['close']]\n",
    " data.dropna(inplace=True)"
   ]
  },
  {
   "cell_type": "code",
   "execution_count": 4,
   "metadata": {
    "executionInfo": {
     "elapsed": 14,
     "status": "ok",
     "timestamp": 1727061135116,
     "user": {
      "displayName": "Đặng Thị Kiêm Hồng",
      "userId": "05445281411830122382"
     },
     "user_tz": -420
    },
    "id": "fvSkw8KPgZla"
   },
   "outputs": [],
   "source": [
    "# Chuẩn bị dữ liệu\n",
    "def prepare_data(data, time_steps=60):\n",
    "    scaler = MinMaxScaler(feature_range=(0, 1))\n",
    "    scaled_data = scaler.fit_transform(data)\n",
    "\n",
    "    X, y = [], []\n",
    "    for i in range(time_steps, len(scaled_data)):\n",
    "        X.append(scaled_data[i-time_steps:i, 0])\n",
    "        y.append(scaled_data[i, 0])\n",
    "    X, y = np.array(X), np.array(y)\n",
    "\n",
    "    # Reshape X để phù hợp với RNN [samples, time_steps, features]\n",
    "    X = np.reshape(X, (X.shape[0], X.shape[1], 1))\n",
    "    return X, y, scaler\n"
   ]
  },
  {
   "cell_type": "code",
   "execution_count": 5,
   "metadata": {
    "executionInfo": {
     "elapsed": 14,
     "status": "ok",
     "timestamp": 1727061135116,
     "user": {
      "displayName": "Đặng Thị Kiêm Hồng",
      "userId": "05445281411830122382"
     },
     "user_tz": -420
    },
    "id": "_aG2vk1vgivz"
   },
   "outputs": [],
   "source": [
    "X, y, scaler = prepare_data(data)"
   ]
  },
  {
   "cell_type": "code",
   "execution_count": 6,
   "metadata": {
    "executionInfo": {
     "elapsed": 13,
     "status": "ok",
     "timestamp": 1727061135116,
     "user": {
      "displayName": "Đặng Thị Kiêm Hồng",
      "userId": "05445281411830122382"
     },
     "user_tz": -420
    },
    "id": "vwn8lrfcgmkU"
   },
   "outputs": [],
   "source": [
    "class sLSTMCell(tf.keras.layers.Layer):\n",
    "    def __init__(self, units, **kwargs):\n",
    "        super(sLSTMCell, self).__init__(**kwargs)\n",
    "        self.units = units\n",
    "        self.state_size = [self.units, self.units]  # [hidden_state, normalizer_state]\n",
    "\n",
    "    def build(self, input_shape):\n",
    "        # Khởi tạo trọng số cho các cổng\n",
    "        self.W_f = self.add_weight(shape=(input_shape[-1], self.units),\n",
    "                                   initializer='glorot_uniform',\n",
    "                                   name='W_f')\n",
    "        self.U_f = self.add_weight(shape=(self.units, self.units),\n",
    "                                   initializer='orthogonal',\n",
    "                                   name='U_f')\n",
    "        self.b_f = self.add_weight(shape=(self.units,),\n",
    "                                   initializer='zeros',\n",
    "                                   name='b_f')\n",
    "\n",
    "        self.W_i = self.add_weight(shape=(input_shape[-1], self.units),\n",
    "                                   initializer='glorot_uniform',\n",
    "                                   name='W_i')\n",
    "        self.U_i = self.add_weight(shape=(self.units, self.units),\n",
    "                                   initializer='orthogonal',\n",
    "                                   name='U_i')\n",
    "        self.b_i = self.add_weight(shape=(self.units,),\n",
    "                                   initializer='zeros',\n",
    "                                   name='b_i')\n",
    "\n",
    "        self.W_c = self.add_weight(shape=(input_shape[-1], self.units),\n",
    "                                   initializer='glorot_uniform',\n",
    "                                   name='W_c')\n",
    "        self.U_c = self.add_weight(shape=(self.units, self.units),\n",
    "                                   initializer='orthogonal',\n",
    "                                   name='U_c')\n",
    "        self.b_c = self.add_weight(shape=(self.units,),\n",
    "                                   initializer='zeros',\n",
    "                                   name='b_c')\n",
    "\n",
    "        self.W_o = self.add_weight(shape=(input_shape[-1], self.units),\n",
    "                                   initializer='glorot_uniform',\n",
    "                                   name='W_o')\n",
    "        self.U_o = self.add_weight(shape=(self.units, self.units),\n",
    "                                   initializer='orthogonal',\n",
    "                                   name='U_o')\n",
    "        self.b_o = self.add_weight(shape=(self.units,),\n",
    "                                   initializer='zeros',\n",
    "                                   name='b_o')\n",
    "        super(sLSTMCell, self).build(input_shape)\n",
    "\n",
    "    def call(self, inputs, states):\n",
    "        h_prev, n_prev = states\n",
    "\n",
    "        # Forget gate: sử dụng sigmoid hoặc exp\n",
    "       # f = tf.keras.activations.sigmoid(tf.matmul(inputs, self.W_f) + tf.matmul(h_prev, self.U_f) + self.b_f)\n",
    "        f = tf.exp(tf.matmul(inputs, self.W_f) + tf.matmul(h_prev, self.U_f) + self.b_f)\n",
    "\n",
    "        # Input gate: sử dụng (sigmoid)^2 hoặc (exp)^2\n",
    "      #  i = tf.keras.activations.sigmoid(tf.matmul(inputs, self.W_i) + tf.matmul(h_prev, self.U_i) + self.b_i)\n",
    "       # i = tf.square(i)  # (σ(x))^2\n",
    "        i = tf.exp(tf.matmul(inputs, self.W_i) + tf.matmul(h_prev, self.U_i) + self.b_i)\n",
    "        # Candidate cell state\n",
    "        c_tilde = tf.keras.activations.tanh(tf.matmul(inputs, self.W_c) + tf.matmul(h_prev, self.U_c) + self.b_c)\n",
    "\n",
    "        # Cell state update\n",
    "        c = f * states[0] + i * c_tilde\n",
    "\n",
    "        # Normalizer state update\n",
    "        n = f * n_prev + i\n",
    "\n",
    "        # Output gate\n",
    "        o = tf.keras.activations.sigmoid(tf.matmul(inputs, self.W_o) + tf.matmul(h_prev, self.U_o) + self.b_o)\n",
    "\n",
    "        # Normalized hidden state\n",
    "        h_tilde = c * tf.math.reciprocal(n + 1e-7)  # thêm epsilon để tránh chia cho 0\n",
    "        h = o * h_tilde\n",
    "\n",
    "        return h, [h, n]\n",
    "\n",
    "class sLSTM(tf.keras.layers.Layer):\n",
    "    def __init__(self, units, **kwargs):\n",
    "        super(sLSTM, self).__init__(**kwargs)\n",
    "        self.units = units\n",
    "        self.cell = sLSTMCell(units)\n",
    "\n",
    "    def call(self, inputs):\n",
    "        return tf.keras.layers.RNN(self.cell, return_sequences=False, return_state=False)(inputs)\n",
    "\n",
    "    def get_config(self):\n",
    "        config = super(sLSTM, self).get_config()\n",
    "        config.update({'units': self.units})\n",
    "        return config\n"
   ]
  },
  {
   "cell_type": "code",
   "execution_count": 10,
   "metadata": {
    "colab": {
     "base_uri": "https://localhost:8080/",
     "height": 225
    },
    "executionInfo": {
     "elapsed": 813,
     "status": "ok",
     "timestamp": 1727062104765,
     "user": {
      "displayName": "Đặng Thị Kiêm Hồng",
      "userId": "05445281411830122382"
     },
     "user_tz": -420
    },
    "id": "vAsXYHMWgoYV",
    "outputId": "f68a8b3f-3a8b-4949-d128-4e6b844505ff"
   },
   "outputs": [
    {
     "name": "stdout",
     "output_type": "stream",
     "text": [
      "Model: \"model_2\"\n",
      "_________________________________________________________________\n",
      " Layer (type)                Output Shape              Param #   \n",
      "=================================================================\n",
      " input_3 (InputLayer)        [(None, 60, 1)]           0         \n",
      "                                                                 \n",
      " s_lstm_2 (sLSTM)            (None, 50)                10400     \n",
      "                                                                 \n",
      " dense_2 (Dense)             (None, 1)                 51        \n",
      "                                                                 \n",
      "=================================================================\n",
      "Total params: 10,451\n",
      "Trainable params: 10,451\n",
      "Non-trainable params: 0\n",
      "_________________________________________________________________\n"
     ]
    }
   ],
   "source": [
    "# Xây dựng mô hình\n",
    "def build_model(time_steps, units=50):\n",
    "    inputs = Input(shape=(time_steps, 1))\n",
    "    x = sLSTM(units)(inputs)\n",
    "    x = Dense(1)(x)\n",
    "    model = Model(inputs, x)\n",
    "    model.compile(optimizer=Adam(learning_rate=2e-06), loss='mean_squared_error')\n",
    "    return model\n",
    "# Khởi tạo mô hình\n",
    "model = build_model(time_steps=60, units=50)\n",
    "model.summary()\n"
   ]
  },
  {
   "cell_type": "code",
   "execution_count": null,
   "metadata": {
    "colab": {
     "base_uri": "https://localhost:8080/"
    },
    "executionInfo": {
     "elapsed": 116210,
     "status": "ok",
     "timestamp": 1727062224871,
     "user": {
      "displayName": "Đặng Thị Kiêm Hồng",
      "userId": "05445281411830122382"
     },
     "user_tz": -420
    },
    "id": "RNAbWmH_guLn",
    "outputId": "368ac1da-8b46-490b-84e4-bb9eb3e3d1ce"
   },
   "outputs": [
    {
     "name": "stdout",
     "output_type": "stream",
     "text": [
      "Epoch 1/100\n",
      "63/63 [==============================] - 6s 46ms/step - loss: 0.3270 - val_loss: 0.2028\n",
      "Epoch 2/100\n",
      "63/63 [==============================] - 3s 41ms/step - loss: 0.3267 - val_loss: 0.2026\n",
      "Epoch 3/100\n",
      "63/63 [==============================] - 3s 41ms/step - loss: 0.3264 - val_loss: 0.2024\n",
      "Epoch 4/100\n",
      "63/63 [==============================] - 3s 42ms/step - loss: 0.3261 - val_loss: 0.2022\n",
      "Epoch 5/100\n",
      "63/63 [==============================] - 3s 42ms/step - loss: 0.3258 - val_loss: 0.2020\n",
      "Epoch 6/100\n",
      "63/63 [==============================] - 3s 42ms/step - loss: 0.3255 - val_loss: 0.2018\n",
      "Epoch 7/100\n",
      "63/63 [==============================] - 3s 44ms/step - loss: 0.3252 - val_loss: 0.2016\n",
      "Epoch 8/100\n",
      "63/63 [==============================] - 3s 44ms/step - loss: 0.3249 - val_loss: 0.2014\n",
      "Epoch 9/100\n",
      "63/63 [==============================] - 3s 43ms/step - loss: 0.3246 - val_loss: 0.2012\n",
      "Epoch 10/100\n",
      "63/63 [==============================] - 3s 41ms/step - loss: 0.3243 - val_loss: 0.2010\n",
      "Epoch 11/100\n",
      "63/63 [==============================] - 2s 39ms/step - loss: 0.3240 - val_loss: 0.2008\n",
      "Epoch 12/100\n",
      "63/63 [==============================] - 3s 40ms/step - loss: 0.3237 - val_loss: 0.2006\n",
      "Epoch 13/100\n",
      "63/63 [==============================] - 3s 41ms/step - loss: 0.3234 - val_loss: 0.2005\n",
      "Epoch 14/100\n",
      "63/63 [==============================] - 2s 38ms/step - loss: 0.3231 - val_loss: 0.2003\n",
      "Epoch 15/100\n",
      "63/63 [==============================] - 3s 42ms/step - loss: 0.3228 - val_loss: 0.2001\n",
      "Epoch 16/100\n",
      "63/63 [==============================] - 3s 43ms/step - loss: 0.3225 - val_loss: 0.1999\n",
      "Epoch 17/100\n",
      "63/63 [==============================] - 3s 42ms/step - loss: 0.3222 - val_loss: 0.1997\n",
      "Epoch 18/100\n",
      "63/63 [==============================] - 3s 45ms/step - loss: 0.3219 - val_loss: 0.1995\n",
      "Epoch 19/100\n",
      "63/63 [==============================] - 3s 46ms/step - loss: 0.3216 - val_loss: 0.1993\n",
      "Epoch 20/100\n",
      "63/63 [==============================] - 3s 44ms/step - loss: 0.3214 - val_loss: 0.1991\n",
      "Epoch 21/100\n",
      "63/63 [==============================] - 3s 45ms/step - loss: 0.3211 - val_loss: 0.1989\n",
      "Epoch 22/100\n",
      "63/63 [==============================] - 4s 62ms/step - loss: 0.3208 - val_loss: 0.1987\n",
      "Epoch 23/100\n",
      "63/63 [==============================] - 4s 60ms/step - loss: 0.3205 - val_loss: 0.1985\n",
      "Epoch 24/100\n",
      "63/63 [==============================] - 4s 66ms/step - loss: 0.3202 - val_loss: 0.1983\n",
      "Epoch 25/100\n",
      "63/63 [==============================] - 4s 67ms/step - loss: 0.3199 - val_loss: 0.1981\n",
      "Epoch 26/100\n",
      "63/63 [==============================] - 4s 67ms/step - loss: 0.3196 - val_loss: 0.1979\n",
      "Epoch 27/100\n",
      "63/63 [==============================] - 4s 69ms/step - loss: 0.3193 - val_loss: 0.1977\n",
      "Epoch 28/100\n",
      "63/63 [==============================] - 5s 75ms/step - loss: 0.3190 - val_loss: 0.1976\n",
      "Epoch 29/100\n",
      "63/63 [==============================] - 3s 51ms/step - loss: 0.3187 - val_loss: 0.1974\n",
      "Epoch 30/100\n",
      "63/63 [==============================] - 2s 40ms/step - loss: 0.3185 - val_loss: 0.1972\n",
      "Epoch 31/100\n",
      "63/63 [==============================] - 2s 38ms/step - loss: 0.3182 - val_loss: 0.1970\n",
      "Epoch 32/100\n",
      "63/63 [==============================] - 2s 39ms/step - loss: 0.3179 - val_loss: 0.1968\n",
      "Epoch 33/100\n",
      "63/63 [==============================] - 2s 39ms/step - loss: 0.3176 - val_loss: 0.1966\n",
      "Epoch 34/100\n",
      "63/63 [==============================] - 2s 38ms/step - loss: 0.3173 - val_loss: 0.1964\n",
      "Epoch 35/100\n",
      "63/63 [==============================] - 2s 38ms/step - loss: 0.3170 - val_loss: 0.1962\n",
      "Epoch 36/100\n",
      "63/63 [==============================] - 3s 42ms/step - loss: 0.3167 - val_loss: 0.1960\n",
      "Epoch 37/100\n",
      "63/63 [==============================] - 2s 40ms/step - loss: 0.3164 - val_loss: 0.1958\n",
      "Epoch 38/100\n",
      "63/63 [==============================] - 3s 42ms/step - loss: 0.3162 - val_loss: 0.1957\n",
      "Epoch 39/100\n",
      "63/63 [==============================] - 3s 45ms/step - loss: 0.3159 - val_loss: 0.1955\n",
      "Epoch 40/100\n",
      "63/63 [==============================] - 3s 42ms/step - loss: 0.3156 - val_loss: 0.1953\n",
      "Epoch 41/100\n",
      "63/63 [==============================] - 3s 49ms/step - loss: 0.3153 - val_loss: 0.1951\n",
      "Epoch 42/100\n",
      "63/63 [==============================] - 3s 53ms/step - loss: 0.3150 - val_loss: 0.1949\n",
      "Epoch 43/100\n",
      "63/63 [==============================] - 3s 53ms/step - loss: 0.3147 - val_loss: 0.1947\n",
      "Epoch 44/100\n",
      "63/63 [==============================] - 4s 61ms/step - loss: 0.3144 - val_loss: 0.1945\n",
      "Epoch 45/100\n",
      "63/63 [==============================] - 4s 61ms/step - loss: 0.3142 - val_loss: 0.1943\n",
      "Epoch 46/100\n",
      "63/63 [==============================] - 5s 77ms/step - loss: 0.3139 - val_loss: 0.1941\n",
      "Epoch 47/100\n",
      "63/63 [==============================] - 5s 77ms/step - loss: 0.3136 - val_loss: 0.1939\n",
      "Epoch 48/100\n",
      "63/63 [==============================] - 4s 64ms/step - loss: 0.3133 - val_loss: 0.1938\n",
      "Epoch 49/100\n",
      "63/63 [==============================] - 5s 72ms/step - loss: 0.3130 - val_loss: 0.1936\n",
      "Epoch 50/100\n",
      "63/63 [==============================] - 4s 65ms/step - loss: 0.3127 - val_loss: 0.1934\n",
      "Epoch 51/100\n",
      "63/63 [==============================] - 5s 80ms/step - loss: 0.3125 - val_loss: 0.1932\n",
      "Epoch 52/100\n",
      "63/63 [==============================] - 5s 80ms/step - loss: 0.3122 - val_loss: 0.1930\n",
      "Epoch 53/100\n",
      "63/63 [==============================] - 4s 71ms/step - loss: 0.3119 - val_loss: 0.1928\n",
      "Epoch 54/100\n",
      "63/63 [==============================] - 5s 74ms/step - loss: 0.3116 - val_loss: 0.1926\n",
      "Epoch 55/100\n",
      "63/63 [==============================] - 4s 67ms/step - loss: 0.3113 - val_loss: 0.1924\n",
      "Epoch 56/100\n",
      "63/63 [==============================] - 4s 70ms/step - loss: 0.3110 - val_loss: 0.1923\n",
      "Epoch 57/100\n",
      "63/63 [==============================] - 4s 68ms/step - loss: 0.3108 - val_loss: 0.1921\n",
      "Epoch 58/100\n",
      "63/63 [==============================] - 5s 77ms/step - loss: 0.3105 - val_loss: 0.1919\n",
      "Epoch 59/100\n",
      "63/63 [==============================] - 5s 74ms/step - loss: 0.3102 - val_loss: 0.1917\n",
      "Epoch 60/100\n",
      "63/63 [==============================] - 4s 67ms/step - loss: 0.3099 - val_loss: 0.1915\n",
      "Epoch 61/100\n",
      "63/63 [==============================] - 5s 75ms/step - loss: 0.3096 - val_loss: 0.1913\n",
      "Epoch 62/100\n",
      "63/63 [==============================] - 5s 72ms/step - loss: 0.3094 - val_loss: 0.1911\n",
      "Epoch 63/100\n",
      "63/63 [==============================] - 5s 73ms/step - loss: 0.3091 - val_loss: 0.1909\n",
      "Epoch 64/100\n",
      "63/63 [==============================] - 5s 83ms/step - loss: 0.3088 - val_loss: 0.1908\n",
      "Epoch 65/100\n",
      "63/63 [==============================] - 5s 83ms/step - loss: 0.3085 - val_loss: 0.1906\n",
      "Epoch 66/100\n",
      "63/63 [==============================] - 5s 82ms/step - loss: 0.3082 - val_loss: 0.1904\n",
      "Epoch 67/100\n",
      "63/63 [==============================] - 6s 89ms/step - loss: 0.3079 - val_loss: 0.1902\n",
      "Epoch 68/100\n",
      "63/63 [==============================] - 6s 90ms/step - loss: 0.3077 - val_loss: 0.1900\n",
      "Epoch 69/100\n",
      "63/63 [==============================] - 6s 95ms/step - loss: 0.3074 - val_loss: 0.1898\n",
      "Epoch 70/100\n",
      "63/63 [==============================] - 6s 88ms/step - loss: 0.3071 - val_loss: 0.1896\n",
      "Epoch 71/100\n",
      "63/63 [==============================] - 6s 90ms/step - loss: 0.3068 - val_loss: 0.1895\n",
      "Epoch 72/100\n",
      "63/63 [==============================] - 7s 106ms/step - loss: 0.3065 - val_loss: 0.1893\n",
      "Epoch 73/100\n",
      "63/63 [==============================] - 6s 92ms/step - loss: 0.3063 - val_loss: 0.1891\n",
      "Epoch 74/100\n",
      "63/63 [==============================] - 6s 100ms/step - loss: 0.3060 - val_loss: 0.1889\n",
      "Epoch 75/100\n",
      "63/63 [==============================] - 6s 103ms/step - loss: 0.3057 - val_loss: 0.1887\n",
      "Epoch 76/100\n",
      "63/63 [==============================] - 7s 108ms/step - loss: 0.3054 - val_loss: 0.1885\n",
      "Epoch 77/100\n",
      "52/63 [=======================>......] - ETA: 1s - loss: 0.3057"
     ]
    }
   ],
   "source": [
    "\n",
    "train_size = int(len(X) * 0.85)\n",
    "X_train, X_test = X[:train_size], X[train_size:]\n",
    "y_train, y_test = y[:train_size], y[train_size:]\n",
    "\n",
    "# Xây dựng mô hình\n",
    "model = build_model(time_steps=60, units=50)\n",
    "\n",
    "# Huấn luyện mô hình\n",
    "early_stop = EarlyStopping(monitor='val_loss', patience=10, restore_best_weights=True)\n",
    "history = model.fit(X_train, y_train, epochs=100, batch_size=32,\n",
    "                    validation_data=(X_test, y_test),\n",
    "                    callbacks=[early_stop])\n"
   ]
  },
  {
   "cell_type": "code",
   "execution_count": null,
   "metadata": {
    "colab": {
     "base_uri": "https://localhost:8080/",
     "height": 420
    },
    "executionInfo": {
     "elapsed": 2309,
     "status": "ok",
     "timestamp": 1727062245690,
     "user": {
      "displayName": "Đặng Thị Kiêm Hồng",
      "userId": "05445281411830122382"
     },
     "user_tz": -420
    },
    "id": "RVpvOaUwg0F_",
    "outputId": "4aba7979-a386-4f58-9385-ad534bdf37ff",
    "scrolled": true
   },
   "outputs": [],
   "source": [
    "\n",
    "# Dự đoán trên tập kiểm tra\n",
    "y_pred = model.predict(X_test)\n",
    "\n",
    "# Đảo chuẩn hóa để lấy giá trị thực\n",
    "y_pred_inv = scaler.inverse_transform(y_pred)\n",
    "y_test_inv = scaler.inverse_transform(y_test.reshape(-1, 1))\n",
    "\n",
    "# Tính toán RMSE\n",
    "from sklearn.metrics import mean_squared_error\n",
    "rmse = np.sqrt(mean_squared_error(y_test_inv, y_pred_inv))\n",
    "print(f'Root Mean Squared Error (RMSE): {rmse}')\n",
    "mse = mean_squared_error(y_test_inv, y_pred_inv)\n",
    "print(f'Mean Squared Error (MSE): {mse}')\n",
    "# Vẽ đồ thị so sánh giá thực và giá dự đoán\n",
    "plt.figure(figsize=(14, 5))\n",
    "plt.plot(y_test_inv, color='blue', label='Giá Thực')\n",
    "plt.plot(y_pred_inv, color='red', label='Giá Dự Đoán')\n",
    "plt.title('Dự Đoán Giá Cổ Phiếu HAP Sử Dụng sLSTM')\n",
    "plt.xlabel('Thời Gian')\n",
    "plt.ylabel('Giá Cổ Phiếu')\n",
    "plt.legend()\n",
    "plt.show()\n"
   ]
  },
  {
   "cell_type": "code",
   "execution_count": null,
   "metadata": {},
   "outputs": [],
   "source": [
    "mse1=np.mean(np.square(y_pred_inv - y_test_inv))\n",
    "print('MSE=', mse1)\n",
    "mean_error_percent1 = np.mean(np.abs((y_pred_inv - y_test_inv) / y_test_inv))\n",
    "accuracy1 = 1 - mean_error_percent1\n",
    "print('Accuracy=', accuracy1)\n",
    "print('mean_error_percent=', mean_error_percent1)"
   ]
  },
  {
   "cell_type": "code",
   "execution_count": null,
   "metadata": {},
   "outputs": [],
   "source": []
  }
 ],
 "metadata": {
  "colab": {
   "authorship_tag": "ABX9TyNgL9C8Muvj+KiWethPbxGM",
   "provenance": []
  },
  "kernelspec": {
   "display_name": "Python 3 (ipykernel)",
   "language": "python",
   "name": "python3"
  },
  "language_info": {
   "codemirror_mode": {
    "name": "ipython",
    "version": 3
   },
   "file_extension": ".py",
   "mimetype": "text/x-python",
   "name": "python",
   "nbconvert_exporter": "python",
   "pygments_lexer": "ipython3",
   "version": "3.9.13"
  }
 },
 "nbformat": 4,
 "nbformat_minor": 1
}
