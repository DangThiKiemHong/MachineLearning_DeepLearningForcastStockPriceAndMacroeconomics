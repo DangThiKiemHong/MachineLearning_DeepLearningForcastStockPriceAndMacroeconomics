{
 "cells": [
  {
   "cell_type": "code",
   "execution_count": 1,
   "metadata": {
    "executionInfo": {
     "elapsed": 600,
     "status": "ok",
     "timestamp": 1727061134424,
     "user": {
      "displayName": "Đặng Thị Kiêm Hồng",
      "userId": "05445281411830122382"
     },
     "user_tz": -420
    },
    "id": "W-RlFTdGfann"
   },
   "outputs": [],
   "source": [
    "import numpy as np\n",
    "import pandas as pd\n",
    "\n",
    "import matplotlib.pyplot as plt\n",
    "from sklearn.preprocessing import MinMaxScaler\n",
    "from tensorflow.keras.models import Model\n",
    "from tensorflow.keras.layers import Input, Dense, RNN\n",
    "from tensorflow.keras.optimizers import Adam\n",
    "from tensorflow.keras.callbacks import EarlyStopping\n",
    "import tensorflow as tf"
   ]
  },
  {
   "cell_type": "code",
   "execution_count": 2,
   "metadata": {
    "colab": {
     "base_uri": "https://localhost:8080/",
     "height": 243
    },
    "executionInfo": {
     "elapsed": 17,
     "status": "ok",
     "timestamp": 1727061135115,
     "user": {
      "displayName": "Đặng Thị Kiêm Hồng",
      "userId": "05445281411830122382"
     },
     "user_tz": -420
    },
    "id": "cwidh5C5fkmY",
    "outputId": "3c08090a-40e8-4fbd-8459-0f83c898b4bc"
   },
   "outputs": [
    {
     "data": {
      "text/html": [
       "<div>\n",
       "<style scoped>\n",
       "    .dataframe tbody tr th:only-of-type {\n",
       "        vertical-align: middle;\n",
       "    }\n",
       "\n",
       "    .dataframe tbody tr th {\n",
       "        vertical-align: top;\n",
       "    }\n",
       "\n",
       "    .dataframe thead th {\n",
       "        text-align: right;\n",
       "    }\n",
       "</style>\n",
       "<table border=\"1\" class=\"dataframe\">\n",
       "  <thead>\n",
       "    <tr style=\"text-align: right;\">\n",
       "      <th></th>\n",
       "      <th>Unnamed: 0</th>\n",
       "      <th>time</th>\n",
       "      <th>open</th>\n",
       "      <th>high</th>\n",
       "      <th>low</th>\n",
       "      <th>close</th>\n",
       "      <th>volume</th>\n",
       "    </tr>\n",
       "  </thead>\n",
       "  <tbody>\n",
       "    <tr>\n",
       "      <th>0</th>\n",
       "      <td>0</td>\n",
       "      <td>2015-01-05</td>\n",
       "      <td>5.66</td>\n",
       "      <td>5.70</td>\n",
       "      <td>5.66</td>\n",
       "      <td>5.66</td>\n",
       "      <td>626330</td>\n",
       "    </tr>\n",
       "    <tr>\n",
       "      <th>1</th>\n",
       "      <td>1</td>\n",
       "      <td>2015-01-06</td>\n",
       "      <td>5.57</td>\n",
       "      <td>5.74</td>\n",
       "      <td>5.53</td>\n",
       "      <td>5.74</td>\n",
       "      <td>1073310</td>\n",
       "    </tr>\n",
       "    <tr>\n",
       "      <th>2</th>\n",
       "      <td>2</td>\n",
       "      <td>2015-01-07</td>\n",
       "      <td>5.70</td>\n",
       "      <td>5.92</td>\n",
       "      <td>5.61</td>\n",
       "      <td>5.83</td>\n",
       "      <td>1203670</td>\n",
       "    </tr>\n",
       "    <tr>\n",
       "      <th>3</th>\n",
       "      <td>3</td>\n",
       "      <td>2015-01-08</td>\n",
       "      <td>5.83</td>\n",
       "      <td>5.92</td>\n",
       "      <td>5.83</td>\n",
       "      <td>5.87</td>\n",
       "      <td>952520</td>\n",
       "    </tr>\n",
       "    <tr>\n",
       "      <th>4</th>\n",
       "      <td>4</td>\n",
       "      <td>2015-01-09</td>\n",
       "      <td>5.92</td>\n",
       "      <td>6.05</td>\n",
       "      <td>5.92</td>\n",
       "      <td>5.92</td>\n",
       "      <td>968880</td>\n",
       "    </tr>\n",
       "  </tbody>\n",
       "</table>\n",
       "</div>"
      ],
      "text/plain": [
       "   Unnamed: 0        time  open  high   low  close   volume\n",
       "0           0  2015-01-05  5.66  5.70  5.66   5.66   626330\n",
       "1           1  2015-01-06  5.57  5.74  5.53   5.74  1073310\n",
       "2           2  2015-01-07  5.70  5.92  5.61   5.83  1203670\n",
       "3           3  2015-01-08  5.83  5.92  5.83   5.87   952520\n",
       "4           4  2015-01-09  5.92  6.05  5.92   5.92   968880"
      ]
     },
     "execution_count": 2,
     "metadata": {},
     "output_type": "execute_result"
    }
   ],
   "source": [
    "# Đọc dữ liệu từ file CSV (có thể thay bằng file của bạn)\n",
    "data = pd.read_csv('D:\\DeTaiNam2024\\SoLieuHong\\SAM.csv')\n",
    "# Kiểm tra tiêu đề các cột\n",
    "data.head()"
   ]
  },
  {
   "cell_type": "code",
   "execution_count": 3,
   "metadata": {
    "executionInfo": {
     "elapsed": 14,
     "status": "ok",
     "timestamp": 1727061135115,
     "user": {
      "displayName": "Đặng Thị Kiêm Hồng",
      "userId": "05445281411830122382"
     },
     "user_tz": -420
    },
    "id": "m7h4q7mogUbv"
   },
   "outputs": [],
   "source": [
    " data = data[['close']]\n",
    " data.dropna(inplace=True)"
   ]
  },
  {
   "cell_type": "code",
   "execution_count": 4,
   "metadata": {
    "executionInfo": {
     "elapsed": 14,
     "status": "ok",
     "timestamp": 1727061135116,
     "user": {
      "displayName": "Đặng Thị Kiêm Hồng",
      "userId": "05445281411830122382"
     },
     "user_tz": -420
    },
    "id": "fvSkw8KPgZla"
   },
   "outputs": [],
   "source": [
    "# Chuẩn bị dữ liệu\n",
    "def prepare_data(data, time_steps=60):\n",
    "    scaler = MinMaxScaler(feature_range=(0, 1))\n",
    "    scaled_data = scaler.fit_transform(data)\n",
    "\n",
    "    X, y = [], []\n",
    "    for i in range(time_steps, len(scaled_data)):\n",
    "        X.append(scaled_data[i-time_steps:i, 0])\n",
    "        y.append(scaled_data[i, 0])\n",
    "    X, y = np.array(X), np.array(y)\n",
    "\n",
    "    # Reshape X để phù hợp với RNN [samples, time_steps, features]\n",
    "    X = np.reshape(X, (X.shape[0], X.shape[1], 1))\n",
    "    return X, y, scaler\n"
   ]
  },
  {
   "cell_type": "code",
   "execution_count": 5,
   "metadata": {
    "executionInfo": {
     "elapsed": 14,
     "status": "ok",
     "timestamp": 1727061135116,
     "user": {
      "displayName": "Đặng Thị Kiêm Hồng",
      "userId": "05445281411830122382"
     },
     "user_tz": -420
    },
    "id": "_aG2vk1vgivz"
   },
   "outputs": [],
   "source": [
    "X, y, scaler = prepare_data(data)"
   ]
  },
  {
   "cell_type": "code",
   "execution_count": 6,
   "metadata": {
    "executionInfo": {
     "elapsed": 13,
     "status": "ok",
     "timestamp": 1727061135116,
     "user": {
      "displayName": "Đặng Thị Kiêm Hồng",
      "userId": "05445281411830122382"
     },
     "user_tz": -420
    },
    "id": "vwn8lrfcgmkU"
   },
   "outputs": [],
   "source": [
    "class sLSTMCell(tf.keras.layers.Layer):\n",
    "    def __init__(self, units, **kwargs):\n",
    "        super(sLSTMCell, self).__init__(**kwargs)\n",
    "        self.units = units\n",
    "        self.state_size = [self.units, self.units]  # [hidden_state, normalizer_state]\n",
    "\n",
    "    def build(self, input_shape):\n",
    "        # Khởi tạo trọng số cho các cổng\n",
    "        self.W_f = self.add_weight(shape=(input_shape[-1], self.units),\n",
    "                                   initializer='glorot_uniform',\n",
    "                                   name='W_f')\n",
    "        self.U_f = self.add_weight(shape=(self.units, self.units),\n",
    "                                   initializer='orthogonal',\n",
    "                                   name='U_f')\n",
    "        self.b_f = self.add_weight(shape=(self.units,),\n",
    "                                   initializer='zeros',\n",
    "                                   name='b_f')\n",
    "\n",
    "        self.W_i = self.add_weight(shape=(input_shape[-1], self.units),\n",
    "                                   initializer='glorot_uniform',\n",
    "                                   name='W_i')\n",
    "        self.U_i = self.add_weight(shape=(self.units, self.units),\n",
    "                                   initializer='orthogonal',\n",
    "                                   name='U_i')\n",
    "        self.b_i = self.add_weight(shape=(self.units,),\n",
    "                                   initializer='zeros',\n",
    "                                   name='b_i')\n",
    "\n",
    "        self.W_c = self.add_weight(shape=(input_shape[-1], self.units),\n",
    "                                   initializer='glorot_uniform',\n",
    "                                   name='W_c')\n",
    "        self.U_c = self.add_weight(shape=(self.units, self.units),\n",
    "                                   initializer='orthogonal',\n",
    "                                   name='U_c')\n",
    "        self.b_c = self.add_weight(shape=(self.units,),\n",
    "                                   initializer='zeros',\n",
    "                                   name='b_c')\n",
    "\n",
    "        self.W_o = self.add_weight(shape=(input_shape[-1], self.units),\n",
    "                                   initializer='glorot_uniform',\n",
    "                                   name='W_o')\n",
    "        self.U_o = self.add_weight(shape=(self.units, self.units),\n",
    "                                   initializer='orthogonal',\n",
    "                                   name='U_o')\n",
    "        self.b_o = self.add_weight(shape=(self.units,),\n",
    "                                   initializer='zeros',\n",
    "                                   name='b_o')\n",
    "        super(sLSTMCell, self).build(input_shape)\n",
    "\n",
    "    def call(self, inputs, states):\n",
    "        h_prev, n_prev = states\n",
    "\n",
    "        # Forget gate: sử dụng sigmoid hoặc exp\n",
    "       # f = tf.keras.activations.sigmoid(tf.matmul(inputs, self.W_f) + tf.matmul(h_prev, self.U_f) + self.b_f)\n",
    "        f = tf.exp(tf.matmul(inputs, self.W_f) + tf.matmul(h_prev, self.U_f) + self.b_f)\n",
    "\n",
    "        # Input gate: sử dụng (sigmoid)^2 hoặc (exp)^2\n",
    "      #  i = tf.keras.activations.sigmoid(tf.matmul(inputs, self.W_i) + tf.matmul(h_prev, self.U_i) + self.b_i)\n",
    "       # i = tf.square(i)  # (σ(x))^2\n",
    "        i = tf.exp(tf.matmul(inputs, self.W_i) + tf.matmul(h_prev, self.U_i) + self.b_i)\n",
    "        # Candidate cell state\n",
    "        c_tilde = tf.keras.activations.tanh(tf.matmul(inputs, self.W_c) + tf.matmul(h_prev, self.U_c) + self.b_c)\n",
    "\n",
    "        # Cell state update\n",
    "        c = f * states[0] + i * c_tilde\n",
    "\n",
    "        # Normalizer state update\n",
    "        n = f * n_prev + i\n",
    "\n",
    "        # Output gate\n",
    "        o = tf.keras.activations.sigmoid(tf.matmul(inputs, self.W_o) + tf.matmul(h_prev, self.U_o) + self.b_o)\n",
    "\n",
    "        # Normalized hidden state\n",
    "        h_tilde = c * tf.math.reciprocal(n + 1e-7)  # thêm epsilon để tránh chia cho 0\n",
    "        h = o * h_tilde\n",
    "\n",
    "        return h, [h, n]\n",
    "\n",
    "class sLSTM(tf.keras.layers.Layer):\n",
    "    def __init__(self, units, **kwargs):\n",
    "        super(sLSTM, self).__init__(**kwargs)\n",
    "        self.units = units\n",
    "        self.cell = sLSTMCell(units)\n",
    "\n",
    "    def call(self, inputs):\n",
    "        return tf.keras.layers.RNN(self.cell, return_sequences=False, return_state=False)(inputs)\n",
    "\n",
    "    def get_config(self):\n",
    "        config = super(sLSTM, self).get_config()\n",
    "        config.update({'units': self.units})\n",
    "        return config\n"
   ]
  },
  {
   "cell_type": "code",
   "execution_count": 16,
   "metadata": {
    "colab": {
     "base_uri": "https://localhost:8080/",
     "height": 225
    },
    "executionInfo": {
     "elapsed": 813,
     "status": "ok",
     "timestamp": 1727062104765,
     "user": {
      "displayName": "Đặng Thị Kiêm Hồng",
      "userId": "05445281411830122382"
     },
     "user_tz": -420
    },
    "id": "vAsXYHMWgoYV",
    "outputId": "f68a8b3f-3a8b-4949-d128-4e6b844505ff"
   },
   "outputs": [
    {
     "name": "stdout",
     "output_type": "stream",
     "text": [
      "Model: \"model_6\"\n",
      "_________________________________________________________________\n",
      " Layer (type)                Output Shape              Param #   \n",
      "=================================================================\n",
      " input_7 (InputLayer)        [(None, 60, 1)]           0         \n",
      "                                                                 \n",
      " s_lstm_6 (sLSTM)            (None, 50)                10400     \n",
      "                                                                 \n",
      " dense_6 (Dense)             (None, 1)                 51        \n",
      "                                                                 \n",
      "=================================================================\n",
      "Total params: 10,451\n",
      "Trainable params: 10,451\n",
      "Non-trainable params: 0\n",
      "_________________________________________________________________\n"
     ]
    }
   ],
   "source": [
    "# Xây dựng mô hình\n",
    "def build_model(time_steps, units=50):\n",
    "    inputs = Input(shape=(time_steps, 1))\n",
    "    x = sLSTM(units)(inputs)\n",
    "    x = Dense(1)(x)\n",
    "    model = Model(inputs, x)\n",
    "    model.compile(optimizer=Adam(learning_rate=5e-06), loss='mean_squared_error')\n",
    "    return model\n",
    "# Khởi tạo mô hình\n",
    "model = build_model(time_steps=60, units=50)\n",
    "model.summary()\n"
   ]
  },
  {
   "cell_type": "code",
   "execution_count": 17,
   "metadata": {
    "colab": {
     "base_uri": "https://localhost:8080/"
    },
    "executionInfo": {
     "elapsed": 116210,
     "status": "ok",
     "timestamp": 1727062224871,
     "user": {
      "displayName": "Đặng Thị Kiêm Hồng",
      "userId": "05445281411830122382"
     },
     "user_tz": -420
    },
    "id": "RNAbWmH_guLn",
    "outputId": "368ac1da-8b46-490b-84e4-bb9eb3e3d1ce"
   },
   "outputs": [
    {
     "name": "stdout",
     "output_type": "stream",
     "text": [
      "Epoch 1/100\n",
      "60/60 [==============================] - 25s 117ms/step - loss: 0.0503 - val_loss: 0.0084\n",
      "Epoch 2/100\n",
      "60/60 [==============================] - 4s 70ms/step - loss: 0.0502 - val_loss: 0.0083\n",
      "Epoch 3/100\n",
      "60/60 [==============================] - 3s 57ms/step - loss: 0.0501 - val_loss: 0.0083\n",
      "Epoch 4/100\n",
      "60/60 [==============================] - 2s 38ms/step - loss: 0.0500 - val_loss: 0.0082\n",
      "Epoch 5/100\n",
      "60/60 [==============================] - 2s 36ms/step - loss: 0.0498 - val_loss: 0.0081\n",
      "Epoch 6/100\n",
      "60/60 [==============================] - 3s 44ms/step - loss: 0.0497 - val_loss: 0.0081\n",
      "Epoch 7/100\n",
      "60/60 [==============================] - 2s 40ms/step - loss: 0.0496 - val_loss: 0.0080\n",
      "Epoch 8/100\n",
      "60/60 [==============================] - 2s 36ms/step - loss: 0.0495 - val_loss: 0.0080\n",
      "Epoch 9/100\n",
      "60/60 [==============================] - 2s 36ms/step - loss: 0.0494 - val_loss: 0.0079\n",
      "Epoch 10/100\n",
      "60/60 [==============================] - 2s 36ms/step - loss: 0.0492 - val_loss: 0.0079\n",
      "Epoch 11/100\n",
      "60/60 [==============================] - 2s 40ms/step - loss: 0.0491 - val_loss: 0.0078\n",
      "Epoch 12/100\n",
      "60/60 [==============================] - 2s 37ms/step - loss: 0.0490 - val_loss: 0.0077\n",
      "Epoch 13/100\n",
      "60/60 [==============================] - 2s 37ms/step - loss: 0.0489 - val_loss: 0.0077\n",
      "Epoch 14/100\n",
      "60/60 [==============================] - 2s 37ms/step - loss: 0.0487 - val_loss: 0.0076\n",
      "Epoch 15/100\n",
      "60/60 [==============================] - 2s 39ms/step - loss: 0.0486 - val_loss: 0.0076\n",
      "Epoch 16/100\n",
      "60/60 [==============================] - 2s 39ms/step - loss: 0.0485 - val_loss: 0.0075\n",
      "Epoch 17/100\n",
      "60/60 [==============================] - 2s 37ms/step - loss: 0.0484 - val_loss: 0.0075\n",
      "Epoch 18/100\n",
      "60/60 [==============================] - 2s 36ms/step - loss: 0.0483 - val_loss: 0.0074\n",
      "Epoch 19/100\n",
      "60/60 [==============================] - 2s 36ms/step - loss: 0.0481 - val_loss: 0.0074\n",
      "Epoch 20/100\n",
      "60/60 [==============================] - 2s 37ms/step - loss: 0.0480 - val_loss: 0.0073\n",
      "Epoch 21/100\n",
      "60/60 [==============================] - 2s 38ms/step - loss: 0.0479 - val_loss: 0.0073\n",
      "Epoch 22/100\n",
      "60/60 [==============================] - 2s 39ms/step - loss: 0.0478 - val_loss: 0.0072\n",
      "Epoch 23/100\n",
      "60/60 [==============================] - 2s 42ms/step - loss: 0.0477 - val_loss: 0.0072\n",
      "Epoch 24/100\n",
      "60/60 [==============================] - 2s 40ms/step - loss: 0.0475 - val_loss: 0.0071\n",
      "Epoch 25/100\n",
      "60/60 [==============================] - 2s 39ms/step - loss: 0.0474 - val_loss: 0.0070\n",
      "Epoch 26/100\n",
      "60/60 [==============================] - 2s 38ms/step - loss: 0.0473 - val_loss: 0.0070\n",
      "Epoch 27/100\n",
      "60/60 [==============================] - 2s 38ms/step - loss: 0.0472 - val_loss: 0.0069\n",
      "Epoch 28/100\n",
      "60/60 [==============================] - 2s 39ms/step - loss: 0.0470 - val_loss: 0.0069\n",
      "Epoch 29/100\n",
      "60/60 [==============================] - 2s 38ms/step - loss: 0.0469 - val_loss: 0.0068\n",
      "Epoch 30/100\n",
      "60/60 [==============================] - 2s 38ms/step - loss: 0.0468 - val_loss: 0.0068\n",
      "Epoch 31/100\n",
      "60/60 [==============================] - 2s 37ms/step - loss: 0.0467 - val_loss: 0.0067\n",
      "Epoch 32/100\n",
      "60/60 [==============================] - 2s 37ms/step - loss: 0.0466 - val_loss: 0.0067\n",
      "Epoch 33/100\n",
      "60/60 [==============================] - 2s 36ms/step - loss: 0.0465 - val_loss: 0.0066\n",
      "Epoch 34/100\n",
      "60/60 [==============================] - 2s 38ms/step - loss: 0.0463 - val_loss: 0.0066\n",
      "Epoch 35/100\n",
      "60/60 [==============================] - 2s 37ms/step - loss: 0.0462 - val_loss: 0.0065\n",
      "Epoch 36/100\n",
      "60/60 [==============================] - 2s 37ms/step - loss: 0.0461 - val_loss: 0.0065\n",
      "Epoch 37/100\n",
      "60/60 [==============================] - 3s 42ms/step - loss: 0.0460 - val_loss: 0.0064\n",
      "Epoch 38/100\n",
      "60/60 [==============================] - 2s 41ms/step - loss: 0.0459 - val_loss: 0.0064\n",
      "Epoch 39/100\n",
      "60/60 [==============================] - 2s 39ms/step - loss: 0.0457 - val_loss: 0.0063\n",
      "Epoch 40/100\n",
      "60/60 [==============================] - 2s 41ms/step - loss: 0.0456 - val_loss: 0.0063\n",
      "Epoch 41/100\n",
      "60/60 [==============================] - 2s 37ms/step - loss: 0.0455 - val_loss: 0.0062\n",
      "Epoch 42/100\n",
      "60/60 [==============================] - 2s 38ms/step - loss: 0.0454 - val_loss: 0.0062\n",
      "Epoch 43/100\n",
      "60/60 [==============================] - 2s 37ms/step - loss: 0.0453 - val_loss: 0.0061\n",
      "Epoch 44/100\n",
      "60/60 [==============================] - 2s 38ms/step - loss: 0.0451 - val_loss: 0.0061\n",
      "Epoch 45/100\n",
      "60/60 [==============================] - 3s 43ms/step - loss: 0.0450 - val_loss: 0.0060\n",
      "Epoch 46/100\n",
      "60/60 [==============================] - 2s 39ms/step - loss: 0.0449 - val_loss: 0.0060\n",
      "Epoch 47/100\n",
      "60/60 [==============================] - 2s 38ms/step - loss: 0.0448 - val_loss: 0.0059\n",
      "Epoch 48/100\n",
      "60/60 [==============================] - 2s 40ms/step - loss: 0.0447 - val_loss: 0.0059\n",
      "Epoch 49/100\n",
      "60/60 [==============================] - 3s 44ms/step - loss: 0.0445 - val_loss: 0.0058\n",
      "Epoch 50/100\n",
      "60/60 [==============================] - 3s 44ms/step - loss: 0.0444 - val_loss: 0.0058\n",
      "Epoch 51/100\n",
      "60/60 [==============================] - 3s 43ms/step - loss: 0.0443 - val_loss: 0.0057\n",
      "Epoch 52/100\n",
      "60/60 [==============================] - 3s 46ms/step - loss: 0.0442 - val_loss: 0.0057\n",
      "Epoch 53/100\n",
      "60/60 [==============================] - 2s 40ms/step - loss: 0.0441 - val_loss: 0.0056\n",
      "Epoch 54/100\n",
      "60/60 [==============================] - 2s 38ms/step - loss: 0.0439 - val_loss: 0.0056\n",
      "Epoch 55/100\n",
      "60/60 [==============================] - 2s 38ms/step - loss: 0.0438 - val_loss: 0.0055\n",
      "Epoch 56/100\n",
      "60/60 [==============================] - 2s 38ms/step - loss: 0.0437 - val_loss: 0.0055\n",
      "Epoch 57/100\n",
      "60/60 [==============================] - 2s 39ms/step - loss: 0.0436 - val_loss: 0.0055\n",
      "Epoch 58/100\n",
      "60/60 [==============================] - 2s 39ms/step - loss: 0.0435 - val_loss: 0.0054\n",
      "Epoch 59/100\n",
      "60/60 [==============================] - 2s 38ms/step - loss: 0.0434 - val_loss: 0.0054\n",
      "Epoch 60/100\n",
      "60/60 [==============================] - 2s 38ms/step - loss: 0.0432 - val_loss: 0.0053\n",
      "Epoch 61/100\n",
      "60/60 [==============================] - 2s 37ms/step - loss: 0.0431 - val_loss: 0.0053\n",
      "Epoch 62/100\n",
      "60/60 [==============================] - 2s 39ms/step - loss: 0.0430 - val_loss: 0.0052\n",
      "Epoch 63/100\n",
      "60/60 [==============================] - 2s 38ms/step - loss: 0.0429 - val_loss: 0.0052\n",
      "Epoch 64/100\n",
      "60/60 [==============================] - 2s 39ms/step - loss: 0.0428 - val_loss: 0.0051\n",
      "Epoch 65/100\n",
      "60/60 [==============================] - 2s 40ms/step - loss: 0.0426 - val_loss: 0.0051\n",
      "Epoch 66/100\n",
      "60/60 [==============================] - 2s 40ms/step - loss: 0.0425 - val_loss: 0.0050\n",
      "Epoch 67/100\n",
      "60/60 [==============================] - 2s 39ms/step - loss: 0.0424 - val_loss: 0.0050\n",
      "Epoch 68/100\n",
      "60/60 [==============================] - 2s 40ms/step - loss: 0.0423 - val_loss: 0.0049\n",
      "Epoch 69/100\n",
      "60/60 [==============================] - 2s 39ms/step - loss: 0.0421 - val_loss: 0.0049\n",
      "Epoch 70/100\n",
      "60/60 [==============================] - 2s 40ms/step - loss: 0.0420 - val_loss: 0.0048\n",
      "Epoch 71/100\n",
      "60/60 [==============================] - 2s 40ms/step - loss: 0.0419 - val_loss: 0.0048\n",
      "Epoch 72/100\n",
      "60/60 [==============================] - 2s 39ms/step - loss: 0.0418 - val_loss: 0.0048\n",
      "Epoch 73/100\n",
      "60/60 [==============================] - 2s 38ms/step - loss: 0.0417 - val_loss: 0.0047\n",
      "Epoch 74/100\n",
      "60/60 [==============================] - 2s 36ms/step - loss: 0.0415 - val_loss: 0.0047\n",
      "Epoch 75/100\n",
      "60/60 [==============================] - 2s 38ms/step - loss: 0.0414 - val_loss: 0.0046\n",
      "Epoch 76/100\n",
      "60/60 [==============================] - 2s 40ms/step - loss: 0.0413 - val_loss: 0.0046\n",
      "Epoch 77/100\n",
      "60/60 [==============================] - 2s 37ms/step - loss: 0.0412 - val_loss: 0.0045\n",
      "Epoch 78/100\n",
      "60/60 [==============================] - 2s 36ms/step - loss: 0.0411 - val_loss: 0.0045\n",
      "Epoch 79/100\n",
      "60/60 [==============================] - 2s 37ms/step - loss: 0.0409 - val_loss: 0.0044\n",
      "Epoch 80/100\n",
      "60/60 [==============================] - 2s 37ms/step - loss: 0.0408 - val_loss: 0.0044\n",
      "Epoch 81/100\n",
      "60/60 [==============================] - 2s 38ms/step - loss: 0.0407 - val_loss: 0.0043\n",
      "Epoch 82/100\n"
     ]
    },
    {
     "name": "stdout",
     "output_type": "stream",
     "text": [
      "60/60 [==============================] - 2s 40ms/step - loss: 0.0406 - val_loss: 0.0043\n",
      "Epoch 83/100\n",
      "60/60 [==============================] - 2s 37ms/step - loss: 0.0405 - val_loss: 0.0043\n",
      "Epoch 84/100\n",
      "60/60 [==============================] - 2s 37ms/step - loss: 0.0403 - val_loss: 0.0042\n",
      "Epoch 85/100\n",
      "60/60 [==============================] - 2s 36ms/step - loss: 0.0402 - val_loss: 0.0042\n",
      "Epoch 86/100\n",
      "60/60 [==============================] - 2s 37ms/step - loss: 0.0401 - val_loss: 0.0041\n",
      "Epoch 87/100\n",
      "60/60 [==============================] - 2s 38ms/step - loss: 0.0400 - val_loss: 0.0041\n",
      "Epoch 88/100\n",
      "60/60 [==============================] - 2s 38ms/step - loss: 0.0399 - val_loss: 0.0040\n",
      "Epoch 89/100\n",
      "60/60 [==============================] - 2s 40ms/step - loss: 0.0397 - val_loss: 0.0040\n",
      "Epoch 90/100\n",
      "60/60 [==============================] - 2s 39ms/step - loss: 0.0396 - val_loss: 0.0040\n",
      "Epoch 91/100\n",
      "60/60 [==============================] - 3s 42ms/step - loss: 0.0395 - val_loss: 0.0039\n",
      "Epoch 92/100\n",
      "60/60 [==============================] - 2s 41ms/step - loss: 0.0394 - val_loss: 0.0039\n",
      "Epoch 93/100\n",
      "60/60 [==============================] - 2s 40ms/step - loss: 0.0392 - val_loss: 0.0038\n",
      "Epoch 94/100\n",
      "60/60 [==============================] - 2s 40ms/step - loss: 0.0391 - val_loss: 0.0038\n",
      "Epoch 95/100\n",
      "60/60 [==============================] - 2s 41ms/step - loss: 0.0390 - val_loss: 0.0037\n",
      "Epoch 96/100\n",
      "60/60 [==============================] - 3s 44ms/step - loss: 0.0389 - val_loss: 0.0037\n",
      "Epoch 97/100\n",
      "60/60 [==============================] - 3s 43ms/step - loss: 0.0388 - val_loss: 0.0037\n",
      "Epoch 98/100\n",
      "60/60 [==============================] - 2s 40ms/step - loss: 0.0386 - val_loss: 0.0036\n",
      "Epoch 99/100\n",
      "60/60 [==============================] - 3s 42ms/step - loss: 0.0385 - val_loss: 0.0036\n",
      "Epoch 100/100\n",
      "60/60 [==============================] - 3s 42ms/step - loss: 0.0384 - val_loss: 0.0035\n"
     ]
    }
   ],
   "source": [
    "\n",
    "train_size = int(len(X) * 0.8)\n",
    "X_train, X_test = X[:train_size], X[train_size:]\n",
    "y_train, y_test = y[:train_size], y[train_size:]\n",
    "\n",
    "# Xây dựng mô hình\n",
    "model = build_model(time_steps=60, units=50)\n",
    "\n",
    "# Huấn luyện mô hình\n",
    "early_stop = EarlyStopping(monitor='val_loss', patience=10, restore_best_weights=True)\n",
    "history = model.fit(X_train, y_train, epochs=100, batch_size=32,\n",
    "                    validation_data=(X_test, y_test),\n",
    "                    callbacks=[early_stop])\n"
   ]
  },
  {
   "cell_type": "code",
   "execution_count": 18,
   "metadata": {
    "colab": {
     "base_uri": "https://localhost:8080/",
     "height": 420
    },
    "executionInfo": {
     "elapsed": 2309,
     "status": "ok",
     "timestamp": 1727062245690,
     "user": {
      "displayName": "Đặng Thị Kiêm Hồng",
      "userId": "05445281411830122382"
     },
     "user_tz": -420
    },
    "id": "RVpvOaUwg0F_",
    "outputId": "4aba7979-a386-4f58-9385-ad534bdf37ff",
    "scrolled": true
   },
   "outputs": [
    {
     "name": "stdout",
     "output_type": "stream",
     "text": [
      "15/15 [==============================] - 1s 7ms/step\n",
      "Root Mean Squared Error (RMSE): 1.3079219837432647\n",
      "Mean Squared Error (MSE): 1.7106599155589166\n"
     ]
    },
    {
     "data": {
      "image/png": "[encoded data removed]",
      "text/plain": [
       "<Figure size 1400x500 with 1 Axes>"
      ]
     },
     "metadata": {},
     "output_type": "display_data"
    }
   ],
   "source": [
    "\n",
    "# Dự đoán trên tập kiểm tra\n",
    "y_pred = model.predict(X_test)\n",
    "\n",
    "# Đảo chuẩn hóa để lấy giá trị thực\n",
    "y_pred_inv = scaler.inverse_transform(y_pred)\n",
    "y_test_inv = scaler.inverse_transform(y_test.reshape(-1, 1))\n",
    "\n",
    "# Tính toán RMSE\n",
    "from sklearn.metrics import mean_squared_error\n",
    "rmse = np.sqrt(mean_squared_error(y_test_inv, y_pred_inv))\n",
    "print(f'Root Mean Squared Error (RMSE): {rmse}')\n",
    "mse = mean_squared_error(y_test_inv, y_pred_inv)\n",
    "print(f'Mean Squared Error (MSE): {mse}')\n",
    "# Vẽ đồ thị so sánh giá thực và giá dự đoán\n",
    "plt.figure(figsize=(14, 5))\n",
    "plt.plot(y_test_inv, color='blue', label='Giá Thực')\n",
    "plt.plot(y_pred_inv, color='red', label='Giá Dự Đoán')\n",
    "plt.title('Dự Đoán Giá Cổ Phiếu HAP Sử Dụng sLSTM')\n",
    "plt.xlabel('Thời Gian')\n",
    "plt.ylabel('Giá Cổ Phiếu')\n",
    "plt.legend()\n",
    "plt.show()\n"
   ]
  },
  {
   "cell_type": "code",
   "execution_count": 19,
   "metadata": {},
   "outputs": [
    {
     "name": "stdout",
     "output_type": "stream",
     "text": [
      "MSE= 1.7106599155589166\n",
      "Accuracy= 0.8293459253736881\n",
      "mean_error_percent= 0.17065407462631185\n"
     ]
    }
   ],
   "source": [
    "mse1=np.mean(np.square(y_pred_inv - y_test_inv))\n",
    "print('MSE=', mse1)\n",
    "mean_error_percent1 = np.mean(np.abs((y_pred_inv - y_test_inv) / y_test_inv))\n",
    "accuracy1 = 1 - mean_error_percent1\n",
    "print('Accuracy=', accuracy1)\n",
    "print('mean_error_percent=', mean_error_percent1)"
   ]
  },
  {
   "cell_type": "code",
   "execution_count": null,
   "metadata": {},
   "outputs": [],
   "source": []
  }
 ],
 "metadata": {
  "colab": {
   "authorship_tag": "ABX9TyNgL9C8Muvj+KiWethPbxGM",
   "provenance": []
  },
  "kernelspec": {
   "display_name": "Python 3 (ipykernel)",
   "language": "python",
   "name": "python3"
  },
  "language_info": {
   "codemirror_mode": {
    "name": "ipython",
    "version": 3
   },
   "file_extension": ".py",
   "mimetype": "text/x-python",
   "name": "python",
   "nbconvert_exporter": "python",
   "pygments_lexer": "ipython3",
   "version": "3.9.13"
  }
 },
 "nbformat": 4,
 "nbformat_minor": 1
}
