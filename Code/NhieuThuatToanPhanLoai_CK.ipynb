{
 "cells": [
  {
   "cell_type": "markdown",
   "metadata": {
    "id": "p_AmfjEH808l"
   },
   "source": [
    "**Hồi Quy Logistic**"
   ]
  },
  {
   "cell_type": "markdown",
   "metadata": {
    "id": "A9yaEBAQ86Uy"
   },
   "source": [
    "1. Tải dữ liệu\n",
    "2. Tạo biến Y=0 nếu giá CK giảm và biến Y=1 nếu giá CK tăng.\n",
    "3. Sử dụng hàm LogisticRegression từ thư viện sklearn"
   ]
  },
  {
   "cell_type": "markdown",
   "metadata": {
    "id": "z6AW3-ig7dST"
   },
   "source": [
    "**VCB**"
   ]
  },
  {
   "cell_type": "code",
   "execution_count": 1,
   "metadata": {
    "colab": {
     "base_uri": "https://localhost:8080/",
     "height": 206
    },
    "executionInfo": {
     "elapsed": 670,
     "status": "ok",
     "timestamp": 1726725598229,
     "user": {
      "displayName": "Đặng Thị Kiêm Hồng",
      "userId": "05445281411830122382"
     },
     "user_tz": -420
    },
    "id": "9EDAg8C-7wEE",
    "outputId": "00ffb391-ab75-448b-ced7-e0a9b7e18134"
   },
   "outputs": [
    {
     "data": {
      "text/html": [
       "<div>\n",
       "<style scoped>\n",
       "    .dataframe tbody tr th:only-of-type {\n",
       "        vertical-align: middle;\n",
       "    }\n",
       "\n",
       "    .dataframe tbody tr th {\n",
       "        vertical-align: top;\n",
       "    }\n",
       "\n",
       "    .dataframe thead th {\n",
       "        text-align: right;\n",
       "    }\n",
       "</style>\n",
       "<table border=\"1\" class=\"dataframe\">\n",
       "  <thead>\n",
       "    <tr style=\"text-align: right;\">\n",
       "      <th></th>\n",
       "      <th>Unnamed: 0</th>\n",
       "      <th>time</th>\n",
       "      <th>open</th>\n",
       "      <th>high</th>\n",
       "      <th>low</th>\n",
       "      <th>close</th>\n",
       "      <th>volume</th>\n",
       "    </tr>\n",
       "  </thead>\n",
       "  <tbody>\n",
       "    <tr>\n",
       "      <th>0</th>\n",
       "      <td>0</td>\n",
       "      <td>2015-01-05</td>\n",
       "      <td>14.03</td>\n",
       "      <td>14.21</td>\n",
       "      <td>13.90</td>\n",
       "      <td>14.12</td>\n",
       "      <td>310010</td>\n",
       "    </tr>\n",
       "    <tr>\n",
       "      <th>1</th>\n",
       "      <td>1</td>\n",
       "      <td>2015-01-06</td>\n",
       "      <td>14.12</td>\n",
       "      <td>15.05</td>\n",
       "      <td>14.12</td>\n",
       "      <td>15.05</td>\n",
       "      <td>1684600</td>\n",
       "    </tr>\n",
       "    <tr>\n",
       "      <th>2</th>\n",
       "      <td>2</td>\n",
       "      <td>2015-01-07</td>\n",
       "      <td>15.09</td>\n",
       "      <td>15.31</td>\n",
       "      <td>14.65</td>\n",
       "      <td>14.87</td>\n",
       "      <td>1430340</td>\n",
       "    </tr>\n",
       "    <tr>\n",
       "      <th>3</th>\n",
       "      <td>3</td>\n",
       "      <td>2015-01-08</td>\n",
       "      <td>14.92</td>\n",
       "      <td>15.49</td>\n",
       "      <td>14.87</td>\n",
       "      <td>15.31</td>\n",
       "      <td>904240</td>\n",
       "    </tr>\n",
       "    <tr>\n",
       "      <th>4</th>\n",
       "      <td>4</td>\n",
       "      <td>2015-01-09</td>\n",
       "      <td>15.45</td>\n",
       "      <td>16.38</td>\n",
       "      <td>15.45</td>\n",
       "      <td>16.33</td>\n",
       "      <td>2286680</td>\n",
       "    </tr>\n",
       "  </tbody>\n",
       "</table>\n",
       "</div>"
      ],
      "text/plain": [
       "   Unnamed: 0        time   open   high    low  close   volume\n",
       "0           0  2015-01-05  14.03  14.21  13.90  14.12   310010\n",
       "1           1  2015-01-06  14.12  15.05  14.12  15.05  1684600\n",
       "2           2  2015-01-07  15.09  15.31  14.65  14.87  1430340\n",
       "3           3  2015-01-08  14.92  15.49  14.87  15.31   904240\n",
       "4           4  2015-01-09  15.45  16.38  15.45  16.33  2286680"
      ]
     },
     "execution_count": 1,
     "metadata": {},
     "output_type": "execute_result"
    }
   ],
   "source": [
    "import pandas as pd\n",
    "# Đọc dữ liệu từ file CSV (có thể thay bằng file của bạn)\n",
    "#df = pd.read_csv('VCB_hose.csv')\n",
    "file_path = r'D:\\DeTaiNam2024\\SolieuHong\\VCB.csv'\n",
    "df = pd.read_csv(file_path)\n",
    "# Kiểm tra tiêu đề các cột\n",
    "df.head()\n"
   ]
  },
  {
   "cell_type": "code",
   "execution_count": 2,
   "metadata": {
    "colab": {
     "base_uri": "https://localhost:8080/"
    },
    "executionInfo": {
     "elapsed": 451,
     "status": "ok",
     "timestamp": 1726725602013,
     "user": {
      "displayName": "Đặng Thị Kiêm Hồng",
      "userId": "05445281411830122382"
     },
     "user_tz": -420
    },
    "id": "vBEVaiUMTo2F",
    "outputId": "ed238e0b-c49a-4d22-aad5-3529a306ab3f"
   },
   "outputs": [
    {
     "name": "stdout",
     "output_type": "stream",
     "text": [
      "            time  close  Y\n",
      "0     2015-01-05  14.12  0\n",
      "1     2015-01-06  15.05  1\n",
      "2     2015-01-07  14.87  0\n",
      "3     2015-01-08  15.31  1\n",
      "4     2015-01-09  16.33  1\n",
      "...          ...    ... ..\n",
      "2421  2024-09-13  89.90  1\n",
      "2422  2024-09-16  88.90  0\n",
      "2423  2024-09-17  90.50  1\n",
      "2424  2024-09-18  91.00  1\n",
      "2425  2024-09-19  91.60  1\n",
      "\n",
      "[2426 rows x 3 columns]\n"
     ]
    }
   ],
   "source": [
    "# Sắp xếp theo ngày\n",
    "df = df.sort_values('time')\n",
    "\n",
    "# Tạo cột Y: nếu giá đóng cửa hôm nay thấp hơn hôm qua, Y=0, nếu ngược lại Y=1\n",
    "df['Y'] = (df['close'].diff() > 0).astype(int)\n",
    "\n",
    "# Hiển thị dữ liệu với cột Y\n",
    "print(df[['time', 'close', 'Y']])"
   ]
  },
  {
   "cell_type": "code",
   "execution_count": 9,
   "metadata": {
    "colab": {
     "base_uri": "https://localhost:8080/"
    },
    "executionInfo": {
     "elapsed": 616,
     "status": "ok",
     "timestamp": 1726725605666,
     "user": {
      "displayName": "Đặng Thị Kiêm Hồng",
      "userId": "05445281411830122382"
     },
     "user_tz": -420
    },
    "id": "DccV_4H6LmpO",
    "outputId": "c6af5f19-1182-4fa0-bdeb-81f013d00853"
   },
   "outputs": [
    {
     "name": "stdout",
     "output_type": "stream",
     "text": [
      "Thời gian huấn luyện mô hình phân loại: 0.0271 giây\n",
      "Thời gian huấn luyện mô hình phân loại: 0.0030 giây\n",
      "Accuracy: 0.55\n",
      "              precision    recall  f1-score   support\n",
      "\n",
      "           0       0.55      1.00      0.71       265\n",
      "           1       0.00      0.00      0.00       220\n",
      "\n",
      "    accuracy                           0.55       485\n",
      "   macro avg       0.27      0.50      0.35       485\n",
      "weighted avg       0.30      0.55      0.39       485\n",
      "\n"
     ]
    },
    {
     "name": "stderr",
     "output_type": "stream",
     "text": [
      "C:\\Users\\Admin\\AppData\\Roaming\\Python\\Python39\\site-packages\\sklearn\\metrics\\_classification.py:1469: UndefinedMetricWarning: Precision and F-score are ill-defined and being set to 0.0 in labels with no predicted samples. Use `zero_division` parameter to control this behavior.\n",
      "  _warn_prf(average, modifier, msg_start, len(result))\n",
      "C:\\Users\\Admin\\AppData\\Roaming\\Python\\Python39\\site-packages\\sklearn\\metrics\\_classification.py:1469: UndefinedMetricWarning: Precision and F-score are ill-defined and being set to 0.0 in labels with no predicted samples. Use `zero_division` parameter to control this behavior.\n",
      "  _warn_prf(average, modifier, msg_start, len(result))\n",
      "C:\\Users\\Admin\\AppData\\Roaming\\Python\\Python39\\site-packages\\sklearn\\metrics\\_classification.py:1469: UndefinedMetricWarning: Precision and F-score are ill-defined and being set to 0.0 in labels with no predicted samples. Use `zero_division` parameter to control this behavior.\n",
      "  _warn_prf(average, modifier, msg_start, len(result))\n"
     ]
    }
   ],
   "source": [
    "import pandas as pd\n",
    "from sklearn.model_selection import train_test_split\n",
    "from sklearn.linear_model import LogisticRegression\n",
    "from sklearn.metrics import accuracy_score, classification_report\n",
    "import time\n",
    "\n",
    "# Tạo các đặc trưng (ở đây ta chỉ sử dụng giá hôm trước và khối lượng giao dịch)\n",
    "# Shift dữ liệu Close để lấy giá của ngày trước làm đặc trưng\n",
    "df['Close_lag1'] = df['close'].shift(1)\n",
    "df['Volume_lag1'] = df['volume'].shift(1)\n",
    "\n",
    "# Loại bỏ các hàng chứa giá trị NaN\n",
    "df.dropna(inplace=True)\n",
    "\n",
    "# Chọn các đặc trưng (X) và mục tiêu (Y)\n",
    "X = df[['Close_lag1', 'Volume_lag1']]\n",
    "Y = df['Y']\n",
    "\n",
    "# Chia dữ liệu thành tập huấn luyện và tập kiểm tra\n",
    "X_train, X_test, Y_train, Y_test = train_test_split(X, Y, test_size=0.2, random_state=42)\n",
    "# Bắt đầu tính thời gian huấn luyện\n",
    "start_time = time.time()\n",
    "# Khởi tạo mô hình hồi quy logistic\n",
    "model = LogisticRegression()\n",
    "\n",
    "# Huấn luyện mô hình trên tập huấn luyện\n",
    "model.fit(X_train, Y_train)\n",
    "# Kết thúc tính thời gian huấn luyện\n",
    "train_time_cls = time.time() - start_time\n",
    "print(f'Thời gian huấn luyện mô hình phân loại: {train_time_cls:.4f} giây')\n",
    "\n",
    "# Bắt đầu tính thời gian dự đoán\n",
    "start_time = time.time()\n",
    "\n",
    "# Dự đoán trên tập kiểm tra\n",
    "Y_pred = model.predict(X_test)\n",
    "# Kết thúc tính thời gian huấn luyện\n",
    "train_time_cls = time.time() - start_time\n",
    "print(f'Thời gian huấn luyện mô hình phân loại: {train_time_cls:.4f} giây')\n",
    "\n",
    "# Bắt đầu tính thời gian dự đoán\n",
    "start_time = time.time()\n",
    "\n",
    "# Đánh giá mô hình\n",
    "accuracy = accuracy_score(Y_test, Y_pred)\n",
    "print(f'Accuracy: {accuracy:.2f}')\n",
    "\n",
    "# Báo cáo chi tiết kết quả dự đoán\n",
    "print(classification_report(Y_test, Y_pred))\n"
   ]
  },
  {
   "cell_type": "code",
   "execution_count": 13,
   "metadata": {},
   "outputs": [
    {
     "data": {
      "image/png": "[encoded data removed]",
      "text/plain": [
       "<Figure size 640x480 with 1 Axes>"
      ]
     },
     "metadata": {},
     "output_type": "display_data"
    }
   ],
   "source": [
    "import pandas as pd\n",
    "import numpy as np\n",
    "from sklearn.model_selection import train_test_split\n",
    "from sklearn.preprocessing import StandardScaler\n",
    "from sklearn.ensemble import RandomForestClassifier\n",
    "from sklearn.svm import SVC\n",
    "from sklearn.tree import DecisionTreeClassifier\n",
    "from sklearn.linear_model import LogisticRegression\n",
    "from sklearn.metrics import classification_report, confusion_matrix\n",
    "import matplotlib.pyplot as plt\n",
    "\n",
    "\n",
    "# Chọn các đặc trưng (features)\n",
    "features = df[['open', 'high', 'low', 'close', 'volume']]\n",
    "target = df['Y']\n",
    "\n",
    "# Chia dữ liệu thành tập huấn luyện và tập kiểm tra\n",
    "X_train, X_test, y_train, y_test = train_test_split(features, target, test_size=0.2, random_state=42)\n",
    "\n",
    "# Chuẩn hóa dữ liệu\n",
    "scaler = StandardScaler()\n",
    "X_train = scaler.fit_transform(X_train)\n",
    "X_test = scaler.transform(X_test)\n",
    "\n",
    "# Khởi tạo các mô hình\n",
    "models = {\n",
    "    'Random Forest': RandomForestClassifier(),\n",
    "    'Support Vector Classifier': SVC(),\n",
    "    'Decision Tree': DecisionTreeClassifier(),\n",
    "    'Logistic Regression': LogisticRegression()\n",
    "}\n",
    "\n",
    "results = {}\n",
    "\n",
    "# Huấn luyện và dự đoán cho từng mô hình\n",
    "for model_name, model in models.items():\n",
    "    model.fit(X_train, y_train)\n",
    "    y_pred = model.predict(X_test)\n",
    "    results[model_name] = {\n",
    "        'report': classification_report(y_test, y_pred, output_dict=True),\n",
    "        'confusion_matrix': confusion_matrix(y_test, y_pred)\n",
    "    }\n",
    "\n",
    "# In kết quả ra file\n",
    "with open('model_comparison.csv', 'w') as f:\n",
    "    for model_name, result in results.items():\n",
    "        f.write(f\"Model: {model_name}\\n\")\n",
    "        f.write(f\"Classification Report:\\n{result['report']}\\n\")\n",
    "        f.write(f\"Confusion Matrix:\\n{result['confusion_matrix']}\\n\\n\")\n",
    "\n",
    "# Vẽ biểu đồ so sánh\n",
    "metrics = {}\n",
    "for model_name, result in results.items():\n",
    "    metrics[model_name] = result['report']['accuracy']\n",
    "   \n",
    "plt.bar(metrics.keys(), metrics.values())\n",
    "plt.ylabel('Accuracy')\n",
    "plt.title('Model Accuracy Comparison')\n",
    "plt.savefig('model_accuracy_comparison.png')\n",
    "plt.show()"
   ]
  },
  {
   "cell_type": "code",
   "execution_count": 12,
   "metadata": {},
   "outputs": [
    {
     "name": "stderr",
     "output_type": "stream",
     "text": [
      "C:\\Users\\Admin\\AppData\\Roaming\\Python\\Python39\\site-packages\\sklearn\\metrics\\_classification.py:1469: UndefinedMetricWarning: Precision and F-score are ill-defined and being set to 0.0 in labels with no predicted samples. Use `zero_division` parameter to control this behavior.\n",
      "  _warn_prf(average, modifier, msg_start, len(result))\n",
      "C:\\Users\\Admin\\AppData\\Roaming\\Python\\Python39\\site-packages\\sklearn\\metrics\\_classification.py:1469: UndefinedMetricWarning: Precision and F-score are ill-defined and being set to 0.0 in labels with no predicted samples. Use `zero_division` parameter to control this behavior.\n",
      "  _warn_prf(average, modifier, msg_start, len(result))\n",
      "C:\\Users\\Admin\\AppData\\Roaming\\Python\\Python39\\site-packages\\sklearn\\metrics\\_classification.py:1469: UndefinedMetricWarning: Precision and F-score are ill-defined and being set to 0.0 in labels with no predicted samples. Use `zero_division` parameter to control this behavior.\n",
      "  _warn_prf(average, modifier, msg_start, len(result))\n"
     ]
    },
    {
     "data": {
      "image/png": "[encoded data removed]",
      "text/plain": [
       "<Figure size 640x480 with 1 Axes>"
      ]
     },
     "metadata": {},
     "output_type": "display_data"
    }
   ],
   "source": [
    "import pandas as pd\n",
    "import numpy as np\n",
    "from sklearn.model_selection import train_test_split\n",
    "from sklearn.preprocessing import StandardScaler\n",
    "from sklearn.ensemble import RandomForestClassifier\n",
    "from sklearn.svm import SVC\n",
    "from sklearn.tree import DecisionTreeClassifier\n",
    "from sklearn.linear_model import LogisticRegression\n",
    "from sklearn.metrics import classification_report, confusion_matrix\n",
    "import matplotlib.pyplot as plt\n",
    "\n",
    "\n",
    "# Shift dữ liệu Close để lấy giá của ngày trước làm đặc trưng\n",
    "df['Close_lag1'] = df['close'].shift(1)\n",
    "df['Volume_lag1'] = df['volume'].shift(1)\n",
    "\n",
    "# Loại bỏ các hàng chứa giá trị NaN\n",
    "df.dropna(inplace=True)\n",
    "\n",
    "# Chọn các đặc trưng (X) và mục tiêu (Y)\n",
    "X = df[['Close_lag1', 'Volume_lag1']]\n",
    "Y = df['Y']\n",
    "# Chia dữ liệu thành tập huấn luyện và tập kiểm tra\n",
    "X_train, X_test, y_train, y_test = train_test_split(X, Y, test_size=0.2, random_state=42)\n",
    "\n",
    "# Chuẩn hóa dữ liệu\n",
    "scaler = StandardScaler()\n",
    "X_train = scaler.fit_transform(X_train)\n",
    "X_test = scaler.transform(X_test)\n",
    "\n",
    "# Khởi tạo các mô hình\n",
    "models = {\n",
    "    'Random Forest': RandomForestClassifier(),\n",
    "    'Support Vector Classifier': SVC(),\n",
    "    'Decision Tree': DecisionTreeClassifier(),\n",
    "    'Logistic Regression': LogisticRegression()\n",
    "}\n",
    "\n",
    "results = {}\n",
    "\n",
    "# Huấn luyện và dự đoán cho từng mô hình\n",
    "for model_name, model in models.items():\n",
    "    model.fit(X_train, y_train)\n",
    "    y_pred = model.predict(X_test)\n",
    "    results[model_name] = {\n",
    "        'report': classification_report(y_test, y_pred, output_dict=True),\n",
    "        'confusion_matrix': confusion_matrix(y_test, y_pred)\n",
    "    }\n",
    "\n",
    "# In kết quả ra file\n",
    "with open('model_comparison.csv', 'w') as f:\n",
    "    for model_name, result in results.items():\n",
    "        f.write(f\"Model: {model_name}\\n\")\n",
    "        f.write(f\"Classification Report:\\n{result['report']}\\n\")\n",
    "        f.write(f\"Confusion Matrix:\\n{result['confusion_matrix']}\\n\\n\")\n",
    "\n",
    "# Vẽ biểu đồ so sánh\n",
    "metrics = {}\n",
    "for model_name, result in results.items():\n",
    "    metrics[model_name] = result['report']['accuracy']\n",
    "   \n",
    "plt.bar(metrics.keys(), metrics.values())\n",
    "plt.ylabel('Accuracy')\n",
    "plt.title('Model Accuracy Comparison')\n",
    "plt.savefig('model_accuracy_comparison.png')\n",
    "plt.show()"
   ]
  },
  {
   "cell_type": "code",
   "execution_count": null,
   "metadata": {},
   "outputs": [],
   "source": []
  }
 ],
 "metadata": {
  "colab": {
   "authorship_tag": "ABX9TyPIc0a+yfSUdkpi0jU24TaG",
   "provenance": []
  },
  "kernelspec": {
   "display_name": "Python 3 (ipykernel)",
   "language": "python",
   "name": "python3"
  },
  "language_info": {
   "codemirror_mode": {
    "name": "ipython",
    "version": 3
   },
   "file_extension": ".py",
   "mimetype": "text/x-python",
   "name": "python",
   "nbconvert_exporter": "python",
   "pygments_lexer": "ipython3",
   "version": "3.9.13"
  }
 },
 "nbformat": 4,
 "nbformat_minor": 1
}
