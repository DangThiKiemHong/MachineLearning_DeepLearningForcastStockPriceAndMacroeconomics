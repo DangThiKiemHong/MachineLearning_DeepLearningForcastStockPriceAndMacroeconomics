{
 "cells": [
  {
   "cell_type": "markdown",
   "metadata": {
    "id": "p_AmfjEH808l"
   },
   "source": [
    "**Học tăng cường XGBoost**"
   ]
  },
  {
   "cell_type": "markdown",
   "metadata": {
    "id": "A9yaEBAQ86Uy"
   },
   "source": [
    "1. Tải dữ liệu\n",
    "2. Sử dụng hàm XGBClassifier cho bài toán phân lớp và XGBRegressor cho bài toán hồi quy từ thư viện xgboost"
   ]
  },
  {
   "cell_type": "markdown",
   "metadata": {
    "id": "z6AW3-ig7dST"
   },
   "source": [
    "**VCB**"
   ]
  },
  {
   "cell_type": "code",
   "execution_count": 4,
   "metadata": {
    "colab": {
     "base_uri": "https://localhost:8080/",
     "height": 206
    },
    "executionInfo": {
     "elapsed": 670,
     "status": "ok",
     "timestamp": 1726725598229,
     "user": {
      "displayName": "Đặng Thị Kiêm Hồng",
      "userId": "05445281411830122382"
     },
     "user_tz": -420
    },
    "id": "9EDAg8C-7wEE",
    "outputId": "00ffb391-ab75-448b-ced7-e0a9b7e18134"
   },
   "outputs": [
    {
     "data": {
      "text/html": [
       "<div>\n",
       "<style scoped>\n",
       "    .dataframe tbody tr th:only-of-type {\n",
       "        vertical-align: middle;\n",
       "    }\n",
       "\n",
       "    .dataframe tbody tr th {\n",
       "        vertical-align: top;\n",
       "    }\n",
       "\n",
       "    .dataframe thead th {\n",
       "        text-align: right;\n",
       "    }\n",
       "</style>\n",
       "<table border=\"1\" class=\"dataframe\">\n",
       "  <thead>\n",
       "    <tr style=\"text-align: right;\">\n",
       "      <th></th>\n",
       "      <th>Unnamed: 0</th>\n",
       "      <th>time</th>\n",
       "      <th>open</th>\n",
       "      <th>high</th>\n",
       "      <th>low</th>\n",
       "      <th>close</th>\n",
       "      <th>volume</th>\n",
       "    </tr>\n",
       "  </thead>\n",
       "  <tbody>\n",
       "    <tr>\n",
       "      <th>0</th>\n",
       "      <td>0</td>\n",
       "      <td>2015-01-05</td>\n",
       "      <td>14.03</td>\n",
       "      <td>14.21</td>\n",
       "      <td>13.90</td>\n",
       "      <td>14.12</td>\n",
       "      <td>310010</td>\n",
       "    </tr>\n",
       "    <tr>\n",
       "      <th>1</th>\n",
       "      <td>1</td>\n",
       "      <td>2015-01-06</td>\n",
       "      <td>14.12</td>\n",
       "      <td>15.05</td>\n",
       "      <td>14.12</td>\n",
       "      <td>15.05</td>\n",
       "      <td>1684600</td>\n",
       "    </tr>\n",
       "    <tr>\n",
       "      <th>2</th>\n",
       "      <td>2</td>\n",
       "      <td>2015-01-07</td>\n",
       "      <td>15.09</td>\n",
       "      <td>15.31</td>\n",
       "      <td>14.65</td>\n",
       "      <td>14.87</td>\n",
       "      <td>1430340</td>\n",
       "    </tr>\n",
       "    <tr>\n",
       "      <th>3</th>\n",
       "      <td>3</td>\n",
       "      <td>2015-01-08</td>\n",
       "      <td>14.92</td>\n",
       "      <td>15.49</td>\n",
       "      <td>14.87</td>\n",
       "      <td>15.31</td>\n",
       "      <td>904240</td>\n",
       "    </tr>\n",
       "    <tr>\n",
       "      <th>4</th>\n",
       "      <td>4</td>\n",
       "      <td>2015-01-09</td>\n",
       "      <td>15.45</td>\n",
       "      <td>16.38</td>\n",
       "      <td>15.45</td>\n",
       "      <td>16.33</td>\n",
       "      <td>2286680</td>\n",
       "    </tr>\n",
       "  </tbody>\n",
       "</table>\n",
       "</div>"
      ],
      "text/plain": [
       "   Unnamed: 0        time   open   high    low  close   volume\n",
       "0           0  2015-01-05  14.03  14.21  13.90  14.12   310010\n",
       "1           1  2015-01-06  14.12  15.05  14.12  15.05  1684600\n",
       "2           2  2015-01-07  15.09  15.31  14.65  14.87  1430340\n",
       "3           3  2015-01-08  14.92  15.49  14.87  15.31   904240\n",
       "4           4  2015-01-09  15.45  16.38  15.45  16.33  2286680"
      ]
     },
     "execution_count": 4,
     "metadata": {},
     "output_type": "execute_result"
    }
   ],
   "source": [
    "import pandas as pd\n",
    "# Đọc dữ liệu từ file CSV (có thể thay bằng file của bạn)\n",
    "#df = pd.read_csv('VCB_hose.csv')\n",
    "file_path = r'D:\\DeTaiNam2024\\SolieuHong\\VCB.csv'\n",
    "df = pd.read_csv(file_path)\n",
    "# Kiểm tra tiêu đề các cột\n",
    "df.head()\n"
   ]
  },
  {
   "cell_type": "code",
   "execution_count": null,
   "metadata": {
    "colab": {
     "base_uri": "https://localhost:8080/"
    },
    "executionInfo": {
     "elapsed": 451,
     "status": "ok",
     "timestamp": 1726725602013,
     "user": {
      "displayName": "Đặng Thị Kiêm Hồng",
      "userId": "05445281411830122382"
     },
     "user_tz": -420
    },
    "id": "vBEVaiUMTo2F",
    "outputId": "ed238e0b-c49a-4d22-aad5-3529a306ab3f"
   },
   "outputs": [],
   "source": [
    "# Sắp xếp theo ngày\n",
    "df = df.sort_values('time')\n",
    "\n",
    "# Tạo cột Y: nếu giá đóng cửa hôm nay thấp hơn hôm qua, Y=0, nếu ngược lại Y=1\n",
    "df['Y'] = (df['close'].diff() > 0).astype(int)\n",
    "\n",
    "# Hiển thị dữ liệu với cột Y\n",
    "print(df[['time', 'close', 'Y']])"
   ]
  },
  {
   "cell_type": "code",
   "execution_count": 2,
   "metadata": {},
   "outputs": [
    {
     "name": "stdout",
     "output_type": "stream",
     "text": [
      "Defaulting to user installation because normal site-packages is not writeable\n",
      "Requirement already satisfied: xgboost in c:\\users\\admin\\appdata\\roaming\\python\\python39\\site-packages (2.1.1)\n",
      "Requirement already satisfied: numpy in c:\\users\\admin\\appdata\\roaming\\python\\python39\\site-packages (from xgboost) (1.24.4)\n",
      "Requirement already satisfied: scipy in c:\\programdata\\anaconda3\\lib\\site-packages (from xgboost) (1.9.1)\n",
      "Note: you may need to restart the kernel to use updated packages.\n"
     ]
    },
    {
     "name": "stderr",
     "output_type": "stream",
     "text": [
      "WARNING: Ignoring invalid distribution -rotobuf (c:\\users\\admin\\appdata\\roaming\\python\\python39\\site-packages)\n",
      "WARNING: Ignoring invalid distribution -ensorflow-intel (c:\\users\\admin\\appdata\\roaming\\python\\python39\\site-packages)\n",
      "WARNING: Ignoring invalid distribution -rotobuf (c:\\users\\admin\\appdata\\roaming\\python\\python39\\site-packages)\n",
      "WARNING: Ignoring invalid distribution -ensorflow-intel (c:\\users\\admin\\appdata\\roaming\\python\\python39\\site-packages)\n",
      "WARNING: Ignoring invalid distribution -rotobuf (c:\\users\\admin\\appdata\\roaming\\python\\python39\\site-packages)\n",
      "WARNING: Ignoring invalid distribution -ensorflow-intel (c:\\users\\admin\\appdata\\roaming\\python\\python39\\site-packages)\n",
      "WARNING: Ignoring invalid distribution -rotobuf (c:\\users\\admin\\appdata\\roaming\\python\\python39\\site-packages)\n",
      "WARNING: Ignoring invalid distribution -ensorflow-intel (c:\\users\\admin\\appdata\\roaming\\python\\python39\\site-packages)\n",
      "WARNING: Ignoring invalid distribution -rotobuf (c:\\users\\admin\\appdata\\roaming\\python\\python39\\site-packages)\n",
      "WARNING: Ignoring invalid distribution -ensorflow-intel (c:\\users\\admin\\appdata\\roaming\\python\\python39\\site-packages)\n",
      "WARNING: Ignoring invalid distribution -rotobuf (c:\\users\\admin\\appdata\\roaming\\python\\python39\\site-packages)\n",
      "WARNING: Ignoring invalid distribution -ensorflow-intel (c:\\users\\admin\\appdata\\roaming\\python\\python39\\site-packages)\n"
     ]
    }
   ],
   "source": [
    "pip install xgboost"
   ]
  },
  {
   "cell_type": "code",
   "execution_count": 5,
   "metadata": {
    "colab": {
     "base_uri": "https://localhost:8080/"
    },
    "executionInfo": {
     "elapsed": 616,
     "status": "ok",
     "timestamp": 1726725605666,
     "user": {
      "displayName": "Đặng Thị Kiêm Hồng",
      "userId": "05445281411830122382"
     },
     "user_tz": -420
    },
    "id": "DccV_4H6LmpO",
    "outputId": "c6af5f19-1182-4fa0-bdeb-81f013d00853"
   },
   "outputs": [
    {
     "name": "stdout",
     "output_type": "stream",
     "text": [
      "Thời gian huấn luyện mô hình phân loại: 3.2317 giây\n",
      "Thời gian huấn luyện mô hình phân loại: 0.0480 giây\n",
      "Mean Squared Error: 0.4499792621726352\n",
      "R^2: 0.9992173774250216\n"
     ]
    }
   ],
   "source": [
    "from sklearn.model_selection import train_test_split\n",
    "import time\n",
    "import xgboost as xgb\n",
    "from sklearn.metrics import mean_squared_error, r2_score\n",
    "import matplotlib.pyplot as plt\n",
    "\n",
    "# Tạo các đặc trưng (ở đây ta chỉ sử dụng giá hôm trước và khối lượng giao dịch)\n",
    "df['Close_lag1'] = df['close'].shift(1)\n",
    "df['Volume_lag1'] = df['volume'].shift(1)\n",
    "\n",
    "# Loại bỏ các hàng chứa giá trị NaN\n",
    "df.dropna(inplace=True)\n",
    "\n",
    "# Chọn các đặc trưng (X) và mục tiêu (Y)\n",
    "X = df[['open', 'high', 'volume']]\n",
    "Y = df['close']\n",
    "\n",
    "\n",
    "# Chia dữ liệu thành tập huấn luyện và tập kiểm tra\n",
    "X_train, X_test, Y_train, Y_test = train_test_split(X, Y, test_size=0.3, random_state=42)\n",
    "# Bắt đầu tính thời gian huấn luyện\n",
    "start_time = time.time()\n",
    "# Tạo mô hình XGBoost cho bài toán phân loại\n",
    "model = xgb.XGBRegressor(objective='reg:squarederror', n_estimators=1000, learning_rate=0.05)\n",
    "\n",
    "# Huấn luyện mô hình trên tập huấn luyện\n",
    "model.fit(X_train, Y_train,  eval_set=[(X_test, Y_test)], verbose=False)\n",
    "# Kết thúc tính thời gian huấn luyện\n",
    "train_time_cls = time.time() - start_time\n",
    "print(f'Thời gian huấn luyện mô hình phân loại: {train_time_cls:.4f} giây')\n",
    "\n",
    "# Bắt đầu tính thời gian dự đoán\n",
    "start_time = time.time()\n",
    "\n",
    "# Dự đoán trên tập kiểm tra\n",
    "Y_pred = model.predict(X_test)\n",
    "# Kết thúc tính thời gian huấn luyện\n",
    "train_time_cls = time.time() - start_time\n",
    "print(f'Thời gian huấn luyện mô hình phân loại: {train_time_cls:.4f} giây')\n",
    "\n",
    "# Bắt đầu tính thời gian dự đoán\n",
    "start_time = time.time()\n",
    "#Đánh giá mô hình\n",
    "mse = mean_squared_error(Y_test, Y_pred)\n",
    "r2 = r2_score(Y_test, Y_pred)\n",
    "print(f\"Mean Squared Error: {mse}\")\n",
    "print(f\"R^2: {r2}\")\n",
    "\n",
    "\n"
   ]
  },
  {
   "cell_type": "markdown",
   "metadata": {},
   "source": [
    "HNX"
   ]
  },
  {
   "cell_type": "code",
   "execution_count": 7,
   "metadata": {
    "colab": {
     "base_uri": "https://localhost:8080/"
    },
    "executionInfo": {
     "elapsed": 505,
     "status": "ok",
     "timestamp": 1726724987396,
     "user": {
      "displayName": "Đặng Thị Kiêm Hồng",
      "userId": "05445281411830122382"
     },
     "user_tz": -420
    },
    "id": "7bn5zNks9voV",
    "outputId": "a470f614-b649-48dc-95ec-212a88134969"
   },
   "outputs": [
    {
     "name": "stdout",
     "output_type": "stream",
     "text": [
      "Thời gian huấn luyện mô hình phân loại: 3.0877 giây\n",
      "Thời gian huấn luyện mô hình phân loại: 0.0320 giây\n",
      "Mean Squared Error: 74.00073005911642\n",
      "R^2: 0.99763143535949\n"
     ]
    }
   ],
   "source": [
    "import pandas as pd\n",
    "# Đọc dữ liệu từ file CSV (có thể thay bằng file của bạn)\n",
    "file_path = r'D:\\DeTaiNam2024\\SolieuHong\\HNX.csv'\n",
    "df = pd.read_csv(file_path)\n",
    "\n",
    "\n",
    "# Chọn các đặc trưng (X) và mục tiêu (Y)\n",
    "X = df[['open',  'high', 'volume']]\n",
    "Y = df['close']\n",
    "\n",
    "\n",
    "# Chia dữ liệu thành tập huấn luyện và tập kiểm tra\n",
    "X_train, X_test, Y_train, Y_test = train_test_split(X, Y, test_size=0.3, random_state=42)\n",
    "# Bắt đầu tính thời gian huấn luyện\n",
    "start_time = time.time()\n",
    "# Tạo mô hình XGBoost cho bài toán phân loại\n",
    "model = xgb.XGBRegressor(objective='reg:squarederror', n_estimators=1000, learning_rate=0.05)\n",
    "\n",
    "# Huấn luyện mô hình trên tập huấn luyện\n",
    "model.fit(X_train, Y_train,  eval_set=[(X_test, Y_test)], verbose=False)\n",
    "# Kết thúc tính thời gian huấn luyện\n",
    "train_time_cls = time.time() - start_time\n",
    "print(f'Thời gian huấn luyện mô hình phân loại: {train_time_cls:.4f} giây')\n",
    "\n",
    "# Bắt đầu tính thời gian dự đoán\n",
    "start_time = time.time()\n",
    "\n",
    "# Dự đoán trên tập kiểm tra\n",
    "Y_pred = model.predict(X_test)\n",
    "# Kết thúc tính thời gian huấn luyện\n",
    "train_time_cls = time.time() - start_time\n",
    "print(f'Thời gian huấn luyện mô hình phân loại: {train_time_cls:.4f} giây')\n",
    "\n",
    "# Bắt đầu tính thời gian dự đoán\n",
    "start_time = time.time()\n",
    "#Đánh giá mô hình\n",
    "mse = mean_squared_error(Y_test, Y_pred)\n",
    "r2 = r2_score(Y_test, Y_pred)\n",
    "print(f\"Mean Squared Error: {mse}\")\n",
    "print(f\"R^2: {r2}\")\n"
   ]
  },
  {
   "cell_type": "code",
   "execution_count": null,
   "metadata": {},
   "outputs": [],
   "source": [
    "VCB LÂU ĐỜI"
   ]
  },
  {
   "cell_type": "code",
   "execution_count": 8,
   "metadata": {},
   "outputs": [
    {
     "data": {
      "text/html": [
       "<div>\n",
       "<style scoped>\n",
       "    .dataframe tbody tr th:only-of-type {\n",
       "        vertical-align: middle;\n",
       "    }\n",
       "\n",
       "    .dataframe tbody tr th {\n",
       "        vertical-align: top;\n",
       "    }\n",
       "\n",
       "    .dataframe thead th {\n",
       "        text-align: right;\n",
       "    }\n",
       "</style>\n",
       "<table border=\"1\" class=\"dataframe\">\n",
       "  <thead>\n",
       "    <tr style=\"text-align: right;\">\n",
       "      <th></th>\n",
       "      <th>time</th>\n",
       "      <th>&lt;Ticker&gt;</th>\n",
       "      <th>&lt;DTYYYYMMDD&gt;</th>\n",
       "      <th>&lt;Open&gt;</th>\n",
       "      <th>&lt;High&gt;</th>\n",
       "      <th>&lt;Low&gt;</th>\n",
       "      <th>&lt;Close&gt;</th>\n",
       "      <th>&lt;Volume&gt;</th>\n",
       "    </tr>\n",
       "  </thead>\n",
       "  <tbody>\n",
       "    <tr>\n",
       "      <th>0</th>\n",
       "      <td>0</td>\n",
       "      <td>VCB</td>\n",
       "      <td>20090630</td>\n",
       "      <td>16.2426</td>\n",
       "      <td>16.2426</td>\n",
       "      <td>16.2426</td>\n",
       "      <td>16.2426</td>\n",
       "      <td>294070</td>\n",
       "    </tr>\n",
       "    <tr>\n",
       "      <th>1</th>\n",
       "      <td>1</td>\n",
       "      <td>VCB</td>\n",
       "      <td>20090701</td>\n",
       "      <td>16.2426</td>\n",
       "      <td>17.0547</td>\n",
       "      <td>16.1072</td>\n",
       "      <td>16.3779</td>\n",
       "      <td>6248390</td>\n",
       "    </tr>\n",
       "    <tr>\n",
       "      <th>2</th>\n",
       "      <td>2</td>\n",
       "      <td>VCB</td>\n",
       "      <td>20090702</td>\n",
       "      <td>16.3779</td>\n",
       "      <td>16.3779</td>\n",
       "      <td>15.5658</td>\n",
       "      <td>15.7011</td>\n",
       "      <td>1515670</td>\n",
       "    </tr>\n",
       "    <tr>\n",
       "      <th>3</th>\n",
       "      <td>3</td>\n",
       "      <td>VCB</td>\n",
       "      <td>20090703</td>\n",
       "      <td>15.7011</td>\n",
       "      <td>15.7011</td>\n",
       "      <td>15.1597</td>\n",
       "      <td>15.1597</td>\n",
       "      <td>899720</td>\n",
       "    </tr>\n",
       "    <tr>\n",
       "      <th>4</th>\n",
       "      <td>4</td>\n",
       "      <td>VCB</td>\n",
       "      <td>20090706</td>\n",
       "      <td>15.1597</td>\n",
       "      <td>15.8365</td>\n",
       "      <td>15.1597</td>\n",
       "      <td>15.8365</td>\n",
       "      <td>1571740</td>\n",
       "    </tr>\n",
       "  </tbody>\n",
       "</table>\n",
       "</div>"
      ],
      "text/plain": [
       "   time <Ticker>  <DTYYYYMMDD>   <Open>   <High>    <Low>  <Close>  <Volume>\n",
       "0     0      VCB      20090630  16.2426  16.2426  16.2426  16.2426    294070\n",
       "1     1      VCB      20090701  16.2426  17.0547  16.1072  16.3779   6248390\n",
       "2     2      VCB      20090702  16.3779  16.3779  15.5658  15.7011   1515670\n",
       "3     3      VCB      20090703  15.7011  15.7011  15.1597  15.1597    899720\n",
       "4     4      VCB      20090706  15.1597  15.8365  15.1597  15.8365   1571740"
      ]
     },
     "execution_count": 8,
     "metadata": {},
     "output_type": "execute_result"
    }
   ],
   "source": [
    "import pandas as pd\n",
    "# Đọc dữ liệu từ file CSV (có thể thay bằng file của bạn)\n",
    "file_path = r'D:\\DeTaiNam2024\\Solieu\\CK_laudoi\\excel_vcb.csv'\n",
    "df = pd.read_csv(file_path)\n",
    "# Kiểm tra tiêu đề các cột\n",
    "df.head()\n"
   ]
  },
  {
   "cell_type": "code",
   "execution_count": 9,
   "metadata": {},
   "outputs": [
    {
     "name": "stdout",
     "output_type": "stream",
     "text": [
      "Thời gian huấn luyện mô hình phân loại: 3.4397 giây\n",
      "Thời gian huấn luyện mô hình phân loại: 0.0480 giây\n",
      "Mean Squared Error: 0.39154783109984803\n",
      "R^2: 0.9994199836069602\n"
     ]
    }
   ],
   "source": [
    "\n",
    "# Tạo các đặc trưng (ở đây ta chỉ sử dụng giá hôm trước và khối lượng giao dịch)\n",
    "df['open']=df['<Open>']\n",
    "df['high']=df['<High>']\n",
    "df['volume']=df['<Volume>']\n",
    "# Loại bỏ các hàng chứa giá trị NaN\n",
    "df.dropna(inplace=True)\n",
    "\n",
    "# Chọn các đặc trưng (X) và mục tiêu (Y)\n",
    "X = df[['open', 'high', 'volume']]\n",
    "Y = df['<Close>']\n",
    "\n",
    "\n",
    "# Chia dữ liệu thành tập huấn luyện và tập kiểm tra\n",
    "X_train, X_test, Y_train, Y_test = train_test_split(X, Y, test_size=0.3, random_state=42)\n",
    "# Bắt đầu tính thời gian huấn luyện\n",
    "start_time = time.time()\n",
    "# Tạo mô hình XGBoost cho bài toán phân loại\n",
    "model = xgb.XGBRegressor(objective='reg:squarederror', n_estimators=1000, learning_rate=0.05)\n",
    "\n",
    "# Huấn luyện mô hình trên tập huấn luyện\n",
    "model.fit(X_train, Y_train,  eval_set=[(X_test, Y_test)], verbose=False)\n",
    "# Kết thúc tính thời gian huấn luyện\n",
    "train_time_cls = time.time() - start_time\n",
    "print(f'Thời gian huấn luyện mô hình phân loại: {train_time_cls:.4f} giây')\n",
    "\n",
    "# Bắt đầu tính thời gian dự đoán\n",
    "start_time = time.time()\n",
    "\n",
    "# Dự đoán trên tập kiểm tra\n",
    "Y_pred = model.predict(X_test)\n",
    "# Kết thúc tính thời gian huấn luyện\n",
    "train_time_cls = time.time() - start_time\n",
    "print(f'Thời gian huấn luyện mô hình phân loại: {train_time_cls:.4f} giây')\n",
    "\n",
    "# Bắt đầu tính thời gian dự đoán\n",
    "start_time = time.time()\n",
    "#Đánh giá mô hình\n",
    "mse = mean_squared_error(Y_test, Y_pred)\n",
    "r2 = r2_score(Y_test, Y_pred)\n",
    "print(f\"Mean Squared Error: {mse}\")\n",
    "print(f\"R^2: {r2}\")\n",
    "\n"
   ]
  },
  {
   "cell_type": "markdown",
   "metadata": {},
   "source": [
    "**CHẠY TẤT CẢ**"
   ]
  },
  {
   "cell_type": "code",
   "execution_count": 11,
   "metadata": {},
   "outputs": [],
   "source": [
    "import os\n",
    "from sklearn.preprocessing import StandardScaler\n",
    "from sklearn.metrics import r2_score, mean_squared_error"
   ]
  },
  {
   "cell_type": "code",
   "execution_count": 13,
   "metadata": {},
   "outputs": [],
   "source": [
    "# Đường dẫn đến thư mục chứa các file CSV\n",
    "folder_path = r'D:\\Detainam2024\\SolieuHong'\n",
    "\n",
    "# Lấy danh sách tất cả các file CSV trong thư mục\n",
    "file_list = [f for f in os.listdir(folder_path) if f.endswith('.csv')]\n",
    "results=[]\n",
    "# Vòng lặp qua từng file CSV\n",
    "for file_name in file_list:\n",
    "    # Đọc dữ liệu từ file CSV\n",
    "    file_path = os.path.join(folder_path, file_name)\n",
    "    df = pd.read_csv(file_path)\n",
    "    # Chọn các đặc trưng (X) và mục tiêu (Y)\n",
    "    X = df[['open',  'high', 'volume']]\n",
    "    Y = df['close']\n",
    "\n",
    "    \n",
    "    # Chia dữ liệu thành tập huấn luyện và kiểm tra\n",
    "    X_train, X_test, Y_train, Y_test = train_test_split(X, Y, test_size=0.2, random_state=42)\n",
    "    \n",
    "    \n",
    "    # Tạo mô hình XGBoost cho bài toán phân loại\n",
    "    model = xgb.XGBRegressor(objective='reg:squarederror', n_estimators=1000, learning_rate=0.05)\n",
    "\n",
    "    # Huấn luyện mô hình trên tập huấn luyện\n",
    "    model.fit(X_train, Y_train,  eval_set=[(X_test, Y_test)], verbose=False)\n",
    "    \n",
    "   \n",
    "\n",
    "    # Dự đoán trên tập kiểm tra\n",
    "    Y_pred = model.predict(X_test)\n",
    "   \n",
    "\n",
    "    \n",
    "    #Đánh giá mô hình\n",
    "    mse = mean_squared_error(Y_test, Y_pred)\n",
    "    r2 = r2_score(Y_test, Y_pred)\n",
    "    # Lưu kết quả vào danh sách\n",
    "    results.append({\n",
    "        'file': file_name,\n",
    "        'mse': mse,\n",
    "        'r^2': r2,\n",
    "    })\n",
    "# Ghi kết quả ra file CSV\n",
    "results_df = pd.DataFrame(results)\n",
    "results_df.to_csv(r'D:\\Detainam2024\\SolieuHong\\output\\XGBoost_Regressor_results.csv', index=False)"
   ]
  },
  {
   "cell_type": "markdown",
   "metadata": {},
   "source": [
    "**Dự báo cho 7 ngày tiếp theo**"
   ]
  },
  {
   "cell_type": "code",
   "execution_count": 15,
   "metadata": {},
   "outputs": [
    {
     "name": "stdout",
     "output_type": "stream",
     "text": [
      "Kết quả dự báo cho acb.csv:\n",
      "  MSE: 0.03545867294761179\n",
      "  R^2: 0.9990825676226845\n",
      "  Dự báo giá 7 ngày tiếp theo: [24.544292, 24.7014, 24.536856, 24.598125, 24.624304, 24.451693, 24.12565]\n",
      "Kết quả dự báo cho DHG.csv:\n",
      "  MSE: 1.1435282652174523\n",
      "  R^2: 0.9978572371456051\n",
      "  Dự báo giá 7 ngày tiếp theo: [107.61985, 107.25202, 107.4733, 108.36145, 107.45542, 107.41, 108.95299]\n",
      "Kết quả dự báo cho FPT.csv:\n",
      "  MSE: 0.467636466127599\n",
      "  R^2: 0.99943356540755\n",
      "  Dự báo giá 7 ngày tiếp theo: [134.48112, 136.81541, 136.74965, 137.20366, 136.81541, 137.02876, 135.49432]\n",
      "Kết quả dự báo cho HAP.csv:\n",
      "  MSE: 0.013955987886965194\n",
      "  R^2: 0.9980709875752662\n",
      "  Dự báo giá 7 ngày tiếp theo: [4.223195, 4.163183, 4.16843, 4.133326, 4.1257467, 4.1257467, 4.056867]\n",
      "Kết quả dự báo cho HNX.csv:\n",
      "  MSE: 60.014224302308946\n",
      "  R^2: 0.9980640551877535\n",
      "  Dự báo giá 7 ngày tiếp theo: [537.24274, 538.8043, 546.9679, 549.0012, 551.6782, 558.50195, 557.4056]\n",
      "Kết quả dự báo cho HNX30.csv:\n",
      "  MSE: 54.3391785187233\n",
      "  R^2: 0.9982318035683385\n",
      "  Dự báo giá 7 ngày tiếp theo: [508.0195, 509.9572, 511.1609, 511.2399, 511.06073, 518.0334, 522.4183]\n",
      "Kết quả dự báo cho HPG.csv:\n",
      "  MSE: 0.0843066066275888\n",
      "  R^2: 0.9991085248864622\n",
      "  Dự báo giá 7 ngày tiếp theo: [25.323185, 25.500721, 25.455423, 25.816427, 25.995565, 26.061136, 26.251312]\n",
      "Kết quả dự báo cho KDC.csv:\n",
      "  MSE: 0.13447425493694024\n",
      "  R^2: 0.9995464624197825\n",
      "  Dự báo giá 7 ngày tiếp theo: [54.46047, 54.50681, 53.71554, 52.932713, 52.650024, 52.349266, 52.18567]\n",
      "Kết quả dự báo cho REE.csv:\n",
      "  MSE: 0.3843378072873033\n",
      "  R^2: 0.9986982486894038\n",
      "  Dự báo giá 7 ngày tiếp theo: [66.048904, 65.80469, 64.92868, 65.822235, 65.822235, 65.848976, 65.40322]\n",
      "Kết quả dự báo cho SAM.csv:\n",
      "  MSE: 0.08534393786272626\n",
      "  R^2: 0.9934960648280968\n",
      "  Dự báo giá 7 ngày tiếp theo: [6.4990244, 6.5446377, 6.5334773, 6.4825664, 6.476939, 6.4484506, 6.4987535]\n",
      "Kết quả dự báo cho TMS.csv:\n",
      "  MSE: 0.5218898139146679\n",
      "  R^2: 0.9979407736059056\n",
      "  Dự báo giá 7 ngày tiếp theo: [49.82927, 49.795082, 49.690823, 49.81329, 49.694096, 49.696953, 49.829926]\n",
      "Kết quả dự báo cho VCB.csv:\n",
      "  MSE: 0.41077629824144796\n",
      "  R^2: 0.999278758383503\n",
      "  Dự báo giá 7 ngày tiếp theo: [91.62983, 91.957184, 91.318016, 90.90497, 90.11903, 90.43094, 91.01121]\n",
      "Kết quả dự báo cho VIC.csv:\n",
      "  MSE: 0.8961747422798018\n",
      "  R^2: 0.9990008329205363\n",
      "  Dự báo giá 7 ngày tiếp theo: [43.019825, 43.246696, 43.275692, 43.261227, 43.26116, 43.281082, 43.266617]\n",
      "Kết quả dự báo cho VN30.csv:\n",
      "  MSE: 121.78623196654928\n",
      "  R^2: 0.9976581095091069\n",
      "  Dự báo giá 7 ngày tiếp theo: [1319.2812, 1307.2029, 1322.6908, 1296.5297, 1306.5435, 1322.1604, 1319.1394]\n",
      "Kết quả dự báo cho VNINDEX.csv:\n",
      "  MSE: 91.90982117001786\n",
      "  R^2: 0.9987791170026777\n",
      "  Dự báo giá 7 ngày tiếp theo: [1265.9749, 1276.8539, 1283.6572, 1290.3228, 1301.9442, 1294.0636, 1306.272]\n",
      "Kết quả dự báo cho VNM.csv:\n",
      "  MSE: 0.5800507902838993\n",
      "  R^2: 0.997713654933094\n",
      "  Dự báo giá 7 ngày tiếp theo: [73.20223, 73.568245, 73.22312, 73.5594, 74.3114, 75.153015, 75.86493]\n"
     ]
    }
   ],
   "source": [
    "import pandas as pd\n",
    "import os\n",
    "import xgboost as xgb\n",
    "from sklearn.model_selection import train_test_split\n",
    "from sklearn.metrics import mean_squared_error, r2_score\n",
    "import numpy as np\n",
    "\n",
    "# Đường dẫn đến thư mục chứa các file CSV\n",
    "folder_path = r'D:\\Detainam2024\\SolieuHong'\n",
    "\n",
    "# Lấy danh sách tất cả các file CSV trong thư mục\n",
    "file_list = [f for f in os.listdir(folder_path) if f.endswith('.csv')]\n",
    "results = []\n",
    "\n",
    "# Vòng lặp qua từng file CSV\n",
    "for file_name in file_list:\n",
    "    # Đọc dữ liệu từ file CSV\n",
    "    file_path = os.path.join(folder_path, file_name)\n",
    "    df = pd.read_csv(file_path)\n",
    "    \n",
    "    # Chọn các đặc trưng (X) và mục tiêu (Y)\n",
    "    X = df[['open', 'high', 'volume']]\n",
    "    Y = df['close']\n",
    "\n",
    "    # Chia dữ liệu thành tập huấn luyện và kiểm tra\n",
    "    X_train, X_test, Y_train, Y_test = train_test_split(X, Y, test_size=0.2, random_state=42)\n",
    "\n",
    "    # Tạo mô hình XGBoost cho bài toán hồi quy\n",
    "    model = xgb.XGBRegressor(objective='reg:squarederror', n_estimators=1000, learning_rate=0.05)\n",
    "\n",
    "    # Huấn luyện mô hình trên tập huấn luyện\n",
    "    model.fit(X_train, Y_train, eval_set=[(X_test, Y_test)], verbose=False)\n",
    "\n",
    "    # Dự đoán trên tập kiểm tra\n",
    "    Y_pred = model.predict(X_test)\n",
    "\n",
    "    # Đánh giá mô hình\n",
    "    mse = mean_squared_error(Y_test, Y_pred)\n",
    "    r2 = r2_score(Y_test, Y_pred)\n",
    "    \n",
    "    # Dự đoán giá cho 7 ngày tiếp theo\n",
    "    last_data = X.iloc[-1:].copy()  # Lấy dữ liệu của ngày cuối cùng để dự đoán\n",
    "    future_prices = []\n",
    "    \n",
    "    for i in range(7):\n",
    "        # Dự đoán giá cho ngày tiếp theo\n",
    "        predicted_price = model.predict(last_data)[0]\n",
    "        future_prices.append(predicted_price)\n",
    "\n",
    "        # Giả định giá mở cửa, cao, khối lượng dựa trên một số thay đổi ngẫu nhiên cho các ngày tiếp theo\n",
    "        last_data['open'] = predicted_price * np.random.uniform(0.99, 1.01)  # Giả định giá mở cửa xấp xỉ dự báo\n",
    "        last_data['high'] = predicted_price * np.random.uniform(1.0, 1.02)  # Giả định giá cao hơn chút\n",
    "        last_data['volume'] = last_data['volume'] * np.random.uniform(0.95, 1.05)  # Khối lượng giao dịch biến động ngẫu nhiên\n",
    "\n",
    "    # Lưu kết quả vào danh sách\n",
    "    results.append({\n",
    "        'file': file_name,\n",
    "        'mse': mse,\n",
    "        'r^2': r2,\n",
    "        '7_day_forecast': future_prices\n",
    "    })\n",
    "\n",
    "# Ghi kết quả ra file CSV\n",
    "results_df = pd.DataFrame(results)\n",
    "results_df.to_csv(r'D:\\Detainam2024\\SolieuHong\\output\\XGBoost_Regressor_results.csv', index=False)\n",
    "\n",
    "# Hiển thị kết quả dự báo cho từng file\n",
    "for result in results:\n",
    "    print(f\"Kết quả dự báo cho {result['file']}:\")\n",
    "    print(f\"  MSE: {result['mse']}\")\n",
    "    print(f\"  R^2: {result['r^2']}\")\n",
    "    print(f\"  Dự báo giá 7 ngày tiếp theo: {result['7_day_forecast']}\")\n"
   ]
  },
  {
   "cell_type": "code",
   "execution_count": null,
   "metadata": {},
   "outputs": [],
   "source": []
  }
 ],
 "metadata": {
  "colab": {
   "authorship_tag": "ABX9TyPIc0a+yfSUdkpi0jU24TaG",
   "provenance": []
  },
  "kernelspec": {
   "display_name": "Python 3 (ipykernel)",
   "language": "python",
   "name": "python3"
  },
  "language_info": {
   "codemirror_mode": {
    "name": "ipython",
    "version": 3
   },
   "file_extension": ".py",
   "mimetype": "text/x-python",
   "name": "python",
   "nbconvert_exporter": "python",
   "pygments_lexer": "ipython3",
   "version": "3.9.13"
  }
 },
 "nbformat": 4,
 "nbformat_minor": 1
}
